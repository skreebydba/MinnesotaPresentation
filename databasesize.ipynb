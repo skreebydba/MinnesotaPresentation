{
    "metadata": {
        "kernelspec": {
            "name": "SQL",
            "display_name": "SQL",
            "language": "sql"
        },
        "language_info": {
            "name": "sql",
            "version": ""
        }
    },
    "nbformat_minor": 2,
    "nbformat": 4,
    "cells": [
        {
            "cell_type": "markdown",
            "source": [
                "# Get Database File Size"
            ],
            "metadata": {
                "azdata_cell_guid": "6c35ce29-ac78-449b-9624-fc84cfcaa774"
            }
        },
        {
            "cell_type": "code",
            "source": [
                "USE master;\r\n",
                "\r\n",
                "SELECT DB_NAME(database_id) AS DatabaseName, SUM(size / 128) AS [DB Size (mb)]\r\n",
                "FROM sys.master_files\r\n",
                "GROUP BY database_id\r\n",
                "ORDER BY SUM(size) DESC;"
            ],
            "metadata": {
                "azdata_cell_guid": "9dc68663-f1af-48cb-a90f-5d6f28a957dd"
            },
            "outputs": [
                {
                    "output_type": "display_data",
                    "data": {
                        "text/html": "(11 rows affected)"
                    },
                    "metadata": {}
                },
                {
                    "output_type": "display_data",
                    "data": {
                        "text/html": "Total execution time: 00:00:00.033"
                    },
                    "metadata": {}
                },
                {
                    "output_type": "execute_result",
                    "metadata": {},
                    "execution_count": 3,
                    "data": {
                        "application/vnd.dataresource+json": {
                            "schema": {
                                "fields": [
                                    {
                                        "name": "DatabaseName"
                                    },
                                    {
                                        "name": "DB Size (mb)"
                                    }
                                ]
                            },
                            "data": [
                                {
                                    "0": "whitesox",
                                    "1": "7168"
                                },
                                {
                                    "0": "WideWorldImporters",
                                    "1": "3172"
                                },
                                {
                                    "0": "WithoutADR",
                                    "1": "144"
                                },
                                {
                                    "0": "WithADR",
                                    "1": "144"
                                },
                                {
                                    "0": "tempdb",
                                    "1": "24"
                                },
                                {
                                    "0": "model",
                                    "1": "16"
                                },
                                {
                                    "0": "TestDatabase",
                                    "1": "16"
                                },
                                {
                                    "0": "ChicagoWhiteSox",
                                    "1": "16"
                                },
                                {
                                    "0": "DBADMIN",
                                    "1": "16"
                                },
                                {
                                    "0": "msdb",
                                    "1": "15"
                                },
                                {
                                    "0": "master",
                                    "1": "6"
                                }
                            ]
                        },
                        "text/html": "<table><tr><th>DatabaseName</th><th>DB Size (mb)</th></tr><tr><td>whitesox</td><td>7168</td></tr><tr><td>WideWorldImporters</td><td>3172</td></tr><tr><td>WithoutADR</td><td>144</td></tr><tr><td>WithADR</td><td>144</td></tr><tr><td>tempdb</td><td>24</td></tr><tr><td>model</td><td>16</td></tr><tr><td>TestDatabase</td><td>16</td></tr><tr><td>ChicagoWhiteSox</td><td>16</td></tr><tr><td>DBADMIN</td><td>16</td></tr><tr><td>msdb</td><td>15</td></tr><tr><td>master</td><td>6</td></tr></table>"
                    }
                }
            ],
            "execution_count": 3
        }
    ]
}