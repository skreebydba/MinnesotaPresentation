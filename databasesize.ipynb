{
    "metadata": {
        "kernelspec": {
            "name": "SQL",
            "display_name": "SQL",
            "language": "sql"
        },
        "language_info": {
            "name": "sql",
            "version": ""
        }
    },
    "nbformat_minor": 2,
    "nbformat": 4,
    "cells": [
        {
            "cell_type": "markdown",
            "source": [
                "# Get Database File Size"
            ],
            "metadata": {
                "azdata_cell_guid": "6c35ce29-ac78-449b-9624-fc84cfcaa774"
            }
        },
        {
            "cell_type": "code",
            "source": [
                "USE BlackSabbath;\n",
                "\n",
                "SET NOCOUNT ON;\r\n",
                "\r\n",
                "SELECT DB_NAME(database_id) AS DatabaseName, SUM(size / 128) AS [DB Size (mb)]\r\n",
                "FROM sys.master_files\n",
                "WHERE database_id > 4\r\n",
                "GROUP BY database_id\r\n",
                "ORDER BY SUM(size) DESC;\n",
                "\n",
                "SELECT DB_NAME(f.database_id) AS DatabaseName, \n",
                "name AS FileName, \n",
                "type_desc AS FileType, \n",
                "(size / 128) AS [DB Size (mb)],\n",
                "ROUND(((u.allocated_extent_page_count /128.0) / (u.total_page_count / 128.0) * 100),2) AS PctFileUsed,\n",
                "l.used_log_space_in_percent AS PctLogUsed\n",
                "FROM sys.master_files f \n",
                "INNER JOIN sys.dm_db_file_space_usage u \n",
                "ON u.database_id = f.database_id\n",
                "AND u.file_id = f.file_id\n",
                "INNER JOIN sys.dm_db_log_space_usage l\n",
                "ON l.database_id = f.database_id\n",
                "WHERE f.database_id > 4;\n",
                ""
            ],
            "metadata": {
                "azdata_cell_guid": "9dc68663-f1af-48cb-a90f-5d6f28a957dd"
            },
            "outputs": [
{
    "output_type": "display_data",
    "data": {
        "text/html": "Commands completed successfully."
    },
    "metadata": {}
}, {
    "output_type": "display_data",
    "data": {
        "text/html": "Total execution time: 00:00:00.015"
    },
    "metadata": {}
}, {
    "output_type": "execute_result",
    "metadata": {},
    "execution_count": 3,
    "data": {
        "application/vnd.dataresource+json": {
            "schema": {
                "fields": [
                    {
                        "name": "DatabaseName"
                    },
                    {
                        "name": "DB Size (mb)"
                    }
                ]
            },
            "data": [
                {
                    "0": "BlackSabbath",
                    "1": "8192"
                }
            ]
        },
        "text/html": [
            "<table>",
            "<tr><th>DatabaseName</th><th>DB Size (mb)</th></tr>",
            "<tr><td>BlackSabbath</td><td>8192</td></tr>",
            "</table>"
        ]
    }
}, {
    "output_type": "execute_result",
    "metadata": {},
    "execution_count": 3,
    "data": {
        "application/vnd.dataresource+json": {
            "schema": {
                "fields": [
                    {
                        "name": "DatabaseName"
                    },
                    {
                        "name": "FileName"
                    },
                    {
                        "name": "FileType"
                    },
                    {
                        "name": "DB Size (mb)"
                    },
                    {
                        "name": "PctFileUsed"
                    },
                    {
                        "name": "PctLogUsed"
                    }
                ]
            },
            "data": [
                {
                    "0": "BlackSabbath",
                    "1": "BlackSabbath_primary",
                    "2": "ROWS",
                    "3": "2048",
                    "4": "38.40000000",
                    "5": "7.197887"
                },
                {
                    "0": "BlackSabbath",
                    "1": "BlackSabbath_pvs",
                    "2": "ROWS",
                    "3": "1024",
                    "4": "0.01000000",
                    "5": "7.197887"
                }
            ]
        },
        "text/html": [
            "<table>",
            "<tr><th>DatabaseName</th><th>FileName</th><th>FileType</th><th>DB Size (mb)</th><th>PctFileUsed</th><th>PctLogUsed</th></tr>",
            "<tr><td>BlackSabbath</td><td>BlackSabbath_primary</td><td>ROWS</td><td>2048</td><td>38.40000000</td><td>7.197887</td></tr>",
            "<tr><td>BlackSabbath</td><td>BlackSabbath_pvs</td><td>ROWS</td><td>1024</td><td>0.01000000</td><td>7.197887</td></tr>",
            "</table>"
        ]
    }
}
],
            "execution_count": 3
        }
    ]
}