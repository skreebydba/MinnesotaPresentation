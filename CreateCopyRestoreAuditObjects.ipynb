{
    "metadata": {
        "kernelspec": {
            "name": "SQL",
            "display_name": "SQL",
            "language": "sql"
        },
        "language_info": {
            "name": "sql",
            "version": ""
        }
    },
    "nbformat_minor": 2,
    "nbformat": 4,
    "cells": [
        {
            "cell_type": "markdown",
            "source": [
                "# Create Database and Tables for Auditing Restore and Data Copy Processes\r\n",
                "The following scripts create a database and tables to hold audit information for the database restore and table data dopy processes."
            ],
            "metadata": {
                "azdata_cell_guid": "5bbbec77-5ca6-4f1c-99d5-505f791fedc9"
            }
        },
        {
            "cell_type": "markdown",
            "source": [
                "# Create Audit Database\r\n",
                "This script creates the AuditDatabase database using the default parameters from the model database.  Change database name and database options as required."
            ],
            "metadata": {
                "azdata_cell_guid": "77321fec-49a8-4703-91f5-09787f0a8253"
            }
        },
        {
            "cell_type": "code",
            "source": [
                "USE master;\r\n",
                "\r\n",
                "CREATE DATABASE AuditDatabase;"
            ],
            "metadata": {
                "azdata_cell_guid": "bcf3a0c3-de82-4118-989d-c451a7f23d80"
            },
            "outputs": [],
            "execution_count": null
        }
    ]
}