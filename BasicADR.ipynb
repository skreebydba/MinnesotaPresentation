{
    "metadata": {
        "kernelspec": {
            "name": "SQL",
            "display_name": "SQL",
            "language": "sql"
        },
        "language_info": {
            "name": "sql",
            "version": ""
        }
    },
    "nbformat_minor": 2,
    "nbformat": 4,
    "cells": [
        {
            "cell_type": "markdown",
            "source": [
                "## Note - This example code uses a SQL Server instance running on a docker Linux container.  If you have created a container using the BuildContainer notebook, use these scripts as is.  If you are running on a native instance, modify the scripts according the comments.  \r\n",
                "\r\n",
                "## Step 1 - Connect to your SQL Server instance using Azure Data Studio."
            ],
            "metadata": {
                "azdata_cell_guid": "f588e798-0ee8-41ae-8cfa-d1f3a8bbe621"
            }
        },
        {
            "cell_type": "code",
            "source": [
                "/* If you created a SQL container in the previous step, you can use this script as is.\n",
                "   If you are using a different instance, change the FILENAME paths to be valid.\n",
                "   Change the database and object names if you must.  */\n",
                "USE master\n",
                "GO\n",
                "DROP DATABASE IF EXISTS whitesox\n",
                "GO\n",
                "CREATE DATABASE whitesox\n",
                "ON PRIMARY\n",
                "(NAME = N'whitesox_primary', FILENAME = '/var/opt/mssql/data/whitesox.mdf', SIZE = 2Gb , MAXSIZE = UNLIMITED, FILEGROWTH = 65536KB)\n",
                "LOG ON \n",
                "(NAME = N'whitesox_Log', FILENAME = '/var/opt/mssql/data/whitesox_log.ldf', SIZE = 5Gb , MAXSIZE = UNLIMITED , FILEGROWTH = 65536KB)\n",
                "GO\n",
                "ALTER DATABASE whitesox SET RECOVERY SIMPLE\n",
                "GO\n",
                "USE whitesox\n",
                "GO\n",
                "DROP TABLE IF EXISTS letsgowhitesox\n",
                "GO\n",
                "CREATE TABLE letsgowhitesox (playerid int primary key clustered, playername char(7000) not null)\n",
                "GO\n",
                "SET NOCOUNT ON\n",
                "GO\n",
                "BEGIN TRAN\n",
                "DECLARE @x int\n",
                "SET @x = 0\n",
                "WHILE (@x < 100000)\n",
                "BEGIN\n",
                "\tINSERT INTO letsgowhitesox VALUES (@x, 'Gerrit Cole on the South Side!')\n",
                "\tSET @x = @x + 1\n",
                "END\n",
                "COMMIT TRAN\n",
                "GO\n",
                "SET NOCOUNT OFF\n",
                "GO\n",
                "USE master\n",
                "GO"
            ],
            "metadata": {
                "azdata_cell_guid": "6d340b7c-8aa1-44e9-ad06-92222527c4c3",
                "tags": []
            },
            "outputs": [
                {
                    "output_type": "display_data",
                    "data": {
                        "text/html": "Query was canceled by user"
                    },
                    "metadata": {}
                },
                {
                    "output_type": "display_data",
                    "data": {
                        "text/html": "Commands completed successfully."
                    },
                    "metadata": {}
                },
                {
                    "output_type": "display_data",
                    "data": {
                        "text/html": "Commands completed successfully."
                    },
                    "metadata": {}
                },
                {
                    "output_type": "display_data",
                    "data": {
                        "text/html": "Commands completed successfully."
                    },
                    "metadata": {}
                },
                {
                    "output_type": "display_data",
                    "data": {
                        "text/html": "Commands completed successfully."
                    },
                    "metadata": {}
                },
                {
                    "output_type": "display_data",
                    "data": {
                        "text/html": "Commands completed successfully."
                    },
                    "metadata": {}
                },
                {
                    "output_type": "display_data",
                    "data": {
                        "text/html": "Commands completed successfully."
                    },
                    "metadata": {}
                },
                {
                    "output_type": "display_data",
                    "data": {
                        "text/html": "Commands completed successfully."
                    },
                    "metadata": {}
                },
                {
                    "output_type": "display_data",
                    "data": {
                        "text/html": "Commands completed successfully."
                    },
                    "metadata": {}
                },
                {
                    "output_type": "display_data",
                    "data": {
                        "text/html": "Commands completed successfully."
                    },
                    "metadata": {}
                },
                {
                    "output_type": "display_data",
                    "data": {
                        "text/html": "Commands completed successfully."
                    },
                    "metadata": {}
                },
                {
                    "output_type": "display_data",
                    "data": {
                        "text/html": "Total execution time: 00:00:29.435"
                    },
                    "metadata": {}
                }
            ],
            "execution_count": 10
        },
        {
            "cell_type": "markdown",
            "source": [
                "## Step 2 - Delete all rows for the table in an open transaction."
            ],
            "metadata": {
                "azdata_cell_guid": "de1376c9-3364-45d8-b52f-63d452c9e0ec"
            }
        },
        {
            "cell_type": "code",
            "source": [
                "USE master\r\n",
                "GO\r\n",
                "ALTER DATABASE whitesox SET ACCELERATED_DATABASE_RECOVERY = OFF\r\n",
                "GO\r\n",
                "USE whitesox\r\n",
                "GO\r\n",
                "BEGIN TRAN\r\n",
                "DELETE from letsgowhitesox\r\n",
                "GO"
            ],
            "metadata": {
                "azdata_cell_guid": "f760036a-7621-44ad-ac65-6fc7b287c8db",
                "tags": []
            },
            "outputs": [],
            "execution_count": 2
        },
        {
            "cell_type": "markdown",
            "source": [
                "## Step 3 - Check transaction log usage.\r\n",
                "### Because there is an open transaction, the log file will contain space that cannot be reused."
            ],
            "metadata": {
                "azdata_cell_guid": "8b97d3d7-759c-4eca-8d70-fe9663d10ba7"
            }
        },
        {
            "cell_type": "code",
            "source": [
                "USE whitesox;\r\n",
                "\r\n",
                "SELECT * FROM sys.dm_db_log_space_usage\r\n",
                "GO"
            ],
            "metadata": {
                "azdata_cell_guid": "f5474853-8585-4621-817b-29764861d750"
            },
            "outputs": [],
            "execution_count": 3
        },
        {
            "cell_type": "markdown",
            "source": [
                "## Step 4 - Does a CHECKPOINT free log space\r\n",
                "### Compare used_log_space_in_percent to the previous query."
            ],
            "metadata": {
                "azdata_cell_guid": "d1474ac7-c4c4-4328-aeb7-6e5fc29ac1f2"
            }
        },
        {
            "cell_type": "code",
            "source": [
                "USE whitesox;\r\n",
                "\r\n",
                "CHECKPOINT\r\n",
                "GO\r\n",
                "SELECT * FROM sys.dm_db_log_space_usage\r\n",
                "GO"
            ],
            "metadata": {
                "azdata_cell_guid": "195329da-0e93-42fc-8c1a-cc7965282db0"
            },
            "outputs": [],
            "execution_count": 4
        },
        {
            "cell_type": "markdown",
            "source": [
                "## Step 5 - How long does it take to rollback the deletes?\r\n",
                "### Rollback the transaction and check the duration."
            ],
            "metadata": {
                "azdata_cell_guid": "fd93191c-211b-45d2-af9b-cdadfb6e3b55"
            }
        },
        {
            "cell_type": "code",
            "source": [
                "USE whitesox;\r\n",
                "\r\n",
                "ROLLBACK TRAN\r\n",
                "GO"
            ],
            "metadata": {
                "azdata_cell_guid": "d52aaabe-4c02-42c4-ae34-d73a3c561c05"
            },
            "outputs": [],
            "execution_count": 5
        },
        {
            "cell_type": "markdown",
            "source": [
                "## Step 6 - Enable Accelerated Database Recovery"
            ],
            "metadata": {
                "azdata_cell_guid": "594b5728-96d9-4cd7-bbda-03c29fe2ba61"
            }
        },
        {
            "cell_type": "code",
            "source": [
                "USE master\r\n",
                "GO\r\n",
                "ALTER DATABASE whitesox SET ACCELERATED_DATABASE_RECOVERY = ON\r\n",
                "GO"
            ],
            "metadata": {
                "azdata_cell_guid": "09ee3571-c613-4355-a9a6-e914d2f8a2d2"
            },
            "outputs": [],
            "execution_count": 6
        },
        {
            "cell_type": "markdown",
            "source": [
                "## Step 7 - Delete all of the rows again within a transaction"
            ],
            "metadata": {
                "azdata_cell_guid": "132128e3-9e3c-4df2-a6d0-7d1ee00ca464"
            }
        },
        {
            "cell_type": "code",
            "source": [
                "USE whitesox\r\n",
                "GO\r\n",
                "BEGIN TRAN\r\n",
                "DELETE from letsgowhitesox\r\n",
                "GO"
            ],
            "metadata": {
                "azdata_cell_guid": "c693d353-f434-4608-9bd2-3a4af346e3b0"
            },
            "outputs": [],
            "execution_count": 7
        },
        {
            "cell_type": "markdown",
            "source": [
                "## Step 8 - Check log space used before and after a CHECKPOINT\r\n",
                "### Notice log space usage is low even before the CHECKPOINT"
            ],
            "metadata": {
                "azdata_cell_guid": "cdd03c17-d5db-4c0f-a5b6-542059f6be9f"
            }
        },
        {
            "cell_type": "code",
            "source": [
                "USE whitesox;\r\n",
                "SELECT * FROM sys.dm_db_log_space_usage\r\n",
                "GO\r\n",
                "CHECKPOINT\r\n",
                "GO\r\n",
                "SELECT * FROM sys.dm_db_log_space_usage\r\n",
                "GO\r\n",
                ""
            ],
            "metadata": {
                "azdata_cell_guid": "6a81e35a-48e1-40a4-80ec-77ee648480bc"
            },
            "outputs": [],
            "execution_count": 8
        },
        {
            "cell_type": "markdown",
            "source": [
                "## Step 9 - How fast is a ROLLBACK?\r\n",
                "### Is ROLLBACK any faster with ADR enabled?"
            ],
            "metadata": {
                "azdata_cell_guid": "addc579c-6213-4c2f-b3c0-0c568e60e2f6"
            }
        },
        {
            "cell_type": "code",
            "source": [
                "USE whitesox;\r\n",
                "\r\n",
                "ROLLBACK TRAN\r\n",
                "GO"
            ],
            "metadata": {
                "azdata_cell_guid": "6a902fe9-1b77-49d4-af0e-2ac04418b5f5"
            },
            "outputs": [],
            "execution_count": 9
        }
    ]
}