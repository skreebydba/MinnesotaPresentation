{
    "metadata": {
        "kernelspec": {
            "name": "SQL",
            "display_name": "SQL",
            "language": "sql"
        },
        "language_info": {
            "name": "sql",
            "version": ""
        }
    },
    "nbformat_minor": 2,
    "nbformat": 4,
    "cells": [
        {
            "cell_type": "markdown",
            "source": [
                "## Note - This example code uses a SQL Server instance running on a docker Linux container.  If you have created a container using the BuildContainer notebook, use these scripts as is.  If you are running on a native instance, modify the scripts according the comments.  \r\n",
                "\r\n",
                "## Step 1 - Connect to your SQL Server instance using Azure Data Studio."
            ],
            "metadata": {
                "azdata_cell_guid": "f588e798-0ee8-41ae-8cfa-d1f3a8bbe621"
            }
        },
        {
            "cell_type": "code",
            "source": [
                "/* If you created a SQL container in the previous step, you can use this script as is.\n",
                "   If you are using a different instance, change the FILENAME paths to be valid.\n",
                "   Change the database and object names if you must.  */\n",
                "USE master\n",
                "GO\n",
                "DROP DATABASE IF EXISTS BlackSabbath\n",
                "GO\n",
                "CREATE DATABASE BlackSabbath\n",
                "ON PRIMARY\n",
                "(NAME = N'BlackSabbath_primary', FILENAME = '/var/opt/mssql/data/BlackSabbath.mdf', SIZE = 2Gb , MAXSIZE = UNLIMITED, FILEGROWTH = 65536KB)\n",
                "LOG ON \n",
                "(NAME = N'BlackSabbath_Log', FILENAME = '/var/opt/mssql/data/BlackSabbath_log.ldf', SIZE = 5Gb , MAXSIZE = UNLIMITED , FILEGROWTH = 65536KB)\n",
                "GO\n",
                "\n",
                "ALTER DATABASE BlackSabbath\n",
                "ADD FILEGROUP PVS_FG;\n",
                "GO\n",
                "ALTER DATABASE BlackSabbath\n",
                "ADD FILE\n",
                "(\n",
                "    NAME = BlackSabbath_pvs,\n",
                "    FILENAME = '/var/opt/mssql/data/BlackSabbath_pvs.ndf',\n",
                "    SIZE = 1GB,\n",
                "    FILEGROWTH = 1MB\n",
                ")\n",
                "TO FILEGROUP PVS_FG;\n",
                "GO\n",
                "\n",
                "ALTER DATABASE BlackSabbath SET RECOVERY SIMPLE\n",
                "GO\n",
                "USE BlackSabbath\n",
                "GO\n",
                "DROP TABLE IF EXISTS NeverSayDie\n",
                "GO\n",
                "CREATE TABLE NeverSayDie (rowid int IDENTITY(1,1) primary key clustered, rowtext char(7000) not null)\n",
                "GO\n",
                "SET NOCOUNT ON\n",
                "GO\n",
                "BEGIN TRAN\n",
                "DECLARE @x int\n",
                "SET @x = 0\n",
                "WHILE (@x < 11111)\n",
                "BEGIN\n",
                "\tINSERT INTO NeverSayDie VALUES \n",
                "    ('Never Say Die'),\n",
                "    ('Johnny Blade'),\n",
                "    ('Junior''s Eyes'),\n",
                "    ('Hard Road'),\n",
                "    ('Shock Wave'),\n",
                "    ('Air Dance'),\n",
                "    ('Over to You'),\n",
                "    ('Breakout (Instrumental)'),\n",
                "    ('Swinging the Chain')\n",
                "\tSET @x = @x + 1\n",
                "END\n",
                "COMMIT TRAN\n",
                "GO\n",
                "SET NOCOUNT OFF\n",
                "\n",
                "USE master;\n",
                "\n",
                "SELECT name, is_accelerated_database_recovery_on\n",
                "FROM sys.databases\n",
                "WHERE name = N'BlackSabbath';\n",
                "\n",
                ""
            ],
            "metadata": {
                "azdata_cell_guid": "6d340b7c-8aa1-44e9-ad06-92222527c4c3",
                "tags": []
            },
            "outputs": [
{
    "output_type": "display_data",
    "data": {
        "text/html": "Commands completed successfully."
    },
    "metadata": {}
}, {
    "output_type": "display_data",
    "data": {
        "text/html": "Commands completed successfully."
    },
    "metadata": {}
}, {
    "output_type": "display_data",
    "data": {
        "text/html": "Commands completed successfully."
    },
    "metadata": {}
}, {
    "output_type": "display_data",
    "data": {
        "text/html": "Commands completed successfully."
    },
    "metadata": {}
}, {
    "output_type": "display_data",
    "data": {
        "text/html": "Commands completed successfully."
    },
    "metadata": {}
}, {
    "output_type": "display_data",
    "data": {
        "text/html": "Commands completed successfully."
    },
    "metadata": {}
}, {
    "output_type": "display_data",
    "data": {
        "text/html": "Commands completed successfully."
    },
    "metadata": {}
}, {
    "output_type": "display_data",
    "data": {
        "text/html": "Commands completed successfully."
    },
    "metadata": {}
}, {
    "output_type": "display_data",
    "data": {
        "text/html": "Commands completed successfully."
    },
    "metadata": {}
}, {
    "output_type": "display_data",
    "data": {
        "text/html": "Commands completed successfully."
    },
    "metadata": {}
}, {
    "output_type": "display_data",
    "data": {
        "text/html": "Commands completed successfully."
    },
    "metadata": {}
}, {
    "output_type": "display_data",
    "data": {
        "text/html": "(1 row affected)"
    },
    "metadata": {}
}, {
    "output_type": "display_data",
    "data": {
        "text/html": "Total execution time: 00:00:21.940"
    },
    "metadata": {}
}, {
    "output_type": "execute_result",
    "metadata": {},
    "execution_count": 9,
    "data": {
        "application/vnd.dataresource+json": {
            "schema": {
                "fields": [
                    {
                        "name": "name"
                    },
                    {
                        "name": "is_accelerated_database_recovery_on"
                    }
                ]
            },
            "data": [
                {
                    "0": "BlackSabbath",
                    "1": "0"
                }
            ]
        },
        "text/html": [
            "<table>",
            "<tr><th>name</th><th>is_accelerated_database_recovery_on</th></tr>",
            "<tr><td>BlackSabbath</td><td>0</td></tr>",
            "</table>"
        ]
    }
}
],
            "execution_count": 16
        },
        {
            "cell_type": "markdown",
            "source": [
                "## Step 2 - Delete all rows for the table in an open transaction."
            ],
            "metadata": {
                "azdata_cell_guid": "de1376c9-3364-45d8-b52f-63d452c9e0ec"
            }
        },
        {
            "cell_type": "code",
            "source": [
                "USE master\r\n",
                "GO\r\n",
                "ALTER DATABASE BlackSabbath SET ACCELERATED_DATABASE_RECOVERY = OFF\r\n",
                "GO\r\n",
                "USE BlackSabbath\r\n",
                "GO\r\n",
                "BEGIN TRAN\r\n",
                "DELETE from NeverSayDie\r\n",
                "GO"
            ],
            "metadata": {
                "azdata_cell_guid": "f760036a-7621-44ad-ac65-6fc7b287c8db",
                "tags": []
            },
            "outputs": [
{
    "output_type": "display_data",
    "data": {
        "text/html": "Commands completed successfully."
    },
    "metadata": {}
}, {
    "output_type": "display_data",
    "data": {
        "text/html": "Commands completed successfully."
    },
    "metadata": {}
}, {
    "output_type": "display_data",
    "data": {
        "text/html": "Commands completed successfully."
    },
    "metadata": {}
}, {
    "output_type": "display_data",
    "data": {
        "text/html": "(99999 rows affected)"
    },
    "metadata": {}
}, {
    "output_type": "display_data",
    "data": {
        "text/html": "Total execution time: 00:00:44.754"
    },
    "metadata": {}
}
],
            "execution_count": 17
        },
        {
            "cell_type": "markdown",
            "source": [
                "## Step 3 - Check transaction log usage.\r\n",
                "### Because there is an open transaction, the log file will contain space that cannot be reused.  After checking log usage, run a CHECKPOINT and see if log space is freed."
            ],
            "metadata": {
                "azdata_cell_guid": "8b97d3d7-759c-4eca-8d70-fe9663d10ba7"
            }
        },
        {
            "cell_type": "code",
            "source": [
                "USE BlackSabbath;\r\n",
                "\r\n",
                "SELECT * FROM sys.dm_db_log_space_usage\r\n",
                "\r\n",
                "CHECKPOINT;\r\n",
                "\r\n",
                "SELECT * FROM sys.dm_db_log_space_usage\r\n",
                "\r\n",
                "GO"
            ],
            "metadata": {
                "azdata_cell_guid": "f5474853-8585-4621-817b-29764861d750",
                "tags": []
            },
            "outputs": [
{
    "output_type": "display_data",
    "data": {
        "text/html": "(1 row affected)"
    },
    "metadata": {}
}, {
    "output_type": "display_data",
    "data": {
        "text/html": "(1 row affected)"
    },
    "metadata": {}
}, {
    "output_type": "display_data",
    "data": {
        "text/html": "Total execution time: 00:00:00.316"
    },
    "metadata": {}
}, {
    "output_type": "execute_result",
    "metadata": {},
    "execution_count": 11,
    "data": {
        "application/vnd.dataresource+json": {
            "schema": {
                "fields": [
                    {
                        "name": "database_id"
                    },
                    {
                        "name": "total_log_size_in_bytes"
                    },
                    {
                        "name": "used_log_space_in_bytes"
                    },
                    {
                        "name": "used_log_space_in_percent"
                    },
                    {
                        "name": "log_space_in_bytes_since_last_backup"
                    }
                ]
            },
            "data": [
                {
                    "0": "7",
                    "1": "5368700928",
                    "2": "4224151552",
                    "3": "78.681076",
                    "4": "988966912"
                }
            ]
        },
        "text/html": [
            "<table>",
            "<tr><th>database_id</th><th>total_log_size_in_bytes</th><th>used_log_space_in_bytes</th><th>used_log_space_in_percent</th><th>log_space_in_bytes_since_last_backup</th></tr>",
            "<tr><td>7</td><td>5368700928</td><td>4224151552</td><td>78.681076</td><td>988966912</td></tr>",
            "</table>"
        ]
    }
}, {
    "output_type": "execute_result",
    "metadata": {},
    "execution_count": 11,
    "data": {
        "application/vnd.dataresource+json": {
            "schema": {
                "fields": [
                    {
                        "name": "database_id"
                    },
                    {
                        "name": "total_log_size_in_bytes"
                    },
                    {
                        "name": "used_log_space_in_bytes"
                    },
                    {
                        "name": "used_log_space_in_percent"
                    },
                    {
                        "name": "log_space_in_bytes_since_last_backup"
                    }
                ]
            },
            "data": [
                {
                    "0": "7",
                    "1": "5368700928",
                    "2": "4224204800",
                    "3": "78.68207",
                    "4": "1000251392"
                }
            ]
        },
        "text/html": [
            "<table>",
            "<tr><th>database_id</th><th>total_log_size_in_bytes</th><th>used_log_space_in_bytes</th><th>used_log_space_in_percent</th><th>log_space_in_bytes_since_last_backup</th></tr>",
            "<tr><td>7</td><td>5368700928</td><td>4224204800</td><td>78.68207</td><td>1000251392</td></tr>",
            "</table>"
        ]
    }
}
],
            "execution_count": 18
        },
        {
            "cell_type": "markdown",
            "source": [
                "## Step 4 - How long does it take to rollback the deletes?\r\n",
                "### Rollback the transaction and check the duration."
            ],
            "metadata": {
                "azdata_cell_guid": "fd93191c-211b-45d2-af9b-cdadfb6e3b55"
            }
        },
        {
            "cell_type": "code",
            "source": [
                "USE BlackSabbath;\r\n",
                "\r\n",
                "ROLLBACK TRAN\r\n",
                "GO"
            ],
            "metadata": {
                "azdata_cell_guid": "d52aaabe-4c02-42c4-ae34-d73a3c561c05",
                "tags": []
            },
            "outputs": [
{
    "output_type": "display_data",
    "data": {
        "text/html": "Commands completed successfully."
    },
    "metadata": {}
}, {
    "output_type": "display_data",
    "data": {
        "text/html": "Total execution time: 00:00:46.042"
    },
    "metadata": {}
}
],
            "execution_count": 19
        },
        {
            "cell_type": "markdown",
            "source": [
                "## Step 5 - Enable Accelerated Database Recovery"
            ],
            "metadata": {
                "azdata_cell_guid": "594b5728-96d9-4cd7-bbda-03c29fe2ba61"
            }
        },
        {
            "cell_type": "code",
            "source": [
                "USE master\r\n",
                "GO\r\n",
                "ALTER DATABASE BlackSabbath SET ACCELERATED_DATABASE_RECOVERY = ON\r\n",
                "GO"
            ],
            "metadata": {
                "azdata_cell_guid": "09ee3571-c613-4355-a9a6-e914d2f8a2d2",
                "tags": []
            },
            "outputs": [
{
    "output_type": "display_data",
    "data": {
        "text/html": "Commands completed successfully."
    },
    "metadata": {}
}, {
    "output_type": "display_data",
    "data": {
        "text/html": "Commands completed successfully."
    },
    "metadata": {}
}, {
    "output_type": "display_data",
    "data": {
        "text/html": "Total execution time: 00:00:00.069"
    },
    "metadata": {}
}
],
            "execution_count": 20
        },
        {
            "cell_type": "markdown",
            "source": [
                "## Step 6 - Delete all of the rows again within a transaction"
            ],
            "metadata": {
                "azdata_cell_guid": "132128e3-9e3c-4df2-a6d0-7d1ee00ca464"
            }
        },
        {
            "cell_type": "code",
            "source": [
                "USE BlackSabbath\r\n",
                "GO\r\n",
                "\r\n",
                "BEGIN TRAN\r\n",
                "DELETE from NeverSayDie;\r\n",
                "\r\n",
                "GO"
            ],
            "metadata": {
                "azdata_cell_guid": "c693d353-f434-4608-9bd2-3a4af346e3b0",
                "tags": []
            },
            "outputs": [
{
    "output_type": "display_data",
    "data": {
        "text/html": "Commands completed successfully."
    },
    "metadata": {}
}, {
    "output_type": "display_data",
    "data": {
        "text/html": "(99999 rows affected)"
    },
    "metadata": {}
}, {
    "output_type": "display_data",
    "data": {
        "text/html": "Total execution time: 00:00:18.881"
    },
    "metadata": {}
}
],
            "execution_count": 21
        },
        {
            "cell_type": "markdown",
            "source": [
                "## Step 7 - Check log space used before and after a CHECKPOINT\r\n",
                "### Notice log space usage is low even before the CHECKPOINT"
            ],
            "metadata": {
                "azdata_cell_guid": "cdd03c17-d5db-4c0f-a5b6-542059f6be9f"
            }
        },
        {
            "cell_type": "code",
            "source": [
                "USE BlackSabbath;\r\n",
                "\r\n",
                "SELECT d.name, d.is_accelerated_database_recovery_on, p.persistent_version_store_size_kb \r\n",
                "FROM sys.databases d\r\n",
                "INNER JOIN sys.dm_tran_persistent_version_store_stats p\r\n",
                "ON p.database_id = d.database_id\r\n",
                "WHERE is_accelerated_database_recovery_on = 1;\r\n",
                "\r\n",
                "SELECT * FROM sys.dm_db_log_space_usage\r\n",
                "GO\r\n",
                "\r\n",
                "CHECKPOINT;\r\n",
                "\r\n",
                "SELECT * FROM sys.dm_db_log_space_usage\r\n",
                "GO\r\n",
                ""
            ],
            "metadata": {
                "azdata_cell_guid": "6a81e35a-48e1-40a4-80ec-77ee648480bc",
                "tags": []
            },
            "outputs": [
{
    "output_type": "display_data",
    "data": {
        "text/html": "(2 rows affected)"
    },
    "metadata": {}
}, {
    "output_type": "display_data",
    "data": {
        "text/html": "(1 row affected)"
    },
    "metadata": {}
}, {
    "output_type": "display_data",
    "data": {
        "text/html": "(1 row affected)"
    },
    "metadata": {}
}, {
    "output_type": "display_data",
    "data": {
        "text/html": "Total execution time: 00:00:00.112"
    },
    "metadata": {}
}, {
    "output_type": "execute_result",
    "metadata": {},
    "execution_count": 16,
    "data": {
        "application/vnd.dataresource+json": {
            "schema": {
                "fields": [
                    {
                        "name": "name"
                    },
                    {
                        "name": "is_accelerated_database_recovery_on"
                    },
                    {
                        "name": "persistent_version_store_size_kb"
                    }
                ]
            },
            "data": [
                {
                    "0": "whitesox",
                    "1": "1",
                    "2": "0"
                },
                {
                    "0": "BlackSabbath",
                    "1": "1",
                    "2": "0"
                }
            ]
        },
        "text/html": [
            "<table>",
            "<tr><th>name</th><th>is_accelerated_database_recovery_on</th><th>persistent_version_store_size_kb</th></tr>",
            "<tr><td>whitesox</td><td>1</td><td>0</td></tr>",
            "<tr><td>BlackSabbath</td><td>1</td><td>0</td></tr>",
            "</table>"
        ]
    }
}, {
    "output_type": "execute_result",
    "metadata": {},
    "execution_count": 16,
    "data": {
        "application/vnd.dataresource+json": {
            "schema": {
                "fields": [
                    {
                        "name": "database_id"
                    },
                    {
                        "name": "total_log_size_in_bytes"
                    },
                    {
                        "name": "used_log_space_in_bytes"
                    },
                    {
                        "name": "used_log_space_in_percent"
                    },
                    {
                        "name": "log_space_in_bytes_since_last_backup"
                    }
                ]
            },
            "data": [
                {
                    "0": "7",
                    "1": "5368700928",
                    "2": "385654784",
                    "3": "7.183391",
                    "4": "106475520"
                }
            ]
        },
        "text/html": [
            "<table>",
            "<tr><th>database_id</th><th>total_log_size_in_bytes</th><th>used_log_space_in_bytes</th><th>used_log_space_in_percent</th><th>log_space_in_bytes_since_last_backup</th></tr>",
            "<tr><td>7</td><td>5368700928</td><td>385654784</td><td>7.183391</td><td>106475520</td></tr>",
            "</table>"
        ]
    }
}, {
    "output_type": "execute_result",
    "metadata": {},
    "execution_count": 16,
    "data": {
        "application/vnd.dataresource+json": {
            "schema": {
                "fields": [
                    {
                        "name": "database_id"
                    },
                    {
                        "name": "total_log_size_in_bytes"
                    },
                    {
                        "name": "used_log_space_in_bytes"
                    },
                    {
                        "name": "used_log_space_in_percent"
                    },
                    {
                        "name": "log_space_in_bytes_since_last_backup"
                    }
                ]
            },
            "data": [
                {
                    "0": "7",
                    "1": "5368700928",
                    "2": "385671168",
                    "3": "7.1836963",
                    "4": "77824"
                }
            ]
        },
        "text/html": [
            "<table>",
            "<tr><th>database_id</th><th>total_log_size_in_bytes</th><th>used_log_space_in_bytes</th><th>used_log_space_in_percent</th><th>log_space_in_bytes_since_last_backup</th></tr>",
            "<tr><td>7</td><td>5368700928</td><td>385671168</td><td>7.1836963</td><td>77824</td></tr>",
            "</table>"
        ]
    }
}
],
            "execution_count": 22
        },
        {
            "cell_type": "markdown",
            "source": [
                "## Step 8 - How fast is a ROLLBACK?\r\n",
                "### Is ROLLBACK any faster with ADR enabled?"
            ],
            "metadata": {
                "azdata_cell_guid": "addc579c-6213-4c2f-b3c0-0c568e60e2f6"
            }
        },
        {
            "cell_type": "code",
            "source": [
                "USE BlackSabbath;\r\n",
                "\r\n",
                "ROLLBACK TRAN\r\n",
                "GO"
            ],
            "metadata": {
                "azdata_cell_guid": "6a902fe9-1b77-49d4-af0e-2ac04418b5f5",
                "tags": []
            },
            "outputs": [
{
    "output_type": "display_data",
    "data": {
        "text/html": "Commands completed successfully."
    },
    "metadata": {}
}, {
    "output_type": "display_data",
    "data": {
        "text/html": "Total execution time: 00:00:00.003"
    },
    "metadata": {}
}
],
            "execution_count": 23
        }
    ]
}