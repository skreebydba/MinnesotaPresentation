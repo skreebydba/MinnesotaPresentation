{
    "metadata": {
        "kernelspec": {
            "name": "SQL",
            "display_name": "SQL",
            "language": "sql"
        },
        "language_info": {
            "name": "sql",
            "version": ""
        }
    },
    "nbformat_minor": 2,
    "nbformat": 4,
    "cells": [
        {
            "cell_type": "markdown",
            "source": [
                "## Step 1 - Run this query against your SQL instance to create a database and procedure for use in the stress test"
            ],
            "metadata": {
                "azdata_cell_guid": "1b1fd77f-456a-4fea-bde7-c56a3b3375fb"
            }
        },
        {
            "cell_type": "code",
            "source": [
                "USE master;\r\n",
                "GO\r\n",
                "DROP DATABASE IF EXISTS ChicagoWhiteSox;\r\n",
                "GO\r\n",
                "CREATE DATABASE ChicagoWhiteSox;\r\n",
                "GO\r\n",
                "USE ChicagoWhiteSox;\r\n",
                "GO\r\n",
                "CREATE OR ALTER PROCEDURE letsgosox\r\n",
                "AS\r\n",
                "CREATE TABLE #gosox (col1 INT);\r\n",
                "GO"
            ],
            "metadata": {
                "azdata_cell_guid": "4b97246a-42f4-44d4-ab66-29e5c1c729b7"
            },
            "outputs": [
                {
                    "output_type": "display_data",
                    "data": {
                        "text/html": "Commands completed successfully."
                    },
                    "metadata": {}
                },
                {
                    "output_type": "display_data",
                    "data": {
                        "text/html": "Commands completed successfully."
                    },
                    "metadata": {}
                },
                {
                    "output_type": "display_data",
                    "data": {
                        "text/html": "Commands completed successfully."
                    },
                    "metadata": {}
                },
                {
                    "output_type": "display_data",
                    "data": {
                        "text/html": "Commands completed successfully."
                    },
                    "metadata": {}
                },
                {
                    "output_type": "display_data",
                    "data": {
                        "text/html": "Commands completed successfully."
                    },
                    "metadata": {}
                },
                {
                    "output_type": "display_data",
                    "data": {
                        "text/html": "Total execution time: 00:00:01.072"
                    },
                    "metadata": {}
                }
            ],
            "execution_count": 1
        },
        {
            "cell_type": "markdown",
            "source": [
                "## Step 2 - Disable in-memory optimization for tempdb by running disableopttempdb.cmd\r\n",
                "### The file contains the following code:\r\n",
                "### Change the user name, password, and server name  in the cmd file as required\r\n",
                "`sqlcmd -Usa -PJu@nS0t022 -i disableopttempdb.sql -S \"localhost,1445\"\r\n",
                "docker stop sqlopttempdb\r\n",
                "docker start sqlopttempdb`\r\n",
                "### Once changes are made, run the following code from the command line:\r\n",
                "`.\\disableopttempdb.cmd`"
            ],
            "metadata": {
                "azdata_cell_guid": "3873b211-7e73-42c9-9a97-b26249fc7fa9"
            }
        },
        {
            "cell_type": "markdown",
            "source": [
                "## Step 2 - Execute tempstress.cmd from the command line in the directory that contains the tempdb scripts\r\n",
                "### The file contains the following code:\r\n",
                "### Change the user name, password, and database as needed\r\n",
                "### When ostress completes, note the elapsed time\r\n",
                "### You will find it in the command window, as follows: OSTRESS exiting normally, elapsed time: 00:01:08.348\r\n",
                "`.\\ostress -Usa -PJu@nS0t022 -Q\"exec letsgosox\" -n50 -r5000 -dChicagoWhiteSox -S\"localhost,1445\"`\r\n",
                "### Once changes are made, run the following code from the command line:\r\n",
                "`.\\tempstress.cmd`"
            ],
            "metadata": {
                "azdata_cell_guid": "1c5c19f6-ef43-4a67-9aee-b5e6f93d11ea"
            }
        },
        {
            "cell_type": "markdown",
            "source": [
                "## Step 3 - While the ostress utility is running run the following query\r\n",
                "### This will return the pages that that are being latched\r\n",
                "### This will result in PAGELATCH_IO waits"
            ],
            "metadata": {
                "azdata_cell_guid": "8bf49e92-4456-4614-a7d9-db8362cb389e"
            }
        },
        {
            "cell_type": "code",
            "source": [
                "USE tempdb;\r\n",
                "GO\r\n",
                "SELECT object_name(page_info.object_id) AS object_name, d.wait_type, page_info.* \r\n",
                "FROM sys.dm_exec_requests AS d \r\n",
                "  CROSS APPLY sys.fn_PageResCracker(d.page_resource) AS r\r\n",
                "  CROSS APPLY sys.dm_db_page_info(r.db_id, r.file_id, r.page_id,'DETAILED')\r\n",
                "    AS page_info;\r\n",
                "GO\r\n",
                "\r\n",
                "-- DBCC PAGE (2,1,116,3) WITH TABLERESULTS;"
            ],
            "metadata": {
                "azdata_cell_guid": "c9779bb8-654c-4121-9f0a-8703238e17fa"
            },
            "outputs": [
                {
                    "output_type": "display_data",
                    "data": {
                        "text/html": "Commands completed successfully."
                    },
                    "metadata": {}
                },
                {
                    "output_type": "display_data",
                    "data": {
                        "text/html": "(35 rows affected)"
                    },
                    "metadata": {}
                },
                {
                    "output_type": "display_data",
                    "data": {
                        "text/html": "(414 rows affected)"
                    },
                    "metadata": {}
                },
                {
                    "output_type": "display_data",
                    "data": {
                        "text/html": "DBCC execution completed. If DBCC printed error messages, contact your system administrator."
                    },
                    "metadata": {}
                },
                {
                    "output_type": "execute_result",
                    "metadata": {},
                    "execution_count": 4,
                    "data": {
                        "application/vnd.dataresource+json": {
                            "schema": {
                                "fields": [
                                    {
                                        "name": "object_name"
                                    },
                                    {
                                        "name": "wait_type"
                                    },
                                    {
                                        "name": "database_id"
                                    },
                                    {
                                        "name": "file_id"
                                    },
                                    {
                                        "name": "page_id"
                                    },
                                    {
                                        "name": "page_header_version"
                                    },
                                    {
                                        "name": "page_type"
                                    },
                                    {
                                        "name": "page_type_desc"
                                    },
                                    {
                                        "name": "page_type_flag_bits"
                                    },
                                    {
                                        "name": "page_type_flag_bits_desc"
                                    },
                                    {
                                        "name": "page_flag_bits"
                                    },
                                    {
                                        "name": "page_flag_bits_desc"
                                    },
                                    {
                                        "name": "page_lsn"
                                    },
                                    {
                                        "name": "page_level"
                                    },
                                    {
                                        "name": "object_id"
                                    },
                                    {
                                        "name": "index_id"
                                    },
                                    {
                                        "name": "partition_id"
                                    },
                                    {
                                        "name": "alloc_unit_id"
                                    },
                                    {
                                        "name": "is_encrypted"
                                    },
                                    {
                                        "name": "has_checksum"
                                    },
                                    {
                                        "name": "checksum"
                                    },
                                    {
                                        "name": "is_iam_page"
                                    },
                                    {
                                        "name": "is_mixed_extent"
                                    },
                                    {
                                        "name": "has_ghost_records"
                                    },
                                    {
                                        "name": "has_version_records"
                                    },
                                    {
                                        "name": "pfs_page_id"
                                    },
                                    {
                                        "name": "pfs_is_allocated"
                                    },
                                    {
                                        "name": "pfs_alloc_percent"
                                    },
                                    {
                                        "name": "pfs_status"
                                    },
                                    {
                                        "name": "pfs_status_desc"
                                    },
                                    {
                                        "name": "gam_page_id"
                                    },
                                    {
                                        "name": "gam_status"
                                    },
                                    {
                                        "name": "gam_status_desc"
                                    },
                                    {
                                        "name": "sgam_page_id"
                                    },
                                    {
                                        "name": "sgam_status"
                                    },
                                    {
                                        "name": "sgam_status_desc"
                                    },
                                    {
                                        "name": "diff_map_page_id"
                                    },
                                    {
                                        "name": "diff_status"
                                    },
                                    {
                                        "name": "diff_status_desc"
                                    },
                                    {
                                        "name": "ml_map_page_id"
                                    },
                                    {
                                        "name": "ml_status"
                                    },
                                    {
                                        "name": "ml_status_desc"
                                    },
                                    {
                                        "name": "prev_page_file_id"
                                    },
                                    {
                                        "name": "prev_page_page_id"
                                    },
                                    {
                                        "name": "next_page_file_id"
                                    },
                                    {
                                        "name": "next_page_page_id"
                                    },
                                    {
                                        "name": "fixed_length"
                                    },
                                    {
                                        "name": "slot_count"
                                    },
                                    {
                                        "name": "ghost_rec_count"
                                    },
                                    {
                                        "name": "free_bytes"
                                    },
                                    {
                                        "name": "free_bytes_offset"
                                    },
                                    {
                                        "name": "reserved_bytes"
                                    },
                                    {
                                        "name": "reserved_bytes_by_xdes_id"
                                    },
                                    {
                                        "name": "xdes_id"
                                    }
                                ]
                            },
                            "data": [
                                {
                                    "0": "sysschobjs",
                                    "1": "PAGELATCH_EX",
                                    "2": "2",
                                    "3": "1",
                                    "4": "118",
                                    "5": "1",
                                    "6": "2",
                                    "7": "INDEX_PAGE",
                                    "8": "0x4",
                                    "9": "",
                                    "10": "0x0",
                                    "11": "",
                                    "12": "0000004a:000014b0:006f",
                                    "13": "0",
                                    "14": "34",
                                    "15": "2",
                                    "16": "562949955649536",
                                    "17": "562949955649536",
                                    "18": "0",
                                    "19": "0",
                                    "20": "-1683698132",
                                    "21": "0",
                                    "22": "1",
                                    "23": "1",
                                    "24": "0",
                                    "25": "1",
                                    "26": "1",
                                    "27": "0",
                                    "28": "0x68",
                                    "29": " MIXED_EXT | PFS_HAS_GHOST_RECORDS | PFS_IS_ALLOCATED | 0_PCT_FULL",
                                    "30": "2",
                                    "31": "1",
                                    "32": "ALLOCATED",
                                    "33": "3",
                                    "34": "0",
                                    "35": "NOT ALLOCATED",
                                    "36": "6",
                                    "37": "1",
                                    "38": "CHANGED",
                                    "39": "7",
                                    "40": "0",
                                    "41": "NOT MIN_LOGGED",
                                    "42": "0",
                                    "43": "0",
                                    "44": "1",
                                    "45": "295",
                                    "46": "10",
                                    "47": "68",
                                    "48": "35",
                                    "49": "1738",
                                    "50": "6318",
                                    "51": "0",
                                    "52": "0",
                                    "53": "0000:0003d218"
                                },
                                {
                                    "0": "sysschobjs",
                                    "1": "PAGELATCH_EX",
                                    "2": "2",
                                    "3": "1",
                                    "4": "118",
                                    "5": "1",
                                    "6": "2",
                                    "7": "INDEX_PAGE",
                                    "8": "0x4",
                                    "9": "",
                                    "10": "0x0",
                                    "11": "",
                                    "12": "0000004a:000014b0:006f",
                                    "13": "0",
                                    "14": "34",
                                    "15": "2",
                                    "16": "562949955649536",
                                    "17": "562949955649536",
                                    "18": "0",
                                    "19": "0",
                                    "20": "-1683698132",
                                    "21": "0",
                                    "22": "1",
                                    "23": "1",
                                    "24": "0",
                                    "25": "1",
                                    "26": "1",
                                    "27": "0",
                                    "28": "0x68",
                                    "29": " MIXED_EXT | PFS_HAS_GHOST_RECORDS | PFS_IS_ALLOCATED | 0_PCT_FULL",
                                    "30": "2",
                                    "31": "1",
                                    "32": "ALLOCATED",
                                    "33": "3",
                                    "34": "0",
                                    "35": "NOT ALLOCATED",
                                    "36": "6",
                                    "37": "1",
                                    "38": "CHANGED",
                                    "39": "7",
                                    "40": "0",
                                    "41": "NOT MIN_LOGGED",
                                    "42": "0",
                                    "43": "0",
                                    "44": "1",
                                    "45": "295",
                                    "46": "10",
                                    "47": "68",
                                    "48": "35",
                                    "49": "1738",
                                    "50": "6318",
                                    "51": "0",
                                    "52": "0",
                                    "53": "0000:0003d218"
                                },
                                {
                                    "0": "sysschobjs",
                                    "1": "PAGELATCH_EX",
                                    "2": "2",
                                    "3": "1",
                                    "4": "118",
                                    "5": "1",
                                    "6": "2",
                                    "7": "INDEX_PAGE",
                                    "8": "0x4",
                                    "9": "",
                                    "10": "0x0",
                                    "11": "",
                                    "12": "0000004a:000014b0:006f",
                                    "13": "0",
                                    "14": "34",
                                    "15": "2",
                                    "16": "562949955649536",
                                    "17": "562949955649536",
                                    "18": "0",
                                    "19": "0",
                                    "20": "-1683698132",
                                    "21": "0",
                                    "22": "1",
                                    "23": "1",
                                    "24": "0",
                                    "25": "1",
                                    "26": "1",
                                    "27": "0",
                                    "28": "0x68",
                                    "29": " MIXED_EXT | PFS_HAS_GHOST_RECORDS | PFS_IS_ALLOCATED | 0_PCT_FULL",
                                    "30": "2",
                                    "31": "1",
                                    "32": "ALLOCATED",
                                    "33": "3",
                                    "34": "0",
                                    "35": "NOT ALLOCATED",
                                    "36": "6",
                                    "37": "1",
                                    "38": "CHANGED",
                                    "39": "7",
                                    "40": "0",
                                    "41": "NOT MIN_LOGGED",
                                    "42": "0",
                                    "43": "0",
                                    "44": "1",
                                    "45": "295",
                                    "46": "10",
                                    "47": "68",
                                    "48": "35",
                                    "49": "1738",
                                    "50": "6318",
                                    "51": "0",
                                    "52": "0",
                                    "53": "0000:0003d218"
                                },
                                {
                                    "0": "sysschobjs",
                                    "1": "PAGELATCH_EX",
                                    "2": "2",
                                    "3": "1",
                                    "4": "118",
                                    "5": "1",
                                    "6": "2",
                                    "7": "INDEX_PAGE",
                                    "8": "0x4",
                                    "9": "",
                                    "10": "0x0",
                                    "11": "",
                                    "12": "0000004a:000014b0:006f",
                                    "13": "0",
                                    "14": "34",
                                    "15": "2",
                                    "16": "562949955649536",
                                    "17": "562949955649536",
                                    "18": "0",
                                    "19": "0",
                                    "20": "-1683698132",
                                    "21": "0",
                                    "22": "1",
                                    "23": "1",
                                    "24": "0",
                                    "25": "1",
                                    "26": "1",
                                    "27": "0",
                                    "28": "0x68",
                                    "29": " MIXED_EXT | PFS_HAS_GHOST_RECORDS | PFS_IS_ALLOCATED | 0_PCT_FULL",
                                    "30": "2",
                                    "31": "1",
                                    "32": "ALLOCATED",
                                    "33": "3",
                                    "34": "0",
                                    "35": "NOT ALLOCATED",
                                    "36": "6",
                                    "37": "1",
                                    "38": "CHANGED",
                                    "39": "7",
                                    "40": "0",
                                    "41": "NOT MIN_LOGGED",
                                    "42": "0",
                                    "43": "0",
                                    "44": "1",
                                    "45": "295",
                                    "46": "10",
                                    "47": "68",
                                    "48": "35",
                                    "49": "1738",
                                    "50": "6318",
                                    "51": "0",
                                    "52": "0",
                                    "53": "0000:0003d218"
                                },
                                {
                                    "0": "sysschobjs",
                                    "1": "PAGELATCH_EX",
                                    "2": "2",
                                    "3": "1",
                                    "4": "118",
                                    "5": "1",
                                    "6": "2",
                                    "7": "INDEX_PAGE",
                                    "8": "0x4",
                                    "9": "",
                                    "10": "0x0",
                                    "11": "",
                                    "12": "0000004a:000014b0:006f",
                                    "13": "0",
                                    "14": "34",
                                    "15": "2",
                                    "16": "562949955649536",
                                    "17": "562949955649536",
                                    "18": "0",
                                    "19": "0",
                                    "20": "-1683698132",
                                    "21": "0",
                                    "22": "1",
                                    "23": "1",
                                    "24": "0",
                                    "25": "1",
                                    "26": "1",
                                    "27": "0",
                                    "28": "0x68",
                                    "29": " MIXED_EXT | PFS_HAS_GHOST_RECORDS | PFS_IS_ALLOCATED | 0_PCT_FULL",
                                    "30": "2",
                                    "31": "1",
                                    "32": "ALLOCATED",
                                    "33": "3",
                                    "34": "0",
                                    "35": "NOT ALLOCATED",
                                    "36": "6",
                                    "37": "1",
                                    "38": "CHANGED",
                                    "39": "7",
                                    "40": "0",
                                    "41": "NOT MIN_LOGGED",
                                    "42": "0",
                                    "43": "0",
                                    "44": "1",
                                    "45": "295",
                                    "46": "10",
                                    "47": "68",
                                    "48": "35",
                                    "49": "1738",
                                    "50": "6318",
                                    "51": "0",
                                    "52": "0",
                                    "53": "0000:0003d218"
                                },
                                {
                                    "0": "sysschobjs",
                                    "1": "PAGELATCH_EX",
                                    "2": "2",
                                    "3": "1",
                                    "4": "118",
                                    "5": "1",
                                    "6": "2",
                                    "7": "INDEX_PAGE",
                                    "8": "0x4",
                                    "9": "",
                                    "10": "0x0",
                                    "11": "",
                                    "12": "0000004a:000014b0:006f",
                                    "13": "0",
                                    "14": "34",
                                    "15": "2",
                                    "16": "562949955649536",
                                    "17": "562949955649536",
                                    "18": "0",
                                    "19": "0",
                                    "20": "-1683698132",
                                    "21": "0",
                                    "22": "1",
                                    "23": "1",
                                    "24": "0",
                                    "25": "1",
                                    "26": "1",
                                    "27": "0",
                                    "28": "0x68",
                                    "29": " MIXED_EXT | PFS_HAS_GHOST_RECORDS | PFS_IS_ALLOCATED | 0_PCT_FULL",
                                    "30": "2",
                                    "31": "1",
                                    "32": "ALLOCATED",
                                    "33": "3",
                                    "34": "0",
                                    "35": "NOT ALLOCATED",
                                    "36": "6",
                                    "37": "1",
                                    "38": "CHANGED",
                                    "39": "7",
                                    "40": "0",
                                    "41": "NOT MIN_LOGGED",
                                    "42": "0",
                                    "43": "0",
                                    "44": "1",
                                    "45": "295",
                                    "46": "10",
                                    "47": "68",
                                    "48": "35",
                                    "49": "1738",
                                    "50": "6318",
                                    "51": "0",
                                    "52": "0",
                                    "53": "0000:0003d218"
                                },
                                {
                                    "0": "sysschobjs",
                                    "1": "PAGELATCH_EX",
                                    "2": "2",
                                    "3": "1",
                                    "4": "118",
                                    "5": "1",
                                    "6": "2",
                                    "7": "INDEX_PAGE",
                                    "8": "0x4",
                                    "9": "",
                                    "10": "0x0",
                                    "11": "",
                                    "12": "0000004a:000014b0:006f",
                                    "13": "0",
                                    "14": "34",
                                    "15": "2",
                                    "16": "562949955649536",
                                    "17": "562949955649536",
                                    "18": "0",
                                    "19": "0",
                                    "20": "-1683698132",
                                    "21": "0",
                                    "22": "1",
                                    "23": "1",
                                    "24": "0",
                                    "25": "1",
                                    "26": "1",
                                    "27": "0",
                                    "28": "0x68",
                                    "29": " MIXED_EXT | PFS_HAS_GHOST_RECORDS | PFS_IS_ALLOCATED | 0_PCT_FULL",
                                    "30": "2",
                                    "31": "1",
                                    "32": "ALLOCATED",
                                    "33": "3",
                                    "34": "0",
                                    "35": "NOT ALLOCATED",
                                    "36": "6",
                                    "37": "1",
                                    "38": "CHANGED",
                                    "39": "7",
                                    "40": "0",
                                    "41": "NOT MIN_LOGGED",
                                    "42": "0",
                                    "43": "0",
                                    "44": "1",
                                    "45": "295",
                                    "46": "10",
                                    "47": "68",
                                    "48": "35",
                                    "49": "1738",
                                    "50": "6318",
                                    "51": "0",
                                    "52": "0",
                                    "53": "0000:0003d218"
                                },
                                {
                                    "0": "sysschobjs",
                                    "1": "PAGELATCH_EX",
                                    "2": "2",
                                    "3": "1",
                                    "4": "118",
                                    "5": "1",
                                    "6": "2",
                                    "7": "INDEX_PAGE",
                                    "8": "0x4",
                                    "9": "",
                                    "10": "0x0",
                                    "11": "",
                                    "12": "0000004a:000014b0:006f",
                                    "13": "0",
                                    "14": "34",
                                    "15": "2",
                                    "16": "562949955649536",
                                    "17": "562949955649536",
                                    "18": "0",
                                    "19": "0",
                                    "20": "-1683698132",
                                    "21": "0",
                                    "22": "1",
                                    "23": "1",
                                    "24": "0",
                                    "25": "1",
                                    "26": "1",
                                    "27": "0",
                                    "28": "0x68",
                                    "29": " MIXED_EXT | PFS_HAS_GHOST_RECORDS | PFS_IS_ALLOCATED | 0_PCT_FULL",
                                    "30": "2",
                                    "31": "1",
                                    "32": "ALLOCATED",
                                    "33": "3",
                                    "34": "0",
                                    "35": "NOT ALLOCATED",
                                    "36": "6",
                                    "37": "1",
                                    "38": "CHANGED",
                                    "39": "7",
                                    "40": "0",
                                    "41": "NOT MIN_LOGGED",
                                    "42": "0",
                                    "43": "0",
                                    "44": "1",
                                    "45": "295",
                                    "46": "10",
                                    "47": "68",
                                    "48": "35",
                                    "49": "1738",
                                    "50": "6318",
                                    "51": "0",
                                    "52": "0",
                                    "53": "0000:0003d218"
                                },
                                {
                                    "0": "sysschobjs",
                                    "1": "PAGELATCH_EX",
                                    "2": "2",
                                    "3": "1",
                                    "4": "118",
                                    "5": "1",
                                    "6": "2",
                                    "7": "INDEX_PAGE",
                                    "8": "0x4",
                                    "9": "",
                                    "10": "0x0",
                                    "11": "",
                                    "12": "0000004a:000014b0:006f",
                                    "13": "0",
                                    "14": "34",
                                    "15": "2",
                                    "16": "562949955649536",
                                    "17": "562949955649536",
                                    "18": "0",
                                    "19": "0",
                                    "20": "-1683698132",
                                    "21": "0",
                                    "22": "1",
                                    "23": "1",
                                    "24": "0",
                                    "25": "1",
                                    "26": "1",
                                    "27": "0",
                                    "28": "0x68",
                                    "29": " MIXED_EXT | PFS_HAS_GHOST_RECORDS | PFS_IS_ALLOCATED | 0_PCT_FULL",
                                    "30": "2",
                                    "31": "1",
                                    "32": "ALLOCATED",
                                    "33": "3",
                                    "34": "0",
                                    "35": "NOT ALLOCATED",
                                    "36": "6",
                                    "37": "1",
                                    "38": "CHANGED",
                                    "39": "7",
                                    "40": "0",
                                    "41": "NOT MIN_LOGGED",
                                    "42": "0",
                                    "43": "0",
                                    "44": "1",
                                    "45": "295",
                                    "46": "10",
                                    "47": "68",
                                    "48": "35",
                                    "49": "1738",
                                    "50": "6318",
                                    "51": "0",
                                    "52": "0",
                                    "53": "0000:0003d218"
                                },
                                {
                                    "0": "sysschobjs",
                                    "1": "PAGELATCH_EX",
                                    "2": "2",
                                    "3": "1",
                                    "4": "118",
                                    "5": "1",
                                    "6": "2",
                                    "7": "INDEX_PAGE",
                                    "8": "0x4",
                                    "9": "",
                                    "10": "0x0",
                                    "11": "",
                                    "12": "0000004a:000014b0:006f",
                                    "13": "0",
                                    "14": "34",
                                    "15": "2",
                                    "16": "562949955649536",
                                    "17": "562949955649536",
                                    "18": "0",
                                    "19": "0",
                                    "20": "-1683698132",
                                    "21": "0",
                                    "22": "1",
                                    "23": "1",
                                    "24": "0",
                                    "25": "1",
                                    "26": "1",
                                    "27": "0",
                                    "28": "0x68",
                                    "29": " MIXED_EXT | PFS_HAS_GHOST_RECORDS | PFS_IS_ALLOCATED | 0_PCT_FULL",
                                    "30": "2",
                                    "31": "1",
                                    "32": "ALLOCATED",
                                    "33": "3",
                                    "34": "0",
                                    "35": "NOT ALLOCATED",
                                    "36": "6",
                                    "37": "1",
                                    "38": "CHANGED",
                                    "39": "7",
                                    "40": "0",
                                    "41": "NOT MIN_LOGGED",
                                    "42": "0",
                                    "43": "0",
                                    "44": "1",
                                    "45": "295",
                                    "46": "10",
                                    "47": "68",
                                    "48": "35",
                                    "49": "1738",
                                    "50": "6318",
                                    "51": "0",
                                    "52": "0",
                                    "53": "0000:0003d218"
                                },
                                {
                                    "0": "sysschobjs",
                                    "1": "PAGELATCH_EX",
                                    "2": "2",
                                    "3": "1",
                                    "4": "118",
                                    "5": "1",
                                    "6": "2",
                                    "7": "INDEX_PAGE",
                                    "8": "0x4",
                                    "9": "",
                                    "10": "0x0",
                                    "11": "",
                                    "12": "0000004a:000014b0:006f",
                                    "13": "0",
                                    "14": "34",
                                    "15": "2",
                                    "16": "562949955649536",
                                    "17": "562949955649536",
                                    "18": "0",
                                    "19": "0",
                                    "20": "-1683698132",
                                    "21": "0",
                                    "22": "1",
                                    "23": "1",
                                    "24": "0",
                                    "25": "1",
                                    "26": "1",
                                    "27": "0",
                                    "28": "0x68",
                                    "29": " MIXED_EXT | PFS_HAS_GHOST_RECORDS | PFS_IS_ALLOCATED | 0_PCT_FULL",
                                    "30": "2",
                                    "31": "1",
                                    "32": "ALLOCATED",
                                    "33": "3",
                                    "34": "0",
                                    "35": "NOT ALLOCATED",
                                    "36": "6",
                                    "37": "1",
                                    "38": "CHANGED",
                                    "39": "7",
                                    "40": "0",
                                    "41": "NOT MIN_LOGGED",
                                    "42": "0",
                                    "43": "0",
                                    "44": "1",
                                    "45": "295",
                                    "46": "10",
                                    "47": "68",
                                    "48": "35",
                                    "49": "1738",
                                    "50": "6318",
                                    "51": "0",
                                    "52": "0",
                                    "53": "0000:0003d218"
                                },
                                {
                                    "0": "sysschobjs",
                                    "1": "PAGELATCH_EX",
                                    "2": "2",
                                    "3": "1",
                                    "4": "118",
                                    "5": "1",
                                    "6": "2",
                                    "7": "INDEX_PAGE",
                                    "8": "0x4",
                                    "9": "",
                                    "10": "0x0",
                                    "11": "",
                                    "12": "0000004a:000014b0:006f",
                                    "13": "0",
                                    "14": "34",
                                    "15": "2",
                                    "16": "562949955649536",
                                    "17": "562949955649536",
                                    "18": "0",
                                    "19": "0",
                                    "20": "-1683698132",
                                    "21": "0",
                                    "22": "1",
                                    "23": "1",
                                    "24": "0",
                                    "25": "1",
                                    "26": "1",
                                    "27": "0",
                                    "28": "0x68",
                                    "29": " MIXED_EXT | PFS_HAS_GHOST_RECORDS | PFS_IS_ALLOCATED | 0_PCT_FULL",
                                    "30": "2",
                                    "31": "1",
                                    "32": "ALLOCATED",
                                    "33": "3",
                                    "34": "0",
                                    "35": "NOT ALLOCATED",
                                    "36": "6",
                                    "37": "1",
                                    "38": "CHANGED",
                                    "39": "7",
                                    "40": "0",
                                    "41": "NOT MIN_LOGGED",
                                    "42": "0",
                                    "43": "0",
                                    "44": "1",
                                    "45": "295",
                                    "46": "10",
                                    "47": "68",
                                    "48": "35",
                                    "49": "1738",
                                    "50": "6318",
                                    "51": "0",
                                    "52": "0",
                                    "53": "0000:0003d218"
                                },
                                {
                                    "0": "sysschobjs",
                                    "1": "PAGELATCH_EX",
                                    "2": "2",
                                    "3": "1",
                                    "4": "118",
                                    "5": "1",
                                    "6": "2",
                                    "7": "INDEX_PAGE",
                                    "8": "0x4",
                                    "9": "",
                                    "10": "0x0",
                                    "11": "",
                                    "12": "0000004a:000014b0:006f",
                                    "13": "0",
                                    "14": "34",
                                    "15": "2",
                                    "16": "562949955649536",
                                    "17": "562949955649536",
                                    "18": "0",
                                    "19": "0",
                                    "20": "-1683698132",
                                    "21": "0",
                                    "22": "1",
                                    "23": "1",
                                    "24": "0",
                                    "25": "1",
                                    "26": "1",
                                    "27": "0",
                                    "28": "0x68",
                                    "29": " MIXED_EXT | PFS_HAS_GHOST_RECORDS | PFS_IS_ALLOCATED | 0_PCT_FULL",
                                    "30": "2",
                                    "31": "1",
                                    "32": "ALLOCATED",
                                    "33": "3",
                                    "34": "0",
                                    "35": "NOT ALLOCATED",
                                    "36": "6",
                                    "37": "1",
                                    "38": "CHANGED",
                                    "39": "7",
                                    "40": "0",
                                    "41": "NOT MIN_LOGGED",
                                    "42": "0",
                                    "43": "0",
                                    "44": "1",
                                    "45": "295",
                                    "46": "10",
                                    "47": "68",
                                    "48": "35",
                                    "49": "1738",
                                    "50": "6318",
                                    "51": "0",
                                    "52": "0",
                                    "53": "0000:0003d218"
                                },
                                {
                                    "0": "sysschobjs",
                                    "1": "PAGELATCH_EX",
                                    "2": "2",
                                    "3": "1",
                                    "4": "118",
                                    "5": "1",
                                    "6": "2",
                                    "7": "INDEX_PAGE",
                                    "8": "0x4",
                                    "9": "",
                                    "10": "0x0",
                                    "11": "",
                                    "12": "0000004a:000014b0:006f",
                                    "13": "0",
                                    "14": "34",
                                    "15": "2",
                                    "16": "562949955649536",
                                    "17": "562949955649536",
                                    "18": "0",
                                    "19": "0",
                                    "20": "-1683698132",
                                    "21": "0",
                                    "22": "1",
                                    "23": "1",
                                    "24": "0",
                                    "25": "1",
                                    "26": "1",
                                    "27": "0",
                                    "28": "0x68",
                                    "29": " MIXED_EXT | PFS_HAS_GHOST_RECORDS | PFS_IS_ALLOCATED | 0_PCT_FULL",
                                    "30": "2",
                                    "31": "1",
                                    "32": "ALLOCATED",
                                    "33": "3",
                                    "34": "0",
                                    "35": "NOT ALLOCATED",
                                    "36": "6",
                                    "37": "1",
                                    "38": "CHANGED",
                                    "39": "7",
                                    "40": "0",
                                    "41": "NOT MIN_LOGGED",
                                    "42": "0",
                                    "43": "0",
                                    "44": "1",
                                    "45": "295",
                                    "46": "10",
                                    "47": "68",
                                    "48": "35",
                                    "49": "1738",
                                    "50": "6318",
                                    "51": "0",
                                    "52": "0",
                                    "53": "0000:0003d218"
                                },
                                {
                                    "0": "sysschobjs",
                                    "1": "PAGELATCH_EX",
                                    "2": "2",
                                    "3": "1",
                                    "4": "118",
                                    "5": "1",
                                    "6": "2",
                                    "7": "INDEX_PAGE",
                                    "8": "0x4",
                                    "9": "",
                                    "10": "0x0",
                                    "11": "",
                                    "12": "0000004a:000014b0:006f",
                                    "13": "0",
                                    "14": "34",
                                    "15": "2",
                                    "16": "562949955649536",
                                    "17": "562949955649536",
                                    "18": "0",
                                    "19": "0",
                                    "20": "-1683698132",
                                    "21": "0",
                                    "22": "1",
                                    "23": "1",
                                    "24": "0",
                                    "25": "1",
                                    "26": "1",
                                    "27": "0",
                                    "28": "0x68",
                                    "29": " MIXED_EXT | PFS_HAS_GHOST_RECORDS | PFS_IS_ALLOCATED | 0_PCT_FULL",
                                    "30": "2",
                                    "31": "1",
                                    "32": "ALLOCATED",
                                    "33": "3",
                                    "34": "0",
                                    "35": "NOT ALLOCATED",
                                    "36": "6",
                                    "37": "1",
                                    "38": "CHANGED",
                                    "39": "7",
                                    "40": "0",
                                    "41": "NOT MIN_LOGGED",
                                    "42": "0",
                                    "43": "0",
                                    "44": "1",
                                    "45": "295",
                                    "46": "10",
                                    "47": "68",
                                    "48": "35",
                                    "49": "1738",
                                    "50": "6318",
                                    "51": "0",
                                    "52": "0",
                                    "53": "0000:0003d218"
                                },
                                {
                                    "0": "sysschobjs",
                                    "1": "PAGELATCH_EX",
                                    "2": "2",
                                    "3": "1",
                                    "4": "118",
                                    "5": "1",
                                    "6": "2",
                                    "7": "INDEX_PAGE",
                                    "8": "0x4",
                                    "9": "",
                                    "10": "0x0",
                                    "11": "",
                                    "12": "0000004a:000014b0:006f",
                                    "13": "0",
                                    "14": "34",
                                    "15": "2",
                                    "16": "562949955649536",
                                    "17": "562949955649536",
                                    "18": "0",
                                    "19": "0",
                                    "20": "-1683698132",
                                    "21": "0",
                                    "22": "1",
                                    "23": "1",
                                    "24": "0",
                                    "25": "1",
                                    "26": "1",
                                    "27": "0",
                                    "28": "0x68",
                                    "29": " MIXED_EXT | PFS_HAS_GHOST_RECORDS | PFS_IS_ALLOCATED | 0_PCT_FULL",
                                    "30": "2",
                                    "31": "1",
                                    "32": "ALLOCATED",
                                    "33": "3",
                                    "34": "0",
                                    "35": "NOT ALLOCATED",
                                    "36": "6",
                                    "37": "1",
                                    "38": "CHANGED",
                                    "39": "7",
                                    "40": "0",
                                    "41": "NOT MIN_LOGGED",
                                    "42": "0",
                                    "43": "0",
                                    "44": "1",
                                    "45": "295",
                                    "46": "10",
                                    "47": "68",
                                    "48": "35",
                                    "49": "1738",
                                    "50": "6318",
                                    "51": "0",
                                    "52": "0",
                                    "53": "0000:0003d218"
                                },
                                {
                                    "0": "sysschobjs",
                                    "1": "PAGELATCH_EX",
                                    "2": "2",
                                    "3": "1",
                                    "4": "118",
                                    "5": "1",
                                    "6": "2",
                                    "7": "INDEX_PAGE",
                                    "8": "0x4",
                                    "9": "",
                                    "10": "0x0",
                                    "11": "",
                                    "12": "0000004a:000014b0:006f",
                                    "13": "0",
                                    "14": "34",
                                    "15": "2",
                                    "16": "562949955649536",
                                    "17": "562949955649536",
                                    "18": "0",
                                    "19": "0",
                                    "20": "-1683698132",
                                    "21": "0",
                                    "22": "1",
                                    "23": "1",
                                    "24": "0",
                                    "25": "1",
                                    "26": "1",
                                    "27": "0",
                                    "28": "0x68",
                                    "29": " MIXED_EXT | PFS_HAS_GHOST_RECORDS | PFS_IS_ALLOCATED | 0_PCT_FULL",
                                    "30": "2",
                                    "31": "1",
                                    "32": "ALLOCATED",
                                    "33": "3",
                                    "34": "0",
                                    "35": "NOT ALLOCATED",
                                    "36": "6",
                                    "37": "1",
                                    "38": "CHANGED",
                                    "39": "7",
                                    "40": "0",
                                    "41": "NOT MIN_LOGGED",
                                    "42": "0",
                                    "43": "0",
                                    "44": "1",
                                    "45": "295",
                                    "46": "10",
                                    "47": "68",
                                    "48": "35",
                                    "49": "1738",
                                    "50": "6318",
                                    "51": "0",
                                    "52": "0",
                                    "53": "0000:0003d218"
                                },
                                {
                                    "0": "sysschobjs",
                                    "1": "PAGELATCH_EX",
                                    "2": "2",
                                    "3": "1",
                                    "4": "118",
                                    "5": "1",
                                    "6": "2",
                                    "7": "INDEX_PAGE",
                                    "8": "0x4",
                                    "9": "",
                                    "10": "0x0",
                                    "11": "",
                                    "12": "0000004a:000014b0:006f",
                                    "13": "0",
                                    "14": "34",
                                    "15": "2",
                                    "16": "562949955649536",
                                    "17": "562949955649536",
                                    "18": "0",
                                    "19": "0",
                                    "20": "-1683698132",
                                    "21": "0",
                                    "22": "1",
                                    "23": "1",
                                    "24": "0",
                                    "25": "1",
                                    "26": "1",
                                    "27": "0",
                                    "28": "0x68",
                                    "29": " MIXED_EXT | PFS_HAS_GHOST_RECORDS | PFS_IS_ALLOCATED | 0_PCT_FULL",
                                    "30": "2",
                                    "31": "1",
                                    "32": "ALLOCATED",
                                    "33": "3",
                                    "34": "0",
                                    "35": "NOT ALLOCATED",
                                    "36": "6",
                                    "37": "1",
                                    "38": "CHANGED",
                                    "39": "7",
                                    "40": "0",
                                    "41": "NOT MIN_LOGGED",
                                    "42": "0",
                                    "43": "0",
                                    "44": "1",
                                    "45": "295",
                                    "46": "10",
                                    "47": "68",
                                    "48": "35",
                                    "49": "1738",
                                    "50": "6318",
                                    "51": "0",
                                    "52": "0",
                                    "53": "0000:0003d218"
                                },
                                {
                                    "0": "sysschobjs",
                                    "1": "PAGELATCH_EX",
                                    "2": "2",
                                    "3": "1",
                                    "4": "118",
                                    "5": "1",
                                    "6": "2",
                                    "7": "INDEX_PAGE",
                                    "8": "0x4",
                                    "9": "",
                                    "10": "0x0",
                                    "11": "",
                                    "12": "0000004a:000014b0:006f",
                                    "13": "0",
                                    "14": "34",
                                    "15": "2",
                                    "16": "562949955649536",
                                    "17": "562949955649536",
                                    "18": "0",
                                    "19": "0",
                                    "20": "-1683698132",
                                    "21": "0",
                                    "22": "1",
                                    "23": "1",
                                    "24": "0",
                                    "25": "1",
                                    "26": "1",
                                    "27": "0",
                                    "28": "0x68",
                                    "29": " MIXED_EXT | PFS_HAS_GHOST_RECORDS | PFS_IS_ALLOCATED | 0_PCT_FULL",
                                    "30": "2",
                                    "31": "1",
                                    "32": "ALLOCATED",
                                    "33": "3",
                                    "34": "0",
                                    "35": "NOT ALLOCATED",
                                    "36": "6",
                                    "37": "1",
                                    "38": "CHANGED",
                                    "39": "7",
                                    "40": "0",
                                    "41": "NOT MIN_LOGGED",
                                    "42": "0",
                                    "43": "0",
                                    "44": "1",
                                    "45": "295",
                                    "46": "10",
                                    "47": "68",
                                    "48": "35",
                                    "49": "1738",
                                    "50": "6318",
                                    "51": "0",
                                    "52": "0",
                                    "53": "0000:0003d218"
                                },
                                {
                                    "0": "sysschobjs",
                                    "1": "NULL",
                                    "2": "2",
                                    "3": "1",
                                    "4": "118",
                                    "5": "1",
                                    "6": "2",
                                    "7": "INDEX_PAGE",
                                    "8": "0x4",
                                    "9": "",
                                    "10": "0x0",
                                    "11": "",
                                    "12": "0000004a:000014b0:006f",
                                    "13": "0",
                                    "14": "34",
                                    "15": "2",
                                    "16": "562949955649536",
                                    "17": "562949955649536",
                                    "18": "0",
                                    "19": "0",
                                    "20": "-1683698132",
                                    "21": "0",
                                    "22": "1",
                                    "23": "1",
                                    "24": "0",
                                    "25": "1",
                                    "26": "1",
                                    "27": "0",
                                    "28": "0x68",
                                    "29": " MIXED_EXT | PFS_HAS_GHOST_RECORDS | PFS_IS_ALLOCATED | 0_PCT_FULL",
                                    "30": "2",
                                    "31": "1",
                                    "32": "ALLOCATED",
                                    "33": "3",
                                    "34": "0",
                                    "35": "NOT ALLOCATED",
                                    "36": "6",
                                    "37": "1",
                                    "38": "CHANGED",
                                    "39": "7",
                                    "40": "0",
                                    "41": "NOT MIN_LOGGED",
                                    "42": "0",
                                    "43": "0",
                                    "44": "1",
                                    "45": "295",
                                    "46": "10",
                                    "47": "68",
                                    "48": "35",
                                    "49": "1738",
                                    "50": "6318",
                                    "51": "0",
                                    "52": "0",
                                    "53": "0000:0003d218"
                                },
                                {
                                    "0": "sysschobjs",
                                    "1": "PAGELATCH_EX",
                                    "2": "2",
                                    "3": "1",
                                    "4": "118",
                                    "5": "1",
                                    "6": "2",
                                    "7": "INDEX_PAGE",
                                    "8": "0x4",
                                    "9": "",
                                    "10": "0x0",
                                    "11": "",
                                    "12": "0000004a:000014b0:006f",
                                    "13": "0",
                                    "14": "34",
                                    "15": "2",
                                    "16": "562949955649536",
                                    "17": "562949955649536",
                                    "18": "0",
                                    "19": "0",
                                    "20": "-1683698132",
                                    "21": "0",
                                    "22": "1",
                                    "23": "1",
                                    "24": "0",
                                    "25": "1",
                                    "26": "1",
                                    "27": "0",
                                    "28": "0x68",
                                    "29": " MIXED_EXT | PFS_HAS_GHOST_RECORDS | PFS_IS_ALLOCATED | 0_PCT_FULL",
                                    "30": "2",
                                    "31": "1",
                                    "32": "ALLOCATED",
                                    "33": "3",
                                    "34": "0",
                                    "35": "NOT ALLOCATED",
                                    "36": "6",
                                    "37": "1",
                                    "38": "CHANGED",
                                    "39": "7",
                                    "40": "0",
                                    "41": "NOT MIN_LOGGED",
                                    "42": "0",
                                    "43": "0",
                                    "44": "1",
                                    "45": "295",
                                    "46": "10",
                                    "47": "68",
                                    "48": "35",
                                    "49": "1738",
                                    "50": "6318",
                                    "51": "0",
                                    "52": "0",
                                    "53": "0000:0003d218"
                                },
                                {
                                    "0": "sysschobjs",
                                    "1": "PAGELATCH_EX",
                                    "2": "2",
                                    "3": "1",
                                    "4": "118",
                                    "5": "1",
                                    "6": "2",
                                    "7": "INDEX_PAGE",
                                    "8": "0x4",
                                    "9": "",
                                    "10": "0x0",
                                    "11": "",
                                    "12": "0000004a:000014b0:006f",
                                    "13": "0",
                                    "14": "34",
                                    "15": "2",
                                    "16": "562949955649536",
                                    "17": "562949955649536",
                                    "18": "0",
                                    "19": "0",
                                    "20": "-1683698132",
                                    "21": "0",
                                    "22": "1",
                                    "23": "1",
                                    "24": "0",
                                    "25": "1",
                                    "26": "1",
                                    "27": "0",
                                    "28": "0x68",
                                    "29": " MIXED_EXT | PFS_HAS_GHOST_RECORDS | PFS_IS_ALLOCATED | 0_PCT_FULL",
                                    "30": "2",
                                    "31": "1",
                                    "32": "ALLOCATED",
                                    "33": "3",
                                    "34": "0",
                                    "35": "NOT ALLOCATED",
                                    "36": "6",
                                    "37": "1",
                                    "38": "CHANGED",
                                    "39": "7",
                                    "40": "0",
                                    "41": "NOT MIN_LOGGED",
                                    "42": "0",
                                    "43": "0",
                                    "44": "1",
                                    "45": "295",
                                    "46": "10",
                                    "47": "68",
                                    "48": "35",
                                    "49": "1738",
                                    "50": "6318",
                                    "51": "0",
                                    "52": "0",
                                    "53": "0000:0003d218"
                                },
                                {
                                    "0": "sysschobjs",
                                    "1": "PAGELATCH_EX",
                                    "2": "2",
                                    "3": "1",
                                    "4": "118",
                                    "5": "1",
                                    "6": "2",
                                    "7": "INDEX_PAGE",
                                    "8": "0x4",
                                    "9": "",
                                    "10": "0x0",
                                    "11": "",
                                    "12": "0000004a:000014b0:006f",
                                    "13": "0",
                                    "14": "34",
                                    "15": "2",
                                    "16": "562949955649536",
                                    "17": "562949955649536",
                                    "18": "0",
                                    "19": "0",
                                    "20": "-1683698132",
                                    "21": "0",
                                    "22": "1",
                                    "23": "1",
                                    "24": "0",
                                    "25": "1",
                                    "26": "1",
                                    "27": "0",
                                    "28": "0x68",
                                    "29": " MIXED_EXT | PFS_HAS_GHOST_RECORDS | PFS_IS_ALLOCATED | 0_PCT_FULL",
                                    "30": "2",
                                    "31": "1",
                                    "32": "ALLOCATED",
                                    "33": "3",
                                    "34": "0",
                                    "35": "NOT ALLOCATED",
                                    "36": "6",
                                    "37": "1",
                                    "38": "CHANGED",
                                    "39": "7",
                                    "40": "0",
                                    "41": "NOT MIN_LOGGED",
                                    "42": "0",
                                    "43": "0",
                                    "44": "1",
                                    "45": "295",
                                    "46": "10",
                                    "47": "68",
                                    "48": "35",
                                    "49": "1738",
                                    "50": "6318",
                                    "51": "0",
                                    "52": "0",
                                    "53": "0000:0003d218"
                                },
                                {
                                    "0": "sysschobjs",
                                    "1": "PAGELATCH_EX",
                                    "2": "2",
                                    "3": "1",
                                    "4": "118",
                                    "5": "1",
                                    "6": "2",
                                    "7": "INDEX_PAGE",
                                    "8": "0x4",
                                    "9": "",
                                    "10": "0x0",
                                    "11": "",
                                    "12": "0000004a:000014b0:006f",
                                    "13": "0",
                                    "14": "34",
                                    "15": "2",
                                    "16": "562949955649536",
                                    "17": "562949955649536",
                                    "18": "0",
                                    "19": "0",
                                    "20": "-1683698132",
                                    "21": "0",
                                    "22": "1",
                                    "23": "1",
                                    "24": "0",
                                    "25": "1",
                                    "26": "1",
                                    "27": "0",
                                    "28": "0x68",
                                    "29": " MIXED_EXT | PFS_HAS_GHOST_RECORDS | PFS_IS_ALLOCATED | 0_PCT_FULL",
                                    "30": "2",
                                    "31": "1",
                                    "32": "ALLOCATED",
                                    "33": "3",
                                    "34": "0",
                                    "35": "NOT ALLOCATED",
                                    "36": "6",
                                    "37": "1",
                                    "38": "CHANGED",
                                    "39": "7",
                                    "40": "0",
                                    "41": "NOT MIN_LOGGED",
                                    "42": "0",
                                    "43": "0",
                                    "44": "1",
                                    "45": "295",
                                    "46": "10",
                                    "47": "68",
                                    "48": "35",
                                    "49": "1738",
                                    "50": "6318",
                                    "51": "0",
                                    "52": "0",
                                    "53": "0000:0003d218"
                                },
                                {
                                    "0": "sysschobjs",
                                    "1": "PAGELATCH_EX",
                                    "2": "2",
                                    "3": "1",
                                    "4": "118",
                                    "5": "1",
                                    "6": "2",
                                    "7": "INDEX_PAGE",
                                    "8": "0x4",
                                    "9": "",
                                    "10": "0x0",
                                    "11": "",
                                    "12": "0000004a:000014b0:006f",
                                    "13": "0",
                                    "14": "34",
                                    "15": "2",
                                    "16": "562949955649536",
                                    "17": "562949955649536",
                                    "18": "0",
                                    "19": "0",
                                    "20": "-1683698132",
                                    "21": "0",
                                    "22": "1",
                                    "23": "1",
                                    "24": "0",
                                    "25": "1",
                                    "26": "1",
                                    "27": "0",
                                    "28": "0x68",
                                    "29": " MIXED_EXT | PFS_HAS_GHOST_RECORDS | PFS_IS_ALLOCATED | 0_PCT_FULL",
                                    "30": "2",
                                    "31": "1",
                                    "32": "ALLOCATED",
                                    "33": "3",
                                    "34": "0",
                                    "35": "NOT ALLOCATED",
                                    "36": "6",
                                    "37": "1",
                                    "38": "CHANGED",
                                    "39": "7",
                                    "40": "0",
                                    "41": "NOT MIN_LOGGED",
                                    "42": "0",
                                    "43": "0",
                                    "44": "1",
                                    "45": "295",
                                    "46": "10",
                                    "47": "68",
                                    "48": "35",
                                    "49": "1738",
                                    "50": "6318",
                                    "51": "0",
                                    "52": "0",
                                    "53": "0000:0003d218"
                                },
                                {
                                    "0": "sysschobjs",
                                    "1": "PAGELATCH_EX",
                                    "2": "2",
                                    "3": "1",
                                    "4": "118",
                                    "5": "1",
                                    "6": "2",
                                    "7": "INDEX_PAGE",
                                    "8": "0x4",
                                    "9": "",
                                    "10": "0x0",
                                    "11": "",
                                    "12": "0000004a:000014b0:006f",
                                    "13": "0",
                                    "14": "34",
                                    "15": "2",
                                    "16": "562949955649536",
                                    "17": "562949955649536",
                                    "18": "0",
                                    "19": "0",
                                    "20": "-1683698132",
                                    "21": "0",
                                    "22": "1",
                                    "23": "1",
                                    "24": "0",
                                    "25": "1",
                                    "26": "1",
                                    "27": "0",
                                    "28": "0x68",
                                    "29": " MIXED_EXT | PFS_HAS_GHOST_RECORDS | PFS_IS_ALLOCATED | 0_PCT_FULL",
                                    "30": "2",
                                    "31": "1",
                                    "32": "ALLOCATED",
                                    "33": "3",
                                    "34": "0",
                                    "35": "NOT ALLOCATED",
                                    "36": "6",
                                    "37": "1",
                                    "38": "CHANGED",
                                    "39": "7",
                                    "40": "0",
                                    "41": "NOT MIN_LOGGED",
                                    "42": "0",
                                    "43": "0",
                                    "44": "1",
                                    "45": "295",
                                    "46": "10",
                                    "47": "68",
                                    "48": "35",
                                    "49": "1738",
                                    "50": "6318",
                                    "51": "0",
                                    "52": "0",
                                    "53": "0000:0003d218"
                                },
                                {
                                    "0": "sysschobjs",
                                    "1": "PAGELATCH_EX",
                                    "2": "2",
                                    "3": "1",
                                    "4": "302",
                                    "5": "1",
                                    "6": "1",
                                    "7": "DATA_PAGE",
                                    "8": "0x0",
                                    "9": "",
                                    "10": "0x0",
                                    "11": "",
                                    "12": "0000004a:000014b0:007c",
                                    "13": "0",
                                    "14": "34",
                                    "15": "1",
                                    "16": "281474978938880",
                                    "17": "281474978938880",
                                    "18": "0",
                                    "19": "0",
                                    "20": "0",
                                    "21": "0",
                                    "22": "0",
                                    "23": "0",
                                    "24": "0",
                                    "25": "1",
                                    "26": "1",
                                    "27": "0",
                                    "28": "0x40",
                                    "29": " PFS_IS_ALLOCATED | 0_PCT_FULL",
                                    "30": "2",
                                    "31": "1",
                                    "32": "ALLOCATED",
                                    "33": "3",
                                    "34": "0",
                                    "35": "NOT ALLOCATED",
                                    "36": "6",
                                    "37": "1",
                                    "38": "CHANGED",
                                    "39": "7",
                                    "40": "0",
                                    "41": "NOT MIN_LOGGED",
                                    "42": "1",
                                    "43": "116",
                                    "44": "1",
                                    "45": "300",
                                    "46": "48",
                                    "47": "16",
                                    "48": "0",
                                    "49": "4500",
                                    "50": "3882",
                                    "51": "0",
                                    "52": "0",
                                    "53": "0000:00000000"
                                },
                                {
                                    "0": "sysschobjs",
                                    "1": "PAGELATCH_EX",
                                    "2": "2",
                                    "3": "1",
                                    "4": "302",
                                    "5": "1",
                                    "6": "1",
                                    "7": "DATA_PAGE",
                                    "8": "0x0",
                                    "9": "",
                                    "10": "0x0",
                                    "11": "",
                                    "12": "0000004a:000014b0:007c",
                                    "13": "0",
                                    "14": "34",
                                    "15": "1",
                                    "16": "281474978938880",
                                    "17": "281474978938880",
                                    "18": "0",
                                    "19": "0",
                                    "20": "0",
                                    "21": "0",
                                    "22": "0",
                                    "23": "0",
                                    "24": "0",
                                    "25": "1",
                                    "26": "1",
                                    "27": "0",
                                    "28": "0x40",
                                    "29": " PFS_IS_ALLOCATED | 0_PCT_FULL",
                                    "30": "2",
                                    "31": "1",
                                    "32": "ALLOCATED",
                                    "33": "3",
                                    "34": "0",
                                    "35": "NOT ALLOCATED",
                                    "36": "6",
                                    "37": "1",
                                    "38": "CHANGED",
                                    "39": "7",
                                    "40": "0",
                                    "41": "NOT MIN_LOGGED",
                                    "42": "1",
                                    "43": "116",
                                    "44": "1",
                                    "45": "300",
                                    "46": "48",
                                    "47": "16",
                                    "48": "0",
                                    "49": "4500",
                                    "50": "3882",
                                    "51": "0",
                                    "52": "0",
                                    "53": "0000:00000000"
                                },
                                {
                                    "0": "sysschobjs",
                                    "1": "PAGELATCH_EX",
                                    "2": "2",
                                    "3": "1",
                                    "4": "302",
                                    "5": "1",
                                    "6": "1",
                                    "7": "DATA_PAGE",
                                    "8": "0x0",
                                    "9": "",
                                    "10": "0x0",
                                    "11": "",
                                    "12": "0000004a:000014b0:007c",
                                    "13": "0",
                                    "14": "34",
                                    "15": "1",
                                    "16": "281474978938880",
                                    "17": "281474978938880",
                                    "18": "0",
                                    "19": "0",
                                    "20": "0",
                                    "21": "0",
                                    "22": "0",
                                    "23": "0",
                                    "24": "0",
                                    "25": "1",
                                    "26": "1",
                                    "27": "0",
                                    "28": "0x40",
                                    "29": " PFS_IS_ALLOCATED | 0_PCT_FULL",
                                    "30": "2",
                                    "31": "1",
                                    "32": "ALLOCATED",
                                    "33": "3",
                                    "34": "0",
                                    "35": "NOT ALLOCATED",
                                    "36": "6",
                                    "37": "1",
                                    "38": "CHANGED",
                                    "39": "7",
                                    "40": "0",
                                    "41": "NOT MIN_LOGGED",
                                    "42": "1",
                                    "43": "116",
                                    "44": "1",
                                    "45": "300",
                                    "46": "48",
                                    "47": "16",
                                    "48": "0",
                                    "49": "4500",
                                    "50": "3882",
                                    "51": "0",
                                    "52": "0",
                                    "53": "0000:00000000"
                                },
                                {
                                    "0": "sysschobjs",
                                    "1": "PAGELATCH_EX",
                                    "2": "2",
                                    "3": "1",
                                    "4": "302",
                                    "5": "1",
                                    "6": "1",
                                    "7": "DATA_PAGE",
                                    "8": "0x0",
                                    "9": "",
                                    "10": "0x0",
                                    "11": "",
                                    "12": "0000004a:000014b0:007c",
                                    "13": "0",
                                    "14": "34",
                                    "15": "1",
                                    "16": "281474978938880",
                                    "17": "281474978938880",
                                    "18": "0",
                                    "19": "0",
                                    "20": "0",
                                    "21": "0",
                                    "22": "0",
                                    "23": "0",
                                    "24": "0",
                                    "25": "1",
                                    "26": "1",
                                    "27": "0",
                                    "28": "0x40",
                                    "29": " PFS_IS_ALLOCATED | 0_PCT_FULL",
                                    "30": "2",
                                    "31": "1",
                                    "32": "ALLOCATED",
                                    "33": "3",
                                    "34": "0",
                                    "35": "NOT ALLOCATED",
                                    "36": "6",
                                    "37": "1",
                                    "38": "CHANGED",
                                    "39": "7",
                                    "40": "0",
                                    "41": "NOT MIN_LOGGED",
                                    "42": "1",
                                    "43": "116",
                                    "44": "1",
                                    "45": "300",
                                    "46": "48",
                                    "47": "16",
                                    "48": "0",
                                    "49": "4500",
                                    "50": "3882",
                                    "51": "0",
                                    "52": "0",
                                    "53": "0000:00000000"
                                },
                                {
                                    "0": "sysschobjs",
                                    "1": "PAGELATCH_EX",
                                    "2": "2",
                                    "3": "1",
                                    "4": "302",
                                    "5": "1",
                                    "6": "1",
                                    "7": "DATA_PAGE",
                                    "8": "0x0",
                                    "9": "",
                                    "10": "0x0",
                                    "11": "",
                                    "12": "0000004a:000014b0:007c",
                                    "13": "0",
                                    "14": "34",
                                    "15": "1",
                                    "16": "281474978938880",
                                    "17": "281474978938880",
                                    "18": "0",
                                    "19": "0",
                                    "20": "0",
                                    "21": "0",
                                    "22": "0",
                                    "23": "0",
                                    "24": "0",
                                    "25": "1",
                                    "26": "1",
                                    "27": "0",
                                    "28": "0x40",
                                    "29": " PFS_IS_ALLOCATED | 0_PCT_FULL",
                                    "30": "2",
                                    "31": "1",
                                    "32": "ALLOCATED",
                                    "33": "3",
                                    "34": "0",
                                    "35": "NOT ALLOCATED",
                                    "36": "6",
                                    "37": "1",
                                    "38": "CHANGED",
                                    "39": "7",
                                    "40": "0",
                                    "41": "NOT MIN_LOGGED",
                                    "42": "1",
                                    "43": "116",
                                    "44": "1",
                                    "45": "300",
                                    "46": "48",
                                    "47": "16",
                                    "48": "0",
                                    "49": "4500",
                                    "50": "3882",
                                    "51": "0",
                                    "52": "0",
                                    "53": "0000:00000000"
                                },
                                {
                                    "0": "sysschobjs",
                                    "1": "PAGELATCH_EX",
                                    "2": "2",
                                    "3": "1",
                                    "4": "302",
                                    "5": "1",
                                    "6": "1",
                                    "7": "DATA_PAGE",
                                    "8": "0x0",
                                    "9": "",
                                    "10": "0x0",
                                    "11": "",
                                    "12": "0000004a:000014b0:007c",
                                    "13": "0",
                                    "14": "34",
                                    "15": "1",
                                    "16": "281474978938880",
                                    "17": "281474978938880",
                                    "18": "0",
                                    "19": "0",
                                    "20": "0",
                                    "21": "0",
                                    "22": "0",
                                    "23": "0",
                                    "24": "0",
                                    "25": "1",
                                    "26": "1",
                                    "27": "0",
                                    "28": "0x40",
                                    "29": " PFS_IS_ALLOCATED | 0_PCT_FULL",
                                    "30": "2",
                                    "31": "1",
                                    "32": "ALLOCATED",
                                    "33": "3",
                                    "34": "0",
                                    "35": "NOT ALLOCATED",
                                    "36": "6",
                                    "37": "1",
                                    "38": "CHANGED",
                                    "39": "7",
                                    "40": "0",
                                    "41": "NOT MIN_LOGGED",
                                    "42": "1",
                                    "43": "116",
                                    "44": "1",
                                    "45": "300",
                                    "46": "48",
                                    "47": "16",
                                    "48": "0",
                                    "49": "4500",
                                    "50": "3882",
                                    "51": "0",
                                    "52": "0",
                                    "53": "0000:00000000"
                                },
                                {
                                    "0": "sysschobjs",
                                    "1": "PAGELATCH_EX",
                                    "2": "2",
                                    "3": "1",
                                    "4": "302",
                                    "5": "1",
                                    "6": "1",
                                    "7": "DATA_PAGE",
                                    "8": "0x0",
                                    "9": "",
                                    "10": "0x0",
                                    "11": "",
                                    "12": "0000004a:000014b0:007c",
                                    "13": "0",
                                    "14": "34",
                                    "15": "1",
                                    "16": "281474978938880",
                                    "17": "281474978938880",
                                    "18": "0",
                                    "19": "0",
                                    "20": "0",
                                    "21": "0",
                                    "22": "0",
                                    "23": "0",
                                    "24": "0",
                                    "25": "1",
                                    "26": "1",
                                    "27": "0",
                                    "28": "0x40",
                                    "29": " PFS_IS_ALLOCATED | 0_PCT_FULL",
                                    "30": "2",
                                    "31": "1",
                                    "32": "ALLOCATED",
                                    "33": "3",
                                    "34": "0",
                                    "35": "NOT ALLOCATED",
                                    "36": "6",
                                    "37": "1",
                                    "38": "CHANGED",
                                    "39": "7",
                                    "40": "0",
                                    "41": "NOT MIN_LOGGED",
                                    "42": "1",
                                    "43": "116",
                                    "44": "1",
                                    "45": "300",
                                    "46": "48",
                                    "47": "16",
                                    "48": "0",
                                    "49": "4500",
                                    "50": "3882",
                                    "51": "0",
                                    "52": "0",
                                    "53": "0000:00000000"
                                },
                                {
                                    "0": "sysschobjs",
                                    "1": "NULL",
                                    "2": "2",
                                    "3": "1",
                                    "4": "302",
                                    "5": "1",
                                    "6": "1",
                                    "7": "DATA_PAGE",
                                    "8": "0x0",
                                    "9": "",
                                    "10": "0x0",
                                    "11": "",
                                    "12": "0000004a:000014b0:007c",
                                    "13": "0",
                                    "14": "34",
                                    "15": "1",
                                    "16": "281474978938880",
                                    "17": "281474978938880",
                                    "18": "0",
                                    "19": "0",
                                    "20": "0",
                                    "21": "0",
                                    "22": "0",
                                    "23": "0",
                                    "24": "0",
                                    "25": "1",
                                    "26": "1",
                                    "27": "0",
                                    "28": "0x40",
                                    "29": " PFS_IS_ALLOCATED | 0_PCT_FULL",
                                    "30": "2",
                                    "31": "1",
                                    "32": "ALLOCATED",
                                    "33": "3",
                                    "34": "0",
                                    "35": "NOT ALLOCATED",
                                    "36": "6",
                                    "37": "1",
                                    "38": "CHANGED",
                                    "39": "7",
                                    "40": "0",
                                    "41": "NOT MIN_LOGGED",
                                    "42": "1",
                                    "43": "116",
                                    "44": "1",
                                    "45": "300",
                                    "46": "48",
                                    "47": "16",
                                    "48": "0",
                                    "49": "4500",
                                    "50": "3882",
                                    "51": "0",
                                    "52": "0",
                                    "53": "0000:00000000"
                                },
                                {
                                    "0": "sysschobjs",
                                    "1": "PAGELATCH_EX",
                                    "2": "2",
                                    "3": "1",
                                    "4": "302",
                                    "5": "1",
                                    "6": "1",
                                    "7": "DATA_PAGE",
                                    "8": "0x0",
                                    "9": "",
                                    "10": "0x0",
                                    "11": "",
                                    "12": "0000004a:000014b0:007c",
                                    "13": "0",
                                    "14": "34",
                                    "15": "1",
                                    "16": "281474978938880",
                                    "17": "281474978938880",
                                    "18": "0",
                                    "19": "0",
                                    "20": "0",
                                    "21": "0",
                                    "22": "0",
                                    "23": "0",
                                    "24": "0",
                                    "25": "1",
                                    "26": "1",
                                    "27": "0",
                                    "28": "0x40",
                                    "29": " PFS_IS_ALLOCATED | 0_PCT_FULL",
                                    "30": "2",
                                    "31": "1",
                                    "32": "ALLOCATED",
                                    "33": "3",
                                    "34": "0",
                                    "35": "NOT ALLOCATED",
                                    "36": "6",
                                    "37": "1",
                                    "38": "CHANGED",
                                    "39": "7",
                                    "40": "0",
                                    "41": "NOT MIN_LOGGED",
                                    "42": "1",
                                    "43": "116",
                                    "44": "1",
                                    "45": "300",
                                    "46": "48",
                                    "47": "16",
                                    "48": "0",
                                    "49": "4500",
                                    "50": "3882",
                                    "51": "0",
                                    "52": "0",
                                    "53": "0000:00000000"
                                }
                            ]
                        },
                        "text/html": "<table><tr><th>object_name</th><th>wait_type</th><th>database_id</th><th>file_id</th><th>page_id</th><th>page_header_version</th><th>page_type</th><th>page_type_desc</th><th>page_type_flag_bits</th><th>page_type_flag_bits_desc</th><th>page_flag_bits</th><th>page_flag_bits_desc</th><th>page_lsn</th><th>page_level</th><th>object_id</th><th>index_id</th><th>partition_id</th><th>alloc_unit_id</th><th>is_encrypted</th><th>has_checksum</th><th>checksum</th><th>is_iam_page</th><th>is_mixed_extent</th><th>has_ghost_records</th><th>has_version_records</th><th>pfs_page_id</th><th>pfs_is_allocated</th><th>pfs_alloc_percent</th><th>pfs_status</th><th>pfs_status_desc</th><th>gam_page_id</th><th>gam_status</th><th>gam_status_desc</th><th>sgam_page_id</th><th>sgam_status</th><th>sgam_status_desc</th><th>diff_map_page_id</th><th>diff_status</th><th>diff_status_desc</th><th>ml_map_page_id</th><th>ml_status</th><th>ml_status_desc</th><th>prev_page_file_id</th><th>prev_page_page_id</th><th>next_page_file_id</th><th>next_page_page_id</th><th>fixed_length</th><th>slot_count</th><th>ghost_rec_count</th><th>free_bytes</th><th>free_bytes_offset</th><th>reserved_bytes</th><th>reserved_bytes_by_xdes_id</th><th>xdes_id</th></tr><tr><td>sysschobjs</td><td>PAGELATCH_EX</td><td>2</td><td>1</td><td>118</td><td>1</td><td>2</td><td>INDEX_PAGE</td><td>0x4</td><td></td><td>0x0</td><td></td><td>0000004a:000014b0:006f</td><td>0</td><td>34</td><td>2</td><td>562949955649536</td><td>562949955649536</td><td>0</td><td>0</td><td>-1683698132</td><td>0</td><td>1</td><td>1</td><td>0</td><td>1</td><td>1</td><td>0</td><td>0x68</td><td> MIXED_EXT | PFS_HAS_GHOST_RECORDS | PFS_IS_ALLOCATED | 0_PCT_FULL</td><td>2</td><td>1</td><td>ALLOCATED</td><td>3</td><td>0</td><td>NOT ALLOCATED</td><td>6</td><td>1</td><td>CHANGED</td><td>7</td><td>0</td><td>NOT MIN_LOGGED</td><td>0</td><td>0</td><td>1</td><td>295</td><td>10</td><td>68</td><td>35</td><td>1738</td><td>6318</td><td>0</td><td>0</td><td>0000:0003d218</td></tr><tr><td>sysschobjs</td><td>PAGELATCH_EX</td><td>2</td><td>1</td><td>118</td><td>1</td><td>2</td><td>INDEX_PAGE</td><td>0x4</td><td></td><td>0x0</td><td></td><td>0000004a:000014b0:006f</td><td>0</td><td>34</td><td>2</td><td>562949955649536</td><td>562949955649536</td><td>0</td><td>0</td><td>-1683698132</td><td>0</td><td>1</td><td>1</td><td>0</td><td>1</td><td>1</td><td>0</td><td>0x68</td><td> MIXED_EXT | PFS_HAS_GHOST_RECORDS | PFS_IS_ALLOCATED | 0_PCT_FULL</td><td>2</td><td>1</td><td>ALLOCATED</td><td>3</td><td>0</td><td>NOT ALLOCATED</td><td>6</td><td>1</td><td>CHANGED</td><td>7</td><td>0</td><td>NOT MIN_LOGGED</td><td>0</td><td>0</td><td>1</td><td>295</td><td>10</td><td>68</td><td>35</td><td>1738</td><td>6318</td><td>0</td><td>0</td><td>0000:0003d218</td></tr><tr><td>sysschobjs</td><td>PAGELATCH_EX</td><td>2</td><td>1</td><td>118</td><td>1</td><td>2</td><td>INDEX_PAGE</td><td>0x4</td><td></td><td>0x0</td><td></td><td>0000004a:000014b0:006f</td><td>0</td><td>34</td><td>2</td><td>562949955649536</td><td>562949955649536</td><td>0</td><td>0</td><td>-1683698132</td><td>0</td><td>1</td><td>1</td><td>0</td><td>1</td><td>1</td><td>0</td><td>0x68</td><td> MIXED_EXT | PFS_HAS_GHOST_RECORDS | PFS_IS_ALLOCATED | 0_PCT_FULL</td><td>2</td><td>1</td><td>ALLOCATED</td><td>3</td><td>0</td><td>NOT ALLOCATED</td><td>6</td><td>1</td><td>CHANGED</td><td>7</td><td>0</td><td>NOT MIN_LOGGED</td><td>0</td><td>0</td><td>1</td><td>295</td><td>10</td><td>68</td><td>35</td><td>1738</td><td>6318</td><td>0</td><td>0</td><td>0000:0003d218</td></tr><tr><td>sysschobjs</td><td>PAGELATCH_EX</td><td>2</td><td>1</td><td>118</td><td>1</td><td>2</td><td>INDEX_PAGE</td><td>0x4</td><td></td><td>0x0</td><td></td><td>0000004a:000014b0:006f</td><td>0</td><td>34</td><td>2</td><td>562949955649536</td><td>562949955649536</td><td>0</td><td>0</td><td>-1683698132</td><td>0</td><td>1</td><td>1</td><td>0</td><td>1</td><td>1</td><td>0</td><td>0x68</td><td> MIXED_EXT | PFS_HAS_GHOST_RECORDS | PFS_IS_ALLOCATED | 0_PCT_FULL</td><td>2</td><td>1</td><td>ALLOCATED</td><td>3</td><td>0</td><td>NOT ALLOCATED</td><td>6</td><td>1</td><td>CHANGED</td><td>7</td><td>0</td><td>NOT MIN_LOGGED</td><td>0</td><td>0</td><td>1</td><td>295</td><td>10</td><td>68</td><td>35</td><td>1738</td><td>6318</td><td>0</td><td>0</td><td>0000:0003d218</td></tr><tr><td>sysschobjs</td><td>PAGELATCH_EX</td><td>2</td><td>1</td><td>118</td><td>1</td><td>2</td><td>INDEX_PAGE</td><td>0x4</td><td></td><td>0x0</td><td></td><td>0000004a:000014b0:006f</td><td>0</td><td>34</td><td>2</td><td>562949955649536</td><td>562949955649536</td><td>0</td><td>0</td><td>-1683698132</td><td>0</td><td>1</td><td>1</td><td>0</td><td>1</td><td>1</td><td>0</td><td>0x68</td><td> MIXED_EXT | PFS_HAS_GHOST_RECORDS | PFS_IS_ALLOCATED | 0_PCT_FULL</td><td>2</td><td>1</td><td>ALLOCATED</td><td>3</td><td>0</td><td>NOT ALLOCATED</td><td>6</td><td>1</td><td>CHANGED</td><td>7</td><td>0</td><td>NOT MIN_LOGGED</td><td>0</td><td>0</td><td>1</td><td>295</td><td>10</td><td>68</td><td>35</td><td>1738</td><td>6318</td><td>0</td><td>0</td><td>0000:0003d218</td></tr><tr><td>sysschobjs</td><td>PAGELATCH_EX</td><td>2</td><td>1</td><td>118</td><td>1</td><td>2</td><td>INDEX_PAGE</td><td>0x4</td><td></td><td>0x0</td><td></td><td>0000004a:000014b0:006f</td><td>0</td><td>34</td><td>2</td><td>562949955649536</td><td>562949955649536</td><td>0</td><td>0</td><td>-1683698132</td><td>0</td><td>1</td><td>1</td><td>0</td><td>1</td><td>1</td><td>0</td><td>0x68</td><td> MIXED_EXT | PFS_HAS_GHOST_RECORDS | PFS_IS_ALLOCATED | 0_PCT_FULL</td><td>2</td><td>1</td><td>ALLOCATED</td><td>3</td><td>0</td><td>NOT ALLOCATED</td><td>6</td><td>1</td><td>CHANGED</td><td>7</td><td>0</td><td>NOT MIN_LOGGED</td><td>0</td><td>0</td><td>1</td><td>295</td><td>10</td><td>68</td><td>35</td><td>1738</td><td>6318</td><td>0</td><td>0</td><td>0000:0003d218</td></tr><tr><td>sysschobjs</td><td>PAGELATCH_EX</td><td>2</td><td>1</td><td>118</td><td>1</td><td>2</td><td>INDEX_PAGE</td><td>0x4</td><td></td><td>0x0</td><td></td><td>0000004a:000014b0:006f</td><td>0</td><td>34</td><td>2</td><td>562949955649536</td><td>562949955649536</td><td>0</td><td>0</td><td>-1683698132</td><td>0</td><td>1</td><td>1</td><td>0</td><td>1</td><td>1</td><td>0</td><td>0x68</td><td> MIXED_EXT | PFS_HAS_GHOST_RECORDS | PFS_IS_ALLOCATED | 0_PCT_FULL</td><td>2</td><td>1</td><td>ALLOCATED</td><td>3</td><td>0</td><td>NOT ALLOCATED</td><td>6</td><td>1</td><td>CHANGED</td><td>7</td><td>0</td><td>NOT MIN_LOGGED</td><td>0</td><td>0</td><td>1</td><td>295</td><td>10</td><td>68</td><td>35</td><td>1738</td><td>6318</td><td>0</td><td>0</td><td>0000:0003d218</td></tr><tr><td>sysschobjs</td><td>PAGELATCH_EX</td><td>2</td><td>1</td><td>118</td><td>1</td><td>2</td><td>INDEX_PAGE</td><td>0x4</td><td></td><td>0x0</td><td></td><td>0000004a:000014b0:006f</td><td>0</td><td>34</td><td>2</td><td>562949955649536</td><td>562949955649536</td><td>0</td><td>0</td><td>-1683698132</td><td>0</td><td>1</td><td>1</td><td>0</td><td>1</td><td>1</td><td>0</td><td>0x68</td><td> MIXED_EXT | PFS_HAS_GHOST_RECORDS | PFS_IS_ALLOCATED | 0_PCT_FULL</td><td>2</td><td>1</td><td>ALLOCATED</td><td>3</td><td>0</td><td>NOT ALLOCATED</td><td>6</td><td>1</td><td>CHANGED</td><td>7</td><td>0</td><td>NOT MIN_LOGGED</td><td>0</td><td>0</td><td>1</td><td>295</td><td>10</td><td>68</td><td>35</td><td>1738</td><td>6318</td><td>0</td><td>0</td><td>0000:0003d218</td></tr><tr><td>sysschobjs</td><td>PAGELATCH_EX</td><td>2</td><td>1</td><td>118</td><td>1</td><td>2</td><td>INDEX_PAGE</td><td>0x4</td><td></td><td>0x0</td><td></td><td>0000004a:000014b0:006f</td><td>0</td><td>34</td><td>2</td><td>562949955649536</td><td>562949955649536</td><td>0</td><td>0</td><td>-1683698132</td><td>0</td><td>1</td><td>1</td><td>0</td><td>1</td><td>1</td><td>0</td><td>0x68</td><td> MIXED_EXT | PFS_HAS_GHOST_RECORDS | PFS_IS_ALLOCATED | 0_PCT_FULL</td><td>2</td><td>1</td><td>ALLOCATED</td><td>3</td><td>0</td><td>NOT ALLOCATED</td><td>6</td><td>1</td><td>CHANGED</td><td>7</td><td>0</td><td>NOT MIN_LOGGED</td><td>0</td><td>0</td><td>1</td><td>295</td><td>10</td><td>68</td><td>35</td><td>1738</td><td>6318</td><td>0</td><td>0</td><td>0000:0003d218</td></tr><tr><td>sysschobjs</td><td>PAGELATCH_EX</td><td>2</td><td>1</td><td>118</td><td>1</td><td>2</td><td>INDEX_PAGE</td><td>0x4</td><td></td><td>0x0</td><td></td><td>0000004a:000014b0:006f</td><td>0</td><td>34</td><td>2</td><td>562949955649536</td><td>562949955649536</td><td>0</td><td>0</td><td>-1683698132</td><td>0</td><td>1</td><td>1</td><td>0</td><td>1</td><td>1</td><td>0</td><td>0x68</td><td> MIXED_EXT | PFS_HAS_GHOST_RECORDS | PFS_IS_ALLOCATED | 0_PCT_FULL</td><td>2</td><td>1</td><td>ALLOCATED</td><td>3</td><td>0</td><td>NOT ALLOCATED</td><td>6</td><td>1</td><td>CHANGED</td><td>7</td><td>0</td><td>NOT MIN_LOGGED</td><td>0</td><td>0</td><td>1</td><td>295</td><td>10</td><td>68</td><td>35</td><td>1738</td><td>6318</td><td>0</td><td>0</td><td>0000:0003d218</td></tr><tr><td>sysschobjs</td><td>PAGELATCH_EX</td><td>2</td><td>1</td><td>118</td><td>1</td><td>2</td><td>INDEX_PAGE</td><td>0x4</td><td></td><td>0x0</td><td></td><td>0000004a:000014b0:006f</td><td>0</td><td>34</td><td>2</td><td>562949955649536</td><td>562949955649536</td><td>0</td><td>0</td><td>-1683698132</td><td>0</td><td>1</td><td>1</td><td>0</td><td>1</td><td>1</td><td>0</td><td>0x68</td><td> MIXED_EXT | PFS_HAS_GHOST_RECORDS | PFS_IS_ALLOCATED | 0_PCT_FULL</td><td>2</td><td>1</td><td>ALLOCATED</td><td>3</td><td>0</td><td>NOT ALLOCATED</td><td>6</td><td>1</td><td>CHANGED</td><td>7</td><td>0</td><td>NOT MIN_LOGGED</td><td>0</td><td>0</td><td>1</td><td>295</td><td>10</td><td>68</td><td>35</td><td>1738</td><td>6318</td><td>0</td><td>0</td><td>0000:0003d218</td></tr><tr><td>sysschobjs</td><td>PAGELATCH_EX</td><td>2</td><td>1</td><td>118</td><td>1</td><td>2</td><td>INDEX_PAGE</td><td>0x4</td><td></td><td>0x0</td><td></td><td>0000004a:000014b0:006f</td><td>0</td><td>34</td><td>2</td><td>562949955649536</td><td>562949955649536</td><td>0</td><td>0</td><td>-1683698132</td><td>0</td><td>1</td><td>1</td><td>0</td><td>1</td><td>1</td><td>0</td><td>0x68</td><td> MIXED_EXT | PFS_HAS_GHOST_RECORDS | PFS_IS_ALLOCATED | 0_PCT_FULL</td><td>2</td><td>1</td><td>ALLOCATED</td><td>3</td><td>0</td><td>NOT ALLOCATED</td><td>6</td><td>1</td><td>CHANGED</td><td>7</td><td>0</td><td>NOT MIN_LOGGED</td><td>0</td><td>0</td><td>1</td><td>295</td><td>10</td><td>68</td><td>35</td><td>1738</td><td>6318</td><td>0</td><td>0</td><td>0000:0003d218</td></tr><tr><td>sysschobjs</td><td>PAGELATCH_EX</td><td>2</td><td>1</td><td>118</td><td>1</td><td>2</td><td>INDEX_PAGE</td><td>0x4</td><td></td><td>0x0</td><td></td><td>0000004a:000014b0:006f</td><td>0</td><td>34</td><td>2</td><td>562949955649536</td><td>562949955649536</td><td>0</td><td>0</td><td>-1683698132</td><td>0</td><td>1</td><td>1</td><td>0</td><td>1</td><td>1</td><td>0</td><td>0x68</td><td> MIXED_EXT | PFS_HAS_GHOST_RECORDS | PFS_IS_ALLOCATED | 0_PCT_FULL</td><td>2</td><td>1</td><td>ALLOCATED</td><td>3</td><td>0</td><td>NOT ALLOCATED</td><td>6</td><td>1</td><td>CHANGED</td><td>7</td><td>0</td><td>NOT MIN_LOGGED</td><td>0</td><td>0</td><td>1</td><td>295</td><td>10</td><td>68</td><td>35</td><td>1738</td><td>6318</td><td>0</td><td>0</td><td>0000:0003d218</td></tr><tr><td>sysschobjs</td><td>PAGELATCH_EX</td><td>2</td><td>1</td><td>118</td><td>1</td><td>2</td><td>INDEX_PAGE</td><td>0x4</td><td></td><td>0x0</td><td></td><td>0000004a:000014b0:006f</td><td>0</td><td>34</td><td>2</td><td>562949955649536</td><td>562949955649536</td><td>0</td><td>0</td><td>-1683698132</td><td>0</td><td>1</td><td>1</td><td>0</td><td>1</td><td>1</td><td>0</td><td>0x68</td><td> MIXED_EXT | PFS_HAS_GHOST_RECORDS | PFS_IS_ALLOCATED | 0_PCT_FULL</td><td>2</td><td>1</td><td>ALLOCATED</td><td>3</td><td>0</td><td>NOT ALLOCATED</td><td>6</td><td>1</td><td>CHANGED</td><td>7</td><td>0</td><td>NOT MIN_LOGGED</td><td>0</td><td>0</td><td>1</td><td>295</td><td>10</td><td>68</td><td>35</td><td>1738</td><td>6318</td><td>0</td><td>0</td><td>0000:0003d218</td></tr><tr><td>sysschobjs</td><td>PAGELATCH_EX</td><td>2</td><td>1</td><td>118</td><td>1</td><td>2</td><td>INDEX_PAGE</td><td>0x4</td><td></td><td>0x0</td><td></td><td>0000004a:000014b0:006f</td><td>0</td><td>34</td><td>2</td><td>562949955649536</td><td>562949955649536</td><td>0</td><td>0</td><td>-1683698132</td><td>0</td><td>1</td><td>1</td><td>0</td><td>1</td><td>1</td><td>0</td><td>0x68</td><td> MIXED_EXT | PFS_HAS_GHOST_RECORDS | PFS_IS_ALLOCATED | 0_PCT_FULL</td><td>2</td><td>1</td><td>ALLOCATED</td><td>3</td><td>0</td><td>NOT ALLOCATED</td><td>6</td><td>1</td><td>CHANGED</td><td>7</td><td>0</td><td>NOT MIN_LOGGED</td><td>0</td><td>0</td><td>1</td><td>295</td><td>10</td><td>68</td><td>35</td><td>1738</td><td>6318</td><td>0</td><td>0</td><td>0000:0003d218</td></tr><tr><td>sysschobjs</td><td>PAGELATCH_EX</td><td>2</td><td>1</td><td>118</td><td>1</td><td>2</td><td>INDEX_PAGE</td><td>0x4</td><td></td><td>0x0</td><td></td><td>0000004a:000014b0:006f</td><td>0</td><td>34</td><td>2</td><td>562949955649536</td><td>562949955649536</td><td>0</td><td>0</td><td>-1683698132</td><td>0</td><td>1</td><td>1</td><td>0</td><td>1</td><td>1</td><td>0</td><td>0x68</td><td> MIXED_EXT | PFS_HAS_GHOST_RECORDS | PFS_IS_ALLOCATED | 0_PCT_FULL</td><td>2</td><td>1</td><td>ALLOCATED</td><td>3</td><td>0</td><td>NOT ALLOCATED</td><td>6</td><td>1</td><td>CHANGED</td><td>7</td><td>0</td><td>NOT MIN_LOGGED</td><td>0</td><td>0</td><td>1</td><td>295</td><td>10</td><td>68</td><td>35</td><td>1738</td><td>6318</td><td>0</td><td>0</td><td>0000:0003d218</td></tr><tr><td>sysschobjs</td><td>PAGELATCH_EX</td><td>2</td><td>1</td><td>118</td><td>1</td><td>2</td><td>INDEX_PAGE</td><td>0x4</td><td></td><td>0x0</td><td></td><td>0000004a:000014b0:006f</td><td>0</td><td>34</td><td>2</td><td>562949955649536</td><td>562949955649536</td><td>0</td><td>0</td><td>-1683698132</td><td>0</td><td>1</td><td>1</td><td>0</td><td>1</td><td>1</td><td>0</td><td>0x68</td><td> MIXED_EXT | PFS_HAS_GHOST_RECORDS | PFS_IS_ALLOCATED | 0_PCT_FULL</td><td>2</td><td>1</td><td>ALLOCATED</td><td>3</td><td>0</td><td>NOT ALLOCATED</td><td>6</td><td>1</td><td>CHANGED</td><td>7</td><td>0</td><td>NOT MIN_LOGGED</td><td>0</td><td>0</td><td>1</td><td>295</td><td>10</td><td>68</td><td>35</td><td>1738</td><td>6318</td><td>0</td><td>0</td><td>0000:0003d218</td></tr><tr><td>sysschobjs</td><td>PAGELATCH_EX</td><td>2</td><td>1</td><td>118</td><td>1</td><td>2</td><td>INDEX_PAGE</td><td>0x4</td><td></td><td>0x0</td><td></td><td>0000004a:000014b0:006f</td><td>0</td><td>34</td><td>2</td><td>562949955649536</td><td>562949955649536</td><td>0</td><td>0</td><td>-1683698132</td><td>0</td><td>1</td><td>1</td><td>0</td><td>1</td><td>1</td><td>0</td><td>0x68</td><td> MIXED_EXT | PFS_HAS_GHOST_RECORDS | PFS_IS_ALLOCATED | 0_PCT_FULL</td><td>2</td><td>1</td><td>ALLOCATED</td><td>3</td><td>0</td><td>NOT ALLOCATED</td><td>6</td><td>1</td><td>CHANGED</td><td>7</td><td>0</td><td>NOT MIN_LOGGED</td><td>0</td><td>0</td><td>1</td><td>295</td><td>10</td><td>68</td><td>35</td><td>1738</td><td>6318</td><td>0</td><td>0</td><td>0000:0003d218</td></tr><tr><td>sysschobjs</td><td>PAGELATCH_EX</td><td>2</td><td>1</td><td>118</td><td>1</td><td>2</td><td>INDEX_PAGE</td><td>0x4</td><td></td><td>0x0</td><td></td><td>0000004a:000014b0:006f</td><td>0</td><td>34</td><td>2</td><td>562949955649536</td><td>562949955649536</td><td>0</td><td>0</td><td>-1683698132</td><td>0</td><td>1</td><td>1</td><td>0</td><td>1</td><td>1</td><td>0</td><td>0x68</td><td> MIXED_EXT | PFS_HAS_GHOST_RECORDS | PFS_IS_ALLOCATED | 0_PCT_FULL</td><td>2</td><td>1</td><td>ALLOCATED</td><td>3</td><td>0</td><td>NOT ALLOCATED</td><td>6</td><td>1</td><td>CHANGED</td><td>7</td><td>0</td><td>NOT MIN_LOGGED</td><td>0</td><td>0</td><td>1</td><td>295</td><td>10</td><td>68</td><td>35</td><td>1738</td><td>6318</td><td>0</td><td>0</td><td>0000:0003d218</td></tr><tr><td>sysschobjs</td><td>NULL</td><td>2</td><td>1</td><td>118</td><td>1</td><td>2</td><td>INDEX_PAGE</td><td>0x4</td><td></td><td>0x0</td><td></td><td>0000004a:000014b0:006f</td><td>0</td><td>34</td><td>2</td><td>562949955649536</td><td>562949955649536</td><td>0</td><td>0</td><td>-1683698132</td><td>0</td><td>1</td><td>1</td><td>0</td><td>1</td><td>1</td><td>0</td><td>0x68</td><td> MIXED_EXT | PFS_HAS_GHOST_RECORDS | PFS_IS_ALLOCATED | 0_PCT_FULL</td><td>2</td><td>1</td><td>ALLOCATED</td><td>3</td><td>0</td><td>NOT ALLOCATED</td><td>6</td><td>1</td><td>CHANGED</td><td>7</td><td>0</td><td>NOT MIN_LOGGED</td><td>0</td><td>0</td><td>1</td><td>295</td><td>10</td><td>68</td><td>35</td><td>1738</td><td>6318</td><td>0</td><td>0</td><td>0000:0003d218</td></tr><tr><td>sysschobjs</td><td>PAGELATCH_EX</td><td>2</td><td>1</td><td>118</td><td>1</td><td>2</td><td>INDEX_PAGE</td><td>0x4</td><td></td><td>0x0</td><td></td><td>0000004a:000014b0:006f</td><td>0</td><td>34</td><td>2</td><td>562949955649536</td><td>562949955649536</td><td>0</td><td>0</td><td>-1683698132</td><td>0</td><td>1</td><td>1</td><td>0</td><td>1</td><td>1</td><td>0</td><td>0x68</td><td> MIXED_EXT | PFS_HAS_GHOST_RECORDS | PFS_IS_ALLOCATED | 0_PCT_FULL</td><td>2</td><td>1</td><td>ALLOCATED</td><td>3</td><td>0</td><td>NOT ALLOCATED</td><td>6</td><td>1</td><td>CHANGED</td><td>7</td><td>0</td><td>NOT MIN_LOGGED</td><td>0</td><td>0</td><td>1</td><td>295</td><td>10</td><td>68</td><td>35</td><td>1738</td><td>6318</td><td>0</td><td>0</td><td>0000:0003d218</td></tr><tr><td>sysschobjs</td><td>PAGELATCH_EX</td><td>2</td><td>1</td><td>118</td><td>1</td><td>2</td><td>INDEX_PAGE</td><td>0x4</td><td></td><td>0x0</td><td></td><td>0000004a:000014b0:006f</td><td>0</td><td>34</td><td>2</td><td>562949955649536</td><td>562949955649536</td><td>0</td><td>0</td><td>-1683698132</td><td>0</td><td>1</td><td>1</td><td>0</td><td>1</td><td>1</td><td>0</td><td>0x68</td><td> MIXED_EXT | PFS_HAS_GHOST_RECORDS | PFS_IS_ALLOCATED | 0_PCT_FULL</td><td>2</td><td>1</td><td>ALLOCATED</td><td>3</td><td>0</td><td>NOT ALLOCATED</td><td>6</td><td>1</td><td>CHANGED</td><td>7</td><td>0</td><td>NOT MIN_LOGGED</td><td>0</td><td>0</td><td>1</td><td>295</td><td>10</td><td>68</td><td>35</td><td>1738</td><td>6318</td><td>0</td><td>0</td><td>0000:0003d218</td></tr><tr><td>sysschobjs</td><td>PAGELATCH_EX</td><td>2</td><td>1</td><td>118</td><td>1</td><td>2</td><td>INDEX_PAGE</td><td>0x4</td><td></td><td>0x0</td><td></td><td>0000004a:000014b0:006f</td><td>0</td><td>34</td><td>2</td><td>562949955649536</td><td>562949955649536</td><td>0</td><td>0</td><td>-1683698132</td><td>0</td><td>1</td><td>1</td><td>0</td><td>1</td><td>1</td><td>0</td><td>0x68</td><td> MIXED_EXT | PFS_HAS_GHOST_RECORDS | PFS_IS_ALLOCATED | 0_PCT_FULL</td><td>2</td><td>1</td><td>ALLOCATED</td><td>3</td><td>0</td><td>NOT ALLOCATED</td><td>6</td><td>1</td><td>CHANGED</td><td>7</td><td>0</td><td>NOT MIN_LOGGED</td><td>0</td><td>0</td><td>1</td><td>295</td><td>10</td><td>68</td><td>35</td><td>1738</td><td>6318</td><td>0</td><td>0</td><td>0000:0003d218</td></tr><tr><td>sysschobjs</td><td>PAGELATCH_EX</td><td>2</td><td>1</td><td>118</td><td>1</td><td>2</td><td>INDEX_PAGE</td><td>0x4</td><td></td><td>0x0</td><td></td><td>0000004a:000014b0:006f</td><td>0</td><td>34</td><td>2</td><td>562949955649536</td><td>562949955649536</td><td>0</td><td>0</td><td>-1683698132</td><td>0</td><td>1</td><td>1</td><td>0</td><td>1</td><td>1</td><td>0</td><td>0x68</td><td> MIXED_EXT | PFS_HAS_GHOST_RECORDS | PFS_IS_ALLOCATED | 0_PCT_FULL</td><td>2</td><td>1</td><td>ALLOCATED</td><td>3</td><td>0</td><td>NOT ALLOCATED</td><td>6</td><td>1</td><td>CHANGED</td><td>7</td><td>0</td><td>NOT MIN_LOGGED</td><td>0</td><td>0</td><td>1</td><td>295</td><td>10</td><td>68</td><td>35</td><td>1738</td><td>6318</td><td>0</td><td>0</td><td>0000:0003d218</td></tr><tr><td>sysschobjs</td><td>PAGELATCH_EX</td><td>2</td><td>1</td><td>118</td><td>1</td><td>2</td><td>INDEX_PAGE</td><td>0x4</td><td></td><td>0x0</td><td></td><td>0000004a:000014b0:006f</td><td>0</td><td>34</td><td>2</td><td>562949955649536</td><td>562949955649536</td><td>0</td><td>0</td><td>-1683698132</td><td>0</td><td>1</td><td>1</td><td>0</td><td>1</td><td>1</td><td>0</td><td>0x68</td><td> MIXED_EXT | PFS_HAS_GHOST_RECORDS | PFS_IS_ALLOCATED | 0_PCT_FULL</td><td>2</td><td>1</td><td>ALLOCATED</td><td>3</td><td>0</td><td>NOT ALLOCATED</td><td>6</td><td>1</td><td>CHANGED</td><td>7</td><td>0</td><td>NOT MIN_LOGGED</td><td>0</td><td>0</td><td>1</td><td>295</td><td>10</td><td>68</td><td>35</td><td>1738</td><td>6318</td><td>0</td><td>0</td><td>0000:0003d218</td></tr><tr><td>sysschobjs</td><td>PAGELATCH_EX</td><td>2</td><td>1</td><td>118</td><td>1</td><td>2</td><td>INDEX_PAGE</td><td>0x4</td><td></td><td>0x0</td><td></td><td>0000004a:000014b0:006f</td><td>0</td><td>34</td><td>2</td><td>562949955649536</td><td>562949955649536</td><td>0</td><td>0</td><td>-1683698132</td><td>0</td><td>1</td><td>1</td><td>0</td><td>1</td><td>1</td><td>0</td><td>0x68</td><td> MIXED_EXT | PFS_HAS_GHOST_RECORDS | PFS_IS_ALLOCATED | 0_PCT_FULL</td><td>2</td><td>1</td><td>ALLOCATED</td><td>3</td><td>0</td><td>NOT ALLOCATED</td><td>6</td><td>1</td><td>CHANGED</td><td>7</td><td>0</td><td>NOT MIN_LOGGED</td><td>0</td><td>0</td><td>1</td><td>295</td><td>10</td><td>68</td><td>35</td><td>1738</td><td>6318</td><td>0</td><td>0</td><td>0000:0003d218</td></tr><tr><td>sysschobjs</td><td>PAGELATCH_EX</td><td>2</td><td>1</td><td>302</td><td>1</td><td>1</td><td>DATA_PAGE</td><td>0x0</td><td></td><td>0x0</td><td></td><td>0000004a:000014b0:007c</td><td>0</td><td>34</td><td>1</td><td>281474978938880</td><td>281474978938880</td><td>0</td><td>0</td><td>0</td><td>0</td><td>0</td><td>0</td><td>0</td><td>1</td><td>1</td><td>0</td><td>0x40</td><td> PFS_IS_ALLOCATED | 0_PCT_FULL</td><td>2</td><td>1</td><td>ALLOCATED</td><td>3</td><td>0</td><td>NOT ALLOCATED</td><td>6</td><td>1</td><td>CHANGED</td><td>7</td><td>0</td><td>NOT MIN_LOGGED</td><td>1</td><td>116</td><td>1</td><td>300</td><td>48</td><td>16</td><td>0</td><td>4500</td><td>3882</td><td>0</td><td>0</td><td>0000:00000000</td></tr><tr><td>sysschobjs</td><td>PAGELATCH_EX</td><td>2</td><td>1</td><td>302</td><td>1</td><td>1</td><td>DATA_PAGE</td><td>0x0</td><td></td><td>0x0</td><td></td><td>0000004a:000014b0:007c</td><td>0</td><td>34</td><td>1</td><td>281474978938880</td><td>281474978938880</td><td>0</td><td>0</td><td>0</td><td>0</td><td>0</td><td>0</td><td>0</td><td>1</td><td>1</td><td>0</td><td>0x40</td><td> PFS_IS_ALLOCATED | 0_PCT_FULL</td><td>2</td><td>1</td><td>ALLOCATED</td><td>3</td><td>0</td><td>NOT ALLOCATED</td><td>6</td><td>1</td><td>CHANGED</td><td>7</td><td>0</td><td>NOT MIN_LOGGED</td><td>1</td><td>116</td><td>1</td><td>300</td><td>48</td><td>16</td><td>0</td><td>4500</td><td>3882</td><td>0</td><td>0</td><td>0000:00000000</td></tr><tr><td>sysschobjs</td><td>PAGELATCH_EX</td><td>2</td><td>1</td><td>302</td><td>1</td><td>1</td><td>DATA_PAGE</td><td>0x0</td><td></td><td>0x0</td><td></td><td>0000004a:000014b0:007c</td><td>0</td><td>34</td><td>1</td><td>281474978938880</td><td>281474978938880</td><td>0</td><td>0</td><td>0</td><td>0</td><td>0</td><td>0</td><td>0</td><td>1</td><td>1</td><td>0</td><td>0x40</td><td> PFS_IS_ALLOCATED | 0_PCT_FULL</td><td>2</td><td>1</td><td>ALLOCATED</td><td>3</td><td>0</td><td>NOT ALLOCATED</td><td>6</td><td>1</td><td>CHANGED</td><td>7</td><td>0</td><td>NOT MIN_LOGGED</td><td>1</td><td>116</td><td>1</td><td>300</td><td>48</td><td>16</td><td>0</td><td>4500</td><td>3882</td><td>0</td><td>0</td><td>0000:00000000</td></tr><tr><td>sysschobjs</td><td>PAGELATCH_EX</td><td>2</td><td>1</td><td>302</td><td>1</td><td>1</td><td>DATA_PAGE</td><td>0x0</td><td></td><td>0x0</td><td></td><td>0000004a:000014b0:007c</td><td>0</td><td>34</td><td>1</td><td>281474978938880</td><td>281474978938880</td><td>0</td><td>0</td><td>0</td><td>0</td><td>0</td><td>0</td><td>0</td><td>1</td><td>1</td><td>0</td><td>0x40</td><td> PFS_IS_ALLOCATED | 0_PCT_FULL</td><td>2</td><td>1</td><td>ALLOCATED</td><td>3</td><td>0</td><td>NOT ALLOCATED</td><td>6</td><td>1</td><td>CHANGED</td><td>7</td><td>0</td><td>NOT MIN_LOGGED</td><td>1</td><td>116</td><td>1</td><td>300</td><td>48</td><td>16</td><td>0</td><td>4500</td><td>3882</td><td>0</td><td>0</td><td>0000:00000000</td></tr><tr><td>sysschobjs</td><td>PAGELATCH_EX</td><td>2</td><td>1</td><td>302</td><td>1</td><td>1</td><td>DATA_PAGE</td><td>0x0</td><td></td><td>0x0</td><td></td><td>0000004a:000014b0:007c</td><td>0</td><td>34</td><td>1</td><td>281474978938880</td><td>281474978938880</td><td>0</td><td>0</td><td>0</td><td>0</td><td>0</td><td>0</td><td>0</td><td>1</td><td>1</td><td>0</td><td>0x40</td><td> PFS_IS_ALLOCATED | 0_PCT_FULL</td><td>2</td><td>1</td><td>ALLOCATED</td><td>3</td><td>0</td><td>NOT ALLOCATED</td><td>6</td><td>1</td><td>CHANGED</td><td>7</td><td>0</td><td>NOT MIN_LOGGED</td><td>1</td><td>116</td><td>1</td><td>300</td><td>48</td><td>16</td><td>0</td><td>4500</td><td>3882</td><td>0</td><td>0</td><td>0000:00000000</td></tr><tr><td>sysschobjs</td><td>PAGELATCH_EX</td><td>2</td><td>1</td><td>302</td><td>1</td><td>1</td><td>DATA_PAGE</td><td>0x0</td><td></td><td>0x0</td><td></td><td>0000004a:000014b0:007c</td><td>0</td><td>34</td><td>1</td><td>281474978938880</td><td>281474978938880</td><td>0</td><td>0</td><td>0</td><td>0</td><td>0</td><td>0</td><td>0</td><td>1</td><td>1</td><td>0</td><td>0x40</td><td> PFS_IS_ALLOCATED | 0_PCT_FULL</td><td>2</td><td>1</td><td>ALLOCATED</td><td>3</td><td>0</td><td>NOT ALLOCATED</td><td>6</td><td>1</td><td>CHANGED</td><td>7</td><td>0</td><td>NOT MIN_LOGGED</td><td>1</td><td>116</td><td>1</td><td>300</td><td>48</td><td>16</td><td>0</td><td>4500</td><td>3882</td><td>0</td><td>0</td><td>0000:00000000</td></tr><tr><td>sysschobjs</td><td>PAGELATCH_EX</td><td>2</td><td>1</td><td>302</td><td>1</td><td>1</td><td>DATA_PAGE</td><td>0x0</td><td></td><td>0x0</td><td></td><td>0000004a:000014b0:007c</td><td>0</td><td>34</td><td>1</td><td>281474978938880</td><td>281474978938880</td><td>0</td><td>0</td><td>0</td><td>0</td><td>0</td><td>0</td><td>0</td><td>1</td><td>1</td><td>0</td><td>0x40</td><td> PFS_IS_ALLOCATED | 0_PCT_FULL</td><td>2</td><td>1</td><td>ALLOCATED</td><td>3</td><td>0</td><td>NOT ALLOCATED</td><td>6</td><td>1</td><td>CHANGED</td><td>7</td><td>0</td><td>NOT MIN_LOGGED</td><td>1</td><td>116</td><td>1</td><td>300</td><td>48</td><td>16</td><td>0</td><td>4500</td><td>3882</td><td>0</td><td>0</td><td>0000:00000000</td></tr><tr><td>sysschobjs</td><td>NULL</td><td>2</td><td>1</td><td>302</td><td>1</td><td>1</td><td>DATA_PAGE</td><td>0x0</td><td></td><td>0x0</td><td></td><td>0000004a:000014b0:007c</td><td>0</td><td>34</td><td>1</td><td>281474978938880</td><td>281474978938880</td><td>0</td><td>0</td><td>0</td><td>0</td><td>0</td><td>0</td><td>0</td><td>1</td><td>1</td><td>0</td><td>0x40</td><td> PFS_IS_ALLOCATED | 0_PCT_FULL</td><td>2</td><td>1</td><td>ALLOCATED</td><td>3</td><td>0</td><td>NOT ALLOCATED</td><td>6</td><td>1</td><td>CHANGED</td><td>7</td><td>0</td><td>NOT MIN_LOGGED</td><td>1</td><td>116</td><td>1</td><td>300</td><td>48</td><td>16</td><td>0</td><td>4500</td><td>3882</td><td>0</td><td>0</td><td>0000:00000000</td></tr><tr><td>sysschobjs</td><td>PAGELATCH_EX</td><td>2</td><td>1</td><td>302</td><td>1</td><td>1</td><td>DATA_PAGE</td><td>0x0</td><td></td><td>0x0</td><td></td><td>0000004a:000014b0:007c</td><td>0</td><td>34</td><td>1</td><td>281474978938880</td><td>281474978938880</td><td>0</td><td>0</td><td>0</td><td>0</td><td>0</td><td>0</td><td>0</td><td>1</td><td>1</td><td>0</td><td>0x40</td><td> PFS_IS_ALLOCATED | 0_PCT_FULL</td><td>2</td><td>1</td><td>ALLOCATED</td><td>3</td><td>0</td><td>NOT ALLOCATED</td><td>6</td><td>1</td><td>CHANGED</td><td>7</td><td>0</td><td>NOT MIN_LOGGED</td><td>1</td><td>116</td><td>1</td><td>300</td><td>48</td><td>16</td><td>0</td><td>4500</td><td>3882</td><td>0</td><td>0</td><td>0000:00000000</td></tr></table>"
                    }
                },
                {
                    "output_type": "display_data",
                    "data": {
                        "text/html": "Total execution time: 00:00:00.095"
                    },
                    "metadata": {}
                },
                {
                    "output_type": "execute_result",
                    "metadata": {},
                    "execution_count": 4,
                    "data": {
                        "application/vnd.dataresource+json": {
                            "schema": {
                                "fields": [
                                    {
                                        "name": "ParentObject"
                                    },
                                    {
                                        "name": "Object"
                                    },
                                    {
                                        "name": "Field"
                                    },
                                    {
                                        "name": "VALUE"
                                    }
                                ]
                            },
                            "data": [
                                {
                                    "0": "BUFFER:",
                                    "1": "BUF @0x00000009D8D27500",
                                    "2": "bpage",
                                    "3": "0x00000009C8846000"
                                },
                                {
                                    "0": "BUFFER:",
                                    "1": "BUF @0x00000009D8D27500",
                                    "2": "bPmmpage",
                                    "3": "0x0000000000000000"
                                },
                                {
                                    "0": "BUFFER:",
                                    "1": "BUF @0x00000009D8D27500",
                                    "2": "bsort_r_nextbP",
                                    "3": "0x0000000000000000"
                                },
                                {
                                    "0": "BUFFER:",
                                    "1": "BUF @0x00000009D8D27500",
                                    "2": "bsort_r_prevbP",
                                    "3": "0x0000000000000000"
                                },
                                {
                                    "0": "BUFFER:",
                                    "1": "BUF @0x00000009D8D27500",
                                    "2": "bhash",
                                    "3": "0x0000000000000000"
                                },
                                {
                                    "0": "BUFFER:",
                                    "1": "BUF @0x00000009D8D27500",
                                    "2": "bpageno",
                                    "3": "(1:116)"
                                },
                                {
                                    "0": "BUFFER:",
                                    "1": "BUF @0x00000009D8D27500",
                                    "2": "bpart",
                                    "3": "1"
                                },
                                {
                                    "0": "BUFFER:",
                                    "1": "BUF @0x00000009D8D27500",
                                    "2": "ckptGen",
                                    "3": "0x0000000000000000"
                                },
                                {
                                    "0": "BUFFER:",
                                    "1": "BUF @0x00000009D8D27500",
                                    "2": "bDirtyRefCount",
                                    "3": "0"
                                },
                                {
                                    "0": "BUFFER:",
                                    "1": "BUF @0x00000009D8D27500",
                                    "2": "bstat",
                                    "3": "0x10b"
                                },
                                {
                                    "0": "BUFFER:",
                                    "1": "BUF @0x00000009D8D27500",
                                    "2": "breferences",
                                    "3": "16383"
                                },
                                {
                                    "0": "BUFFER:",
                                    "1": "BUF @0x00000009D8D27500",
                                    "2": "berrcode",
                                    "3": "0"
                                },
                                {
                                    "0": "BUFFER:",
                                    "1": "BUF @0x00000009D8D27500",
                                    "2": "bUse1",
                                    "3": "24737"
                                },
                                {
                                    "0": "BUFFER:",
                                    "1": "BUF @0x00000009D8D27500",
                                    "2": "bstat2",
                                    "3": "0x0"
                                },
                                {
                                    "0": "BUFFER:",
                                    "1": "BUF @0x00000009D8D27500",
                                    "2": "blog",
                                    "3": "0x15a"
                                },
                                {
                                    "0": "BUFFER:",
                                    "1": "BUF @0x00000009D8D27500",
                                    "2": "bsampleCount",
                                    "3": "1529"
                                },
                                {
                                    "0": "BUFFER:",
                                    "1": "BUF @0x00000009D8D27500",
                                    "2": "bIoCount",
                                    "3": "0"
                                },
                                {
                                    "0": "BUFFER:",
                                    "1": "BUF @0x00000009D8D27500",
                                    "2": "resPoolId",
                                    "3": "0"
                                },
                                {
                                    "0": "BUFFER:",
                                    "1": "BUF @0x00000009D8D27500",
                                    "2": "bcputicks",
                                    "3": "473563"
                                },
                                {
                                    "0": "BUFFER:",
                                    "1": "BUF @0x00000009D8D27500",
                                    "2": "bReadMicroSec",
                                    "3": "785"
                                },
                                {
                                    "0": "BUFFER:",
                                    "1": "BUF @0x00000009D8D27500",
                                    "2": "bDirtyContext",
                                    "3": "0x00000009D1B169C0"
                                },
                                {
                                    "0": "BUFFER:",
                                    "1": "BUF @0x00000009D8D27500",
                                    "2": "bDbPageBroker",
                                    "3": "0x0000000000000000"
                                },
                                {
                                    "0": "BUFFER:",
                                    "1": "BUF @0x00000009D8D27500",
                                    "2": "bdbid",
                                    "3": "2"
                                },
                                {
                                    "0": "BUFFER:",
                                    "1": "BUF @0x00000009D8D27500",
                                    "2": "bpru",
                                    "3": "0x00000009D6370040"
                                },
                                {
                                    "0": "PAGE HEADER:",
                                    "1": "Page @0x00000009C8846000",
                                    "2": "m_pageId",
                                    "3": "(1:116)"
                                },
                                {
                                    "0": "PAGE HEADER:",
                                    "1": "Page @0x00000009C8846000",
                                    "2": "m_headerVersion",
                                    "3": "1"
                                },
                                {
                                    "0": "PAGE HEADER:",
                                    "1": "Page @0x00000009C8846000",
                                    "2": "m_type",
                                    "3": "1"
                                },
                                {
                                    "0": "PAGE HEADER:",
                                    "1": "Page @0x00000009C8846000",
                                    "2": "m_typeFlagBits",
                                    "3": "0x4"
                                },
                                {
                                    "0": "PAGE HEADER:",
                                    "1": "Page @0x00000009C8846000",
                                    "2": "m_level",
                                    "3": "0"
                                },
                                {
                                    "0": "PAGE HEADER:",
                                    "1": "Page @0x00000009C8846000",
                                    "2": "m_flagBits",
                                    "3": "0x0"
                                },
                                {
                                    "0": "PAGE HEADER:",
                                    "1": "Page @0x00000009C8846000",
                                    "2": "m_objId (AllocUnitId.idObj)",
                                    "3": "34"
                                },
                                {
                                    "0": "PAGE HEADER:",
                                    "1": "Page @0x00000009C8846000",
                                    "2": "m_indexId (AllocUnitId.idInd)",
                                    "3": "1"
                                },
                                {
                                    "0": "PAGE HEADER:",
                                    "1": "Page @0x00000009C8846000",
                                    "2": "Metadata: AllocUnitId",
                                    "3": "281474978938880"
                                },
                                {
                                    "0": "PAGE HEADER:",
                                    "1": "Page @0x00000009C8846000",
                                    "2": "Metadata: PartitionId",
                                    "3": "281474978938880"
                                },
                                {
                                    "0": "PAGE HEADER:",
                                    "1": "Page @0x00000009C8846000",
                                    "2": "Metadata: IndexId",
                                    "3": "1"
                                },
                                {
                                    "0": "PAGE HEADER:",
                                    "1": "Page @0x00000009C8846000",
                                    "2": "Metadata: ObjectId",
                                    "3": "34"
                                },
                                {
                                    "0": "PAGE HEADER:",
                                    "1": "Page @0x00000009C8846000",
                                    "2": "m_prevPage",
                                    "3": "(0:0)"
                                },
                                {
                                    "0": "PAGE HEADER:",
                                    "1": "Page @0x00000009C8846000",
                                    "2": "m_nextPage",
                                    "3": "(1:302)"
                                },
                                {
                                    "0": "PAGE HEADER:",
                                    "1": "Page @0x00000009C8846000",
                                    "2": "pminlen",
                                    "3": "44"
                                },
                                {
                                    "0": "PAGE HEADER:",
                                    "1": "Page @0x00000009C8846000",
                                    "2": "m_slotCnt",
                                    "3": "15"
                                },
                                {
                                    "0": "PAGE HEADER:",
                                    "1": "Page @0x00000009C8846000",
                                    "2": "m_freeCnt",
                                    "3": "5766"
                                },
                                {
                                    "0": "PAGE HEADER:",
                                    "1": "Page @0x00000009C8846000",
                                    "2": "m_freeData",
                                    "3": "4654"
                                },
                                {
                                    "0": "PAGE HEADER:",
                                    "1": "Page @0x00000009C8846000",
                                    "2": "m_reservedCnt",
                                    "3": "0"
                                },
                                {
                                    "0": "PAGE HEADER:",
                                    "1": "Page @0x00000009C8846000",
                                    "2": "m_lsn",
                                    "3": "(74:5416:277)"
                                },
                                {
                                    "0": "PAGE HEADER:",
                                    "1": "Page @0x00000009C8846000",
                                    "2": "m_xactReserved",
                                    "3": "0"
                                },
                                {
                                    "0": "PAGE HEADER:",
                                    "1": "Page @0x00000009C8846000",
                                    "2": "m_xdesId",
                                    "3": "(0:0)"
                                },
                                {
                                    "0": "PAGE HEADER:",
                                    "1": "Page @0x00000009C8846000",
                                    "2": "m_ghostRecCnt",
                                    "3": "0"
                                },
                                {
                                    "0": "PAGE HEADER:",
                                    "1": "Page @0x00000009C8846000",
                                    "2": "m_tornBits",
                                    "3": "1750484708"
                                },
                                {
                                    "0": "PAGE HEADER:",
                                    "1": "Page @0x00000009C8846000",
                                    "2": "DB Frag ID",
                                    "3": "1"
                                },
                                {
                                    "0": "PAGE HEADER:",
                                    "1": "Allocation Status",
                                    "2": "GAM (1:2)",
                                    "3": "ALLOCATED"
                                },
                                {
                                    "0": "PAGE HEADER:",
                                    "1": "Allocation Status",
                                    "2": "SGAM (1:3)",
                                    "3": "NOT ALLOCATED"
                                },
                                {
                                    "0": "PAGE HEADER:",
                                    "1": "Allocation Status",
                                    "2": "PFS (1:1)",
                                    "3": "0x60 MIXED_EXT ALLOCATED   0_PCT_FULL"
                                },
                                {
                                    "0": "PAGE HEADER:",
                                    "1": "Allocation Status",
                                    "2": "DIFF (1:6)",
                                    "3": "CHANGED"
                                },
                                {
                                    "0": "PAGE HEADER:",
                                    "1": "Allocation Status",
                                    "2": "ML (1:7)",
                                    "3": "NOT MIN_LOGGED"
                                },
                                {
                                    "0": "PAGE HEADER:",
                                    "1": "Slot 0 Offset 0x47c Length 74",
                                    "2": "Record Type",
                                    "3": "PRIMARY_RECORD"
                                },
                                {
                                    "0": "PAGE HEADER:",
                                    "1": "Slot 0 Offset 0x47c Length 74",
                                    "2": "Record Attributes",
                                    "3": " NULL_BITMAP VARIABLE_COLUMNS"
                                },
                                {
                                    "0": "PAGE HEADER:",
                                    "1": "Slot 0 Offset 0x47c Length 74",
                                    "2": "Record Size",
                                    "3": "74"
                                },
                                {
                                    "0": "Slot 0 Offset 0x47c Length 74",
                                    "1": "Memory Dump @0x000000036A98847C",
                                    "2": "",
                                    "3": "0000000000000000:   30003000 b5176da0 01000000 0008000e 00552000  0.0.µ.m .........U ."
                                },
                                {
                                    "0": "Slot 0 Offset 0x47c Length 74",
                                    "1": "Memory Dump @0x000000036A98847C",
                                    "2": "",
                                    "3": "0000000000000014:   00000001 01000000 6b0c8001 25ab0000 da7e8001  ........k...%«..Ú~.."
                                },
                                {
                                    "0": "Slot 0 Offset 0x47c Length 74",
                                    "1": "Memory Dump @0x000000036A98847C",
                                    "2": "",
                                    "3": "0000000000000028:   25ab0000 00000000 0c000000 01004a00 23004100  %«............J.#.A."
                                },
                                {
                                    "0": "Slot 0 Offset 0x47c Length 74",
                                    "1": "Memory Dump @0x000000036A98847C",
                                    "2": "",
                                    "3": "000000000000003C:   30003600 44003100 37004200 3500               0.6.D.1.7.B.5."
                                },
                                {
                                    "0": "Slot 0 Offset 0x47c Length 74",
                                    "1": "Slot 0 Column 1 Offset 0x4 Length 4 Length (physical) 4",
                                    "2": "id",
                                    "3": "-1603463243"
                                },
                                {
                                    "0": "Slot 0 Offset 0x47c Length 74",
                                    "1": "Slot 0 Column 2 Offset 0x38 Length 18 Length (physical) 18",
                                    "2": "name",
                                    "3": "#A06D17B5"
                                },
                                {
                                    "0": "Slot 0 Offset 0x47c Length 74",
                                    "1": "Slot 0 Column 3 Offset 0x8 Length 4 Length (physical) 4",
                                    "2": "nsid",
                                    "3": "1"
                                },
                                {
                                    "0": "Slot 0 Offset 0x47c Length 74",
                                    "1": "Slot 0 Column 4 Offset 0xc Length 1 Length (physical) 1",
                                    "2": "nsclass",
                                    "3": "0"
                                },
                                {
                                    "0": "Slot 0 Offset 0x47c Length 74",
                                    "1": "Slot 0 Column 5 Offset 0xd Length 4 Length (physical) 4",
                                    "2": "status",
                                    "3": "917512"
                                },
                                {
                                    "0": "Slot 0 Offset 0x47c Length 74",
                                    "1": "Slot 0 Column 6 Offset 0x11 Length 2 Length (physical) 2",
                                    "2": "type",
                                    "3": "U "
                                },
                                {
                                    "0": "Slot 0 Offset 0x47c Length 74",
                                    "1": "Slot 0 Column 7 Offset 0x13 Length 4 Length (physical) 4",
                                    "2": "pid",
                                    "3": "0"
                                },
                                {
                                    "0": "Slot 0 Offset 0x47c Length 74",
                                    "1": "Slot 0 Column 8 Offset 0x17 Length 1 Length (physical) 1",
                                    "2": "pclass",
                                    "3": "1"
                                },
                                {
                                    "0": "Slot 0 Offset 0x47c Length 74",
                                    "1": "Slot 0 Column 9 Offset 0x18 Length 4 Length (physical) 4",
                                    "2": "intprop",
                                    "3": "1"
                                },
                                {
                                    "0": "Slot 0 Offset 0x47c Length 74",
                                    "1": "Slot 0 Column 10 Offset 0x1c Length 8 Length (physical) 8",
                                    "2": "created",
                                    "3": "2019-12-16 23:18:16.677"
                                },
                                {
                                    "0": "Slot 0 Offset 0x47c Length 74",
                                    "1": "Slot 0 Column 11 Offset 0x24 Length 8 Length (physical) 8",
                                    "2": "modified",
                                    "3": "2019-12-16 23:19:54.327"
                                },
                                {
                                    "0": "Slot 0 Offset 0x47c Length 74",
                                    "1": "Slot 0 Column 12 Offset 0x2c Length 4 Length (physical) 4",
                                    "2": "status2",
                                    "3": "0"
                                },
                                {
                                    "0": "Slot 0 Offset 0x47c Length 74",
                                    "1": "Slot 0 Offset 0x0 Length 0 Length (physical) 0",
                                    "2": "KeyHashValue",
                                    "3": "(0191f5fd3093)"
                                },
                                {
                                    "0": "PAGE HEADER:",
                                    "1": "Slot 1 Offset 0x21c Length 74",
                                    "2": "Record Type",
                                    "3": "PRIMARY_RECORD"
                                },
                                {
                                    "0": "PAGE HEADER:",
                                    "1": "Slot 1 Offset 0x21c Length 74",
                                    "2": "Record Attributes",
                                    "3": " NULL_BITMAP VARIABLE_COLUMNS"
                                },
                                {
                                    "0": "PAGE HEADER:",
                                    "1": "Slot 1 Offset 0x21c Length 74",
                                    "2": "Record Size",
                                    "3": "74"
                                },
                                {
                                    "0": "Slot 1 Offset 0x21c Length 74",
                                    "1": "Memory Dump @0x000000036A98821C",
                                    "2": "",
                                    "3": "0000000000000000:   30003000 5c6cf4a0 01000000 0008000e 00552000  0.0.\\lô .........U ."
                                },
                                {
                                    "0": "Slot 1 Offset 0x21c Length 74",
                                    "1": "Memory Dump @0x000000036A98821C",
                                    "2": "",
                                    "3": "0000000000000014:   00000001 01000000 2f0c8001 25ab0000 ca7e8001  ......../...%«..Ê~.."
                                },
                                {
                                    "0": "Slot 1 Offset 0x21c Length 74",
                                    "1": "Memory Dump @0x000000036A98821C",
                                    "2": "",
                                    "3": "0000000000000028:   25ab0000 00000000 0c000000 01004a00 23004100  %«............J.#.A."
                                },
                                {
                                    "0": "Slot 1 Offset 0x21c Length 74",
                                    "1": "Memory Dump @0x000000036A98821C",
                                    "2": "",
                                    "3": "000000000000003C:   30004600 34003600 43003500 4300               0.F.4.6.C.5.C."
                                },
                                {
                                    "0": "Slot 1 Offset 0x21c Length 74",
                                    "1": "Slot 1 Column 1 Offset 0x4 Length 4 Length (physical) 4",
                                    "2": "id",
                                    "3": "-1594594212"
                                },
                                {
                                    "0": "Slot 1 Offset 0x21c Length 74",
                                    "1": "Slot 1 Column 2 Offset 0x38 Length 18 Length (physical) 18",
                                    "2": "name",
                                    "3": "#A0F46C5C"
                                },
                                {
                                    "0": "Slot 1 Offset 0x21c Length 74",
                                    "1": "Slot 1 Column 3 Offset 0x8 Length 4 Length (physical) 4",
                                    "2": "nsid",
                                    "3": "1"
                                },
                                {
                                    "0": "Slot 1 Offset 0x21c Length 74",
                                    "1": "Slot 1 Column 4 Offset 0xc Length 1 Length (physical) 1",
                                    "2": "nsclass",
                                    "3": "0"
                                },
                                {
                                    "0": "Slot 1 Offset 0x21c Length 74",
                                    "1": "Slot 1 Column 5 Offset 0xd Length 4 Length (physical) 4",
                                    "2": "status",
                                    "3": "917512"
                                },
                                {
                                    "0": "Slot 1 Offset 0x21c Length 74",
                                    "1": "Slot 1 Column 6 Offset 0x11 Length 2 Length (physical) 2",
                                    "2": "type",
                                    "3": "U "
                                },
                                {
                                    "0": "Slot 1 Offset 0x21c Length 74",
                                    "1": "Slot 1 Column 7 Offset 0x13 Length 4 Length (physical) 4",
                                    "2": "pid",
                                    "3": "0"
                                },
                                {
                                    "0": "Slot 1 Offset 0x21c Length 74",
                                    "1": "Slot 1 Column 8 Offset 0x17 Length 1 Length (physical) 1",
                                    "2": "pclass",
                                    "3": "1"
                                },
                                {
                                    "0": "Slot 1 Offset 0x21c Length 74",
                                    "1": "Slot 1 Column 9 Offset 0x18 Length 4 Length (physical) 4",
                                    "2": "intprop",
                                    "3": "1"
                                },
                                {
                                    "0": "Slot 1 Offset 0x21c Length 74",
                                    "1": "Slot 1 Column 10 Offset 0x1c Length 8 Length (physical) 8",
                                    "2": "created",
                                    "3": "2019-12-16 23:18:16.477"
                                },
                                {
                                    "0": "Slot 1 Offset 0x21c Length 74",
                                    "1": "Slot 1 Column 11 Offset 0x24 Length 8 Length (physical) 8",
                                    "2": "modified",
                                    "3": "2019-12-16 23:19:54.273"
                                },
                                {
                                    "0": "Slot 1 Offset 0x21c Length 74",
                                    "1": "Slot 1 Column 12 Offset 0x2c Length 4 Length (physical) 4",
                                    "2": "status2",
                                    "3": "0"
                                },
                                {
                                    "0": "Slot 1 Offset 0x21c Length 74",
                                    "1": "Slot 1 Offset 0x0 Length 0 Length (physical) 0",
                                    "2": "KeyHashValue",
                                    "3": "(0200fcfd7630)"
                                },
                                {
                                    "0": "PAGE HEADER:",
                                    "1": "Slot 2 Offset 0xade Length 74",
                                    "2": "Record Type",
                                    "3": "PRIMARY_RECORD"
                                },
                                {
                                    "0": "PAGE HEADER:",
                                    "1": "Slot 2 Offset 0xade Length 74",
                                    "2": "Record Attributes",
                                    "3": " NULL_BITMAP VARIABLE_COLUMNS"
                                },
                                {
                                    "0": "PAGE HEADER:",
                                    "1": "Slot 2 Offset 0xade Length 74",
                                    "2": "Record Size",
                                    "3": "74"
                                },
                                {
                                    "0": "Slot 2 Offset 0xade Length 74",
                                    "1": "Memory Dump @0x000000036A988ADE",
                                    "2": "",
                                    "3": "0000000000000000:   30003000 ee3b61a1 01000000 0008000e 00552000  0.0.î;a¡.........U ."
                                },
                                {
                                    "0": "Slot 2 Offset 0xade Length 74",
                                    "1": "Memory Dump @0x000000036A988ADE",
                                    "2": "",
                                    "3": "0000000000000014:   00000001 01000000 6c0c8001 25ab0000 dc7e8001  ........l...%«..Ü~.."
                                },
                                {
                                    "0": "Slot 2 Offset 0xade Length 74",
                                    "1": "Memory Dump @0x000000036A988ADE",
                                    "2": "",
                                    "3": "0000000000000028:   25ab0000 00000000 0c000000 01004a00 23004100  %«............J.#.A."
                                },
                                {
                                    "0": "Slot 2 Offset 0xade Length 74",
                                    "1": "Memory Dump @0x000000036A988ADE",
                                    "2": "",
                                    "3": "000000000000003C:   31003600 31003300 42004500 4500               1.6.1.3.B.E.E."
                                },
                                {
                                    "0": "Slot 2 Offset 0xade Length 74",
                                    "1": "Slot 2 Column 1 Offset 0x4 Length 4 Length (physical) 4",
                                    "2": "id",
                                    "3": "-1587463186"
                                },
                                {
                                    "0": "Slot 2 Offset 0xade Length 74",
                                    "1": "Slot 2 Column 2 Offset 0x38 Length 18 Length (physical) 18",
                                    "2": "name",
                                    "3": "#A1613BEE"
                                },
                                {
                                    "0": "Slot 2 Offset 0xade Length 74",
                                    "1": "Slot 2 Column 3 Offset 0x8 Length 4 Length (physical) 4",
                                    "2": "nsid",
                                    "3": "1"
                                },
                                {
                                    "0": "Slot 2 Offset 0xade Length 74",
                                    "1": "Slot 2 Column 4 Offset 0xc Length 1 Length (physical) 1",
                                    "2": "nsclass",
                                    "3": "0"
                                },
                                {
                                    "0": "Slot 2 Offset 0xade Length 74",
                                    "1": "Slot 2 Column 5 Offset 0xd Length 4 Length (physical) 4",
                                    "2": "status",
                                    "3": "917512"
                                },
                                {
                                    "0": "Slot 2 Offset 0xade Length 74",
                                    "1": "Slot 2 Column 6 Offset 0x11 Length 2 Length (physical) 2",
                                    "2": "type",
                                    "3": "U "
                                },
                                {
                                    "0": "Slot 2 Offset 0xade Length 74",
                                    "1": "Slot 2 Column 7 Offset 0x13 Length 4 Length (physical) 4",
                                    "2": "pid",
                                    "3": "0"
                                },
                                {
                                    "0": "Slot 2 Offset 0xade Length 74",
                                    "1": "Slot 2 Column 8 Offset 0x17 Length 1 Length (physical) 1",
                                    "2": "pclass",
                                    "3": "1"
                                },
                                {
                                    "0": "Slot 2 Offset 0xade Length 74",
                                    "1": "Slot 2 Column 9 Offset 0x18 Length 4 Length (physical) 4",
                                    "2": "intprop",
                                    "3": "1"
                                },
                                {
                                    "0": "Slot 2 Offset 0xade Length 74",
                                    "1": "Slot 2 Column 10 Offset 0x1c Length 8 Length (physical) 8",
                                    "2": "created",
                                    "3": "2019-12-16 23:18:16.680"
                                },
                                {
                                    "0": "Slot 2 Offset 0xade Length 74",
                                    "1": "Slot 2 Column 11 Offset 0x24 Length 8 Length (physical) 8",
                                    "2": "modified",
                                    "3": "2019-12-16 23:19:54.333"
                                },
                                {
                                    "0": "Slot 2 Offset 0xade Length 74",
                                    "1": "Slot 2 Column 12 Offset 0x2c Length 4 Length (physical) 4",
                                    "2": "status2",
                                    "3": "0"
                                },
                                {
                                    "0": "Slot 2 Offset 0xade Length 74",
                                    "1": "Slot 2 Offset 0x0 Length 0 Length (physical) 0",
                                    "2": "KeyHashValue",
                                    "3": "(53f3df89b241)"
                                },
                                {
                                    "0": "PAGE HEADER:",
                                    "1": "Slot 3 Offset 0x188 Length 74",
                                    "2": "Record Type",
                                    "3": "PRIMARY_RECORD"
                                },
                                {
                                    "0": "PAGE HEADER:",
                                    "1": "Slot 3 Offset 0x188 Length 74",
                                    "2": "Record Attributes",
                                    "3": " NULL_BITMAP VARIABLE_COLUMNS"
                                },
                                {
                                    "0": "PAGE HEADER:",
                                    "1": "Slot 3 Offset 0x188 Length 74",
                                    "2": "Record Size",
                                    "3": "74"
                                },
                                {
                                    "0": "Slot 3 Offset 0x188 Length 74",
                                    "1": "Memory Dump @0x000000036A988188",
                                    "2": "",
                                    "3": "0000000000000000:   30003000 9590e8a1 01000000 0008000e 00552000  0.0..è¡.........U ."
                                },
                                {
                                    "0": "Slot 3 Offset 0x188 Length 74",
                                    "1": "Memory Dump @0x000000036A988188",
                                    "2": "",
                                    "3": "0000000000000014:   00000001 01000000 300c8001 25ab0000 db7e8001  ........0...%«..Û~.."
                                },
                                {
                                    "0": "Slot 3 Offset 0x188 Length 74",
                                    "1": "Memory Dump @0x000000036A988188",
                                    "2": "",
                                    "3": "0000000000000028:   25ab0000 00000000 0c000000 01004a00 23004100  %«............J.#.A."
                                },
                                {
                                    "0": "Slot 3 Offset 0x188 Length 74",
                                    "1": "Memory Dump @0x000000036A988188",
                                    "2": "",
                                    "3": "000000000000003C:   31004500 38003900 30003900 3500               1.E.8.9.0.9.5."
                                },
                                {
                                    "0": "Slot 3 Offset 0x188 Length 74",
                                    "1": "Slot 3 Column 1 Offset 0x4 Length 4 Length (physical) 4",
                                    "2": "id",
                                    "3": "-1578594155"
                                },
                                {
                                    "0": "Slot 3 Offset 0x188 Length 74",
                                    "1": "Slot 3 Column 2 Offset 0x38 Length 18 Length (physical) 18",
                                    "2": "name",
                                    "3": "#A1E89095"
                                },
                                {
                                    "0": "Slot 3 Offset 0x188 Length 74",
                                    "1": "Slot 3 Column 3 Offset 0x8 Length 4 Length (physical) 4",
                                    "2": "nsid",
                                    "3": "1"
                                },
                                {
                                    "0": "Slot 3 Offset 0x188 Length 74",
                                    "1": "Slot 3 Column 4 Offset 0xc Length 1 Length (physical) 1",
                                    "2": "nsclass",
                                    "3": "0"
                                },
                                {
                                    "0": "Slot 3 Offset 0x188 Length 74",
                                    "1": "Slot 3 Column 5 Offset 0xd Length 4 Length (physical) 4",
                                    "2": "status",
                                    "3": "917512"
                                },
                                {
                                    "0": "Slot 3 Offset 0x188 Length 74",
                                    "1": "Slot 3 Column 6 Offset 0x11 Length 2 Length (physical) 2",
                                    "2": "type",
                                    "3": "U "
                                },
                                {
                                    "0": "Slot 3 Offset 0x188 Length 74",
                                    "1": "Slot 3 Column 7 Offset 0x13 Length 4 Length (physical) 4",
                                    "2": "pid",
                                    "3": "0"
                                },
                                {
                                    "0": "Slot 3 Offset 0x188 Length 74",
                                    "1": "Slot 3 Column 8 Offset 0x17 Length 1 Length (physical) 1",
                                    "2": "pclass",
                                    "3": "1"
                                },
                                {
                                    "0": "Slot 3 Offset 0x188 Length 74",
                                    "1": "Slot 3 Column 9 Offset 0x18 Length 4 Length (physical) 4",
                                    "2": "intprop",
                                    "3": "1"
                                },
                                {
                                    "0": "Slot 3 Offset 0x188 Length 74",
                                    "1": "Slot 3 Column 10 Offset 0x1c Length 8 Length (physical) 8",
                                    "2": "created",
                                    "3": "2019-12-16 23:18:16.480"
                                },
                                {
                                    "0": "Slot 3 Offset 0x188 Length 74",
                                    "1": "Slot 3 Column 11 Offset 0x24 Length 8 Length (physical) 8",
                                    "2": "modified",
                                    "3": "2019-12-16 23:19:54.330"
                                },
                                {
                                    "0": "Slot 3 Offset 0x188 Length 74",
                                    "1": "Slot 3 Column 12 Offset 0x2c Length 4 Length (physical) 4",
                                    "2": "status2",
                                    "3": "0"
                                },
                                {
                                    "0": "Slot 3 Offset 0x188 Length 74",
                                    "1": "Slot 3 Offset 0x0 Length 0 Length (physical) 0",
                                    "2": "KeyHashValue",
                                    "3": "(84e6005513d5)"
                                },
                                {
                                    "0": "PAGE HEADER:",
                                    "1": "Slot 4 Offset 0x5b4 Length 74",
                                    "2": "Record Type",
                                    "3": "PRIMARY_RECORD"
                                },
                                {
                                    "0": "PAGE HEADER:",
                                    "1": "Slot 4 Offset 0x5b4 Length 74",
                                    "2": "Record Attributes",
                                    "3": " NULL_BITMAP VARIABLE_COLUMNS"
                                },
                                {
                                    "0": "PAGE HEADER:",
                                    "1": "Slot 4 Offset 0x5b4 Length 74",
                                    "2": "Record Size",
                                    "3": "74"
                                },
                                {
                                    "0": "Slot 4 Offset 0x5b4 Length 74",
                                    "1": "Memory Dump @0x000000036A9885B4",
                                    "2": "",
                                    "3": "0000000000000000:   30003000 276055a2 01000000 0008000e 00552000  0.0.'`U¢.........U ."
                                },
                                {
                                    "0": "Slot 4 Offset 0x5b4 Length 74",
                                    "1": "Memory Dump @0x000000036A9885B4",
                                    "2": "",
                                    "3": "0000000000000014:   00000001 01000000 780c8001 25ab0000 db7e8001  ........x...%«..Û~.."
                                },
                                {
                                    "0": "Slot 4 Offset 0x5b4 Length 74",
                                    "1": "Memory Dump @0x000000036A9885B4",
                                    "2": "",
                                    "3": "0000000000000028:   25ab0000 00000000 0c000000 01004a00 23004100  %«............J.#.A."
                                },
                                {
                                    "0": "Slot 4 Offset 0x5b4 Length 74",
                                    "1": "Memory Dump @0x000000036A9885B4",
                                    "2": "",
                                    "3": "000000000000003C:   32003500 35003600 30003200 3700               2.5.5.6.0.2.7."
                                },
                                {
                                    "0": "Slot 4 Offset 0x5b4 Length 74",
                                    "1": "Slot 4 Column 1 Offset 0x4 Length 4 Length (physical) 4",
                                    "2": "id",
                                    "3": "-1571463129"
                                },
                                {
                                    "0": "Slot 4 Offset 0x5b4 Length 74",
                                    "1": "Slot 4 Column 2 Offset 0x38 Length 18 Length (physical) 18",
                                    "2": "name",
                                    "3": "#A2556027"
                                },
                                {
                                    "0": "Slot 4 Offset 0x5b4 Length 74",
                                    "1": "Slot 4 Column 3 Offset 0x8 Length 4 Length (physical) 4",
                                    "2": "nsid",
                                    "3": "1"
                                },
                                {
                                    "0": "Slot 4 Offset 0x5b4 Length 74",
                                    "1": "Slot 4 Column 4 Offset 0xc Length 1 Length (physical) 1",
                                    "2": "nsclass",
                                    "3": "0"
                                },
                                {
                                    "0": "Slot 4 Offset 0x5b4 Length 74",
                                    "1": "Slot 4 Column 5 Offset 0xd Length 4 Length (physical) 4",
                                    "2": "status",
                                    "3": "917512"
                                },
                                {
                                    "0": "Slot 4 Offset 0x5b4 Length 74",
                                    "1": "Slot 4 Column 6 Offset 0x11 Length 2 Length (physical) 2",
                                    "2": "type",
                                    "3": "U "
                                },
                                {
                                    "0": "Slot 4 Offset 0x5b4 Length 74",
                                    "1": "Slot 4 Column 7 Offset 0x13 Length 4 Length (physical) 4",
                                    "2": "pid",
                                    "3": "0"
                                },
                                {
                                    "0": "Slot 4 Offset 0x5b4 Length 74",
                                    "1": "Slot 4 Column 8 Offset 0x17 Length 1 Length (physical) 1",
                                    "2": "pclass",
                                    "3": "1"
                                },
                                {
                                    "0": "Slot 4 Offset 0x5b4 Length 74",
                                    "1": "Slot 4 Column 9 Offset 0x18 Length 4 Length (physical) 4",
                                    "2": "intprop",
                                    "3": "1"
                                },
                                {
                                    "0": "Slot 4 Offset 0x5b4 Length 74",
                                    "1": "Slot 4 Column 10 Offset 0x1c Length 8 Length (physical) 8",
                                    "2": "created",
                                    "3": "2019-12-16 23:18:16.720"
                                },
                                {
                                    "0": "Slot 4 Offset 0x5b4 Length 74",
                                    "1": "Slot 4 Column 11 Offset 0x24 Length 8 Length (physical) 8",
                                    "2": "modified",
                                    "3": "2019-12-16 23:19:54.330"
                                },
                                {
                                    "0": "Slot 4 Offset 0x5b4 Length 74",
                                    "1": "Slot 4 Column 12 Offset 0x2c Length 4 Length (physical) 4",
                                    "2": "status2",
                                    "3": "0"
                                },
                                {
                                    "0": "Slot 4 Offset 0x5b4 Length 74",
                                    "1": "Slot 4 Offset 0x0 Length 0 Length (physical) 0",
                                    "2": "KeyHashValue",
                                    "3": "(3bb514be4c28)"
                                },
                                {
                                    "0": "PAGE HEADER:",
                                    "1": "Slot 5 Offset 0x13e Length 74",
                                    "2": "Record Type",
                                    "3": "PRIMARY_RECORD"
                                },
                                {
                                    "0": "PAGE HEADER:",
                                    "1": "Slot 5 Offset 0x13e Length 74",
                                    "2": "Record Attributes",
                                    "3": " NULL_BITMAP VARIABLE_COLUMNS"
                                },
                                {
                                    "0": "PAGE HEADER:",
                                    "1": "Slot 5 Offset 0x13e Length 74",
                                    "2": "Record Size",
                                    "3": "74"
                                },
                                {
                                    "0": "Slot 5 Offset 0x13e Length 74",
                                    "1": "Memory Dump @0x000000036A98813E",
                                    "2": "",
                                    "3": "0000000000000000:   30003000 ceb4dca2 01000000 0008000e 00552000  0.0.Î´Ü¢.........U ."
                                },
                                {
                                    "0": "Slot 5 Offset 0x13e Length 74",
                                    "1": "Memory Dump @0x000000036A98813E",
                                    "2": "",
                                    "3": "0000000000000014:   00000001 01000000 300c8001 25ab0000 db7e8001  ........0...%«..Û~.."
                                },
                                {
                                    "0": "Slot 5 Offset 0x13e Length 74",
                                    "1": "Memory Dump @0x000000036A98813E",
                                    "2": "",
                                    "3": "0000000000000028:   25ab0000 00000000 0c000000 01004a00 23004100  %«............J.#.A."
                                },
                                {
                                    "0": "Slot 5 Offset 0x13e Length 74",
                                    "1": "Memory Dump @0x000000036A98813E",
                                    "2": "",
                                    "3": "000000000000003C:   32004400 43004200 34004300 4500               2.D.C.B.4.C.E."
                                },
                                {
                                    "0": "Slot 5 Offset 0x13e Length 74",
                                    "1": "Slot 5 Column 1 Offset 0x4 Length 4 Length (physical) 4",
                                    "2": "id",
                                    "3": "-1562594098"
                                },
                                {
                                    "0": "Slot 5 Offset 0x13e Length 74",
                                    "1": "Slot 5 Column 2 Offset 0x38 Length 18 Length (physical) 18",
                                    "2": "name",
                                    "3": "#A2DCB4CE"
                                },
                                {
                                    "0": "Slot 5 Offset 0x13e Length 74",
                                    "1": "Slot 5 Column 3 Offset 0x8 Length 4 Length (physical) 4",
                                    "2": "nsid",
                                    "3": "1"
                                },
                                {
                                    "0": "Slot 5 Offset 0x13e Length 74",
                                    "1": "Slot 5 Column 4 Offset 0xc Length 1 Length (physical) 1",
                                    "2": "nsclass",
                                    "3": "0"
                                },
                                {
                                    "0": "Slot 5 Offset 0x13e Length 74",
                                    "1": "Slot 5 Column 5 Offset 0xd Length 4 Length (physical) 4",
                                    "2": "status",
                                    "3": "917512"
                                },
                                {
                                    "0": "Slot 5 Offset 0x13e Length 74",
                                    "1": "Slot 5 Column 6 Offset 0x11 Length 2 Length (physical) 2",
                                    "2": "type",
                                    "3": "U "
                                },
                                {
                                    "0": "Slot 5 Offset 0x13e Length 74",
                                    "1": "Slot 5 Column 7 Offset 0x13 Length 4 Length (physical) 4",
                                    "2": "pid",
                                    "3": "0"
                                },
                                {
                                    "0": "Slot 5 Offset 0x13e Length 74",
                                    "1": "Slot 5 Column 8 Offset 0x17 Length 1 Length (physical) 1",
                                    "2": "pclass",
                                    "3": "1"
                                },
                                {
                                    "0": "Slot 5 Offset 0x13e Length 74",
                                    "1": "Slot 5 Column 9 Offset 0x18 Length 4 Length (physical) 4",
                                    "2": "intprop",
                                    "3": "1"
                                },
                                {
                                    "0": "Slot 5 Offset 0x13e Length 74",
                                    "1": "Slot 5 Column 10 Offset 0x1c Length 8 Length (physical) 8",
                                    "2": "created",
                                    "3": "2019-12-16 23:18:16.480"
                                },
                                {
                                    "0": "Slot 5 Offset 0x13e Length 74",
                                    "1": "Slot 5 Column 11 Offset 0x24 Length 8 Length (physical) 8",
                                    "2": "modified",
                                    "3": "2019-12-16 23:19:54.330"
                                },
                                {
                                    "0": "Slot 5 Offset 0x13e Length 74",
                                    "1": "Slot 5 Column 12 Offset 0x2c Length 4 Length (physical) 4",
                                    "2": "status2",
                                    "3": "0"
                                },
                                {
                                    "0": "Slot 5 Offset 0x13e Length 74",
                                    "1": "Slot 5 Offset 0x0 Length 0 Length (physical) 0",
                                    "2": "KeyHashValue",
                                    "3": "(34d52864e721)"
                                },
                                {
                                    "0": "PAGE HEADER:",
                                    "1": "Slot 6 Offset 0x6ec Length 74",
                                    "2": "Record Type",
                                    "3": "PRIMARY_RECORD"
                                },
                                {
                                    "0": "PAGE HEADER:",
                                    "1": "Slot 6 Offset 0x6ec Length 74",
                                    "2": "Record Attributes",
                                    "3": " NULL_BITMAP VARIABLE_COLUMNS"
                                },
                                {
                                    "0": "PAGE HEADER:",
                                    "1": "Slot 6 Offset 0x6ec Length 74",
                                    "2": "Record Size",
                                    "3": "74"
                                },
                                {
                                    "0": "Slot 6 Offset 0x6ec Length 74",
                                    "1": "Memory Dump @0x000000036A9886EC",
                                    "2": "",
                                    "3": "0000000000000000:   30003000 608449a3 01000000 0008000e 00552000  0.0.`I£.........U ."
                                },
                                {
                                    "0": "Slot 6 Offset 0x6ec Length 74",
                                    "1": "Memory Dump @0x000000036A9886EC",
                                    "2": "",
                                    "3": "0000000000000014:   00000001 01000000 780c8001 25ab0000 dc7e8001  ........x...%«..Ü~.."
                                },
                                {
                                    "0": "Slot 6 Offset 0x6ec Length 74",
                                    "1": "Memory Dump @0x000000036A9886EC",
                                    "2": "",
                                    "3": "0000000000000028:   25ab0000 00000000 0c000000 01004a00 23004100  %«............J.#.A."
                                },
                                {
                                    "0": "Slot 6 Offset 0x6ec Length 74",
                                    "1": "Memory Dump @0x000000036A9886EC",
                                    "2": "",
                                    "3": "000000000000003C:   33003400 39003800 34003600 3000               3.4.9.8.4.6.0."
                                },
                                {
                                    "0": "Slot 6 Offset 0x6ec Length 74",
                                    "1": "Slot 6 Column 1 Offset 0x4 Length 4 Length (physical) 4",
                                    "2": "id",
                                    "3": "-1555463072"
                                },
                                {
                                    "0": "Slot 6 Offset 0x6ec Length 74",
                                    "1": "Slot 6 Column 2 Offset 0x38 Length 18 Length (physical) 18",
                                    "2": "name",
                                    "3": "#A3498460"
                                },
                                {
                                    "0": "Slot 6 Offset 0x6ec Length 74",
                                    "1": "Slot 6 Column 3 Offset 0x8 Length 4 Length (physical) 4",
                                    "2": "nsid",
                                    "3": "1"
                                },
                                {
                                    "0": "Slot 6 Offset 0x6ec Length 74",
                                    "1": "Slot 6 Column 4 Offset 0xc Length 1 Length (physical) 1",
                                    "2": "nsclass",
                                    "3": "0"
                                },
                                {
                                    "0": "Slot 6 Offset 0x6ec Length 74",
                                    "1": "Slot 6 Column 5 Offset 0xd Length 4 Length (physical) 4",
                                    "2": "status",
                                    "3": "917512"
                                },
                                {
                                    "0": "Slot 6 Offset 0x6ec Length 74",
                                    "1": "Slot 6 Column 6 Offset 0x11 Length 2 Length (physical) 2",
                                    "2": "type",
                                    "3": "U "
                                },
                                {
                                    "0": "Slot 6 Offset 0x6ec Length 74",
                                    "1": "Slot 6 Column 7 Offset 0x13 Length 4 Length (physical) 4",
                                    "2": "pid",
                                    "3": "0"
                                },
                                {
                                    "0": "Slot 6 Offset 0x6ec Length 74",
                                    "1": "Slot 6 Column 8 Offset 0x17 Length 1 Length (physical) 1",
                                    "2": "pclass",
                                    "3": "1"
                                },
                                {
                                    "0": "Slot 6 Offset 0x6ec Length 74",
                                    "1": "Slot 6 Column 9 Offset 0x18 Length 4 Length (physical) 4",
                                    "2": "intprop",
                                    "3": "1"
                                },
                                {
                                    "0": "Slot 6 Offset 0x6ec Length 74",
                                    "1": "Slot 6 Column 10 Offset 0x1c Length 8 Length (physical) 8",
                                    "2": "created",
                                    "3": "2019-12-16 23:18:16.720"
                                },
                                {
                                    "0": "Slot 6 Offset 0x6ec Length 74",
                                    "1": "Slot 6 Column 11 Offset 0x24 Length 8 Length (physical) 8",
                                    "2": "modified",
                                    "3": "2019-12-16 23:19:54.333"
                                },
                                {
                                    "0": "Slot 6 Offset 0x6ec Length 74",
                                    "1": "Slot 6 Column 12 Offset 0x2c Length 4 Length (physical) 4",
                                    "2": "status2",
                                    "3": "0"
                                },
                                {
                                    "0": "Slot 6 Offset 0x6ec Length 74",
                                    "1": "Slot 6 Offset 0x0 Length 0 Length (physical) 0",
                                    "2": "KeyHashValue",
                                    "3": "(bfcac36256dc)"
                                },
                                {
                                    "0": "PAGE HEADER:",
                                    "1": "Slot 7 Offset 0x1d2 Length 74",
                                    "2": "Record Type",
                                    "3": "PRIMARY_RECORD"
                                },
                                {
                                    "0": "PAGE HEADER:",
                                    "1": "Slot 7 Offset 0x1d2 Length 74",
                                    "2": "Record Attributes",
                                    "3": " NULL_BITMAP VARIABLE_COLUMNS"
                                },
                                {
                                    "0": "PAGE HEADER:",
                                    "1": "Slot 7 Offset 0x1d2 Length 74",
                                    "2": "Record Size",
                                    "3": "74"
                                },
                                {
                                    "0": "Slot 7 Offset 0x1d2 Length 74",
                                    "1": "Memory Dump @0x000000036A9881D2",
                                    "2": "",
                                    "3": "0000000000000000:   30003000 07d9d0a3 01000000 0008000e 00552000  0.0..ÙÐ£.........U ."
                                },
                                {
                                    "0": "Slot 7 Offset 0x1d2 Length 74",
                                    "1": "Memory Dump @0x000000036A9881D2",
                                    "2": "",
                                    "3": "0000000000000014:   00000001 01000000 300c8001 25ab0000 be7e8001  ........0...%«..¾~.."
                                },
                                {
                                    "0": "Slot 7 Offset 0x1d2 Length 74",
                                    "1": "Memory Dump @0x000000036A9881D2",
                                    "2": "",
                                    "3": "0000000000000028:   25ab0000 00000000 0c000000 01004a00 23004100  %«............J.#.A."
                                },
                                {
                                    "0": "Slot 7 Offset 0x1d2 Length 74",
                                    "1": "Memory Dump @0x000000036A9881D2",
                                    "2": "",
                                    "3": "000000000000003C:   33004400 30004400 39003000 3700               3.D.0.D.9.0.7."
                                },
                                {
                                    "0": "Slot 7 Offset 0x1d2 Length 74",
                                    "1": "Slot 7 Column 1 Offset 0x4 Length 4 Length (physical) 4",
                                    "2": "id",
                                    "3": "-1546594041"
                                },
                                {
                                    "0": "Slot 7 Offset 0x1d2 Length 74",
                                    "1": "Slot 7 Column 2 Offset 0x38 Length 18 Length (physical) 18",
                                    "2": "name",
                                    "3": "#A3D0D907"
                                },
                                {
                                    "0": "Slot 7 Offset 0x1d2 Length 74",
                                    "1": "Slot 7 Column 3 Offset 0x8 Length 4 Length (physical) 4",
                                    "2": "nsid",
                                    "3": "1"
                                },
                                {
                                    "0": "Slot 7 Offset 0x1d2 Length 74",
                                    "1": "Slot 7 Column 4 Offset 0xc Length 1 Length (physical) 1",
                                    "2": "nsclass",
                                    "3": "0"
                                },
                                {
                                    "0": "Slot 7 Offset 0x1d2 Length 74",
                                    "1": "Slot 7 Column 5 Offset 0xd Length 4 Length (physical) 4",
                                    "2": "status",
                                    "3": "917512"
                                },
                                {
                                    "0": "Slot 7 Offset 0x1d2 Length 74",
                                    "1": "Slot 7 Column 6 Offset 0x11 Length 2 Length (physical) 2",
                                    "2": "type",
                                    "3": "U "
                                },
                                {
                                    "0": "Slot 7 Offset 0x1d2 Length 74",
                                    "1": "Slot 7 Column 7 Offset 0x13 Length 4 Length (physical) 4",
                                    "2": "pid",
                                    "3": "0"
                                },
                                {
                                    "0": "Slot 7 Offset 0x1d2 Length 74",
                                    "1": "Slot 7 Column 8 Offset 0x17 Length 1 Length (physical) 1",
                                    "2": "pclass",
                                    "3": "1"
                                },
                                {
                                    "0": "Slot 7 Offset 0x1d2 Length 74",
                                    "1": "Slot 7 Column 9 Offset 0x18 Length 4 Length (physical) 4",
                                    "2": "intprop",
                                    "3": "1"
                                },
                                {
                                    "0": "Slot 7 Offset 0x1d2 Length 74",
                                    "1": "Slot 7 Column 10 Offset 0x1c Length 8 Length (physical) 8",
                                    "2": "created",
                                    "3": "2019-12-16 23:18:16.480"
                                },
                                {
                                    "0": "Slot 7 Offset 0x1d2 Length 74",
                                    "1": "Slot 7 Column 11 Offset 0x24 Length 8 Length (physical) 8",
                                    "2": "modified",
                                    "3": "2019-12-16 23:19:54.233"
                                },
                                {
                                    "0": "Slot 7 Offset 0x1d2 Length 74",
                                    "1": "Slot 7 Column 12 Offset 0x2c Length 4 Length (physical) 4",
                                    "2": "status2",
                                    "3": "0"
                                },
                                {
                                    "0": "Slot 7 Offset 0x1d2 Length 74",
                                    "1": "Slot 7 Offset 0x0 Length 0 Length (physical) 0",
                                    "2": "KeyHashValue",
                                    "3": "(6881b1a1cb25)"
                                },
                                {
                                    "0": "PAGE HEADER:",
                                    "1": "Slot 8 Offset 0x86e Length 74",
                                    "2": "Record Type",
                                    "3": "PRIMARY_RECORD"
                                },
                                {
                                    "0": "PAGE HEADER:",
                                    "1": "Slot 8 Offset 0x86e Length 74",
                                    "2": "Record Attributes",
                                    "3": " NULL_BITMAP VARIABLE_COLUMNS"
                                },
                                {
                                    "0": "PAGE HEADER:",
                                    "1": "Slot 8 Offset 0x86e Length 74",
                                    "2": "Record Size",
                                    "3": "74"
                                },
                                {
                                    "0": "Slot 8 Offset 0x86e Length 74",
                                    "1": "Memory Dump @0x000000036A98886E",
                                    "2": "",
                                    "3": "0000000000000000:   30003000 99a83da4 01000000 0008000e 00552000  0.0..¨=¤.........U ."
                                },
                                {
                                    "0": "Slot 8 Offset 0x86e Length 74",
                                    "1": "Memory Dump @0x000000036A98886E",
                                    "2": "",
                                    "3": "0000000000000014:   00000001 01000000 780c8001 25ab0000 dc7e8001  ........x...%«..Ü~.."
                                },
                                {
                                    "0": "Slot 8 Offset 0x86e Length 74",
                                    "1": "Memory Dump @0x000000036A98886E",
                                    "2": "",
                                    "3": "0000000000000028:   25ab0000 00000000 0c000000 01004a00 23004100  %«............J.#.A."
                                },
                                {
                                    "0": "Slot 8 Offset 0x86e Length 74",
                                    "1": "Memory Dump @0x000000036A98886E",
                                    "2": "",
                                    "3": "000000000000003C:   34003300 44004100 38003900 3900               4.3.D.A.8.9.9."
                                },
                                {
                                    "0": "Slot 8 Offset 0x86e Length 74",
                                    "1": "Slot 8 Column 1 Offset 0x4 Length 4 Length (physical) 4",
                                    "2": "id",
                                    "3": "-1539463015"
                                },
                                {
                                    "0": "Slot 8 Offset 0x86e Length 74",
                                    "1": "Slot 8 Column 2 Offset 0x38 Length 18 Length (physical) 18",
                                    "2": "name",
                                    "3": "#A43DA899"
                                },
                                {
                                    "0": "Slot 8 Offset 0x86e Length 74",
                                    "1": "Slot 8 Column 3 Offset 0x8 Length 4 Length (physical) 4",
                                    "2": "nsid",
                                    "3": "1"
                                },
                                {
                                    "0": "Slot 8 Offset 0x86e Length 74",
                                    "1": "Slot 8 Column 4 Offset 0xc Length 1 Length (physical) 1",
                                    "2": "nsclass",
                                    "3": "0"
                                },
                                {
                                    "0": "Slot 8 Offset 0x86e Length 74",
                                    "1": "Slot 8 Column 5 Offset 0xd Length 4 Length (physical) 4",
                                    "2": "status",
                                    "3": "917512"
                                },
                                {
                                    "0": "Slot 8 Offset 0x86e Length 74",
                                    "1": "Slot 8 Column 6 Offset 0x11 Length 2 Length (physical) 2",
                                    "2": "type",
                                    "3": "U "
                                },
                                {
                                    "0": "Slot 8 Offset 0x86e Length 74",
                                    "1": "Slot 8 Column 7 Offset 0x13 Length 4 Length (physical) 4",
                                    "2": "pid",
                                    "3": "0"
                                },
                                {
                                    "0": "Slot 8 Offset 0x86e Length 74",
                                    "1": "Slot 8 Column 8 Offset 0x17 Length 1 Length (physical) 1",
                                    "2": "pclass",
                                    "3": "1"
                                },
                                {
                                    "0": "Slot 8 Offset 0x86e Length 74",
                                    "1": "Slot 8 Column 9 Offset 0x18 Length 4 Length (physical) 4",
                                    "2": "intprop",
                                    "3": "1"
                                },
                                {
                                    "0": "Slot 8 Offset 0x86e Length 74",
                                    "1": "Slot 8 Column 10 Offset 0x1c Length 8 Length (physical) 8",
                                    "2": "created",
                                    "3": "2019-12-16 23:18:16.720"
                                },
                                {
                                    "0": "Slot 8 Offset 0x86e Length 74",
                                    "1": "Slot 8 Column 11 Offset 0x24 Length 8 Length (physical) 8",
                                    "2": "modified",
                                    "3": "2019-12-16 23:19:54.333"
                                },
                                {
                                    "0": "Slot 8 Offset 0x86e Length 74",
                                    "1": "Slot 8 Column 12 Offset 0x2c Length 4 Length (physical) 4",
                                    "2": "status2",
                                    "3": "0"
                                },
                                {
                                    "0": "Slot 8 Offset 0x86e Length 74",
                                    "1": "Slot 8 Offset 0x0 Length 0 Length (physical) 0",
                                    "2": "KeyHashValue",
                                    "3": "(8946193699a9)"
                                },
                                {
                                    "0": "PAGE HEADER:",
                                    "1": "Slot 9 Offset 0xfbe Length 312",
                                    "2": "Record Type",
                                    "3": "PRIMARY_RECORD"
                                },
                                {
                                    "0": "PAGE HEADER:",
                                    "1": "Slot 9 Offset 0xfbe Length 312",
                                    "2": "Record Attributes",
                                    "3": " NULL_BITMAP VARIABLE_COLUMNS"
                                },
                                {
                                    "0": "PAGE HEADER:",
                                    "1": "Slot 9 Offset 0xfbe Length 312",
                                    "2": "Record Size",
                                    "3": "312"
                                },
                                {
                                    "0": "Slot 9 Offset 0xfbe Length 312",
                                    "1": "Memory Dump @0x000000036A988FBE",
                                    "2": "",
                                    "3": "0000000000000000:   30003000 40fdc4a4 01000000 0008000e 00552000  0.0.@ýÄ¤.........U ."
                                },
                                {
                                    "0": "Slot 9 Offset 0xfbe Length 312",
                                    "1": "Memory Dump @0x000000036A988FBE",
                                    "2": "",
                                    "3": "0000000000000014:   00000001 01000000 380c8001 25ab0000 db7e8001  ........8...%«..Û~.."
                                },
                                {
                                    "0": "Slot 9 Offset 0xfbe Length 312",
                                    "1": "Memory Dump @0x000000036A988FBE",
                                    "2": "",
                                    "3": "0000000000000028:   25ab0000 00000000 0c000000 01003801 23006700  %«............8.#.g."
                                },
                                {
                                    "0": "Slot 9 Offset 0xfbe Length 312",
                                    "1": "Memory Dump @0x000000036A988FBE",
                                    "2": "",
                                    "3": "000000000000003C:   6f007300 6f007800 5f005f00 5f005f00 5f005f00  o.s.o.x._._._._._._."
                                },
                                {
                                    "0": "Slot 9 Offset 0xfbe Length 312",
                                    "1": "Memory Dump @0x000000036A988FBE",
                                    "2": "",
                                    "3": "0000000000000050:   5f005f00 5f005f00 5f005f00 5f005f00 5f005f00  _._._._._._._._._._."
                                },
                                {
                                    "0": "Slot 9 Offset 0xfbe Length 312",
                                    "1": "Memory Dump @0x000000036A988FBE",
                                    "2": "",
                                    "3": "0000000000000064:   5f005f00 5f005f00 5f005f00 5f005f00 5f005f00  _._._._._._._._._._."
                                },
                                {
                                    "0": "Slot 9 Offset 0xfbe Length 312",
                                    "1": "Memory Dump @0x000000036A988FBE",
                                    "2": "",
                                    "3": "0000000000000078:   5f005f00 5f005f00 5f005f00 5f005f00 5f005f00  _._._._._._._._._._."
                                },
                                {
                                    "0": "Slot 9 Offset 0xfbe Length 312",
                                    "1": "Memory Dump @0x000000036A988FBE",
                                    "2": "",
                                    "3": "000000000000008C:   5f005f00 5f005f00 5f005f00 5f005f00 5f005f00  _._._._._._._._._._."
                                },
                                {
                                    "0": "Slot 9 Offset 0xfbe Length 312",
                                    "1": "Memory Dump @0x000000036A988FBE",
                                    "2": "",
                                    "3": "00000000000000A0:   5f005f00 5f005f00 5f005f00 5f005f00 5f005f00  _._._._._._._._._._."
                                },
                                {
                                    "0": "Slot 9 Offset 0xfbe Length 312",
                                    "1": "Memory Dump @0x000000036A988FBE",
                                    "2": "",
                                    "3": "00000000000000B4:   5f005f00 5f005f00 5f005f00 5f005f00 5f005f00  _._._._._._._._._._."
                                },
                                {
                                    "0": "Slot 9 Offset 0xfbe Length 312",
                                    "1": "Memory Dump @0x000000036A988FBE",
                                    "2": "",
                                    "3": "00000000000000C8:   5f005f00 5f005f00 5f005f00 5f005f00 5f005f00  _._._._._._._._._._."
                                },
                                {
                                    "0": "Slot 9 Offset 0xfbe Length 312",
                                    "1": "Memory Dump @0x000000036A988FBE",
                                    "2": "",
                                    "3": "00000000000000DC:   5f005f00 5f005f00 5f005f00 5f005f00 5f005f00  _._._._._._._._._._."
                                },
                                {
                                    "0": "Slot 9 Offset 0xfbe Length 312",
                                    "1": "Memory Dump @0x000000036A988FBE",
                                    "2": "",
                                    "3": "00000000000000F0:   5f005f00 5f005f00 5f005f00 5f005f00 5f005f00  _._._._._._._._._._."
                                },
                                {
                                    "0": "Slot 9 Offset 0xfbe Length 312",
                                    "1": "Memory Dump @0x000000036A988FBE",
                                    "2": "",
                                    "3": "0000000000000104:   5f005f00 5f005f00 5f005f00 5f005f00 5f005f00  _._._._._._._._._._."
                                },
                                {
                                    "0": "Slot 9 Offset 0xfbe Length 312",
                                    "1": "Memory Dump @0x000000036A988FBE",
                                    "2": "",
                                    "3": "0000000000000118:   5f005f00 5f005f00 30003000 30003000 30003000  _._._._.0.0.0.0.0.0."
                                },
                                {
                                    "0": "Slot 9 Offset 0xfbe Length 312",
                                    "1": "Memory Dump @0x000000036A988FBE",
                                    "2": "",
                                    "3": "000000000000012C:   30003000 30003000 30003600                    0.0.0.0.0.6."
                                },
                                {
                                    "0": "Slot 9 Offset 0xfbe Length 312",
                                    "1": "Slot 9 Column 1 Offset 0x4 Length 4 Length (physical) 4",
                                    "2": "id",
                                    "3": "-1530593984"
                                },
                                {
                                    "0": "Slot 9 Offset 0xfbe Length 312",
                                    "1": "Slot 9 Column 2 Offset 0x38 Length 256 Length (physical) 256",
                                    "2": "name",
                                    "3": "#gosox______________________________________________________________________________________________________________000000000006"
                                },
                                {
                                    "0": "Slot 9 Offset 0xfbe Length 312",
                                    "1": "Slot 9 Column 3 Offset 0x8 Length 4 Length (physical) 4",
                                    "2": "nsid",
                                    "3": "1"
                                },
                                {
                                    "0": "Slot 9 Offset 0xfbe Length 312",
                                    "1": "Slot 9 Column 4 Offset 0xc Length 1 Length (physical) 1",
                                    "2": "nsclass",
                                    "3": "0"
                                },
                                {
                                    "0": "Slot 9 Offset 0xfbe Length 312",
                                    "1": "Slot 9 Column 5 Offset 0xd Length 4 Length (physical) 4",
                                    "2": "status",
                                    "3": "917512"
                                },
                                {
                                    "0": "Slot 9 Offset 0xfbe Length 312",
                                    "1": "Slot 9 Column 6 Offset 0x11 Length 2 Length (physical) 2",
                                    "2": "type",
                                    "3": "U "
                                },
                                {
                                    "0": "Slot 9 Offset 0xfbe Length 312",
                                    "1": "Slot 9 Column 7 Offset 0x13 Length 4 Length (physical) 4",
                                    "2": "pid",
                                    "3": "0"
                                },
                                {
                                    "0": "Slot 9 Offset 0xfbe Length 312",
                                    "1": "Slot 9 Column 8 Offset 0x17 Length 1 Length (physical) 1",
                                    "2": "pclass",
                                    "3": "1"
                                },
                                {
                                    "0": "Slot 9 Offset 0xfbe Length 312",
                                    "1": "Slot 9 Column 9 Offset 0x18 Length 4 Length (physical) 4",
                                    "2": "intprop",
                                    "3": "1"
                                },
                                {
                                    "0": "Slot 9 Offset 0xfbe Length 312",
                                    "1": "Slot 9 Column 10 Offset 0x1c Length 8 Length (physical) 8",
                                    "2": "created",
                                    "3": "2019-12-16 23:18:16.507"
                                },
                                {
                                    "0": "Slot 9 Offset 0xfbe Length 312",
                                    "1": "Slot 9 Column 11 Offset 0x24 Length 8 Length (physical) 8",
                                    "2": "modified",
                                    "3": "2019-12-16 23:19:54.330"
                                },
                                {
                                    "0": "Slot 9 Offset 0xfbe Length 312",
                                    "1": "Slot 9 Column 12 Offset 0x2c Length 4 Length (physical) 4",
                                    "2": "status2",
                                    "3": "0"
                                },
                                {
                                    "0": "Slot 9 Offset 0xfbe Length 312",
                                    "1": "Slot 9 Offset 0x0 Length 0 Length (physical) 0",
                                    "2": "KeyHashValue",
                                    "3": "(47f219e65d4c)"
                                },
                                {
                                    "0": "PAGE HEADER:",
                                    "1": "Slot 10 Offset 0xd4e Length 312",
                                    "2": "Record Type",
                                    "3": "PRIMARY_RECORD"
                                },
                                {
                                    "0": "PAGE HEADER:",
                                    "1": "Slot 10 Offset 0xd4e Length 312",
                                    "2": "Record Attributes",
                                    "3": " NULL_BITMAP VARIABLE_COLUMNS"
                                },
                                {
                                    "0": "PAGE HEADER:",
                                    "1": "Slot 10 Offset 0xd4e Length 312",
                                    "2": "Record Size",
                                    "3": "312"
                                },
                                {
                                    "0": "Slot 10 Offset 0xd4e Length 312",
                                    "1": "Memory Dump @0x000000036A988D4E",
                                    "2": "",
                                    "3": "0000000000000000:   30003000 d2cc31a5 01000000 0008000e 00552000  0.0.ÒÌ1¥.........U ."
                                },
                                {
                                    "0": "Slot 10 Offset 0xd4e Length 312",
                                    "1": "Memory Dump @0x000000036A988D4E",
                                    "2": "",
                                    "3": "0000000000000014:   00000001 01000000 780c8001 25ab0000 db7e8001  ........x...%«..Û~.."
                                },
                                {
                                    "0": "Slot 10 Offset 0xd4e Length 312",
                                    "1": "Memory Dump @0x000000036A988D4E",
                                    "2": "",
                                    "3": "0000000000000028:   25ab0000 00000000 0c000000 01003801 23006700  %«............8.#.g."
                                },
                                {
                                    "0": "Slot 10 Offset 0xd4e Length 312",
                                    "1": "Memory Dump @0x000000036A988D4E",
                                    "2": "",
                                    "3": "000000000000003C:   6f007300 6f007800 5f005f00 5f005f00 5f005f00  o.s.o.x._._._._._._."
                                },
                                {
                                    "0": "Slot 10 Offset 0xd4e Length 312",
                                    "1": "Memory Dump @0x000000036A988D4E",
                                    "2": "",
                                    "3": "0000000000000050:   5f005f00 5f005f00 5f005f00 5f005f00 5f005f00  _._._._._._._._._._."
                                },
                                {
                                    "0": "Slot 10 Offset 0xd4e Length 312",
                                    "1": "Memory Dump @0x000000036A988D4E",
                                    "2": "",
                                    "3": "0000000000000064:   5f005f00 5f005f00 5f005f00 5f005f00 5f005f00  _._._._._._._._._._."
                                },
                                {
                                    "0": "Slot 10 Offset 0xd4e Length 312",
                                    "1": "Memory Dump @0x000000036A988D4E",
                                    "2": "",
                                    "3": "0000000000000078:   5f005f00 5f005f00 5f005f00 5f005f00 5f005f00  _._._._._._._._._._."
                                },
                                {
                                    "0": "Slot 10 Offset 0xd4e Length 312",
                                    "1": "Memory Dump @0x000000036A988D4E",
                                    "2": "",
                                    "3": "000000000000008C:   5f005f00 5f005f00 5f005f00 5f005f00 5f005f00  _._._._._._._._._._."
                                },
                                {
                                    "0": "Slot 10 Offset 0xd4e Length 312",
                                    "1": "Memory Dump @0x000000036A988D4E",
                                    "2": "",
                                    "3": "00000000000000A0:   5f005f00 5f005f00 5f005f00 5f005f00 5f005f00  _._._._._._._._._._."
                                },
                                {
                                    "0": "Slot 10 Offset 0xd4e Length 312",
                                    "1": "Memory Dump @0x000000036A988D4E",
                                    "2": "",
                                    "3": "00000000000000B4:   5f005f00 5f005f00 5f005f00 5f005f00 5f005f00  _._._._._._._._._._."
                                },
                                {
                                    "0": "Slot 10 Offset 0xd4e Length 312",
                                    "1": "Memory Dump @0x000000036A988D4E",
                                    "2": "",
                                    "3": "00000000000000C8:   5f005f00 5f005f00 5f005f00 5f005f00 5f005f00  _._._._._._._._._._."
                                },
                                {
                                    "0": "Slot 10 Offset 0xd4e Length 312",
                                    "1": "Memory Dump @0x000000036A988D4E",
                                    "2": "",
                                    "3": "00000000000000DC:   5f005f00 5f005f00 5f005f00 5f005f00 5f005f00  _._._._._._._._._._."
                                },
                                {
                                    "0": "Slot 10 Offset 0xd4e Length 312",
                                    "1": "Memory Dump @0x000000036A988D4E",
                                    "2": "",
                                    "3": "00000000000000F0:   5f005f00 5f005f00 5f005f00 5f005f00 5f005f00  _._._._._._._._._._."
                                },
                                {
                                    "0": "Slot 10 Offset 0xd4e Length 312",
                                    "1": "Memory Dump @0x000000036A988D4E",
                                    "2": "",
                                    "3": "0000000000000104:   5f005f00 5f005f00 5f005f00 5f005f00 5f005f00  _._._._._._._._._._."
                                },
                                {
                                    "0": "Slot 10 Offset 0xd4e Length 312",
                                    "1": "Memory Dump @0x000000036A988D4E",
                                    "2": "",
                                    "3": "0000000000000118:   5f005f00 5f005f00 30003000 30003000 30003000  _._._._.0.0.0.0.0.0."
                                },
                                {
                                    "0": "Slot 10 Offset 0xd4e Length 312",
                                    "1": "Memory Dump @0x000000036A988D4E",
                                    "2": "",
                                    "3": "000000000000012C:   30003000 30003000 32003800                    0.0.0.0.2.8."
                                },
                                {
                                    "0": "Slot 10 Offset 0xd4e Length 312",
                                    "1": "Slot 10 Column 1 Offset 0x4 Length 4 Length (physical) 4",
                                    "2": "id",
                                    "3": "-1523462958"
                                },
                                {
                                    "0": "Slot 10 Offset 0xd4e Length 312",
                                    "1": "Slot 10 Column 2 Offset 0x38 Length 256 Length (physical) 256",
                                    "2": "name",
                                    "3": "#gosox______________________________________________________________________________________________________________000000000028"
                                },
                                {
                                    "0": "Slot 10 Offset 0xd4e Length 312",
                                    "1": "Slot 10 Column 3 Offset 0x8 Length 4 Length (physical) 4",
                                    "2": "nsid",
                                    "3": "1"
                                },
                                {
                                    "0": "Slot 10 Offset 0xd4e Length 312",
                                    "1": "Slot 10 Column 4 Offset 0xc Length 1 Length (physical) 1",
                                    "2": "nsclass",
                                    "3": "0"
                                },
                                {
                                    "0": "Slot 10 Offset 0xd4e Length 312",
                                    "1": "Slot 10 Column 5 Offset 0xd Length 4 Length (physical) 4",
                                    "2": "status",
                                    "3": "917512"
                                },
                                {
                                    "0": "Slot 10 Offset 0xd4e Length 312",
                                    "1": "Slot 10 Column 6 Offset 0x11 Length 2 Length (physical) 2",
                                    "2": "type",
                                    "3": "U "
                                },
                                {
                                    "0": "Slot 10 Offset 0xd4e Length 312",
                                    "1": "Slot 10 Column 7 Offset 0x13 Length 4 Length (physical) 4",
                                    "2": "pid",
                                    "3": "0"
                                },
                                {
                                    "0": "Slot 10 Offset 0xd4e Length 312",
                                    "1": "Slot 10 Column 8 Offset 0x17 Length 1 Length (physical) 1",
                                    "2": "pclass",
                                    "3": "1"
                                },
                                {
                                    "0": "Slot 10 Offset 0xd4e Length 312",
                                    "1": "Slot 10 Column 9 Offset 0x18 Length 4 Length (physical) 4",
                                    "2": "intprop",
                                    "3": "1"
                                },
                                {
                                    "0": "Slot 10 Offset 0xd4e Length 312",
                                    "1": "Slot 10 Column 10 Offset 0x1c Length 8 Length (physical) 8",
                                    "2": "created",
                                    "3": "2019-12-16 23:18:16.720"
                                },
                                {
                                    "0": "Slot 10 Offset 0xd4e Length 312",
                                    "1": "Slot 10 Column 11 Offset 0x24 Length 8 Length (physical) 8",
                                    "2": "modified",
                                    "3": "2019-12-16 23:19:54.330"
                                },
                                {
                                    "0": "Slot 10 Offset 0xd4e Length 312",
                                    "1": "Slot 10 Column 12 Offset 0x2c Length 4 Length (physical) 4",
                                    "2": "status2",
                                    "3": "0"
                                },
                                {
                                    "0": "Slot 10 Offset 0xd4e Length 312",
                                    "1": "Slot 10 Offset 0x0 Length 0 Length (physical) 0",
                                    "2": "KeyHashValue",
                                    "3": "(05f411744022)"
                                },
                                {
                                    "0": "PAGE HEADER:",
                                    "1": "Slot 11 Offset 0xc16 Length 312",
                                    "2": "Record Type",
                                    "3": "PRIMARY_RECORD"
                                },
                                {
                                    "0": "PAGE HEADER:",
                                    "1": "Slot 11 Offset 0xc16 Length 312",
                                    "2": "Record Attributes",
                                    "3": " NULL_BITMAP VARIABLE_COLUMNS"
                                },
                                {
                                    "0": "PAGE HEADER:",
                                    "1": "Slot 11 Offset 0xc16 Length 312",
                                    "2": "Record Size",
                                    "3": "312"
                                },
                                {
                                    "0": "Slot 11 Offset 0xc16 Length 312",
                                    "1": "Memory Dump @0x000000036A988C16",
                                    "2": "",
                                    "3": "0000000000000000:   30003000 7921b9a5 01000000 0008000e 00552000  0.0.y!¹¥.........U ."
                                },
                                {
                                    "0": "Slot 11 Offset 0xc16 Length 312",
                                    "1": "Memory Dump @0x000000036A988C16",
                                    "2": "",
                                    "3": "0000000000000014:   00000001 01000000 380c8001 25ab0000 da7e8001  ........8...%«..Ú~.."
                                },
                                {
                                    "0": "Slot 11 Offset 0xc16 Length 312",
                                    "1": "Memory Dump @0x000000036A988C16",
                                    "2": "",
                                    "3": "0000000000000028:   25ab0000 00000000 0c000000 01003801 23006700  %«............8.#.g."
                                },
                                {
                                    "0": "Slot 11 Offset 0xc16 Length 312",
                                    "1": "Memory Dump @0x000000036A988C16",
                                    "2": "",
                                    "3": "000000000000003C:   6f007300 6f007800 5f005f00 5f005f00 5f005f00  o.s.o.x._._._._._._."
                                },
                                {
                                    "0": "Slot 11 Offset 0xc16 Length 312",
                                    "1": "Memory Dump @0x000000036A988C16",
                                    "2": "",
                                    "3": "0000000000000050:   5f005f00 5f005f00 5f005f00 5f005f00 5f005f00  _._._._._._._._._._."
                                },
                                {
                                    "0": "Slot 11 Offset 0xc16 Length 312",
                                    "1": "Memory Dump @0x000000036A988C16",
                                    "2": "",
                                    "3": "0000000000000064:   5f005f00 5f005f00 5f005f00 5f005f00 5f005f00  _._._._._._._._._._."
                                },
                                {
                                    "0": "Slot 11 Offset 0xc16 Length 312",
                                    "1": "Memory Dump @0x000000036A988C16",
                                    "2": "",
                                    "3": "0000000000000078:   5f005f00 5f005f00 5f005f00 5f005f00 5f005f00  _._._._._._._._._._."
                                },
                                {
                                    "0": "Slot 11 Offset 0xc16 Length 312",
                                    "1": "Memory Dump @0x000000036A988C16",
                                    "2": "",
                                    "3": "000000000000008C:   5f005f00 5f005f00 5f005f00 5f005f00 5f005f00  _._._._._._._._._._."
                                },
                                {
                                    "0": "Slot 11 Offset 0xc16 Length 312",
                                    "1": "Memory Dump @0x000000036A988C16",
                                    "2": "",
                                    "3": "00000000000000A0:   5f005f00 5f005f00 5f005f00 5f005f00 5f005f00  _._._._._._._._._._."
                                },
                                {
                                    "0": "Slot 11 Offset 0xc16 Length 312",
                                    "1": "Memory Dump @0x000000036A988C16",
                                    "2": "",
                                    "3": "00000000000000B4:   5f005f00 5f005f00 5f005f00 5f005f00 5f005f00  _._._._._._._._._._."
                                },
                                {
                                    "0": "Slot 11 Offset 0xc16 Length 312",
                                    "1": "Memory Dump @0x000000036A988C16",
                                    "2": "",
                                    "3": "00000000000000C8:   5f005f00 5f005f00 5f005f00 5f005f00 5f005f00  _._._._._._._._._._."
                                },
                                {
                                    "0": "Slot 11 Offset 0xc16 Length 312",
                                    "1": "Memory Dump @0x000000036A988C16",
                                    "2": "",
                                    "3": "00000000000000DC:   5f005f00 5f005f00 5f005f00 5f005f00 5f005f00  _._._._._._._._._._."
                                },
                                {
                                    "0": "Slot 11 Offset 0xc16 Length 312",
                                    "1": "Memory Dump @0x000000036A988C16",
                                    "2": "",
                                    "3": "00000000000000F0:   5f005f00 5f005f00 5f005f00 5f005f00 5f005f00  _._._._._._._._._._."
                                },
                                {
                                    "0": "Slot 11 Offset 0xc16 Length 312",
                                    "1": "Memory Dump @0x000000036A988C16",
                                    "2": "",
                                    "3": "0000000000000104:   5f005f00 5f005f00 5f005f00 5f005f00 5f005f00  _._._._._._._._._._."
                                },
                                {
                                    "0": "Slot 11 Offset 0xc16 Length 312",
                                    "1": "Memory Dump @0x000000036A988C16",
                                    "2": "",
                                    "3": "0000000000000118:   5f005f00 5f005f00 30003000 30003000 30003000  _._._._.0.0.0.0.0.0."
                                },
                                {
                                    "0": "Slot 11 Offset 0xc16 Length 312",
                                    "1": "Memory Dump @0x000000036A988C16",
                                    "2": "",
                                    "3": "000000000000012C:   30003000 30003000 30003700                    0.0.0.0.0.7."
                                },
                                {
                                    "0": "Slot 11 Offset 0xc16 Length 312",
                                    "1": "Slot 11 Column 1 Offset 0x4 Length 4 Length (physical) 4",
                                    "2": "id",
                                    "3": "-1514593927"
                                },
                                {
                                    "0": "Slot 11 Offset 0xc16 Length 312",
                                    "1": "Slot 11 Column 2 Offset 0x38 Length 256 Length (physical) 256",
                                    "2": "name",
                                    "3": "#gosox______________________________________________________________________________________________________________000000000007"
                                },
                                {
                                    "0": "Slot 11 Offset 0xc16 Length 312",
                                    "1": "Slot 11 Column 3 Offset 0x8 Length 4 Length (physical) 4",
                                    "2": "nsid",
                                    "3": "1"
                                },
                                {
                                    "0": "Slot 11 Offset 0xc16 Length 312",
                                    "1": "Slot 11 Column 4 Offset 0xc Length 1 Length (physical) 1",
                                    "2": "nsclass",
                                    "3": "0"
                                },
                                {
                                    "0": "Slot 11 Offset 0xc16 Length 312",
                                    "1": "Slot 11 Column 5 Offset 0xd Length 4 Length (physical) 4",
                                    "2": "status",
                                    "3": "917512"
                                },
                                {
                                    "0": "Slot 11 Offset 0xc16 Length 312",
                                    "1": "Slot 11 Column 6 Offset 0x11 Length 2 Length (physical) 2",
                                    "2": "type",
                                    "3": "U "
                                },
                                {
                                    "0": "Slot 11 Offset 0xc16 Length 312",
                                    "1": "Slot 11 Column 7 Offset 0x13 Length 4 Length (physical) 4",
                                    "2": "pid",
                                    "3": "0"
                                },
                                {
                                    "0": "Slot 11 Offset 0xc16 Length 312",
                                    "1": "Slot 11 Column 8 Offset 0x17 Length 1 Length (physical) 1",
                                    "2": "pclass",
                                    "3": "1"
                                },
                                {
                                    "0": "Slot 11 Offset 0xc16 Length 312",
                                    "1": "Slot 11 Column 9 Offset 0x18 Length 4 Length (physical) 4",
                                    "2": "intprop",
                                    "3": "1"
                                },
                                {
                                    "0": "Slot 11 Offset 0xc16 Length 312",
                                    "1": "Slot 11 Column 10 Offset 0x1c Length 8 Length (physical) 8",
                                    "2": "created",
                                    "3": "2019-12-16 23:18:16.507"
                                },
                                {
                                    "0": "Slot 11 Offset 0xc16 Length 312",
                                    "1": "Slot 11 Column 11 Offset 0x24 Length 8 Length (physical) 8",
                                    "2": "modified",
                                    "3": "2019-12-16 23:19:54.327"
                                },
                                {
                                    "0": "Slot 11 Offset 0xc16 Length 312",
                                    "1": "Slot 11 Column 12 Offset 0x2c Length 4 Length (physical) 4",
                                    "2": "status2",
                                    "3": "0"
                                },
                                {
                                    "0": "Slot 11 Offset 0xc16 Length 312",
                                    "1": "Slot 11 Offset 0x0 Length 0 Length (physical) 0",
                                    "2": "KeyHashValue",
                                    "3": "(51d9b82fed1a)"
                                },
                                {
                                    "0": "PAGE HEADER:",
                                    "1": "Slot 12 Offset 0x9a6 Length 74",
                                    "2": "Record Type",
                                    "3": "PRIMARY_RECORD"
                                },
                                {
                                    "0": "PAGE HEADER:",
                                    "1": "Slot 12 Offset 0x9a6 Length 74",
                                    "2": "Record Attributes",
                                    "3": " NULL_BITMAP VARIABLE_COLUMNS"
                                },
                                {
                                    "0": "PAGE HEADER:",
                                    "1": "Slot 12 Offset 0x9a6 Length 74",
                                    "2": "Record Size",
                                    "3": "74"
                                },
                                {
                                    "0": "Slot 12 Offset 0x9a6 Length 74",
                                    "1": "Memory Dump @0x000000036A9889A6",
                                    "2": "",
                                    "3": "0000000000000000:   30003000 0bf125a6 01000000 0008000e 00552000  0.0..ñ%¦.........U ."
                                },
                                {
                                    "0": "Slot 12 Offset 0x9a6 Length 74",
                                    "1": "Memory Dump @0x000000036A9889A6",
                                    "2": "",
                                    "3": "0000000000000014:   00000001 01000000 7a0c8001 25ab0000 db7e8001  ........z...%«..Û~.."
                                },
                                {
                                    "0": "Slot 12 Offset 0x9a6 Length 74",
                                    "1": "Memory Dump @0x000000036A9889A6",
                                    "2": "",
                                    "3": "0000000000000028:   25ab0000 00000000 0c000000 01004a00 23004100  %«............J.#.A."
                                },
                                {
                                    "0": "Slot 12 Offset 0x9a6 Length 74",
                                    "1": "Memory Dump @0x000000036A9889A6",
                                    "2": "",
                                    "3": "000000000000003C:   36003200 35004600 31003000 4200               6.2.5.F.1.0.B."
                                },
                                {
                                    "0": "Slot 12 Offset 0x9a6 Length 74",
                                    "1": "Slot 12 Column 1 Offset 0x4 Length 4 Length (physical) 4",
                                    "2": "id",
                                    "3": "-1507462901"
                                },
                                {
                                    "0": "Slot 12 Offset 0x9a6 Length 74",
                                    "1": "Slot 12 Column 2 Offset 0x38 Length 18 Length (physical) 18",
                                    "2": "name",
                                    "3": "#A625F10B"
                                },
                                {
                                    "0": "Slot 12 Offset 0x9a6 Length 74",
                                    "1": "Slot 12 Column 3 Offset 0x8 Length 4 Length (physical) 4",
                                    "2": "nsid",
                                    "3": "1"
                                },
                                {
                                    "0": "Slot 12 Offset 0x9a6 Length 74",
                                    "1": "Slot 12 Column 4 Offset 0xc Length 1 Length (physical) 1",
                                    "2": "nsclass",
                                    "3": "0"
                                },
                                {
                                    "0": "Slot 12 Offset 0x9a6 Length 74",
                                    "1": "Slot 12 Column 5 Offset 0xd Length 4 Length (physical) 4",
                                    "2": "status",
                                    "3": "917512"
                                },
                                {
                                    "0": "Slot 12 Offset 0x9a6 Length 74",
                                    "1": "Slot 12 Column 6 Offset 0x11 Length 2 Length (physical) 2",
                                    "2": "type",
                                    "3": "U "
                                },
                                {
                                    "0": "Slot 12 Offset 0x9a6 Length 74",
                                    "1": "Slot 12 Column 7 Offset 0x13 Length 4 Length (physical) 4",
                                    "2": "pid",
                                    "3": "0"
                                },
                                {
                                    "0": "Slot 12 Offset 0x9a6 Length 74",
                                    "1": "Slot 12 Column 8 Offset 0x17 Length 1 Length (physical) 1",
                                    "2": "pclass",
                                    "3": "1"
                                },
                                {
                                    "0": "Slot 12 Offset 0x9a6 Length 74",
                                    "1": "Slot 12 Column 9 Offset 0x18 Length 4 Length (physical) 4",
                                    "2": "intprop",
                                    "3": "1"
                                },
                                {
                                    "0": "Slot 12 Offset 0x9a6 Length 74",
                                    "1": "Slot 12 Column 10 Offset 0x1c Length 8 Length (physical) 8",
                                    "2": "created",
                                    "3": "2019-12-16 23:18:16.727"
                                },
                                {
                                    "0": "Slot 12 Offset 0x9a6 Length 74",
                                    "1": "Slot 12 Column 11 Offset 0x24 Length 8 Length (physical) 8",
                                    "2": "modified",
                                    "3": "2019-12-16 23:19:54.330"
                                },
                                {
                                    "0": "Slot 12 Offset 0x9a6 Length 74",
                                    "1": "Slot 12 Column 12 Offset 0x2c Length 4 Length (physical) 4",
                                    "2": "status2",
                                    "3": "0"
                                },
                                {
                                    "0": "Slot 12 Offset 0x9a6 Length 74",
                                    "1": "Slot 12 Offset 0x0 Length 0 Length (physical) 0",
                                    "2": "KeyHashValue",
                                    "3": "(7a297d9d76e1)"
                                },
                                {
                                    "0": "PAGE HEADER:",
                                    "1": "Slot 13 Offset 0xe86 Length 312",
                                    "2": "Record Type",
                                    "3": "PRIMARY_RECORD"
                                },
                                {
                                    "0": "PAGE HEADER:",
                                    "1": "Slot 13 Offset 0xe86 Length 312",
                                    "2": "Record Attributes",
                                    "3": " NULL_BITMAP VARIABLE_COLUMNS"
                                },
                                {
                                    "0": "PAGE HEADER:",
                                    "1": "Slot 13 Offset 0xe86 Length 312",
                                    "2": "Record Size",
                                    "3": "312"
                                },
                                {
                                    "0": "Slot 13 Offset 0xe86 Length 312",
                                    "1": "Memory Dump @0x000000036A988E86",
                                    "2": "",
                                    "3": "0000000000000000:   30003000 b245ada6 01000000 0008000e 00552000  0.0.²E­¦.........U ."
                                },
                                {
                                    "0": "Slot 13 Offset 0xe86 Length 312",
                                    "1": "Memory Dump @0x000000036A988E86",
                                    "2": "",
                                    "3": "0000000000000014:   00000001 01000000 380c8001 25ab0000 db7e8001  ........8...%«..Û~.."
                                },
                                {
                                    "0": "Slot 13 Offset 0xe86 Length 312",
                                    "1": "Memory Dump @0x000000036A988E86",
                                    "2": "",
                                    "3": "0000000000000028:   25ab0000 00000000 0c000000 01003801 23006700  %«............8.#.g."
                                },
                                {
                                    "0": "Slot 13 Offset 0xe86 Length 312",
                                    "1": "Memory Dump @0x000000036A988E86",
                                    "2": "",
                                    "3": "000000000000003C:   6f007300 6f007800 5f005f00 5f005f00 5f005f00  o.s.o.x._._._._._._."
                                },
                                {
                                    "0": "Slot 13 Offset 0xe86 Length 312",
                                    "1": "Memory Dump @0x000000036A988E86",
                                    "2": "",
                                    "3": "0000000000000050:   5f005f00 5f005f00 5f005f00 5f005f00 5f005f00  _._._._._._._._._._."
                                },
                                {
                                    "0": "Slot 13 Offset 0xe86 Length 312",
                                    "1": "Memory Dump @0x000000036A988E86",
                                    "2": "",
                                    "3": "0000000000000064:   5f005f00 5f005f00 5f005f00 5f005f00 5f005f00  _._._._._._._._._._."
                                },
                                {
                                    "0": "Slot 13 Offset 0xe86 Length 312",
                                    "1": "Memory Dump @0x000000036A988E86",
                                    "2": "",
                                    "3": "0000000000000078:   5f005f00 5f005f00 5f005f00 5f005f00 5f005f00  _._._._._._._._._._."
                                },
                                {
                                    "0": "Slot 13 Offset 0xe86 Length 312",
                                    "1": "Memory Dump @0x000000036A988E86",
                                    "2": "",
                                    "3": "000000000000008C:   5f005f00 5f005f00 5f005f00 5f005f00 5f005f00  _._._._._._._._._._."
                                },
                                {
                                    "0": "Slot 13 Offset 0xe86 Length 312",
                                    "1": "Memory Dump @0x000000036A988E86",
                                    "2": "",
                                    "3": "00000000000000A0:   5f005f00 5f005f00 5f005f00 5f005f00 5f005f00  _._._._._._._._._._."
                                },
                                {
                                    "0": "Slot 13 Offset 0xe86 Length 312",
                                    "1": "Memory Dump @0x000000036A988E86",
                                    "2": "",
                                    "3": "00000000000000B4:   5f005f00 5f005f00 5f005f00 5f005f00 5f005f00  _._._._._._._._._._."
                                },
                                {
                                    "0": "Slot 13 Offset 0xe86 Length 312",
                                    "1": "Memory Dump @0x000000036A988E86",
                                    "2": "",
                                    "3": "00000000000000C8:   5f005f00 5f005f00 5f005f00 5f005f00 5f005f00  _._._._._._._._._._."
                                },
                                {
                                    "0": "Slot 13 Offset 0xe86 Length 312",
                                    "1": "Memory Dump @0x000000036A988E86",
                                    "2": "",
                                    "3": "00000000000000DC:   5f005f00 5f005f00 5f005f00 5f005f00 5f005f00  _._._._._._._._._._."
                                },
                                {
                                    "0": "Slot 13 Offset 0xe86 Length 312",
                                    "1": "Memory Dump @0x000000036A988E86",
                                    "2": "",
                                    "3": "00000000000000F0:   5f005f00 5f005f00 5f005f00 5f005f00 5f005f00  _._._._._._._._._._."
                                },
                                {
                                    "0": "Slot 13 Offset 0xe86 Length 312",
                                    "1": "Memory Dump @0x000000036A988E86",
                                    "2": "",
                                    "3": "0000000000000104:   5f005f00 5f005f00 5f005f00 5f005f00 5f005f00  _._._._._._._._._._."
                                },
                                {
                                    "0": "Slot 13 Offset 0xe86 Length 312",
                                    "1": "Memory Dump @0x000000036A988E86",
                                    "2": "",
                                    "3": "0000000000000118:   5f005f00 5f005f00 30003000 30003000 30003000  _._._._.0.0.0.0.0.0."
                                },
                                {
                                    "0": "Slot 13 Offset 0xe86 Length 312",
                                    "1": "Memory Dump @0x000000036A988E86",
                                    "2": "",
                                    "3": "000000000000012C:   30003000 30003000 30003800                    0.0.0.0.0.8."
                                },
                                {
                                    "0": "Slot 13 Offset 0xe86 Length 312",
                                    "1": "Slot 13 Column 1 Offset 0x4 Length 4 Length (physical) 4",
                                    "2": "id",
                                    "3": "-1498593870"
                                },
                                {
                                    "0": "Slot 13 Offset 0xe86 Length 312",
                                    "1": "Slot 13 Column 2 Offset 0x38 Length 256 Length (physical) 256",
                                    "2": "name",
                                    "3": "#gosox______________________________________________________________________________________________________________000000000008"
                                },
                                {
                                    "0": "Slot 13 Offset 0xe86 Length 312",
                                    "1": "Slot 13 Column 3 Offset 0x8 Length 4 Length (physical) 4",
                                    "2": "nsid",
                                    "3": "1"
                                },
                                {
                                    "0": "Slot 13 Offset 0xe86 Length 312",
                                    "1": "Slot 13 Column 4 Offset 0xc Length 1 Length (physical) 1",
                                    "2": "nsclass",
                                    "3": "0"
                                },
                                {
                                    "0": "Slot 13 Offset 0xe86 Length 312",
                                    "1": "Slot 13 Column 5 Offset 0xd Length 4 Length (physical) 4",
                                    "2": "status",
                                    "3": "917512"
                                },
                                {
                                    "0": "Slot 13 Offset 0xe86 Length 312",
                                    "1": "Slot 13 Column 6 Offset 0x11 Length 2 Length (physical) 2",
                                    "2": "type",
                                    "3": "U "
                                },
                                {
                                    "0": "Slot 13 Offset 0xe86 Length 312",
                                    "1": "Slot 13 Column 7 Offset 0x13 Length 4 Length (physical) 4",
                                    "2": "pid",
                                    "3": "0"
                                },
                                {
                                    "0": "Slot 13 Offset 0xe86 Length 312",
                                    "1": "Slot 13 Column 8 Offset 0x17 Length 1 Length (physical) 1",
                                    "2": "pclass",
                                    "3": "1"
                                },
                                {
                                    "0": "Slot 13 Offset 0xe86 Length 312",
                                    "1": "Slot 13 Column 9 Offset 0x18 Length 4 Length (physical) 4",
                                    "2": "intprop",
                                    "3": "1"
                                },
                                {
                                    "0": "Slot 13 Offset 0xe86 Length 312",
                                    "1": "Slot 13 Column 10 Offset 0x1c Length 8 Length (physical) 8",
                                    "2": "created",
                                    "3": "2019-12-16 23:18:16.507"
                                },
                                {
                                    "0": "Slot 13 Offset 0xe86 Length 312",
                                    "1": "Slot 13 Column 11 Offset 0x24 Length 8 Length (physical) 8",
                                    "2": "modified",
                                    "3": "2019-12-16 23:19:54.330"
                                },
                                {
                                    "0": "Slot 13 Offset 0xe86 Length 312",
                                    "1": "Slot 13 Column 12 Offset 0x2c Length 4 Length (physical) 4",
                                    "2": "status2",
                                    "3": "0"
                                },
                                {
                                    "0": "Slot 13 Offset 0xe86 Length 312",
                                    "1": "Slot 13 Offset 0x0 Length 0 Length (physical) 0",
                                    "2": "KeyHashValue",
                                    "3": "(52e12211d3f4)"
                                },
                                {
                                    "0": "PAGE HEADER:",
                                    "1": "Slot 14 Offset 0x10f6 Length 312",
                                    "2": "Record Type",
                                    "3": "PRIMARY_RECORD"
                                },
                                {
                                    "0": "PAGE HEADER:",
                                    "1": "Slot 14 Offset 0x10f6 Length 312",
                                    "2": "Record Attributes",
                                    "3": " NULL_BITMAP VARIABLE_COLUMNS"
                                },
                                {
                                    "0": "PAGE HEADER:",
                                    "1": "Slot 14 Offset 0x10f6 Length 312",
                                    "2": "Record Size",
                                    "3": "312"
                                },
                                {
                                    "0": "Slot 14 Offset 0x10f6 Length 312",
                                    "1": "Memory Dump @0x000000036A9890F6",
                                    "2": "",
                                    "3": "0000000000000000:   30003000 44151aa7 01000000 0008000e 00552000  0.0.D..§.........U ."
                                },
                                {
                                    "0": "Slot 14 Offset 0x10f6 Length 312",
                                    "1": "Memory Dump @0x000000036A9890F6",
                                    "2": "",
                                    "3": "0000000000000014:   00000001 01000000 7b0c8001 25ab0000 d97e8001  ........{...%«..Ù~.."
                                },
                                {
                                    "0": "Slot 14 Offset 0x10f6 Length 312",
                                    "1": "Memory Dump @0x000000036A9890F6",
                                    "2": "",
                                    "3": "0000000000000028:   25ab0000 00000000 0c000000 01003801 23006700  %«............8.#.g."
                                },
                                {
                                    "0": "Slot 14 Offset 0x10f6 Length 312",
                                    "1": "Memory Dump @0x000000036A9890F6",
                                    "2": "",
                                    "3": "000000000000003C:   6f007300 6f007800 5f005f00 5f005f00 5f005f00  o.s.o.x._._._._._._."
                                },
                                {
                                    "0": "Slot 14 Offset 0x10f6 Length 312",
                                    "1": "Memory Dump @0x000000036A9890F6",
                                    "2": "",
                                    "3": "0000000000000050:   5f005f00 5f005f00 5f005f00 5f005f00 5f005f00  _._._._._._._._._._."
                                },
                                {
                                    "0": "Slot 14 Offset 0x10f6 Length 312",
                                    "1": "Memory Dump @0x000000036A9890F6",
                                    "2": "",
                                    "3": "0000000000000064:   5f005f00 5f005f00 5f005f00 5f005f00 5f005f00  _._._._._._._._._._."
                                },
                                {
                                    "0": "Slot 14 Offset 0x10f6 Length 312",
                                    "1": "Memory Dump @0x000000036A9890F6",
                                    "2": "",
                                    "3": "0000000000000078:   5f005f00 5f005f00 5f005f00 5f005f00 5f005f00  _._._._._._._._._._."
                                },
                                {
                                    "0": "Slot 14 Offset 0x10f6 Length 312",
                                    "1": "Memory Dump @0x000000036A9890F6",
                                    "2": "",
                                    "3": "000000000000008C:   5f005f00 5f005f00 5f005f00 5f005f00 5f005f00  _._._._._._._._._._."
                                },
                                {
                                    "0": "Slot 14 Offset 0x10f6 Length 312",
                                    "1": "Memory Dump @0x000000036A9890F6",
                                    "2": "",
                                    "3": "00000000000000A0:   5f005f00 5f005f00 5f005f00 5f005f00 5f005f00  _._._._._._._._._._."
                                },
                                {
                                    "0": "Slot 14 Offset 0x10f6 Length 312",
                                    "1": "Memory Dump @0x000000036A9890F6",
                                    "2": "",
                                    "3": "00000000000000B4:   5f005f00 5f005f00 5f005f00 5f005f00 5f005f00  _._._._._._._._._._."
                                },
                                {
                                    "0": "Slot 14 Offset 0x10f6 Length 312",
                                    "1": "Memory Dump @0x000000036A9890F6",
                                    "2": "",
                                    "3": "00000000000000C8:   5f005f00 5f005f00 5f005f00 5f005f00 5f005f00  _._._._._._._._._._."
                                },
                                {
                                    "0": "Slot 14 Offset 0x10f6 Length 312",
                                    "1": "Memory Dump @0x000000036A9890F6",
                                    "2": "",
                                    "3": "00000000000000DC:   5f005f00 5f005f00 5f005f00 5f005f00 5f005f00  _._._._._._._._._._."
                                },
                                {
                                    "0": "Slot 14 Offset 0x10f6 Length 312",
                                    "1": "Memory Dump @0x000000036A9890F6",
                                    "2": "",
                                    "3": "00000000000000F0:   5f005f00 5f005f00 5f005f00 5f005f00 5f005f00  _._._._._._._._._._."
                                },
                                {
                                    "0": "Slot 14 Offset 0x10f6 Length 312",
                                    "1": "Memory Dump @0x000000036A9890F6",
                                    "2": "",
                                    "3": "0000000000000104:   5f005f00 5f005f00 5f005f00 5f005f00 5f005f00  _._._._._._._._._._."
                                },
                                {
                                    "0": "Slot 14 Offset 0x10f6 Length 312",
                                    "1": "Memory Dump @0x000000036A9890F6",
                                    "2": "",
                                    "3": "0000000000000118:   5f005f00 5f005f00 30003000 30003000 30003000  _._._._.0.0.0.0.0.0."
                                },
                                {
                                    "0": "Slot 14 Offset 0x10f6 Length 312",
                                    "1": "Memory Dump @0x000000036A9890F6",
                                    "2": "",
                                    "3": "000000000000012C:   30003000 30003000 32004100                    0.0.0.0.2.A."
                                },
                                {
                                    "0": "Slot 14 Offset 0x10f6 Length 312",
                                    "1": "Slot 14 Column 1 Offset 0x4 Length 4 Length (physical) 4",
                                    "2": "id",
                                    "3": "-1491462844"
                                },
                                {
                                    "0": "Slot 14 Offset 0x10f6 Length 312",
                                    "1": "Slot 14 Column 2 Offset 0x38 Length 256 Length (physical) 256",
                                    "2": "name",
                                    "3": "#gosox______________________________________________________________________________________________________________00000000002A"
                                },
                                {
                                    "0": "Slot 14 Offset 0x10f6 Length 312",
                                    "1": "Slot 14 Column 3 Offset 0x8 Length 4 Length (physical) 4",
                                    "2": "nsid",
                                    "3": "1"
                                },
                                {
                                    "0": "Slot 14 Offset 0x10f6 Length 312",
                                    "1": "Slot 14 Column 4 Offset 0xc Length 1 Length (physical) 1",
                                    "2": "nsclass",
                                    "3": "0"
                                },
                                {
                                    "0": "Slot 14 Offset 0x10f6 Length 312",
                                    "1": "Slot 14 Column 5 Offset 0xd Length 4 Length (physical) 4",
                                    "2": "status",
                                    "3": "917512"
                                },
                                {
                                    "0": "Slot 14 Offset 0x10f6 Length 312",
                                    "1": "Slot 14 Column 6 Offset 0x11 Length 2 Length (physical) 2",
                                    "2": "type",
                                    "3": "U "
                                },
                                {
                                    "0": "Slot 14 Offset 0x10f6 Length 312",
                                    "1": "Slot 14 Column 7 Offset 0x13 Length 4 Length (physical) 4",
                                    "2": "pid",
                                    "3": "0"
                                },
                                {
                                    "0": "Slot 14 Offset 0x10f6 Length 312",
                                    "1": "Slot 14 Column 8 Offset 0x17 Length 1 Length (physical) 1",
                                    "2": "pclass",
                                    "3": "1"
                                },
                                {
                                    "0": "Slot 14 Offset 0x10f6 Length 312",
                                    "1": "Slot 14 Column 9 Offset 0x18 Length 4 Length (physical) 4",
                                    "2": "intprop",
                                    "3": "1"
                                },
                                {
                                    "0": "Slot 14 Offset 0x10f6 Length 312",
                                    "1": "Slot 14 Column 10 Offset 0x1c Length 8 Length (physical) 8",
                                    "2": "created",
                                    "3": "2019-12-16 23:18:16.730"
                                },
                                {
                                    "0": "Slot 14 Offset 0x10f6 Length 312",
                                    "1": "Slot 14 Column 11 Offset 0x24 Length 8 Length (physical) 8",
                                    "2": "modified",
                                    "3": "2019-12-16 23:19:54.323"
                                },
                                {
                                    "0": "Slot 14 Offset 0x10f6 Length 312",
                                    "1": "Slot 14 Column 12 Offset 0x2c Length 4 Length (physical) 4",
                                    "2": "status2",
                                    "3": "0"
                                },
                                {
                                    "0": "Slot 14 Offset 0x10f6 Length 312",
                                    "1": "Slot 14 Offset 0x0 Length 0 Length (physical) 0",
                                    "2": "KeyHashValue",
                                    "3": "(225893a4d79d)"
                                }
                            ]
                        },
                        "text/html": "<table><tr><th>ParentObject</th><th>Object</th><th>Field</th><th>VALUE</th></tr><tr><td>BUFFER:</td><td>BUF @0x00000009D8D27500</td><td>bpage</td><td>0x00000009C8846000</td></tr><tr><td>BUFFER:</td><td>BUF @0x00000009D8D27500</td><td>bPmmpage</td><td>0x0000000000000000</td></tr><tr><td>BUFFER:</td><td>BUF @0x00000009D8D27500</td><td>bsort_r_nextbP</td><td>0x0000000000000000</td></tr><tr><td>BUFFER:</td><td>BUF @0x00000009D8D27500</td><td>bsort_r_prevbP</td><td>0x0000000000000000</td></tr><tr><td>BUFFER:</td><td>BUF @0x00000009D8D27500</td><td>bhash</td><td>0x0000000000000000</td></tr><tr><td>BUFFER:</td><td>BUF @0x00000009D8D27500</td><td>bpageno</td><td>(1:116)</td></tr><tr><td>BUFFER:</td><td>BUF @0x00000009D8D27500</td><td>bpart</td><td>1</td></tr><tr><td>BUFFER:</td><td>BUF @0x00000009D8D27500</td><td>ckptGen</td><td>0x0000000000000000</td></tr><tr><td>BUFFER:</td><td>BUF @0x00000009D8D27500</td><td>bDirtyRefCount</td><td>0</td></tr><tr><td>BUFFER:</td><td>BUF @0x00000009D8D27500</td><td>bstat</td><td>0x10b</td></tr><tr><td>BUFFER:</td><td>BUF @0x00000009D8D27500</td><td>breferences</td><td>16383</td></tr><tr><td>BUFFER:</td><td>BUF @0x00000009D8D27500</td><td>berrcode</td><td>0</td></tr><tr><td>BUFFER:</td><td>BUF @0x00000009D8D27500</td><td>bUse1</td><td>24737</td></tr><tr><td>BUFFER:</td><td>BUF @0x00000009D8D27500</td><td>bstat2</td><td>0x0</td></tr><tr><td>BUFFER:</td><td>BUF @0x00000009D8D27500</td><td>blog</td><td>0x15a</td></tr><tr><td>BUFFER:</td><td>BUF @0x00000009D8D27500</td><td>bsampleCount</td><td>1529</td></tr><tr><td>BUFFER:</td><td>BUF @0x00000009D8D27500</td><td>bIoCount</td><td>0</td></tr><tr><td>BUFFER:</td><td>BUF @0x00000009D8D27500</td><td>resPoolId</td><td>0</td></tr><tr><td>BUFFER:</td><td>BUF @0x00000009D8D27500</td><td>bcputicks</td><td>473563</td></tr><tr><td>BUFFER:</td><td>BUF @0x00000009D8D27500</td><td>bReadMicroSec</td><td>785</td></tr><tr><td>BUFFER:</td><td>BUF @0x00000009D8D27500</td><td>bDirtyContext</td><td>0x00000009D1B169C0</td></tr><tr><td>BUFFER:</td><td>BUF @0x00000009D8D27500</td><td>bDbPageBroker</td><td>0x0000000000000000</td></tr><tr><td>BUFFER:</td><td>BUF @0x00000009D8D27500</td><td>bdbid</td><td>2</td></tr><tr><td>BUFFER:</td><td>BUF @0x00000009D8D27500</td><td>bpru</td><td>0x00000009D6370040</td></tr><tr><td>PAGE HEADER:</td><td>Page @0x00000009C8846000</td><td>m_pageId</td><td>(1:116)</td></tr><tr><td>PAGE HEADER:</td><td>Page @0x00000009C8846000</td><td>m_headerVersion</td><td>1</td></tr><tr><td>PAGE HEADER:</td><td>Page @0x00000009C8846000</td><td>m_type</td><td>1</td></tr><tr><td>PAGE HEADER:</td><td>Page @0x00000009C8846000</td><td>m_typeFlagBits</td><td>0x4</td></tr><tr><td>PAGE HEADER:</td><td>Page @0x00000009C8846000</td><td>m_level</td><td>0</td></tr><tr><td>PAGE HEADER:</td><td>Page @0x00000009C8846000</td><td>m_flagBits</td><td>0x0</td></tr><tr><td>PAGE HEADER:</td><td>Page @0x00000009C8846000</td><td>m_objId (AllocUnitId.idObj)</td><td>34</td></tr><tr><td>PAGE HEADER:</td><td>Page @0x00000009C8846000</td><td>m_indexId (AllocUnitId.idInd)</td><td>1</td></tr><tr><td>PAGE HEADER:</td><td>Page @0x00000009C8846000</td><td>Metadata: AllocUnitId</td><td>281474978938880</td></tr><tr><td>PAGE HEADER:</td><td>Page @0x00000009C8846000</td><td>Metadata: PartitionId</td><td>281474978938880</td></tr><tr><td>PAGE HEADER:</td><td>Page @0x00000009C8846000</td><td>Metadata: IndexId</td><td>1</td></tr><tr><td>PAGE HEADER:</td><td>Page @0x00000009C8846000</td><td>Metadata: ObjectId</td><td>34</td></tr><tr><td>PAGE HEADER:</td><td>Page @0x00000009C8846000</td><td>m_prevPage</td><td>(0:0)</td></tr><tr><td>PAGE HEADER:</td><td>Page @0x00000009C8846000</td><td>m_nextPage</td><td>(1:302)</td></tr><tr><td>PAGE HEADER:</td><td>Page @0x00000009C8846000</td><td>pminlen</td><td>44</td></tr><tr><td>PAGE HEADER:</td><td>Page @0x00000009C8846000</td><td>m_slotCnt</td><td>15</td></tr><tr><td>PAGE HEADER:</td><td>Page @0x00000009C8846000</td><td>m_freeCnt</td><td>5766</td></tr><tr><td>PAGE HEADER:</td><td>Page @0x00000009C8846000</td><td>m_freeData</td><td>4654</td></tr><tr><td>PAGE HEADER:</td><td>Page @0x00000009C8846000</td><td>m_reservedCnt</td><td>0</td></tr><tr><td>PAGE HEADER:</td><td>Page @0x00000009C8846000</td><td>m_lsn</td><td>(74:5416:277)</td></tr><tr><td>PAGE HEADER:</td><td>Page @0x00000009C8846000</td><td>m_xactReserved</td><td>0</td></tr><tr><td>PAGE HEADER:</td><td>Page @0x00000009C8846000</td><td>m_xdesId</td><td>(0:0)</td></tr><tr><td>PAGE HEADER:</td><td>Page @0x00000009C8846000</td><td>m_ghostRecCnt</td><td>0</td></tr><tr><td>PAGE HEADER:</td><td>Page @0x00000009C8846000</td><td>m_tornBits</td><td>1750484708</td></tr><tr><td>PAGE HEADER:</td><td>Page @0x00000009C8846000</td><td>DB Frag ID</td><td>1</td></tr><tr><td>PAGE HEADER:</td><td>Allocation Status</td><td>GAM (1:2)</td><td>ALLOCATED</td></tr><tr><td>PAGE HEADER:</td><td>Allocation Status</td><td>SGAM (1:3)</td><td>NOT ALLOCATED</td></tr><tr><td>PAGE HEADER:</td><td>Allocation Status</td><td>PFS (1:1)</td><td>0x60 MIXED_EXT ALLOCATED   0_PCT_FULL</td></tr><tr><td>PAGE HEADER:</td><td>Allocation Status</td><td>DIFF (1:6)</td><td>CHANGED</td></tr><tr><td>PAGE HEADER:</td><td>Allocation Status</td><td>ML (1:7)</td><td>NOT MIN_LOGGED</td></tr><tr><td>PAGE HEADER:</td><td>Slot 0 Offset 0x47c Length 74</td><td>Record Type</td><td>PRIMARY_RECORD</td></tr><tr><td>PAGE HEADER:</td><td>Slot 0 Offset 0x47c Length 74</td><td>Record Attributes</td><td> NULL_BITMAP VARIABLE_COLUMNS</td></tr><tr><td>PAGE HEADER:</td><td>Slot 0 Offset 0x47c Length 74</td><td>Record Size</td><td>74</td></tr><tr><td>Slot 0 Offset 0x47c Length 74</td><td>Memory Dump @0x000000036A98847C</td><td></td><td>0000000000000000:   30003000 b5176da0 01000000 0008000e 00552000  0.0.µ.m .........U .</td></tr><tr><td>Slot 0 Offset 0x47c Length 74</td><td>Memory Dump @0x000000036A98847C</td><td></td><td>0000000000000014:   00000001 01000000 6b0c8001 25ab0000 da7e8001  ........k...%«..Ú~..</td></tr><tr><td>Slot 0 Offset 0x47c Length 74</td><td>Memory Dump @0x000000036A98847C</td><td></td><td>0000000000000028:   25ab0000 00000000 0c000000 01004a00 23004100  %«............J.#.A.</td></tr><tr><td>Slot 0 Offset 0x47c Length 74</td><td>Memory Dump @0x000000036A98847C</td><td></td><td>000000000000003C:   30003600 44003100 37004200 3500               0.6.D.1.7.B.5.</td></tr><tr><td>Slot 0 Offset 0x47c Length 74</td><td>Slot 0 Column 1 Offset 0x4 Length 4 Length (physical) 4</td><td>id</td><td>-1603463243</td></tr><tr><td>Slot 0 Offset 0x47c Length 74</td><td>Slot 0 Column 2 Offset 0x38 Length 18 Length (physical) 18</td><td>name</td><td>#A06D17B5</td></tr><tr><td>Slot 0 Offset 0x47c Length 74</td><td>Slot 0 Column 3 Offset 0x8 Length 4 Length (physical) 4</td><td>nsid</td><td>1</td></tr><tr><td>Slot 0 Offset 0x47c Length 74</td><td>Slot 0 Column 4 Offset 0xc Length 1 Length (physical) 1</td><td>nsclass</td><td>0</td></tr><tr><td>Slot 0 Offset 0x47c Length 74</td><td>Slot 0 Column 5 Offset 0xd Length 4 Length (physical) 4</td><td>status</td><td>917512</td></tr><tr><td>Slot 0 Offset 0x47c Length 74</td><td>Slot 0 Column 6 Offset 0x11 Length 2 Length (physical) 2</td><td>type</td><td>U </td></tr><tr><td>Slot 0 Offset 0x47c Length 74</td><td>Slot 0 Column 7 Offset 0x13 Length 4 Length (physical) 4</td><td>pid</td><td>0</td></tr><tr><td>Slot 0 Offset 0x47c Length 74</td><td>Slot 0 Column 8 Offset 0x17 Length 1 Length (physical) 1</td><td>pclass</td><td>1</td></tr><tr><td>Slot 0 Offset 0x47c Length 74</td><td>Slot 0 Column 9 Offset 0x18 Length 4 Length (physical) 4</td><td>intprop</td><td>1</td></tr><tr><td>Slot 0 Offset 0x47c Length 74</td><td>Slot 0 Column 10 Offset 0x1c Length 8 Length (physical) 8</td><td>created</td><td>2019-12-16 23:18:16.677</td></tr><tr><td>Slot 0 Offset 0x47c Length 74</td><td>Slot 0 Column 11 Offset 0x24 Length 8 Length (physical) 8</td><td>modified</td><td>2019-12-16 23:19:54.327</td></tr><tr><td>Slot 0 Offset 0x47c Length 74</td><td>Slot 0 Column 12 Offset 0x2c Length 4 Length (physical) 4</td><td>status2</td><td>0</td></tr><tr><td>Slot 0 Offset 0x47c Length 74</td><td>Slot 0 Offset 0x0 Length 0 Length (physical) 0</td><td>KeyHashValue</td><td>(0191f5fd3093)</td></tr><tr><td>PAGE HEADER:</td><td>Slot 1 Offset 0x21c Length 74</td><td>Record Type</td><td>PRIMARY_RECORD</td></tr><tr><td>PAGE HEADER:</td><td>Slot 1 Offset 0x21c Length 74</td><td>Record Attributes</td><td> NULL_BITMAP VARIABLE_COLUMNS</td></tr><tr><td>PAGE HEADER:</td><td>Slot 1 Offset 0x21c Length 74</td><td>Record Size</td><td>74</td></tr><tr><td>Slot 1 Offset 0x21c Length 74</td><td>Memory Dump @0x000000036A98821C</td><td></td><td>0000000000000000:   30003000 5c6cf4a0 01000000 0008000e 00552000  0.0.\\lô .........U .</td></tr><tr><td>Slot 1 Offset 0x21c Length 74</td><td>Memory Dump @0x000000036A98821C</td><td></td><td>0000000000000014:   00000001 01000000 2f0c8001 25ab0000 ca7e8001  ......../...%«..Ê~..</td></tr><tr><td>Slot 1 Offset 0x21c Length 74</td><td>Memory Dump @0x000000036A98821C</td><td></td><td>0000000000000028:   25ab0000 00000000 0c000000 01004a00 23004100  %«............J.#.A.</td></tr><tr><td>Slot 1 Offset 0x21c Length 74</td><td>Memory Dump @0x000000036A98821C</td><td></td><td>000000000000003C:   30004600 34003600 43003500 4300               0.F.4.6.C.5.C.</td></tr><tr><td>Slot 1 Offset 0x21c Length 74</td><td>Slot 1 Column 1 Offset 0x4 Length 4 Length (physical) 4</td><td>id</td><td>-1594594212</td></tr><tr><td>Slot 1 Offset 0x21c Length 74</td><td>Slot 1 Column 2 Offset 0x38 Length 18 Length (physical) 18</td><td>name</td><td>#A0F46C5C</td></tr><tr><td>Slot 1 Offset 0x21c Length 74</td><td>Slot 1 Column 3 Offset 0x8 Length 4 Length (physical) 4</td><td>nsid</td><td>1</td></tr><tr><td>Slot 1 Offset 0x21c Length 74</td><td>Slot 1 Column 4 Offset 0xc Length 1 Length (physical) 1</td><td>nsclass</td><td>0</td></tr><tr><td>Slot 1 Offset 0x21c Length 74</td><td>Slot 1 Column 5 Offset 0xd Length 4 Length (physical) 4</td><td>status</td><td>917512</td></tr><tr><td>Slot 1 Offset 0x21c Length 74</td><td>Slot 1 Column 6 Offset 0x11 Length 2 Length (physical) 2</td><td>type</td><td>U </td></tr><tr><td>Slot 1 Offset 0x21c Length 74</td><td>Slot 1 Column 7 Offset 0x13 Length 4 Length (physical) 4</td><td>pid</td><td>0</td></tr><tr><td>Slot 1 Offset 0x21c Length 74</td><td>Slot 1 Column 8 Offset 0x17 Length 1 Length (physical) 1</td><td>pclass</td><td>1</td></tr><tr><td>Slot 1 Offset 0x21c Length 74</td><td>Slot 1 Column 9 Offset 0x18 Length 4 Length (physical) 4</td><td>intprop</td><td>1</td></tr><tr><td>Slot 1 Offset 0x21c Length 74</td><td>Slot 1 Column 10 Offset 0x1c Length 8 Length (physical) 8</td><td>created</td><td>2019-12-16 23:18:16.477</td></tr><tr><td>Slot 1 Offset 0x21c Length 74</td><td>Slot 1 Column 11 Offset 0x24 Length 8 Length (physical) 8</td><td>modified</td><td>2019-12-16 23:19:54.273</td></tr><tr><td>Slot 1 Offset 0x21c Length 74</td><td>Slot 1 Column 12 Offset 0x2c Length 4 Length (physical) 4</td><td>status2</td><td>0</td></tr><tr><td>Slot 1 Offset 0x21c Length 74</td><td>Slot 1 Offset 0x0 Length 0 Length (physical) 0</td><td>KeyHashValue</td><td>(0200fcfd7630)</td></tr><tr><td>PAGE HEADER:</td><td>Slot 2 Offset 0xade Length 74</td><td>Record Type</td><td>PRIMARY_RECORD</td></tr><tr><td>PAGE HEADER:</td><td>Slot 2 Offset 0xade Length 74</td><td>Record Attributes</td><td> NULL_BITMAP VARIABLE_COLUMNS</td></tr><tr><td>PAGE HEADER:</td><td>Slot 2 Offset 0xade Length 74</td><td>Record Size</td><td>74</td></tr><tr><td>Slot 2 Offset 0xade Length 74</td><td>Memory Dump @0x000000036A988ADE</td><td></td><td>0000000000000000:   30003000 ee3b61a1 01000000 0008000e 00552000  0.0.î;a¡.........U .</td></tr><tr><td>Slot 2 Offset 0xade Length 74</td><td>Memory Dump @0x000000036A988ADE</td><td></td><td>0000000000000014:   00000001 01000000 6c0c8001 25ab0000 dc7e8001  ........l...%«..Ü~..</td></tr><tr><td>Slot 2 Offset 0xade Length 74</td><td>Memory Dump @0x000000036A988ADE</td><td></td><td>0000000000000028:   25ab0000 00000000 0c000000 01004a00 23004100  %«............J.#.A.</td></tr><tr><td>Slot 2 Offset 0xade Length 74</td><td>Memory Dump @0x000000036A988ADE</td><td></td><td>000000000000003C:   31003600 31003300 42004500 4500               1.6.1.3.B.E.E.</td></tr><tr><td>Slot 2 Offset 0xade Length 74</td><td>Slot 2 Column 1 Offset 0x4 Length 4 Length (physical) 4</td><td>id</td><td>-1587463186</td></tr><tr><td>Slot 2 Offset 0xade Length 74</td><td>Slot 2 Column 2 Offset 0x38 Length 18 Length (physical) 18</td><td>name</td><td>#A1613BEE</td></tr><tr><td>Slot 2 Offset 0xade Length 74</td><td>Slot 2 Column 3 Offset 0x8 Length 4 Length (physical) 4</td><td>nsid</td><td>1</td></tr><tr><td>Slot 2 Offset 0xade Length 74</td><td>Slot 2 Column 4 Offset 0xc Length 1 Length (physical) 1</td><td>nsclass</td><td>0</td></tr><tr><td>Slot 2 Offset 0xade Length 74</td><td>Slot 2 Column 5 Offset 0xd Length 4 Length (physical) 4</td><td>status</td><td>917512</td></tr><tr><td>Slot 2 Offset 0xade Length 74</td><td>Slot 2 Column 6 Offset 0x11 Length 2 Length (physical) 2</td><td>type</td><td>U </td></tr><tr><td>Slot 2 Offset 0xade Length 74</td><td>Slot 2 Column 7 Offset 0x13 Length 4 Length (physical) 4</td><td>pid</td><td>0</td></tr><tr><td>Slot 2 Offset 0xade Length 74</td><td>Slot 2 Column 8 Offset 0x17 Length 1 Length (physical) 1</td><td>pclass</td><td>1</td></tr><tr><td>Slot 2 Offset 0xade Length 74</td><td>Slot 2 Column 9 Offset 0x18 Length 4 Length (physical) 4</td><td>intprop</td><td>1</td></tr><tr><td>Slot 2 Offset 0xade Length 74</td><td>Slot 2 Column 10 Offset 0x1c Length 8 Length (physical) 8</td><td>created</td><td>2019-12-16 23:18:16.680</td></tr><tr><td>Slot 2 Offset 0xade Length 74</td><td>Slot 2 Column 11 Offset 0x24 Length 8 Length (physical) 8</td><td>modified</td><td>2019-12-16 23:19:54.333</td></tr><tr><td>Slot 2 Offset 0xade Length 74</td><td>Slot 2 Column 12 Offset 0x2c Length 4 Length (physical) 4</td><td>status2</td><td>0</td></tr><tr><td>Slot 2 Offset 0xade Length 74</td><td>Slot 2 Offset 0x0 Length 0 Length (physical) 0</td><td>KeyHashValue</td><td>(53f3df89b241)</td></tr><tr><td>PAGE HEADER:</td><td>Slot 3 Offset 0x188 Length 74</td><td>Record Type</td><td>PRIMARY_RECORD</td></tr><tr><td>PAGE HEADER:</td><td>Slot 3 Offset 0x188 Length 74</td><td>Record Attributes</td><td> NULL_BITMAP VARIABLE_COLUMNS</td></tr><tr><td>PAGE HEADER:</td><td>Slot 3 Offset 0x188 Length 74</td><td>Record Size</td><td>74</td></tr><tr><td>Slot 3 Offset 0x188 Length 74</td><td>Memory Dump @0x000000036A988188</td><td></td><td>0000000000000000:   30003000 9590e8a1 01000000 0008000e 00552000  0.0..è¡.........U .</td></tr><tr><td>Slot 3 Offset 0x188 Length 74</td><td>Memory Dump @0x000000036A988188</td><td></td><td>0000000000000014:   00000001 01000000 300c8001 25ab0000 db7e8001  ........0...%«..Û~..</td></tr><tr><td>Slot 3 Offset 0x188 Length 74</td><td>Memory Dump @0x000000036A988188</td><td></td><td>0000000000000028:   25ab0000 00000000 0c000000 01004a00 23004100  %«............J.#.A.</td></tr><tr><td>Slot 3 Offset 0x188 Length 74</td><td>Memory Dump @0x000000036A988188</td><td></td><td>000000000000003C:   31004500 38003900 30003900 3500               1.E.8.9.0.9.5.</td></tr><tr><td>Slot 3 Offset 0x188 Length 74</td><td>Slot 3 Column 1 Offset 0x4 Length 4 Length (physical) 4</td><td>id</td><td>-1578594155</td></tr><tr><td>Slot 3 Offset 0x188 Length 74</td><td>Slot 3 Column 2 Offset 0x38 Length 18 Length (physical) 18</td><td>name</td><td>#A1E89095</td></tr><tr><td>Slot 3 Offset 0x188 Length 74</td><td>Slot 3 Column 3 Offset 0x8 Length 4 Length (physical) 4</td><td>nsid</td><td>1</td></tr><tr><td>Slot 3 Offset 0x188 Length 74</td><td>Slot 3 Column 4 Offset 0xc Length 1 Length (physical) 1</td><td>nsclass</td><td>0</td></tr><tr><td>Slot 3 Offset 0x188 Length 74</td><td>Slot 3 Column 5 Offset 0xd Length 4 Length (physical) 4</td><td>status</td><td>917512</td></tr><tr><td>Slot 3 Offset 0x188 Length 74</td><td>Slot 3 Column 6 Offset 0x11 Length 2 Length (physical) 2</td><td>type</td><td>U </td></tr><tr><td>Slot 3 Offset 0x188 Length 74</td><td>Slot 3 Column 7 Offset 0x13 Length 4 Length (physical) 4</td><td>pid</td><td>0</td></tr><tr><td>Slot 3 Offset 0x188 Length 74</td><td>Slot 3 Column 8 Offset 0x17 Length 1 Length (physical) 1</td><td>pclass</td><td>1</td></tr><tr><td>Slot 3 Offset 0x188 Length 74</td><td>Slot 3 Column 9 Offset 0x18 Length 4 Length (physical) 4</td><td>intprop</td><td>1</td></tr><tr><td>Slot 3 Offset 0x188 Length 74</td><td>Slot 3 Column 10 Offset 0x1c Length 8 Length (physical) 8</td><td>created</td><td>2019-12-16 23:18:16.480</td></tr><tr><td>Slot 3 Offset 0x188 Length 74</td><td>Slot 3 Column 11 Offset 0x24 Length 8 Length (physical) 8</td><td>modified</td><td>2019-12-16 23:19:54.330</td></tr><tr><td>Slot 3 Offset 0x188 Length 74</td><td>Slot 3 Column 12 Offset 0x2c Length 4 Length (physical) 4</td><td>status2</td><td>0</td></tr><tr><td>Slot 3 Offset 0x188 Length 74</td><td>Slot 3 Offset 0x0 Length 0 Length (physical) 0</td><td>KeyHashValue</td><td>(84e6005513d5)</td></tr><tr><td>PAGE HEADER:</td><td>Slot 4 Offset 0x5b4 Length 74</td><td>Record Type</td><td>PRIMARY_RECORD</td></tr><tr><td>PAGE HEADER:</td><td>Slot 4 Offset 0x5b4 Length 74</td><td>Record Attributes</td><td> NULL_BITMAP VARIABLE_COLUMNS</td></tr><tr><td>PAGE HEADER:</td><td>Slot 4 Offset 0x5b4 Length 74</td><td>Record Size</td><td>74</td></tr><tr><td>Slot 4 Offset 0x5b4 Length 74</td><td>Memory Dump @0x000000036A9885B4</td><td></td><td>0000000000000000:   30003000 276055a2 01000000 0008000e 00552000  0.0.'`U¢.........U .</td></tr><tr><td>Slot 4 Offset 0x5b4 Length 74</td><td>Memory Dump @0x000000036A9885B4</td><td></td><td>0000000000000014:   00000001 01000000 780c8001 25ab0000 db7e8001  ........x...%«..Û~..</td></tr><tr><td>Slot 4 Offset 0x5b4 Length 74</td><td>Memory Dump @0x000000036A9885B4</td><td></td><td>0000000000000028:   25ab0000 00000000 0c000000 01004a00 23004100  %«............J.#.A.</td></tr><tr><td>Slot 4 Offset 0x5b4 Length 74</td><td>Memory Dump @0x000000036A9885B4</td><td></td><td>000000000000003C:   32003500 35003600 30003200 3700               2.5.5.6.0.2.7.</td></tr><tr><td>Slot 4 Offset 0x5b4 Length 74</td><td>Slot 4 Column 1 Offset 0x4 Length 4 Length (physical) 4</td><td>id</td><td>-1571463129</td></tr><tr><td>Slot 4 Offset 0x5b4 Length 74</td><td>Slot 4 Column 2 Offset 0x38 Length 18 Length (physical) 18</td><td>name</td><td>#A2556027</td></tr><tr><td>Slot 4 Offset 0x5b4 Length 74</td><td>Slot 4 Column 3 Offset 0x8 Length 4 Length (physical) 4</td><td>nsid</td><td>1</td></tr><tr><td>Slot 4 Offset 0x5b4 Length 74</td><td>Slot 4 Column 4 Offset 0xc Length 1 Length (physical) 1</td><td>nsclass</td><td>0</td></tr><tr><td>Slot 4 Offset 0x5b4 Length 74</td><td>Slot 4 Column 5 Offset 0xd Length 4 Length (physical) 4</td><td>status</td><td>917512</td></tr><tr><td>Slot 4 Offset 0x5b4 Length 74</td><td>Slot 4 Column 6 Offset 0x11 Length 2 Length (physical) 2</td><td>type</td><td>U </td></tr><tr><td>Slot 4 Offset 0x5b4 Length 74</td><td>Slot 4 Column 7 Offset 0x13 Length 4 Length (physical) 4</td><td>pid</td><td>0</td></tr><tr><td>Slot 4 Offset 0x5b4 Length 74</td><td>Slot 4 Column 8 Offset 0x17 Length 1 Length (physical) 1</td><td>pclass</td><td>1</td></tr><tr><td>Slot 4 Offset 0x5b4 Length 74</td><td>Slot 4 Column 9 Offset 0x18 Length 4 Length (physical) 4</td><td>intprop</td><td>1</td></tr><tr><td>Slot 4 Offset 0x5b4 Length 74</td><td>Slot 4 Column 10 Offset 0x1c Length 8 Length (physical) 8</td><td>created</td><td>2019-12-16 23:18:16.720</td></tr><tr><td>Slot 4 Offset 0x5b4 Length 74</td><td>Slot 4 Column 11 Offset 0x24 Length 8 Length (physical) 8</td><td>modified</td><td>2019-12-16 23:19:54.330</td></tr><tr><td>Slot 4 Offset 0x5b4 Length 74</td><td>Slot 4 Column 12 Offset 0x2c Length 4 Length (physical) 4</td><td>status2</td><td>0</td></tr><tr><td>Slot 4 Offset 0x5b4 Length 74</td><td>Slot 4 Offset 0x0 Length 0 Length (physical) 0</td><td>KeyHashValue</td><td>(3bb514be4c28)</td></tr><tr><td>PAGE HEADER:</td><td>Slot 5 Offset 0x13e Length 74</td><td>Record Type</td><td>PRIMARY_RECORD</td></tr><tr><td>PAGE HEADER:</td><td>Slot 5 Offset 0x13e Length 74</td><td>Record Attributes</td><td> NULL_BITMAP VARIABLE_COLUMNS</td></tr><tr><td>PAGE HEADER:</td><td>Slot 5 Offset 0x13e Length 74</td><td>Record Size</td><td>74</td></tr><tr><td>Slot 5 Offset 0x13e Length 74</td><td>Memory Dump @0x000000036A98813E</td><td></td><td>0000000000000000:   30003000 ceb4dca2 01000000 0008000e 00552000  0.0.Î´Ü¢.........U .</td></tr><tr><td>Slot 5 Offset 0x13e Length 74</td><td>Memory Dump @0x000000036A98813E</td><td></td><td>0000000000000014:   00000001 01000000 300c8001 25ab0000 db7e8001  ........0...%«..Û~..</td></tr><tr><td>Slot 5 Offset 0x13e Length 74</td><td>Memory Dump @0x000000036A98813E</td><td></td><td>0000000000000028:   25ab0000 00000000 0c000000 01004a00 23004100  %«............J.#.A.</td></tr><tr><td>Slot 5 Offset 0x13e Length 74</td><td>Memory Dump @0x000000036A98813E</td><td></td><td>000000000000003C:   32004400 43004200 34004300 4500               2.D.C.B.4.C.E.</td></tr><tr><td>Slot 5 Offset 0x13e Length 74</td><td>Slot 5 Column 1 Offset 0x4 Length 4 Length (physical) 4</td><td>id</td><td>-1562594098</td></tr><tr><td>Slot 5 Offset 0x13e Length 74</td><td>Slot 5 Column 2 Offset 0x38 Length 18 Length (physical) 18</td><td>name</td><td>#A2DCB4CE</td></tr><tr><td>Slot 5 Offset 0x13e Length 74</td><td>Slot 5 Column 3 Offset 0x8 Length 4 Length (physical) 4</td><td>nsid</td><td>1</td></tr><tr><td>Slot 5 Offset 0x13e Length 74</td><td>Slot 5 Column 4 Offset 0xc Length 1 Length (physical) 1</td><td>nsclass</td><td>0</td></tr><tr><td>Slot 5 Offset 0x13e Length 74</td><td>Slot 5 Column 5 Offset 0xd Length 4 Length (physical) 4</td><td>status</td><td>917512</td></tr><tr><td>Slot 5 Offset 0x13e Length 74</td><td>Slot 5 Column 6 Offset 0x11 Length 2 Length (physical) 2</td><td>type</td><td>U </td></tr><tr><td>Slot 5 Offset 0x13e Length 74</td><td>Slot 5 Column 7 Offset 0x13 Length 4 Length (physical) 4</td><td>pid</td><td>0</td></tr><tr><td>Slot 5 Offset 0x13e Length 74</td><td>Slot 5 Column 8 Offset 0x17 Length 1 Length (physical) 1</td><td>pclass</td><td>1</td></tr><tr><td>Slot 5 Offset 0x13e Length 74</td><td>Slot 5 Column 9 Offset 0x18 Length 4 Length (physical) 4</td><td>intprop</td><td>1</td></tr><tr><td>Slot 5 Offset 0x13e Length 74</td><td>Slot 5 Column 10 Offset 0x1c Length 8 Length (physical) 8</td><td>created</td><td>2019-12-16 23:18:16.480</td></tr><tr><td>Slot 5 Offset 0x13e Length 74</td><td>Slot 5 Column 11 Offset 0x24 Length 8 Length (physical) 8</td><td>modified</td><td>2019-12-16 23:19:54.330</td></tr><tr><td>Slot 5 Offset 0x13e Length 74</td><td>Slot 5 Column 12 Offset 0x2c Length 4 Length (physical) 4</td><td>status2</td><td>0</td></tr><tr><td>Slot 5 Offset 0x13e Length 74</td><td>Slot 5 Offset 0x0 Length 0 Length (physical) 0</td><td>KeyHashValue</td><td>(34d52864e721)</td></tr><tr><td>PAGE HEADER:</td><td>Slot 6 Offset 0x6ec Length 74</td><td>Record Type</td><td>PRIMARY_RECORD</td></tr><tr><td>PAGE HEADER:</td><td>Slot 6 Offset 0x6ec Length 74</td><td>Record Attributes</td><td> NULL_BITMAP VARIABLE_COLUMNS</td></tr><tr><td>PAGE HEADER:</td><td>Slot 6 Offset 0x6ec Length 74</td><td>Record Size</td><td>74</td></tr><tr><td>Slot 6 Offset 0x6ec Length 74</td><td>Memory Dump @0x000000036A9886EC</td><td></td><td>0000000000000000:   30003000 608449a3 01000000 0008000e 00552000  0.0.`I£.........U .</td></tr><tr><td>Slot 6 Offset 0x6ec Length 74</td><td>Memory Dump @0x000000036A9886EC</td><td></td><td>0000000000000014:   00000001 01000000 780c8001 25ab0000 dc7e8001  ........x...%«..Ü~..</td></tr><tr><td>Slot 6 Offset 0x6ec Length 74</td><td>Memory Dump @0x000000036A9886EC</td><td></td><td>0000000000000028:   25ab0000 00000000 0c000000 01004a00 23004100  %«............J.#.A.</td></tr><tr><td>Slot 6 Offset 0x6ec Length 74</td><td>Memory Dump @0x000000036A9886EC</td><td></td><td>000000000000003C:   33003400 39003800 34003600 3000               3.4.9.8.4.6.0.</td></tr><tr><td>Slot 6 Offset 0x6ec Length 74</td><td>Slot 6 Column 1 Offset 0x4 Length 4 Length (physical) 4</td><td>id</td><td>-1555463072</td></tr><tr><td>Slot 6 Offset 0x6ec Length 74</td><td>Slot 6 Column 2 Offset 0x38 Length 18 Length (physical) 18</td><td>name</td><td>#A3498460</td></tr><tr><td>Slot 6 Offset 0x6ec Length 74</td><td>Slot 6 Column 3 Offset 0x8 Length 4 Length (physical) 4</td><td>nsid</td><td>1</td></tr><tr><td>Slot 6 Offset 0x6ec Length 74</td><td>Slot 6 Column 4 Offset 0xc Length 1 Length (physical) 1</td><td>nsclass</td><td>0</td></tr><tr><td>Slot 6 Offset 0x6ec Length 74</td><td>Slot 6 Column 5 Offset 0xd Length 4 Length (physical) 4</td><td>status</td><td>917512</td></tr><tr><td>Slot 6 Offset 0x6ec Length 74</td><td>Slot 6 Column 6 Offset 0x11 Length 2 Length (physical) 2</td><td>type</td><td>U </td></tr><tr><td>Slot 6 Offset 0x6ec Length 74</td><td>Slot 6 Column 7 Offset 0x13 Length 4 Length (physical) 4</td><td>pid</td><td>0</td></tr><tr><td>Slot 6 Offset 0x6ec Length 74</td><td>Slot 6 Column 8 Offset 0x17 Length 1 Length (physical) 1</td><td>pclass</td><td>1</td></tr><tr><td>Slot 6 Offset 0x6ec Length 74</td><td>Slot 6 Column 9 Offset 0x18 Length 4 Length (physical) 4</td><td>intprop</td><td>1</td></tr><tr><td>Slot 6 Offset 0x6ec Length 74</td><td>Slot 6 Column 10 Offset 0x1c Length 8 Length (physical) 8</td><td>created</td><td>2019-12-16 23:18:16.720</td></tr><tr><td>Slot 6 Offset 0x6ec Length 74</td><td>Slot 6 Column 11 Offset 0x24 Length 8 Length (physical) 8</td><td>modified</td><td>2019-12-16 23:19:54.333</td></tr><tr><td>Slot 6 Offset 0x6ec Length 74</td><td>Slot 6 Column 12 Offset 0x2c Length 4 Length (physical) 4</td><td>status2</td><td>0</td></tr><tr><td>Slot 6 Offset 0x6ec Length 74</td><td>Slot 6 Offset 0x0 Length 0 Length (physical) 0</td><td>KeyHashValue</td><td>(bfcac36256dc)</td></tr><tr><td>PAGE HEADER:</td><td>Slot 7 Offset 0x1d2 Length 74</td><td>Record Type</td><td>PRIMARY_RECORD</td></tr><tr><td>PAGE HEADER:</td><td>Slot 7 Offset 0x1d2 Length 74</td><td>Record Attributes</td><td> NULL_BITMAP VARIABLE_COLUMNS</td></tr><tr><td>PAGE HEADER:</td><td>Slot 7 Offset 0x1d2 Length 74</td><td>Record Size</td><td>74</td></tr><tr><td>Slot 7 Offset 0x1d2 Length 74</td><td>Memory Dump @0x000000036A9881D2</td><td></td><td>0000000000000000:   30003000 07d9d0a3 01000000 0008000e 00552000  0.0..ÙÐ£.........U .</td></tr><tr><td>Slot 7 Offset 0x1d2 Length 74</td><td>Memory Dump @0x000000036A9881D2</td><td></td><td>0000000000000014:   00000001 01000000 300c8001 25ab0000 be7e8001  ........0...%«..¾~..</td></tr><tr><td>Slot 7 Offset 0x1d2 Length 74</td><td>Memory Dump @0x000000036A9881D2</td><td></td><td>0000000000000028:   25ab0000 00000000 0c000000 01004a00 23004100  %«............J.#.A.</td></tr><tr><td>Slot 7 Offset 0x1d2 Length 74</td><td>Memory Dump @0x000000036A9881D2</td><td></td><td>000000000000003C:   33004400 30004400 39003000 3700               3.D.0.D.9.0.7.</td></tr><tr><td>Slot 7 Offset 0x1d2 Length 74</td><td>Slot 7 Column 1 Offset 0x4 Length 4 Length (physical) 4</td><td>id</td><td>-1546594041</td></tr><tr><td>Slot 7 Offset 0x1d2 Length 74</td><td>Slot 7 Column 2 Offset 0x38 Length 18 Length (physical) 18</td><td>name</td><td>#A3D0D907</td></tr><tr><td>Slot 7 Offset 0x1d2 Length 74</td><td>Slot 7 Column 3 Offset 0x8 Length 4 Length (physical) 4</td><td>nsid</td><td>1</td></tr><tr><td>Slot 7 Offset 0x1d2 Length 74</td><td>Slot 7 Column 4 Offset 0xc Length 1 Length (physical) 1</td><td>nsclass</td><td>0</td></tr><tr><td>Slot 7 Offset 0x1d2 Length 74</td><td>Slot 7 Column 5 Offset 0xd Length 4 Length (physical) 4</td><td>status</td><td>917512</td></tr><tr><td>Slot 7 Offset 0x1d2 Length 74</td><td>Slot 7 Column 6 Offset 0x11 Length 2 Length (physical) 2</td><td>type</td><td>U </td></tr><tr><td>Slot 7 Offset 0x1d2 Length 74</td><td>Slot 7 Column 7 Offset 0x13 Length 4 Length (physical) 4</td><td>pid</td><td>0</td></tr><tr><td>Slot 7 Offset 0x1d2 Length 74</td><td>Slot 7 Column 8 Offset 0x17 Length 1 Length (physical) 1</td><td>pclass</td><td>1</td></tr><tr><td>Slot 7 Offset 0x1d2 Length 74</td><td>Slot 7 Column 9 Offset 0x18 Length 4 Length (physical) 4</td><td>intprop</td><td>1</td></tr><tr><td>Slot 7 Offset 0x1d2 Length 74</td><td>Slot 7 Column 10 Offset 0x1c Length 8 Length (physical) 8</td><td>created</td><td>2019-12-16 23:18:16.480</td></tr><tr><td>Slot 7 Offset 0x1d2 Length 74</td><td>Slot 7 Column 11 Offset 0x24 Length 8 Length (physical) 8</td><td>modified</td><td>2019-12-16 23:19:54.233</td></tr><tr><td>Slot 7 Offset 0x1d2 Length 74</td><td>Slot 7 Column 12 Offset 0x2c Length 4 Length (physical) 4</td><td>status2</td><td>0</td></tr><tr><td>Slot 7 Offset 0x1d2 Length 74</td><td>Slot 7 Offset 0x0 Length 0 Length (physical) 0</td><td>KeyHashValue</td><td>(6881b1a1cb25)</td></tr><tr><td>PAGE HEADER:</td><td>Slot 8 Offset 0x86e Length 74</td><td>Record Type</td><td>PRIMARY_RECORD</td></tr><tr><td>PAGE HEADER:</td><td>Slot 8 Offset 0x86e Length 74</td><td>Record Attributes</td><td> NULL_BITMAP VARIABLE_COLUMNS</td></tr><tr><td>PAGE HEADER:</td><td>Slot 8 Offset 0x86e Length 74</td><td>Record Size</td><td>74</td></tr><tr><td>Slot 8 Offset 0x86e Length 74</td><td>Memory Dump @0x000000036A98886E</td><td></td><td>0000000000000000:   30003000 99a83da4 01000000 0008000e 00552000  0.0..¨=¤.........U .</td></tr><tr><td>Slot 8 Offset 0x86e Length 74</td><td>Memory Dump @0x000000036A98886E</td><td></td><td>0000000000000014:   00000001 01000000 780c8001 25ab0000 dc7e8001  ........x...%«..Ü~..</td></tr><tr><td>Slot 8 Offset 0x86e Length 74</td><td>Memory Dump @0x000000036A98886E</td><td></td><td>0000000000000028:   25ab0000 00000000 0c000000 01004a00 23004100  %«............J.#.A.</td></tr><tr><td>Slot 8 Offset 0x86e Length 74</td><td>Memory Dump @0x000000036A98886E</td><td></td><td>000000000000003C:   34003300 44004100 38003900 3900               4.3.D.A.8.9.9.</td></tr><tr><td>Slot 8 Offset 0x86e Length 74</td><td>Slot 8 Column 1 Offset 0x4 Length 4 Length (physical) 4</td><td>id</td><td>-1539463015</td></tr><tr><td>Slot 8 Offset 0x86e Length 74</td><td>Slot 8 Column 2 Offset 0x38 Length 18 Length (physical) 18</td><td>name</td><td>#A43DA899</td></tr><tr><td>Slot 8 Offset 0x86e Length 74</td><td>Slot 8 Column 3 Offset 0x8 Length 4 Length (physical) 4</td><td>nsid</td><td>1</td></tr><tr><td>Slot 8 Offset 0x86e Length 74</td><td>Slot 8 Column 4 Offset 0xc Length 1 Length (physical) 1</td><td>nsclass</td><td>0</td></tr><tr><td>Slot 8 Offset 0x86e Length 74</td><td>Slot 8 Column 5 Offset 0xd Length 4 Length (physical) 4</td><td>status</td><td>917512</td></tr><tr><td>Slot 8 Offset 0x86e Length 74</td><td>Slot 8 Column 6 Offset 0x11 Length 2 Length (physical) 2</td><td>type</td><td>U </td></tr><tr><td>Slot 8 Offset 0x86e Length 74</td><td>Slot 8 Column 7 Offset 0x13 Length 4 Length (physical) 4</td><td>pid</td><td>0</td></tr><tr><td>Slot 8 Offset 0x86e Length 74</td><td>Slot 8 Column 8 Offset 0x17 Length 1 Length (physical) 1</td><td>pclass</td><td>1</td></tr><tr><td>Slot 8 Offset 0x86e Length 74</td><td>Slot 8 Column 9 Offset 0x18 Length 4 Length (physical) 4</td><td>intprop</td><td>1</td></tr><tr><td>Slot 8 Offset 0x86e Length 74</td><td>Slot 8 Column 10 Offset 0x1c Length 8 Length (physical) 8</td><td>created</td><td>2019-12-16 23:18:16.720</td></tr><tr><td>Slot 8 Offset 0x86e Length 74</td><td>Slot 8 Column 11 Offset 0x24 Length 8 Length (physical) 8</td><td>modified</td><td>2019-12-16 23:19:54.333</td></tr><tr><td>Slot 8 Offset 0x86e Length 74</td><td>Slot 8 Column 12 Offset 0x2c Length 4 Length (physical) 4</td><td>status2</td><td>0</td></tr><tr><td>Slot 8 Offset 0x86e Length 74</td><td>Slot 8 Offset 0x0 Length 0 Length (physical) 0</td><td>KeyHashValue</td><td>(8946193699a9)</td></tr><tr><td>PAGE HEADER:</td><td>Slot 9 Offset 0xfbe Length 312</td><td>Record Type</td><td>PRIMARY_RECORD</td></tr><tr><td>PAGE HEADER:</td><td>Slot 9 Offset 0xfbe Length 312</td><td>Record Attributes</td><td> NULL_BITMAP VARIABLE_COLUMNS</td></tr><tr><td>PAGE HEADER:</td><td>Slot 9 Offset 0xfbe Length 312</td><td>Record Size</td><td>312</td></tr><tr><td>Slot 9 Offset 0xfbe Length 312</td><td>Memory Dump @0x000000036A988FBE</td><td></td><td>0000000000000000:   30003000 40fdc4a4 01000000 0008000e 00552000  0.0.@ýÄ¤.........U .</td></tr><tr><td>Slot 9 Offset 0xfbe Length 312</td><td>Memory Dump @0x000000036A988FBE</td><td></td><td>0000000000000014:   00000001 01000000 380c8001 25ab0000 db7e8001  ........8...%«..Û~..</td></tr><tr><td>Slot 9 Offset 0xfbe Length 312</td><td>Memory Dump @0x000000036A988FBE</td><td></td><td>0000000000000028:   25ab0000 00000000 0c000000 01003801 23006700  %«............8.#.g.</td></tr><tr><td>Slot 9 Offset 0xfbe Length 312</td><td>Memory Dump @0x000000036A988FBE</td><td></td><td>000000000000003C:   6f007300 6f007800 5f005f00 5f005f00 5f005f00  o.s.o.x._._._._._._.</td></tr><tr><td>Slot 9 Offset 0xfbe Length 312</td><td>Memory Dump @0x000000036A988FBE</td><td></td><td>0000000000000050:   5f005f00 5f005f00 5f005f00 5f005f00 5f005f00  _._._._._._._._._._.</td></tr><tr><td>Slot 9 Offset 0xfbe Length 312</td><td>Memory Dump @0x000000036A988FBE</td><td></td><td>0000000000000064:   5f005f00 5f005f00 5f005f00 5f005f00 5f005f00  _._._._._._._._._._.</td></tr><tr><td>Slot 9 Offset 0xfbe Length 312</td><td>Memory Dump @0x000000036A988FBE</td><td></td><td>0000000000000078:   5f005f00 5f005f00 5f005f00 5f005f00 5f005f00  _._._._._._._._._._.</td></tr><tr><td>Slot 9 Offset 0xfbe Length 312</td><td>Memory Dump @0x000000036A988FBE</td><td></td><td>000000000000008C:   5f005f00 5f005f00 5f005f00 5f005f00 5f005f00  _._._._._._._._._._.</td></tr><tr><td>Slot 9 Offset 0xfbe Length 312</td><td>Memory Dump @0x000000036A988FBE</td><td></td><td>00000000000000A0:   5f005f00 5f005f00 5f005f00 5f005f00 5f005f00  _._._._._._._._._._.</td></tr><tr><td>Slot 9 Offset 0xfbe Length 312</td><td>Memory Dump @0x000000036A988FBE</td><td></td><td>00000000000000B4:   5f005f00 5f005f00 5f005f00 5f005f00 5f005f00  _._._._._._._._._._.</td></tr><tr><td>Slot 9 Offset 0xfbe Length 312</td><td>Memory Dump @0x000000036A988FBE</td><td></td><td>00000000000000C8:   5f005f00 5f005f00 5f005f00 5f005f00 5f005f00  _._._._._._._._._._.</td></tr><tr><td>Slot 9 Offset 0xfbe Length 312</td><td>Memory Dump @0x000000036A988FBE</td><td></td><td>00000000000000DC:   5f005f00 5f005f00 5f005f00 5f005f00 5f005f00  _._._._._._._._._._.</td></tr><tr><td>Slot 9 Offset 0xfbe Length 312</td><td>Memory Dump @0x000000036A988FBE</td><td></td><td>00000000000000F0:   5f005f00 5f005f00 5f005f00 5f005f00 5f005f00  _._._._._._._._._._.</td></tr><tr><td>Slot 9 Offset 0xfbe Length 312</td><td>Memory Dump @0x000000036A988FBE</td><td></td><td>0000000000000104:   5f005f00 5f005f00 5f005f00 5f005f00 5f005f00  _._._._._._._._._._.</td></tr><tr><td>Slot 9 Offset 0xfbe Length 312</td><td>Memory Dump @0x000000036A988FBE</td><td></td><td>0000000000000118:   5f005f00 5f005f00 30003000 30003000 30003000  _._._._.0.0.0.0.0.0.</td></tr><tr><td>Slot 9 Offset 0xfbe Length 312</td><td>Memory Dump @0x000000036A988FBE</td><td></td><td>000000000000012C:   30003000 30003000 30003600                    0.0.0.0.0.6.</td></tr><tr><td>Slot 9 Offset 0xfbe Length 312</td><td>Slot 9 Column 1 Offset 0x4 Length 4 Length (physical) 4</td><td>id</td><td>-1530593984</td></tr><tr><td>Slot 9 Offset 0xfbe Length 312</td><td>Slot 9 Column 2 Offset 0x38 Length 256 Length (physical) 256</td><td>name</td><td>#gosox______________________________________________________________________________________________________________000000000006</td></tr><tr><td>Slot 9 Offset 0xfbe Length 312</td><td>Slot 9 Column 3 Offset 0x8 Length 4 Length (physical) 4</td><td>nsid</td><td>1</td></tr><tr><td>Slot 9 Offset 0xfbe Length 312</td><td>Slot 9 Column 4 Offset 0xc Length 1 Length (physical) 1</td><td>nsclass</td><td>0</td></tr><tr><td>Slot 9 Offset 0xfbe Length 312</td><td>Slot 9 Column 5 Offset 0xd Length 4 Length (physical) 4</td><td>status</td><td>917512</td></tr><tr><td>Slot 9 Offset 0xfbe Length 312</td><td>Slot 9 Column 6 Offset 0x11 Length 2 Length (physical) 2</td><td>type</td><td>U </td></tr><tr><td>Slot 9 Offset 0xfbe Length 312</td><td>Slot 9 Column 7 Offset 0x13 Length 4 Length (physical) 4</td><td>pid</td><td>0</td></tr><tr><td>Slot 9 Offset 0xfbe Length 312</td><td>Slot 9 Column 8 Offset 0x17 Length 1 Length (physical) 1</td><td>pclass</td><td>1</td></tr><tr><td>Slot 9 Offset 0xfbe Length 312</td><td>Slot 9 Column 9 Offset 0x18 Length 4 Length (physical) 4</td><td>intprop</td><td>1</td></tr><tr><td>Slot 9 Offset 0xfbe Length 312</td><td>Slot 9 Column 10 Offset 0x1c Length 8 Length (physical) 8</td><td>created</td><td>2019-12-16 23:18:16.507</td></tr><tr><td>Slot 9 Offset 0xfbe Length 312</td><td>Slot 9 Column 11 Offset 0x24 Length 8 Length (physical) 8</td><td>modified</td><td>2019-12-16 23:19:54.330</td></tr><tr><td>Slot 9 Offset 0xfbe Length 312</td><td>Slot 9 Column 12 Offset 0x2c Length 4 Length (physical) 4</td><td>status2</td><td>0</td></tr><tr><td>Slot 9 Offset 0xfbe Length 312</td><td>Slot 9 Offset 0x0 Length 0 Length (physical) 0</td><td>KeyHashValue</td><td>(47f219e65d4c)</td></tr><tr><td>PAGE HEADER:</td><td>Slot 10 Offset 0xd4e Length 312</td><td>Record Type</td><td>PRIMARY_RECORD</td></tr><tr><td>PAGE HEADER:</td><td>Slot 10 Offset 0xd4e Length 312</td><td>Record Attributes</td><td> NULL_BITMAP VARIABLE_COLUMNS</td></tr><tr><td>PAGE HEADER:</td><td>Slot 10 Offset 0xd4e Length 312</td><td>Record Size</td><td>312</td></tr><tr><td>Slot 10 Offset 0xd4e Length 312</td><td>Memory Dump @0x000000036A988D4E</td><td></td><td>0000000000000000:   30003000 d2cc31a5 01000000 0008000e 00552000  0.0.ÒÌ1¥.........U .</td></tr><tr><td>Slot 10 Offset 0xd4e Length 312</td><td>Memory Dump @0x000000036A988D4E</td><td></td><td>0000000000000014:   00000001 01000000 780c8001 25ab0000 db7e8001  ........x...%«..Û~..</td></tr><tr><td>Slot 10 Offset 0xd4e Length 312</td><td>Memory Dump @0x000000036A988D4E</td><td></td><td>0000000000000028:   25ab0000 00000000 0c000000 01003801 23006700  %«............8.#.g.</td></tr><tr><td>Slot 10 Offset 0xd4e Length 312</td><td>Memory Dump @0x000000036A988D4E</td><td></td><td>000000000000003C:   6f007300 6f007800 5f005f00 5f005f00 5f005f00  o.s.o.x._._._._._._.</td></tr><tr><td>Slot 10 Offset 0xd4e Length 312</td><td>Memory Dump @0x000000036A988D4E</td><td></td><td>0000000000000050:   5f005f00 5f005f00 5f005f00 5f005f00 5f005f00  _._._._._._._._._._.</td></tr><tr><td>Slot 10 Offset 0xd4e Length 312</td><td>Memory Dump @0x000000036A988D4E</td><td></td><td>0000000000000064:   5f005f00 5f005f00 5f005f00 5f005f00 5f005f00  _._._._._._._._._._.</td></tr><tr><td>Slot 10 Offset 0xd4e Length 312</td><td>Memory Dump @0x000000036A988D4E</td><td></td><td>0000000000000078:   5f005f00 5f005f00 5f005f00 5f005f00 5f005f00  _._._._._._._._._._.</td></tr><tr><td>Slot 10 Offset 0xd4e Length 312</td><td>Memory Dump @0x000000036A988D4E</td><td></td><td>000000000000008C:   5f005f00 5f005f00 5f005f00 5f005f00 5f005f00  _._._._._._._._._._.</td></tr><tr><td>Slot 10 Offset 0xd4e Length 312</td><td>Memory Dump @0x000000036A988D4E</td><td></td><td>00000000000000A0:   5f005f00 5f005f00 5f005f00 5f005f00 5f005f00  _._._._._._._._._._.</td></tr><tr><td>Slot 10 Offset 0xd4e Length 312</td><td>Memory Dump @0x000000036A988D4E</td><td></td><td>00000000000000B4:   5f005f00 5f005f00 5f005f00 5f005f00 5f005f00  _._._._._._._._._._.</td></tr><tr><td>Slot 10 Offset 0xd4e Length 312</td><td>Memory Dump @0x000000036A988D4E</td><td></td><td>00000000000000C8:   5f005f00 5f005f00 5f005f00 5f005f00 5f005f00  _._._._._._._._._._.</td></tr><tr><td>Slot 10 Offset 0xd4e Length 312</td><td>Memory Dump @0x000000036A988D4E</td><td></td><td>00000000000000DC:   5f005f00 5f005f00 5f005f00 5f005f00 5f005f00  _._._._._._._._._._.</td></tr><tr><td>Slot 10 Offset 0xd4e Length 312</td><td>Memory Dump @0x000000036A988D4E</td><td></td><td>00000000000000F0:   5f005f00 5f005f00 5f005f00 5f005f00 5f005f00  _._._._._._._._._._.</td></tr><tr><td>Slot 10 Offset 0xd4e Length 312</td><td>Memory Dump @0x000000036A988D4E</td><td></td><td>0000000000000104:   5f005f00 5f005f00 5f005f00 5f005f00 5f005f00  _._._._._._._._._._.</td></tr><tr><td>Slot 10 Offset 0xd4e Length 312</td><td>Memory Dump @0x000000036A988D4E</td><td></td><td>0000000000000118:   5f005f00 5f005f00 30003000 30003000 30003000  _._._._.0.0.0.0.0.0.</td></tr><tr><td>Slot 10 Offset 0xd4e Length 312</td><td>Memory Dump @0x000000036A988D4E</td><td></td><td>000000000000012C:   30003000 30003000 32003800                    0.0.0.0.2.8.</td></tr><tr><td>Slot 10 Offset 0xd4e Length 312</td><td>Slot 10 Column 1 Offset 0x4 Length 4 Length (physical) 4</td><td>id</td><td>-1523462958</td></tr><tr><td>Slot 10 Offset 0xd4e Length 312</td><td>Slot 10 Column 2 Offset 0x38 Length 256 Length (physical) 256</td><td>name</td><td>#gosox______________________________________________________________________________________________________________000000000028</td></tr><tr><td>Slot 10 Offset 0xd4e Length 312</td><td>Slot 10 Column 3 Offset 0x8 Length 4 Length (physical) 4</td><td>nsid</td><td>1</td></tr><tr><td>Slot 10 Offset 0xd4e Length 312</td><td>Slot 10 Column 4 Offset 0xc Length 1 Length (physical) 1</td><td>nsclass</td><td>0</td></tr><tr><td>Slot 10 Offset 0xd4e Length 312</td><td>Slot 10 Column 5 Offset 0xd Length 4 Length (physical) 4</td><td>status</td><td>917512</td></tr><tr><td>Slot 10 Offset 0xd4e Length 312</td><td>Slot 10 Column 6 Offset 0x11 Length 2 Length (physical) 2</td><td>type</td><td>U </td></tr><tr><td>Slot 10 Offset 0xd4e Length 312</td><td>Slot 10 Column 7 Offset 0x13 Length 4 Length (physical) 4</td><td>pid</td><td>0</td></tr><tr><td>Slot 10 Offset 0xd4e Length 312</td><td>Slot 10 Column 8 Offset 0x17 Length 1 Length (physical) 1</td><td>pclass</td><td>1</td></tr><tr><td>Slot 10 Offset 0xd4e Length 312</td><td>Slot 10 Column 9 Offset 0x18 Length 4 Length (physical) 4</td><td>intprop</td><td>1</td></tr><tr><td>Slot 10 Offset 0xd4e Length 312</td><td>Slot 10 Column 10 Offset 0x1c Length 8 Length (physical) 8</td><td>created</td><td>2019-12-16 23:18:16.720</td></tr><tr><td>Slot 10 Offset 0xd4e Length 312</td><td>Slot 10 Column 11 Offset 0x24 Length 8 Length (physical) 8</td><td>modified</td><td>2019-12-16 23:19:54.330</td></tr><tr><td>Slot 10 Offset 0xd4e Length 312</td><td>Slot 10 Column 12 Offset 0x2c Length 4 Length (physical) 4</td><td>status2</td><td>0</td></tr><tr><td>Slot 10 Offset 0xd4e Length 312</td><td>Slot 10 Offset 0x0 Length 0 Length (physical) 0</td><td>KeyHashValue</td><td>(05f411744022)</td></tr><tr><td>PAGE HEADER:</td><td>Slot 11 Offset 0xc16 Length 312</td><td>Record Type</td><td>PRIMARY_RECORD</td></tr><tr><td>PAGE HEADER:</td><td>Slot 11 Offset 0xc16 Length 312</td><td>Record Attributes</td><td> NULL_BITMAP VARIABLE_COLUMNS</td></tr><tr><td>PAGE HEADER:</td><td>Slot 11 Offset 0xc16 Length 312</td><td>Record Size</td><td>312</td></tr><tr><td>Slot 11 Offset 0xc16 Length 312</td><td>Memory Dump @0x000000036A988C16</td><td></td><td>0000000000000000:   30003000 7921b9a5 01000000 0008000e 00552000  0.0.y!¹¥.........U .</td></tr><tr><td>Slot 11 Offset 0xc16 Length 312</td><td>Memory Dump @0x000000036A988C16</td><td></td><td>0000000000000014:   00000001 01000000 380c8001 25ab0000 da7e8001  ........8...%«..Ú~..</td></tr><tr><td>Slot 11 Offset 0xc16 Length 312</td><td>Memory Dump @0x000000036A988C16</td><td></td><td>0000000000000028:   25ab0000 00000000 0c000000 01003801 23006700  %«............8.#.g.</td></tr><tr><td>Slot 11 Offset 0xc16 Length 312</td><td>Memory Dump @0x000000036A988C16</td><td></td><td>000000000000003C:   6f007300 6f007800 5f005f00 5f005f00 5f005f00  o.s.o.x._._._._._._.</td></tr><tr><td>Slot 11 Offset 0xc16 Length 312</td><td>Memory Dump @0x000000036A988C16</td><td></td><td>0000000000000050:   5f005f00 5f005f00 5f005f00 5f005f00 5f005f00  _._._._._._._._._._.</td></tr><tr><td>Slot 11 Offset 0xc16 Length 312</td><td>Memory Dump @0x000000036A988C16</td><td></td><td>0000000000000064:   5f005f00 5f005f00 5f005f00 5f005f00 5f005f00  _._._._._._._._._._.</td></tr><tr><td>Slot 11 Offset 0xc16 Length 312</td><td>Memory Dump @0x000000036A988C16</td><td></td><td>0000000000000078:   5f005f00 5f005f00 5f005f00 5f005f00 5f005f00  _._._._._._._._._._.</td></tr><tr><td>Slot 11 Offset 0xc16 Length 312</td><td>Memory Dump @0x000000036A988C16</td><td></td><td>000000000000008C:   5f005f00 5f005f00 5f005f00 5f005f00 5f005f00  _._._._._._._._._._.</td></tr><tr><td>Slot 11 Offset 0xc16 Length 312</td><td>Memory Dump @0x000000036A988C16</td><td></td><td>00000000000000A0:   5f005f00 5f005f00 5f005f00 5f005f00 5f005f00  _._._._._._._._._._.</td></tr><tr><td>Slot 11 Offset 0xc16 Length 312</td><td>Memory Dump @0x000000036A988C16</td><td></td><td>00000000000000B4:   5f005f00 5f005f00 5f005f00 5f005f00 5f005f00  _._._._._._._._._._.</td></tr><tr><td>Slot 11 Offset 0xc16 Length 312</td><td>Memory Dump @0x000000036A988C16</td><td></td><td>00000000000000C8:   5f005f00 5f005f00 5f005f00 5f005f00 5f005f00  _._._._._._._._._._.</td></tr><tr><td>Slot 11 Offset 0xc16 Length 312</td><td>Memory Dump @0x000000036A988C16</td><td></td><td>00000000000000DC:   5f005f00 5f005f00 5f005f00 5f005f00 5f005f00  _._._._._._._._._._.</td></tr><tr><td>Slot 11 Offset 0xc16 Length 312</td><td>Memory Dump @0x000000036A988C16</td><td></td><td>00000000000000F0:   5f005f00 5f005f00 5f005f00 5f005f00 5f005f00  _._._._._._._._._._.</td></tr><tr><td>Slot 11 Offset 0xc16 Length 312</td><td>Memory Dump @0x000000036A988C16</td><td></td><td>0000000000000104:   5f005f00 5f005f00 5f005f00 5f005f00 5f005f00  _._._._._._._._._._.</td></tr><tr><td>Slot 11 Offset 0xc16 Length 312</td><td>Memory Dump @0x000000036A988C16</td><td></td><td>0000000000000118:   5f005f00 5f005f00 30003000 30003000 30003000  _._._._.0.0.0.0.0.0.</td></tr><tr><td>Slot 11 Offset 0xc16 Length 312</td><td>Memory Dump @0x000000036A988C16</td><td></td><td>000000000000012C:   30003000 30003000 30003700                    0.0.0.0.0.7.</td></tr><tr><td>Slot 11 Offset 0xc16 Length 312</td><td>Slot 11 Column 1 Offset 0x4 Length 4 Length (physical) 4</td><td>id</td><td>-1514593927</td></tr><tr><td>Slot 11 Offset 0xc16 Length 312</td><td>Slot 11 Column 2 Offset 0x38 Length 256 Length (physical) 256</td><td>name</td><td>#gosox______________________________________________________________________________________________________________000000000007</td></tr><tr><td>Slot 11 Offset 0xc16 Length 312</td><td>Slot 11 Column 3 Offset 0x8 Length 4 Length (physical) 4</td><td>nsid</td><td>1</td></tr><tr><td>Slot 11 Offset 0xc16 Length 312</td><td>Slot 11 Column 4 Offset 0xc Length 1 Length (physical) 1</td><td>nsclass</td><td>0</td></tr><tr><td>Slot 11 Offset 0xc16 Length 312</td><td>Slot 11 Column 5 Offset 0xd Length 4 Length (physical) 4</td><td>status</td><td>917512</td></tr><tr><td>Slot 11 Offset 0xc16 Length 312</td><td>Slot 11 Column 6 Offset 0x11 Length 2 Length (physical) 2</td><td>type</td><td>U </td></tr><tr><td>Slot 11 Offset 0xc16 Length 312</td><td>Slot 11 Column 7 Offset 0x13 Length 4 Length (physical) 4</td><td>pid</td><td>0</td></tr><tr><td>Slot 11 Offset 0xc16 Length 312</td><td>Slot 11 Column 8 Offset 0x17 Length 1 Length (physical) 1</td><td>pclass</td><td>1</td></tr><tr><td>Slot 11 Offset 0xc16 Length 312</td><td>Slot 11 Column 9 Offset 0x18 Length 4 Length (physical) 4</td><td>intprop</td><td>1</td></tr><tr><td>Slot 11 Offset 0xc16 Length 312</td><td>Slot 11 Column 10 Offset 0x1c Length 8 Length (physical) 8</td><td>created</td><td>2019-12-16 23:18:16.507</td></tr><tr><td>Slot 11 Offset 0xc16 Length 312</td><td>Slot 11 Column 11 Offset 0x24 Length 8 Length (physical) 8</td><td>modified</td><td>2019-12-16 23:19:54.327</td></tr><tr><td>Slot 11 Offset 0xc16 Length 312</td><td>Slot 11 Column 12 Offset 0x2c Length 4 Length (physical) 4</td><td>status2</td><td>0</td></tr><tr><td>Slot 11 Offset 0xc16 Length 312</td><td>Slot 11 Offset 0x0 Length 0 Length (physical) 0</td><td>KeyHashValue</td><td>(51d9b82fed1a)</td></tr><tr><td>PAGE HEADER:</td><td>Slot 12 Offset 0x9a6 Length 74</td><td>Record Type</td><td>PRIMARY_RECORD</td></tr><tr><td>PAGE HEADER:</td><td>Slot 12 Offset 0x9a6 Length 74</td><td>Record Attributes</td><td> NULL_BITMAP VARIABLE_COLUMNS</td></tr><tr><td>PAGE HEADER:</td><td>Slot 12 Offset 0x9a6 Length 74</td><td>Record Size</td><td>74</td></tr><tr><td>Slot 12 Offset 0x9a6 Length 74</td><td>Memory Dump @0x000000036A9889A6</td><td></td><td>0000000000000000:   30003000 0bf125a6 01000000 0008000e 00552000  0.0..ñ%¦.........U .</td></tr><tr><td>Slot 12 Offset 0x9a6 Length 74</td><td>Memory Dump @0x000000036A9889A6</td><td></td><td>0000000000000014:   00000001 01000000 7a0c8001 25ab0000 db7e8001  ........z...%«..Û~..</td></tr><tr><td>Slot 12 Offset 0x9a6 Length 74</td><td>Memory Dump @0x000000036A9889A6</td><td></td><td>0000000000000028:   25ab0000 00000000 0c000000 01004a00 23004100  %«............J.#.A.</td></tr><tr><td>Slot 12 Offset 0x9a6 Length 74</td><td>Memory Dump @0x000000036A9889A6</td><td></td><td>000000000000003C:   36003200 35004600 31003000 4200               6.2.5.F.1.0.B.</td></tr><tr><td>Slot 12 Offset 0x9a6 Length 74</td><td>Slot 12 Column 1 Offset 0x4 Length 4 Length (physical) 4</td><td>id</td><td>-1507462901</td></tr><tr><td>Slot 12 Offset 0x9a6 Length 74</td><td>Slot 12 Column 2 Offset 0x38 Length 18 Length (physical) 18</td><td>name</td><td>#A625F10B</td></tr><tr><td>Slot 12 Offset 0x9a6 Length 74</td><td>Slot 12 Column 3 Offset 0x8 Length 4 Length (physical) 4</td><td>nsid</td><td>1</td></tr><tr><td>Slot 12 Offset 0x9a6 Length 74</td><td>Slot 12 Column 4 Offset 0xc Length 1 Length (physical) 1</td><td>nsclass</td><td>0</td></tr><tr><td>Slot 12 Offset 0x9a6 Length 74</td><td>Slot 12 Column 5 Offset 0xd Length 4 Length (physical) 4</td><td>status</td><td>917512</td></tr><tr><td>Slot 12 Offset 0x9a6 Length 74</td><td>Slot 12 Column 6 Offset 0x11 Length 2 Length (physical) 2</td><td>type</td><td>U </td></tr><tr><td>Slot 12 Offset 0x9a6 Length 74</td><td>Slot 12 Column 7 Offset 0x13 Length 4 Length (physical) 4</td><td>pid</td><td>0</td></tr><tr><td>Slot 12 Offset 0x9a6 Length 74</td><td>Slot 12 Column 8 Offset 0x17 Length 1 Length (physical) 1</td><td>pclass</td><td>1</td></tr><tr><td>Slot 12 Offset 0x9a6 Length 74</td><td>Slot 12 Column 9 Offset 0x18 Length 4 Length (physical) 4</td><td>intprop</td><td>1</td></tr><tr><td>Slot 12 Offset 0x9a6 Length 74</td><td>Slot 12 Column 10 Offset 0x1c Length 8 Length (physical) 8</td><td>created</td><td>2019-12-16 23:18:16.727</td></tr><tr><td>Slot 12 Offset 0x9a6 Length 74</td><td>Slot 12 Column 11 Offset 0x24 Length 8 Length (physical) 8</td><td>modified</td><td>2019-12-16 23:19:54.330</td></tr><tr><td>Slot 12 Offset 0x9a6 Length 74</td><td>Slot 12 Column 12 Offset 0x2c Length 4 Length (physical) 4</td><td>status2</td><td>0</td></tr><tr><td>Slot 12 Offset 0x9a6 Length 74</td><td>Slot 12 Offset 0x0 Length 0 Length (physical) 0</td><td>KeyHashValue</td><td>(7a297d9d76e1)</td></tr><tr><td>PAGE HEADER:</td><td>Slot 13 Offset 0xe86 Length 312</td><td>Record Type</td><td>PRIMARY_RECORD</td></tr><tr><td>PAGE HEADER:</td><td>Slot 13 Offset 0xe86 Length 312</td><td>Record Attributes</td><td> NULL_BITMAP VARIABLE_COLUMNS</td></tr><tr><td>PAGE HEADER:</td><td>Slot 13 Offset 0xe86 Length 312</td><td>Record Size</td><td>312</td></tr><tr><td>Slot 13 Offset 0xe86 Length 312</td><td>Memory Dump @0x000000036A988E86</td><td></td><td>0000000000000000:   30003000 b245ada6 01000000 0008000e 00552000  0.0.²E­¦.........U .</td></tr><tr><td>Slot 13 Offset 0xe86 Length 312</td><td>Memory Dump @0x000000036A988E86</td><td></td><td>0000000000000014:   00000001 01000000 380c8001 25ab0000 db7e8001  ........8...%«..Û~..</td></tr><tr><td>Slot 13 Offset 0xe86 Length 312</td><td>Memory Dump @0x000000036A988E86</td><td></td><td>0000000000000028:   25ab0000 00000000 0c000000 01003801 23006700  %«............8.#.g.</td></tr><tr><td>Slot 13 Offset 0xe86 Length 312</td><td>Memory Dump @0x000000036A988E86</td><td></td><td>000000000000003C:   6f007300 6f007800 5f005f00 5f005f00 5f005f00  o.s.o.x._._._._._._.</td></tr><tr><td>Slot 13 Offset 0xe86 Length 312</td><td>Memory Dump @0x000000036A988E86</td><td></td><td>0000000000000050:   5f005f00 5f005f00 5f005f00 5f005f00 5f005f00  _._._._._._._._._._.</td></tr><tr><td>Slot 13 Offset 0xe86 Length 312</td><td>Memory Dump @0x000000036A988E86</td><td></td><td>0000000000000064:   5f005f00 5f005f00 5f005f00 5f005f00 5f005f00  _._._._._._._._._._.</td></tr><tr><td>Slot 13 Offset 0xe86 Length 312</td><td>Memory Dump @0x000000036A988E86</td><td></td><td>0000000000000078:   5f005f00 5f005f00 5f005f00 5f005f00 5f005f00  _._._._._._._._._._.</td></tr><tr><td>Slot 13 Offset 0xe86 Length 312</td><td>Memory Dump @0x000000036A988E86</td><td></td><td>000000000000008C:   5f005f00 5f005f00 5f005f00 5f005f00 5f005f00  _._._._._._._._._._.</td></tr><tr><td>Slot 13 Offset 0xe86 Length 312</td><td>Memory Dump @0x000000036A988E86</td><td></td><td>00000000000000A0:   5f005f00 5f005f00 5f005f00 5f005f00 5f005f00  _._._._._._._._._._.</td></tr><tr><td>Slot 13 Offset 0xe86 Length 312</td><td>Memory Dump @0x000000036A988E86</td><td></td><td>00000000000000B4:   5f005f00 5f005f00 5f005f00 5f005f00 5f005f00  _._._._._._._._._._.</td></tr><tr><td>Slot 13 Offset 0xe86 Length 312</td><td>Memory Dump @0x000000036A988E86</td><td></td><td>00000000000000C8:   5f005f00 5f005f00 5f005f00 5f005f00 5f005f00  _._._._._._._._._._.</td></tr><tr><td>Slot 13 Offset 0xe86 Length 312</td><td>Memory Dump @0x000000036A988E86</td><td></td><td>00000000000000DC:   5f005f00 5f005f00 5f005f00 5f005f00 5f005f00  _._._._._._._._._._.</td></tr><tr><td>Slot 13 Offset 0xe86 Length 312</td><td>Memory Dump @0x000000036A988E86</td><td></td><td>00000000000000F0:   5f005f00 5f005f00 5f005f00 5f005f00 5f005f00  _._._._._._._._._._.</td></tr><tr><td>Slot 13 Offset 0xe86 Length 312</td><td>Memory Dump @0x000000036A988E86</td><td></td><td>0000000000000104:   5f005f00 5f005f00 5f005f00 5f005f00 5f005f00  _._._._._._._._._._.</td></tr><tr><td>Slot 13 Offset 0xe86 Length 312</td><td>Memory Dump @0x000000036A988E86</td><td></td><td>0000000000000118:   5f005f00 5f005f00 30003000 30003000 30003000  _._._._.0.0.0.0.0.0.</td></tr><tr><td>Slot 13 Offset 0xe86 Length 312</td><td>Memory Dump @0x000000036A988E86</td><td></td><td>000000000000012C:   30003000 30003000 30003800                    0.0.0.0.0.8.</td></tr><tr><td>Slot 13 Offset 0xe86 Length 312</td><td>Slot 13 Column 1 Offset 0x4 Length 4 Length (physical) 4</td><td>id</td><td>-1498593870</td></tr><tr><td>Slot 13 Offset 0xe86 Length 312</td><td>Slot 13 Column 2 Offset 0x38 Length 256 Length (physical) 256</td><td>name</td><td>#gosox______________________________________________________________________________________________________________000000000008</td></tr><tr><td>Slot 13 Offset 0xe86 Length 312</td><td>Slot 13 Column 3 Offset 0x8 Length 4 Length (physical) 4</td><td>nsid</td><td>1</td></tr><tr><td>Slot 13 Offset 0xe86 Length 312</td><td>Slot 13 Column 4 Offset 0xc Length 1 Length (physical) 1</td><td>nsclass</td><td>0</td></tr><tr><td>Slot 13 Offset 0xe86 Length 312</td><td>Slot 13 Column 5 Offset 0xd Length 4 Length (physical) 4</td><td>status</td><td>917512</td></tr><tr><td>Slot 13 Offset 0xe86 Length 312</td><td>Slot 13 Column 6 Offset 0x11 Length 2 Length (physical) 2</td><td>type</td><td>U </td></tr><tr><td>Slot 13 Offset 0xe86 Length 312</td><td>Slot 13 Column 7 Offset 0x13 Length 4 Length (physical) 4</td><td>pid</td><td>0</td></tr><tr><td>Slot 13 Offset 0xe86 Length 312</td><td>Slot 13 Column 8 Offset 0x17 Length 1 Length (physical) 1</td><td>pclass</td><td>1</td></tr><tr><td>Slot 13 Offset 0xe86 Length 312</td><td>Slot 13 Column 9 Offset 0x18 Length 4 Length (physical) 4</td><td>intprop</td><td>1</td></tr><tr><td>Slot 13 Offset 0xe86 Length 312</td><td>Slot 13 Column 10 Offset 0x1c Length 8 Length (physical) 8</td><td>created</td><td>2019-12-16 23:18:16.507</td></tr><tr><td>Slot 13 Offset 0xe86 Length 312</td><td>Slot 13 Column 11 Offset 0x24 Length 8 Length (physical) 8</td><td>modified</td><td>2019-12-16 23:19:54.330</td></tr><tr><td>Slot 13 Offset 0xe86 Length 312</td><td>Slot 13 Column 12 Offset 0x2c Length 4 Length (physical) 4</td><td>status2</td><td>0</td></tr><tr><td>Slot 13 Offset 0xe86 Length 312</td><td>Slot 13 Offset 0x0 Length 0 Length (physical) 0</td><td>KeyHashValue</td><td>(52e12211d3f4)</td></tr><tr><td>PAGE HEADER:</td><td>Slot 14 Offset 0x10f6 Length 312</td><td>Record Type</td><td>PRIMARY_RECORD</td></tr><tr><td>PAGE HEADER:</td><td>Slot 14 Offset 0x10f6 Length 312</td><td>Record Attributes</td><td> NULL_BITMAP VARIABLE_COLUMNS</td></tr><tr><td>PAGE HEADER:</td><td>Slot 14 Offset 0x10f6 Length 312</td><td>Record Size</td><td>312</td></tr><tr><td>Slot 14 Offset 0x10f6 Length 312</td><td>Memory Dump @0x000000036A9890F6</td><td></td><td>0000000000000000:   30003000 44151aa7 01000000 0008000e 00552000  0.0.D..§.........U .</td></tr><tr><td>Slot 14 Offset 0x10f6 Length 312</td><td>Memory Dump @0x000000036A9890F6</td><td></td><td>0000000000000014:   00000001 01000000 7b0c8001 25ab0000 d97e8001  ........{...%«..Ù~..</td></tr><tr><td>Slot 14 Offset 0x10f6 Length 312</td><td>Memory Dump @0x000000036A9890F6</td><td></td><td>0000000000000028:   25ab0000 00000000 0c000000 01003801 23006700  %«............8.#.g.</td></tr><tr><td>Slot 14 Offset 0x10f6 Length 312</td><td>Memory Dump @0x000000036A9890F6</td><td></td><td>000000000000003C:   6f007300 6f007800 5f005f00 5f005f00 5f005f00  o.s.o.x._._._._._._.</td></tr><tr><td>Slot 14 Offset 0x10f6 Length 312</td><td>Memory Dump @0x000000036A9890F6</td><td></td><td>0000000000000050:   5f005f00 5f005f00 5f005f00 5f005f00 5f005f00  _._._._._._._._._._.</td></tr><tr><td>Slot 14 Offset 0x10f6 Length 312</td><td>Memory Dump @0x000000036A9890F6</td><td></td><td>0000000000000064:   5f005f00 5f005f00 5f005f00 5f005f00 5f005f00  _._._._._._._._._._.</td></tr><tr><td>Slot 14 Offset 0x10f6 Length 312</td><td>Memory Dump @0x000000036A9890F6</td><td></td><td>0000000000000078:   5f005f00 5f005f00 5f005f00 5f005f00 5f005f00  _._._._._._._._._._.</td></tr><tr><td>Slot 14 Offset 0x10f6 Length 312</td><td>Memory Dump @0x000000036A9890F6</td><td></td><td>000000000000008C:   5f005f00 5f005f00 5f005f00 5f005f00 5f005f00  _._._._._._._._._._.</td></tr><tr><td>Slot 14 Offset 0x10f6 Length 312</td><td>Memory Dump @0x000000036A9890F6</td><td></td><td>00000000000000A0:   5f005f00 5f005f00 5f005f00 5f005f00 5f005f00  _._._._._._._._._._.</td></tr><tr><td>Slot 14 Offset 0x10f6 Length 312</td><td>Memory Dump @0x000000036A9890F6</td><td></td><td>00000000000000B4:   5f005f00 5f005f00 5f005f00 5f005f00 5f005f00  _._._._._._._._._._.</td></tr><tr><td>Slot 14 Offset 0x10f6 Length 312</td><td>Memory Dump @0x000000036A9890F6</td><td></td><td>00000000000000C8:   5f005f00 5f005f00 5f005f00 5f005f00 5f005f00  _._._._._._._._._._.</td></tr><tr><td>Slot 14 Offset 0x10f6 Length 312</td><td>Memory Dump @0x000000036A9890F6</td><td></td><td>00000000000000DC:   5f005f00 5f005f00 5f005f00 5f005f00 5f005f00  _._._._._._._._._._.</td></tr><tr><td>Slot 14 Offset 0x10f6 Length 312</td><td>Memory Dump @0x000000036A9890F6</td><td></td><td>00000000000000F0:   5f005f00 5f005f00 5f005f00 5f005f00 5f005f00  _._._._._._._._._._.</td></tr><tr><td>Slot 14 Offset 0x10f6 Length 312</td><td>Memory Dump @0x000000036A9890F6</td><td></td><td>0000000000000104:   5f005f00 5f005f00 5f005f00 5f005f00 5f005f00  _._._._._._._._._._.</td></tr><tr><td>Slot 14 Offset 0x10f6 Length 312</td><td>Memory Dump @0x000000036A9890F6</td><td></td><td>0000000000000118:   5f005f00 5f005f00 30003000 30003000 30003000  _._._._.0.0.0.0.0.0.</td></tr><tr><td>Slot 14 Offset 0x10f6 Length 312</td><td>Memory Dump @0x000000036A9890F6</td><td></td><td>000000000000012C:   30003000 30003000 32004100                    0.0.0.0.2.A.</td></tr><tr><td>Slot 14 Offset 0x10f6 Length 312</td><td>Slot 14 Column 1 Offset 0x4 Length 4 Length (physical) 4</td><td>id</td><td>-1491462844</td></tr><tr><td>Slot 14 Offset 0x10f6 Length 312</td><td>Slot 14 Column 2 Offset 0x38 Length 256 Length (physical) 256</td><td>name</td><td>#gosox______________________________________________________________________________________________________________00000000002A</td></tr><tr><td>Slot 14 Offset 0x10f6 Length 312</td><td>Slot 14 Column 3 Offset 0x8 Length 4 Length (physical) 4</td><td>nsid</td><td>1</td></tr><tr><td>Slot 14 Offset 0x10f6 Length 312</td><td>Slot 14 Column 4 Offset 0xc Length 1 Length (physical) 1</td><td>nsclass</td><td>0</td></tr><tr><td>Slot 14 Offset 0x10f6 Length 312</td><td>Slot 14 Column 5 Offset 0xd Length 4 Length (physical) 4</td><td>status</td><td>917512</td></tr><tr><td>Slot 14 Offset 0x10f6 Length 312</td><td>Slot 14 Column 6 Offset 0x11 Length 2 Length (physical) 2</td><td>type</td><td>U </td></tr><tr><td>Slot 14 Offset 0x10f6 Length 312</td><td>Slot 14 Column 7 Offset 0x13 Length 4 Length (physical) 4</td><td>pid</td><td>0</td></tr><tr><td>Slot 14 Offset 0x10f6 Length 312</td><td>Slot 14 Column 8 Offset 0x17 Length 1 Length (physical) 1</td><td>pclass</td><td>1</td></tr><tr><td>Slot 14 Offset 0x10f6 Length 312</td><td>Slot 14 Column 9 Offset 0x18 Length 4 Length (physical) 4</td><td>intprop</td><td>1</td></tr><tr><td>Slot 14 Offset 0x10f6 Length 312</td><td>Slot 14 Column 10 Offset 0x1c Length 8 Length (physical) 8</td><td>created</td><td>2019-12-16 23:18:16.730</td></tr><tr><td>Slot 14 Offset 0x10f6 Length 312</td><td>Slot 14 Column 11 Offset 0x24 Length 8 Length (physical) 8</td><td>modified</td><td>2019-12-16 23:19:54.323</td></tr><tr><td>Slot 14 Offset 0x10f6 Length 312</td><td>Slot 14 Column 12 Offset 0x2c Length 4 Length (physical) 4</td><td>status2</td><td>0</td></tr><tr><td>Slot 14 Offset 0x10f6 Length 312</td><td>Slot 14 Offset 0x0 Length 0 Length (physical) 0</td><td>KeyHashValue</td><td>(225893a4d79d)</td></tr></table>"
                    }
                }
            ],
            "execution_count": 4
        },
        {
            "cell_type": "markdown",
            "source": [
                "## Step 4 - Once the ostress utility completes, run the optimizetempdb.cmd file to enable im-memory tempdb system tables\r\n",
                "### optimizetempdb.cmd contains the following code\r\n",
                "### Change the user name, password, and server name in the cmd file as required\r\n",
                "`sqlcmd -Usa -PJu@nS0t022 -ioptimizetempdb.sql -Slocalhost,1445\r\n",
                "docker stop sqlopttempdb\r\n",
                "docker start sqlopttempdb`\r\n",
                "### Once changes are made, execute optimizetempdb.cmd by running the following code at the command line\r\n",
                "`.\\optimizetempdb.cmd`"
            ],
            "metadata": {
                "azdata_cell_guid": "8f0e3681-9fa6-423c-979d-2e1c136f0895"
            }
        },
        {
            "cell_type": "markdown",
            "source": [
                "## Step 5 - Execute tempstress.cmd again from the command line in the directory that contains the tempdb scripts\r\n",
                "### The file contains the following code:\r\n",
                "### Change the user name, password, and database as needed\r\n",
                "`ostress -Usa -PJu@nS0t022 -Q\"exec letsgosox\" -n50 -r5000 -dChicagoWhiteSox -S\"localhost,1445\"`"
            ],
            "metadata": {
                "azdata_cell_guid": "fcc244b4-db25-41fe-85ea-f6a5eebabaaa"
            }
        },
        {
            "cell_type": "markdown",
            "source": [
                "## Step 6 - Run the query from Step 3 \r\n",
                "### You should not receive any results"
            ],
            "metadata": {
                "azdata_cell_guid": "dddbfb04-8566-4cc9-9ac2-0d13f560a199"
            }
        },
        {
            "cell_type": "code",
            "source": [
                "USE tempdb;\r\n",
                "GO\r\n",
                "SELECT object_name(page_info.object_id), d.wait_type, page_info.* \r\n",
                "FROM sys.dm_exec_requests AS d \r\n",
                "  CROSS APPLY sys.fn_PageResCracker(d.page_resource) AS r\r\n",
                "  CROSS APPLY sys.dm_db_page_info(r.db_id, r.file_id, r.page_id,'DETAILED')\r\n",
                "    AS page_info;\r\n",
                "GO"
            ],
            "metadata": {
                "azdata_cell_guid": "b3a4b0ca-3d02-4337-8d8c-1fd8e688e24e"
            },
            "outputs": [
                {
                    "output_type": "display_data",
                    "data": {
                        "text/html": "Commands completed successfully."
                    },
                    "metadata": {}
                },
                {
                    "output_type": "display_data",
                    "data": {
                        "text/html": "(0 rows affected)"
                    },
                    "metadata": {}
                },
                {
                    "output_type": "display_data",
                    "data": {
                        "text/html": "Total execution time: 00:00:00.367"
                    },
                    "metadata": {}
                },
                {
                    "output_type": "execute_result",
                    "metadata": {},
                    "execution_count": 5,
                    "data": {
                        "application/vnd.dataresource+json": {
                            "schema": {
                                "fields": [
                                    {
                                        "name": "(No column name)"
                                    },
                                    {
                                        "name": "wait_type"
                                    },
                                    {
                                        "name": "database_id"
                                    },
                                    {
                                        "name": "file_id"
                                    },
                                    {
                                        "name": "page_id"
                                    },
                                    {
                                        "name": "page_header_version"
                                    },
                                    {
                                        "name": "page_type"
                                    },
                                    {
                                        "name": "page_type_desc"
                                    },
                                    {
                                        "name": "page_type_flag_bits"
                                    },
                                    {
                                        "name": "page_type_flag_bits_desc"
                                    },
                                    {
                                        "name": "page_flag_bits"
                                    },
                                    {
                                        "name": "page_flag_bits_desc"
                                    },
                                    {
                                        "name": "page_lsn"
                                    },
                                    {
                                        "name": "page_level"
                                    },
                                    {
                                        "name": "object_id"
                                    },
                                    {
                                        "name": "index_id"
                                    },
                                    {
                                        "name": "partition_id"
                                    },
                                    {
                                        "name": "alloc_unit_id"
                                    },
                                    {
                                        "name": "is_encrypted"
                                    },
                                    {
                                        "name": "has_checksum"
                                    },
                                    {
                                        "name": "checksum"
                                    },
                                    {
                                        "name": "is_iam_page"
                                    },
                                    {
                                        "name": "is_mixed_extent"
                                    },
                                    {
                                        "name": "has_ghost_records"
                                    },
                                    {
                                        "name": "has_version_records"
                                    },
                                    {
                                        "name": "pfs_page_id"
                                    },
                                    {
                                        "name": "pfs_is_allocated"
                                    },
                                    {
                                        "name": "pfs_alloc_percent"
                                    },
                                    {
                                        "name": "pfs_status"
                                    },
                                    {
                                        "name": "pfs_status_desc"
                                    },
                                    {
                                        "name": "gam_page_id"
                                    },
                                    {
                                        "name": "gam_status"
                                    },
                                    {
                                        "name": "gam_status_desc"
                                    },
                                    {
                                        "name": "sgam_page_id"
                                    },
                                    {
                                        "name": "sgam_status"
                                    },
                                    {
                                        "name": "sgam_status_desc"
                                    },
                                    {
                                        "name": "diff_map_page_id"
                                    },
                                    {
                                        "name": "diff_status"
                                    },
                                    {
                                        "name": "diff_status_desc"
                                    },
                                    {
                                        "name": "ml_map_page_id"
                                    },
                                    {
                                        "name": "ml_status"
                                    },
                                    {
                                        "name": "ml_status_desc"
                                    },
                                    {
                                        "name": "prev_page_file_id"
                                    },
                                    {
                                        "name": "prev_page_page_id"
                                    },
                                    {
                                        "name": "next_page_file_id"
                                    },
                                    {
                                        "name": "next_page_page_id"
                                    },
                                    {
                                        "name": "fixed_length"
                                    },
                                    {
                                        "name": "slot_count"
                                    },
                                    {
                                        "name": "ghost_rec_count"
                                    },
                                    {
                                        "name": "free_bytes"
                                    },
                                    {
                                        "name": "free_bytes_offset"
                                    },
                                    {
                                        "name": "reserved_bytes"
                                    },
                                    {
                                        "name": "reserved_bytes_by_xdes_id"
                                    },
                                    {
                                        "name": "xdes_id"
                                    }
                                ]
                            },
                            "data": []
                        },
                        "text/html": "<table><tr><th>(No column name)</th><th>wait_type</th><th>database_id</th><th>file_id</th><th>page_id</th><th>page_header_version</th><th>page_type</th><th>page_type_desc</th><th>page_type_flag_bits</th><th>page_type_flag_bits_desc</th><th>page_flag_bits</th><th>page_flag_bits_desc</th><th>page_lsn</th><th>page_level</th><th>object_id</th><th>index_id</th><th>partition_id</th><th>alloc_unit_id</th><th>is_encrypted</th><th>has_checksum</th><th>checksum</th><th>is_iam_page</th><th>is_mixed_extent</th><th>has_ghost_records</th><th>has_version_records</th><th>pfs_page_id</th><th>pfs_is_allocated</th><th>pfs_alloc_percent</th><th>pfs_status</th><th>pfs_status_desc</th><th>gam_page_id</th><th>gam_status</th><th>gam_status_desc</th><th>sgam_page_id</th><th>sgam_status</th><th>sgam_status_desc</th><th>diff_map_page_id</th><th>diff_status</th><th>diff_status_desc</th><th>ml_map_page_id</th><th>ml_status</th><th>ml_status_desc</th><th>prev_page_file_id</th><th>prev_page_page_id</th><th>next_page_file_id</th><th>next_page_page_id</th><th>fixed_length</th><th>slot_count</th><th>ghost_rec_count</th><th>free_bytes</th><th>free_bytes_offset</th><th>reserved_bytes</th><th>reserved_bytes_by_xdes_id</th><th>xdes_id</th></tr></table>"
                    }
                }
            ],
            "execution_count": 5
        },
        {
            "cell_type": "markdown",
            "source": [
                "## Step 7 - Find a list of memory-optimized objects\r\n",
                "### Run the following query to return the memory optimized objects in tempdb"
            ],
            "metadata": {
                "azdata_cell_guid": "0ad7f9b6-ecec-4524-a820-6ef84545fc3c"
            }
        },
        {
            "cell_type": "code",
            "source": [
                "USE tempdb;\r\n",
                "go\r\n",
                "SELECT OBJECT_NAME(object_id), * FROM sys.dm_db_xtp_object_stats;\r\n",
                "go"
            ],
            "metadata": {
                "azdata_cell_guid": "69524f9b-2912-4e37-9f01-b587d7105542"
            },
            "outputs": [
                {
                    "output_type": "display_data",
                    "data": {
                        "text/html": "Commands completed successfully."
                    },
                    "metadata": {}
                },
                {
                    "output_type": "display_data",
                    "data": {
                        "text/html": "(10 rows affected)"
                    },
                    "metadata": {}
                },
                {
                    "output_type": "display_data",
                    "data": {
                        "text/html": "Total execution time: 00:00:00.015"
                    },
                    "metadata": {}
                },
                {
                    "output_type": "execute_result",
                    "metadata": {},
                    "execution_count": 28,
                    "data": {
                        "application/vnd.dataresource+json": {
                            "schema": {
                                "fields": [
                                    {
                                        "name": "(No column name)"
                                    },
                                    {
                                        "name": "object_id"
                                    },
                                    {
                                        "name": "xtp_object_id"
                                    },
                                    {
                                        "name": "row_insert_attempts"
                                    },
                                    {
                                        "name": "row_update_attempts"
                                    },
                                    {
                                        "name": "row_delete_attempts"
                                    },
                                    {
                                        "name": "write_conflicts"
                                    },
                                    {
                                        "name": "unique_constraint_violations"
                                    },
                                    {
                                        "name": "object_address"
                                    }
                                ]
                            },
                            "data": [
                                {
                                    "0": "sysrscols",
                                    "1": "3",
                                    "2": "-2147483648",
                                    "3": "1292",
                                    "4": "0",
                                    "5": "18",
                                    "6": "0",
                                    "7": "0",
                                    "8": "0x00000009C94F0040"
                                },
                                {
                                    "0": "sysseobjvalues",
                                    "1": "9",
                                    "2": "-2147483647",
                                    "3": "0",
                                    "4": "0",
                                    "5": "0",
                                    "6": "0",
                                    "7": "0",
                                    "8": "0x00000009C94E2040"
                                },
                                {
                                    "0": "sysschobjs",
                                    "1": "34",
                                    "2": "-2147483644",
                                    "3": "2557",
                                    "4": "1000019",
                                    "5": "0",
                                    "6": "0",
                                    "7": "0",
                                    "8": "0x00000009C949C040"
                                },
                                {
                                    "0": "sysmultiobjvalues",
                                    "1": "40",
                                    "2": "-2147483643",
                                    "3": "0",
                                    "4": "0",
                                    "5": "0",
                                    "6": "0",
                                    "7": "0",
                                    "8": "0x00000009CAC60040"
                                },
                                {
                                    "0": "syscolpars",
                                    "1": "41",
                                    "2": "-2147483640",
                                    "3": "1044",
                                    "4": "1",
                                    "5": "0",
                                    "6": "0",
                                    "7": "0",
                                    "8": "0x00000009CAC0C040"
                                },
                                {
                                    "0": "sysidxstats",
                                    "1": "54",
                                    "2": "-2147483639",
                                    "3": "214",
                                    "4": "4",
                                    "5": "4",
                                    "6": "0",
                                    "7": "0",
                                    "8": "0x00000009C9E0A040"
                                },
                                {
                                    "0": "sysiscols",
                                    "1": "55",
                                    "2": "-2147483638",
                                    "3": "527",
                                    "4": "0",
                                    "5": "8",
                                    "6": "0",
                                    "7": "0",
                                    "8": "0x00000009C9E6C040"
                                },
                                {
                                    "0": "sysobjvalues",
                                    "1": "60",
                                    "2": "-2147483637",
                                    "3": "204",
                                    "4": "953",
                                    "5": "4",
                                    "6": "0",
                                    "7": "0",
                                    "8": "0x00000009C9E5E040"
                                },
                                {
                                    "0": "syssingleobjrefs",
                                    "1": "74",
                                    "2": "-2147483634",
                                    "3": "194",
                                    "4": "0",
                                    "5": "0",
                                    "6": "0",
                                    "7": "0",
                                    "8": "0x00000009C95EA040"
                                },
                                {
                                    "0": "sysmultiobjrefs",
                                    "1": "75",
                                    "2": "-2147483633",
                                    "3": "107",
                                    "4": "0",
                                    "5": "0",
                                    "6": "0",
                                    "7": "0",
                                    "8": "0x00000009C95CC040"
                                }
                            ]
                        },
                        "text/html": "<table><tr><th>(No column name)</th><th>object_id</th><th>xtp_object_id</th><th>row_insert_attempts</th><th>row_update_attempts</th><th>row_delete_attempts</th><th>write_conflicts</th><th>unique_constraint_violations</th><th>object_address</th></tr><tr><td>sysrscols</td><td>3</td><td>-2147483648</td><td>1292</td><td>0</td><td>18</td><td>0</td><td>0</td><td>0x00000009C94F0040</td></tr><tr><td>sysseobjvalues</td><td>9</td><td>-2147483647</td><td>0</td><td>0</td><td>0</td><td>0</td><td>0</td><td>0x00000009C94E2040</td></tr><tr><td>sysschobjs</td><td>34</td><td>-2147483644</td><td>2557</td><td>1000019</td><td>0</td><td>0</td><td>0</td><td>0x00000009C949C040</td></tr><tr><td>sysmultiobjvalues</td><td>40</td><td>-2147483643</td><td>0</td><td>0</td><td>0</td><td>0</td><td>0</td><td>0x00000009CAC60040</td></tr><tr><td>syscolpars</td><td>41</td><td>-2147483640</td><td>1044</td><td>1</td><td>0</td><td>0</td><td>0</td><td>0x00000009CAC0C040</td></tr><tr><td>sysidxstats</td><td>54</td><td>-2147483639</td><td>214</td><td>4</td><td>4</td><td>0</td><td>0</td><td>0x00000009C9E0A040</td></tr><tr><td>sysiscols</td><td>55</td><td>-2147483638</td><td>527</td><td>0</td><td>8</td><td>0</td><td>0</td><td>0x00000009C9E6C040</td></tr><tr><td>sysobjvalues</td><td>60</td><td>-2147483637</td><td>204</td><td>953</td><td>4</td><td>0</td><td>0</td><td>0x00000009C9E5E040</td></tr><tr><td>syssingleobjrefs</td><td>74</td><td>-2147483634</td><td>194</td><td>0</td><td>0</td><td>0</td><td>0</td><td>0x00000009C95EA040</td></tr><tr><td>sysmultiobjrefs</td><td>75</td><td>-2147483633</td><td>107</td><td>0</td><td>0</td><td>0</td><td>0</td><td>0x00000009C95CC040</td></tr></table>"
                    }
                }
            ],
            "execution_count": 28
        }
    ]
}