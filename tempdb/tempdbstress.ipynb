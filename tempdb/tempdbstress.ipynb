{
    "metadata": {
        "kernelspec": {
            "name": "SQL",
            "display_name": "SQL",
            "language": "sql"
        },
        "language_info": {
            "name": "sql",
            "version": ""
        }
    },
    "nbformat_minor": 2,
    "nbformat": 4,
    "cells": [
        {
            "cell_type": "markdown",
            "source": [
                "## Step 1 - Run this query against your SQL instance to create a database and procedure for use in the stress test"
            ],
            "metadata": {
                "azdata_cell_guid": "1b1fd77f-456a-4fea-bde7-c56a3b3375fb"
            }
        },
        {
            "cell_type": "code",
            "source": [
                "USE master;\r\n",
                "GO\r\n",
                "DROP DATABASE IF EXISTS ChicagoWhiteSox;\r\n",
                "GO\r\n",
                "CREATE DATABASE ChicagoWhiteSox;\r\n",
                "GO\r\n",
                "USE ChicagoWhiteSox;\r\n",
                "GO\r\n",
                "CREATE OR ALTER PROCEDURE letsgosox\r\n",
                "AS\r\n",
                "CREATE TABLE #gosox (col1 INT);\r\n",
                "GO"
            ],
            "metadata": {
                "azdata_cell_guid": "4b97246a-42f4-44d4-ab66-29e5c1c729b7"
            },
            "outputs": [
                {
                    "output_type": "display_data",
                    "data": {
                        "text/html": "Commands completed successfully."
                    },
                    "metadata": {}
                },
                {
                    "output_type": "display_data",
                    "data": {
                        "text/html": "Commands completed successfully."
                    },
                    "metadata": {}
                },
                {
                    "output_type": "display_data",
                    "data": {
                        "text/html": "Commands completed successfully."
                    },
                    "metadata": {}
                },
                {
                    "output_type": "display_data",
                    "data": {
                        "text/html": "Commands completed successfully."
                    },
                    "metadata": {}
                },
                {
                    "output_type": "display_data",
                    "data": {
                        "text/html": "Commands completed successfully."
                    },
                    "metadata": {}
                },
                {
                    "output_type": "display_data",
                    "data": {
                        "text/html": "Total execution time: 00:00:00.943"
                    },
                    "metadata": {}
                }
            ],
            "execution_count": 1
        },
        {
            "cell_type": "markdown",
            "source": [
                "## Step 2 - Disable in-memory optimization for tempdb by running disableopttempdb.cmd\r\n",
                "### The file contains the following code:\r\n",
                "### Change the user name, password, and server name  in the cmd file as required\r\n",
                "`sqlcmd -Usa -PJu@nS0t022 -i disableopttempdb.sql -S \"localhost,1445\"\r\n",
                "docker stop sqlopttempdb\r\n",
                "docker start sqlopttempdb`\r\n",
                "### Once changes are made, run the following code from the command line:\r\n",
                "`.\\disableopttempdb.cmd`"
            ],
            "metadata": {
                "azdata_cell_guid": "3873b211-7e73-42c9-9a97-b26249fc7fa9"
            }
        },
        {
            "cell_type": "markdown",
            "source": [
                "## Step 2 - Execute tempstress.cmd from the command line in the directory that contains the tempdb scripts\r\n",
                "### The file contains the following code:\r\n",
                "### Change the user name, password, and database as needed\r\n",
                "### When ostress completes, note the elapsed time\r\n",
                "### You will find it in the command window, as follows: OSTRESS exiting normally, elapsed time: 00:01:08.348\r\n",
                "`.\\ostress -Usa -PJu@nS0t022 -Q\"exec letsgosox\" -n50 -r5000 -dChicagoWhiteSox -S\"localhost,1445\"`\r\n",
                "### Once changes are made, run the following code from the command line:\r\n",
                "`.\\tempstress.cmd`"
            ],
            "metadata": {
                "azdata_cell_guid": "1c5c19f6-ef43-4a67-9aee-b5e6f93d11ea"
            }
        },
        {
            "cell_type": "markdown",
            "source": [
                "## Step 3 - While the ostress utility is running run the following query\r\n",
                "### This will return the pages that that are being latched\r\n",
                "### This will result in PAGELATCH_IO waits"
            ],
            "metadata": {
                "azdata_cell_guid": "8bf49e92-4456-4614-a7d9-db8362cb389e"
            }
        },
        {
            "cell_type": "code",
            "source": [
                "USE tempdb;\r\n",
                "GO\r\n",
                "SELECT object_name(page_info.object_id), d.wait_type, page_info.* \r\n",
                "FROM sys.dm_exec_requests AS d \r\n",
                "  CROSS APPLY sys.fn_PageResCracker(d.page_resource) AS r\r\n",
                "  CROSS APPLY sys.dm_db_page_info(r.db_id, r.file_id, r.page_id,'DETAILED')\r\n",
                "    AS page_info;\r\n",
                "GO\r\n",
                "\r\n",
                "--DBCC PAGE (2,1,116,3) WITH TABLERESULTS;"
            ],
            "metadata": {
                "azdata_cell_guid": "c9779bb8-654c-4121-9f0a-8703238e17fa"
            },
            "outputs": [
                {
                    "output_type": "display_data",
                    "data": {
                        "text/html": "Commands completed successfully."
                    },
                    "metadata": {}
                },
                {
                    "output_type": "display_data",
                    "data": {
                        "text/html": "(12 rows affected)"
                    },
                    "metadata": {}
                },
                {
                    "output_type": "display_data",
                    "data": {
                        "text/html": "Total execution time: 00:00:00.050"
                    },
                    "metadata": {}
                },
                {
                    "output_type": "execute_result",
                    "metadata": {},
                    "execution_count": 8,
                    "data": {
                        "application/vnd.dataresource+json": {
                            "schema": {
                                "fields": [
                                    {
                                        "name": "(No column name)"
                                    },
                                    {
                                        "name": "wait_type"
                                    },
                                    {
                                        "name": "database_id"
                                    },
                                    {
                                        "name": "file_id"
                                    },
                                    {
                                        "name": "page_id"
                                    },
                                    {
                                        "name": "page_header_version"
                                    },
                                    {
                                        "name": "page_type"
                                    },
                                    {
                                        "name": "page_type_desc"
                                    },
                                    {
                                        "name": "page_type_flag_bits"
                                    },
                                    {
                                        "name": "page_type_flag_bits_desc"
                                    },
                                    {
                                        "name": "page_flag_bits"
                                    },
                                    {
                                        "name": "page_flag_bits_desc"
                                    },
                                    {
                                        "name": "page_lsn"
                                    },
                                    {
                                        "name": "page_level"
                                    },
                                    {
                                        "name": "object_id"
                                    },
                                    {
                                        "name": "index_id"
                                    },
                                    {
                                        "name": "partition_id"
                                    },
                                    {
                                        "name": "alloc_unit_id"
                                    },
                                    {
                                        "name": "is_encrypted"
                                    },
                                    {
                                        "name": "has_checksum"
                                    },
                                    {
                                        "name": "checksum"
                                    },
                                    {
                                        "name": "is_iam_page"
                                    },
                                    {
                                        "name": "is_mixed_extent"
                                    },
                                    {
                                        "name": "has_ghost_records"
                                    },
                                    {
                                        "name": "has_version_records"
                                    },
                                    {
                                        "name": "pfs_page_id"
                                    },
                                    {
                                        "name": "pfs_is_allocated"
                                    },
                                    {
                                        "name": "pfs_alloc_percent"
                                    },
                                    {
                                        "name": "pfs_status"
                                    },
                                    {
                                        "name": "pfs_status_desc"
                                    },
                                    {
                                        "name": "gam_page_id"
                                    },
                                    {
                                        "name": "gam_status"
                                    },
                                    {
                                        "name": "gam_status_desc"
                                    },
                                    {
                                        "name": "sgam_page_id"
                                    },
                                    {
                                        "name": "sgam_status"
                                    },
                                    {
                                        "name": "sgam_status_desc"
                                    },
                                    {
                                        "name": "diff_map_page_id"
                                    },
                                    {
                                        "name": "diff_status"
                                    },
                                    {
                                        "name": "diff_status_desc"
                                    },
                                    {
                                        "name": "ml_map_page_id"
                                    },
                                    {
                                        "name": "ml_status"
                                    },
                                    {
                                        "name": "ml_status_desc"
                                    },
                                    {
                                        "name": "prev_page_file_id"
                                    },
                                    {
                                        "name": "prev_page_page_id"
                                    },
                                    {
                                        "name": "next_page_file_id"
                                    },
                                    {
                                        "name": "next_page_page_id"
                                    },
                                    {
                                        "name": "fixed_length"
                                    },
                                    {
                                        "name": "slot_count"
                                    },
                                    {
                                        "name": "ghost_rec_count"
                                    },
                                    {
                                        "name": "free_bytes"
                                    },
                                    {
                                        "name": "free_bytes_offset"
                                    },
                                    {
                                        "name": "reserved_bytes"
                                    },
                                    {
                                        "name": "reserved_bytes_by_xdes_id"
                                    },
                                    {
                                        "name": "xdes_id"
                                    }
                                ]
                            },
                            "data": [
                                {
                                    "0": "sysschobjs",
                                    "1": "PAGELATCH_EX",
                                    "2": "2",
                                    "3": "1",
                                    "4": "300",
                                    "5": "1",
                                    "6": "1",
                                    "7": "DATA_PAGE",
                                    "8": "0x0",
                                    "9": "",
                                    "10": "0x0",
                                    "11": "",
                                    "12": "0000006c:00002fe0:0129",
                                    "13": "0",
                                    "14": "34",
                                    "15": "1",
                                    "16": "281474978938880",
                                    "17": "281474978938880",
                                    "18": "0",
                                    "19": "0",
                                    "20": "0",
                                    "21": "0",
                                    "22": "0",
                                    "23": "0",
                                    "24": "0",
                                    "25": "1",
                                    "26": "1",
                                    "27": "0",
                                    "28": "0x40",
                                    "29": " PFS_IS_ALLOCATED | 0_PCT_FULL",
                                    "30": "2",
                                    "31": "1",
                                    "32": "ALLOCATED",
                                    "33": "3",
                                    "34": "0",
                                    "35": "NOT ALLOCATED",
                                    "36": "6",
                                    "37": "1",
                                    "38": "CHANGED",
                                    "39": "7",
                                    "40": "0",
                                    "41": "NOT MIN_LOGGED",
                                    "42": "1",
                                    "43": "302",
                                    "44": "1",
                                    "45": "301",
                                    "46": "48",
                                    "47": "17",
                                    "48": "0",
                                    "49": "6328",
                                    "50": "7372",
                                    "51": "0",
                                    "52": "0",
                                    "53": "0000:00000000"
                                },
                                {
                                    "0": "sysschobjs",
                                    "1": "PAGELATCH_EX",
                                    "2": "2",
                                    "3": "1",
                                    "4": "300",
                                    "5": "1",
                                    "6": "1",
                                    "7": "DATA_PAGE",
                                    "8": "0x0",
                                    "9": "",
                                    "10": "0x0",
                                    "11": "",
                                    "12": "0000006c:00002fe0:0129",
                                    "13": "0",
                                    "14": "34",
                                    "15": "1",
                                    "16": "281474978938880",
                                    "17": "281474978938880",
                                    "18": "0",
                                    "19": "0",
                                    "20": "0",
                                    "21": "0",
                                    "22": "0",
                                    "23": "0",
                                    "24": "0",
                                    "25": "1",
                                    "26": "1",
                                    "27": "0",
                                    "28": "0x40",
                                    "29": " PFS_IS_ALLOCATED | 0_PCT_FULL",
                                    "30": "2",
                                    "31": "1",
                                    "32": "ALLOCATED",
                                    "33": "3",
                                    "34": "0",
                                    "35": "NOT ALLOCATED",
                                    "36": "6",
                                    "37": "1",
                                    "38": "CHANGED",
                                    "39": "7",
                                    "40": "0",
                                    "41": "NOT MIN_LOGGED",
                                    "42": "1",
                                    "43": "302",
                                    "44": "1",
                                    "45": "301",
                                    "46": "48",
                                    "47": "17",
                                    "48": "0",
                                    "49": "6328",
                                    "50": "7372",
                                    "51": "0",
                                    "52": "0",
                                    "53": "0000:00000000"
                                },
                                {
                                    "0": "sysschobjs",
                                    "1": "PAGELATCH_EX",
                                    "2": "2",
                                    "3": "1",
                                    "4": "300",
                                    "5": "1",
                                    "6": "1",
                                    "7": "DATA_PAGE",
                                    "8": "0x0",
                                    "9": "",
                                    "10": "0x0",
                                    "11": "",
                                    "12": "0000006c:00002fe0:0129",
                                    "13": "0",
                                    "14": "34",
                                    "15": "1",
                                    "16": "281474978938880",
                                    "17": "281474978938880",
                                    "18": "0",
                                    "19": "0",
                                    "20": "0",
                                    "21": "0",
                                    "22": "0",
                                    "23": "0",
                                    "24": "0",
                                    "25": "1",
                                    "26": "1",
                                    "27": "0",
                                    "28": "0x40",
                                    "29": " PFS_IS_ALLOCATED | 0_PCT_FULL",
                                    "30": "2",
                                    "31": "1",
                                    "32": "ALLOCATED",
                                    "33": "3",
                                    "34": "0",
                                    "35": "NOT ALLOCATED",
                                    "36": "6",
                                    "37": "1",
                                    "38": "CHANGED",
                                    "39": "7",
                                    "40": "0",
                                    "41": "NOT MIN_LOGGED",
                                    "42": "1",
                                    "43": "302",
                                    "44": "1",
                                    "45": "301",
                                    "46": "48",
                                    "47": "17",
                                    "48": "0",
                                    "49": "6328",
                                    "50": "7372",
                                    "51": "0",
                                    "52": "0",
                                    "53": "0000:00000000"
                                },
                                {
                                    "0": "sysschobjs",
                                    "1": "NULL",
                                    "2": "2",
                                    "3": "1",
                                    "4": "300",
                                    "5": "1",
                                    "6": "1",
                                    "7": "DATA_PAGE",
                                    "8": "0x0",
                                    "9": "",
                                    "10": "0x0",
                                    "11": "",
                                    "12": "0000006c:00002fe0:0129",
                                    "13": "0",
                                    "14": "34",
                                    "15": "1",
                                    "16": "281474978938880",
                                    "17": "281474978938880",
                                    "18": "0",
                                    "19": "0",
                                    "20": "0",
                                    "21": "0",
                                    "22": "0",
                                    "23": "0",
                                    "24": "0",
                                    "25": "1",
                                    "26": "1",
                                    "27": "0",
                                    "28": "0x40",
                                    "29": " PFS_IS_ALLOCATED | 0_PCT_FULL",
                                    "30": "2",
                                    "31": "1",
                                    "32": "ALLOCATED",
                                    "33": "3",
                                    "34": "0",
                                    "35": "NOT ALLOCATED",
                                    "36": "6",
                                    "37": "1",
                                    "38": "CHANGED",
                                    "39": "7",
                                    "40": "0",
                                    "41": "NOT MIN_LOGGED",
                                    "42": "1",
                                    "43": "302",
                                    "44": "1",
                                    "45": "301",
                                    "46": "48",
                                    "47": "17",
                                    "48": "0",
                                    "49": "6328",
                                    "50": "7372",
                                    "51": "0",
                                    "52": "0",
                                    "53": "0000:00000000"
                                },
                                {
                                    "0": "sysschobjs",
                                    "1": "PAGELATCH_EX",
                                    "2": "2",
                                    "3": "1",
                                    "4": "302",
                                    "5": "1",
                                    "6": "1",
                                    "7": "DATA_PAGE",
                                    "8": "0x0",
                                    "9": "",
                                    "10": "0x0",
                                    "11": "",
                                    "12": "0000006c:00003058:001d",
                                    "13": "0",
                                    "14": "34",
                                    "15": "1",
                                    "16": "281474978938880",
                                    "17": "281474978938880",
                                    "18": "0",
                                    "19": "0",
                                    "20": "0",
                                    "21": "0",
                                    "22": "0",
                                    "23": "0",
                                    "24": "0",
                                    "25": "1",
                                    "26": "1",
                                    "27": "0",
                                    "28": "0x40",
                                    "29": " PFS_IS_ALLOCATED | 0_PCT_FULL",
                                    "30": "2",
                                    "31": "1",
                                    "32": "ALLOCATED",
                                    "33": "3",
                                    "34": "0",
                                    "35": "NOT ALLOCATED",
                                    "36": "6",
                                    "37": "1",
                                    "38": "CHANGED",
                                    "39": "7",
                                    "40": "0",
                                    "41": "NOT MIN_LOGGED",
                                    "42": "1",
                                    "43": "116",
                                    "44": "1",
                                    "45": "300",
                                    "46": "48",
                                    "47": "16",
                                    "48": "0",
                                    "49": "5928",
                                    "50": "6822",
                                    "51": "0",
                                    "52": "0",
                                    "53": "0000:00000000"
                                },
                                {
                                    "0": "sysschobjs",
                                    "1": "PAGELATCH_EX",
                                    "2": "2",
                                    "3": "1",
                                    "4": "302",
                                    "5": "1",
                                    "6": "1",
                                    "7": "DATA_PAGE",
                                    "8": "0x0",
                                    "9": "",
                                    "10": "0x0",
                                    "11": "",
                                    "12": "0000006c:00003058:001d",
                                    "13": "0",
                                    "14": "34",
                                    "15": "1",
                                    "16": "281474978938880",
                                    "17": "281474978938880",
                                    "18": "0",
                                    "19": "0",
                                    "20": "0",
                                    "21": "0",
                                    "22": "0",
                                    "23": "0",
                                    "24": "0",
                                    "25": "1",
                                    "26": "1",
                                    "27": "0",
                                    "28": "0x40",
                                    "29": " PFS_IS_ALLOCATED | 0_PCT_FULL",
                                    "30": "2",
                                    "31": "1",
                                    "32": "ALLOCATED",
                                    "33": "3",
                                    "34": "0",
                                    "35": "NOT ALLOCATED",
                                    "36": "6",
                                    "37": "1",
                                    "38": "CHANGED",
                                    "39": "7",
                                    "40": "0",
                                    "41": "NOT MIN_LOGGED",
                                    "42": "1",
                                    "43": "116",
                                    "44": "1",
                                    "45": "300",
                                    "46": "48",
                                    "47": "16",
                                    "48": "0",
                                    "49": "5928",
                                    "50": "6822",
                                    "51": "0",
                                    "52": "0",
                                    "53": "0000:00000000"
                                },
                                {
                                    "0": "sysschobjs",
                                    "1": "NULL",
                                    "2": "2",
                                    "3": "1",
                                    "4": "302",
                                    "5": "1",
                                    "6": "1",
                                    "7": "DATA_PAGE",
                                    "8": "0x0",
                                    "9": "",
                                    "10": "0x0",
                                    "11": "",
                                    "12": "0000006c:00003058:001d",
                                    "13": "0",
                                    "14": "34",
                                    "15": "1",
                                    "16": "281474978938880",
                                    "17": "281474978938880",
                                    "18": "0",
                                    "19": "0",
                                    "20": "0",
                                    "21": "0",
                                    "22": "0",
                                    "23": "0",
                                    "24": "0",
                                    "25": "1",
                                    "26": "1",
                                    "27": "0",
                                    "28": "0x40",
                                    "29": " PFS_IS_ALLOCATED | 0_PCT_FULL",
                                    "30": "2",
                                    "31": "1",
                                    "32": "ALLOCATED",
                                    "33": "3",
                                    "34": "0",
                                    "35": "NOT ALLOCATED",
                                    "36": "6",
                                    "37": "1",
                                    "38": "CHANGED",
                                    "39": "7",
                                    "40": "0",
                                    "41": "NOT MIN_LOGGED",
                                    "42": "1",
                                    "43": "116",
                                    "44": "1",
                                    "45": "300",
                                    "46": "48",
                                    "47": "16",
                                    "48": "0",
                                    "49": "5928",
                                    "50": "6822",
                                    "51": "0",
                                    "52": "0",
                                    "53": "0000:00000000"
                                },
                                {
                                    "0": "sysschobjs",
                                    "1": "PAGELATCH_EX",
                                    "2": "2",
                                    "3": "1",
                                    "4": "302",
                                    "5": "1",
                                    "6": "1",
                                    "7": "DATA_PAGE",
                                    "8": "0x0",
                                    "9": "",
                                    "10": "0x0",
                                    "11": "",
                                    "12": "0000006c:00003058:001d",
                                    "13": "0",
                                    "14": "34",
                                    "15": "1",
                                    "16": "281474978938880",
                                    "17": "281474978938880",
                                    "18": "0",
                                    "19": "0",
                                    "20": "0",
                                    "21": "0",
                                    "22": "0",
                                    "23": "0",
                                    "24": "0",
                                    "25": "1",
                                    "26": "1",
                                    "27": "0",
                                    "28": "0x40",
                                    "29": " PFS_IS_ALLOCATED | 0_PCT_FULL",
                                    "30": "2",
                                    "31": "1",
                                    "32": "ALLOCATED",
                                    "33": "3",
                                    "34": "0",
                                    "35": "NOT ALLOCATED",
                                    "36": "6",
                                    "37": "1",
                                    "38": "CHANGED",
                                    "39": "7",
                                    "40": "0",
                                    "41": "NOT MIN_LOGGED",
                                    "42": "1",
                                    "43": "116",
                                    "44": "1",
                                    "45": "300",
                                    "46": "48",
                                    "47": "16",
                                    "48": "0",
                                    "49": "5928",
                                    "50": "6822",
                                    "51": "0",
                                    "52": "0",
                                    "53": "0000:00000000"
                                },
                                {
                                    "0": "sysschobjs",
                                    "1": "PAGELATCH_EX",
                                    "2": "2",
                                    "3": "1",
                                    "4": "302",
                                    "5": "1",
                                    "6": "1",
                                    "7": "DATA_PAGE",
                                    "8": "0x0",
                                    "9": "",
                                    "10": "0x0",
                                    "11": "",
                                    "12": "0000006c:00003058:001d",
                                    "13": "0",
                                    "14": "34",
                                    "15": "1",
                                    "16": "281474978938880",
                                    "17": "281474978938880",
                                    "18": "0",
                                    "19": "0",
                                    "20": "0",
                                    "21": "0",
                                    "22": "0",
                                    "23": "0",
                                    "24": "0",
                                    "25": "1",
                                    "26": "1",
                                    "27": "0",
                                    "28": "0x40",
                                    "29": " PFS_IS_ALLOCATED | 0_PCT_FULL",
                                    "30": "2",
                                    "31": "1",
                                    "32": "ALLOCATED",
                                    "33": "3",
                                    "34": "0",
                                    "35": "NOT ALLOCATED",
                                    "36": "6",
                                    "37": "1",
                                    "38": "CHANGED",
                                    "39": "7",
                                    "40": "0",
                                    "41": "NOT MIN_LOGGED",
                                    "42": "1",
                                    "43": "116",
                                    "44": "1",
                                    "45": "300",
                                    "46": "48",
                                    "47": "16",
                                    "48": "0",
                                    "49": "5928",
                                    "50": "6822",
                                    "51": "0",
                                    "52": "0",
                                    "53": "0000:00000000"
                                },
                                {
                                    "0": "sysschobjs",
                                    "1": "PAGELATCH_EX",
                                    "2": "2",
                                    "3": "1",
                                    "4": "302",
                                    "5": "1",
                                    "6": "1",
                                    "7": "DATA_PAGE",
                                    "8": "0x0",
                                    "9": "",
                                    "10": "0x0",
                                    "11": "",
                                    "12": "0000006c:00003058:001d",
                                    "13": "0",
                                    "14": "34",
                                    "15": "1",
                                    "16": "281474978938880",
                                    "17": "281474978938880",
                                    "18": "0",
                                    "19": "0",
                                    "20": "0",
                                    "21": "0",
                                    "22": "0",
                                    "23": "0",
                                    "24": "0",
                                    "25": "1",
                                    "26": "1",
                                    "27": "0",
                                    "28": "0x40",
                                    "29": " PFS_IS_ALLOCATED | 0_PCT_FULL",
                                    "30": "2",
                                    "31": "1",
                                    "32": "ALLOCATED",
                                    "33": "3",
                                    "34": "0",
                                    "35": "NOT ALLOCATED",
                                    "36": "6",
                                    "37": "1",
                                    "38": "CHANGED",
                                    "39": "7",
                                    "40": "0",
                                    "41": "NOT MIN_LOGGED",
                                    "42": "1",
                                    "43": "116",
                                    "44": "1",
                                    "45": "300",
                                    "46": "48",
                                    "47": "16",
                                    "48": "0",
                                    "49": "5928",
                                    "50": "6822",
                                    "51": "0",
                                    "52": "0",
                                    "53": "0000:00000000"
                                },
                                {
                                    "0": "sysschobjs",
                                    "1": "PAGELATCH_EX",
                                    "2": "2",
                                    "3": "1",
                                    "4": "302",
                                    "5": "1",
                                    "6": "1",
                                    "7": "DATA_PAGE",
                                    "8": "0x0",
                                    "9": "",
                                    "10": "0x0",
                                    "11": "",
                                    "12": "0000006c:00003058:001d",
                                    "13": "0",
                                    "14": "34",
                                    "15": "1",
                                    "16": "281474978938880",
                                    "17": "281474978938880",
                                    "18": "0",
                                    "19": "0",
                                    "20": "0",
                                    "21": "0",
                                    "22": "0",
                                    "23": "0",
                                    "24": "0",
                                    "25": "1",
                                    "26": "1",
                                    "27": "0",
                                    "28": "0x40",
                                    "29": " PFS_IS_ALLOCATED | 0_PCT_FULL",
                                    "30": "2",
                                    "31": "1",
                                    "32": "ALLOCATED",
                                    "33": "3",
                                    "34": "0",
                                    "35": "NOT ALLOCATED",
                                    "36": "6",
                                    "37": "1",
                                    "38": "CHANGED",
                                    "39": "7",
                                    "40": "0",
                                    "41": "NOT MIN_LOGGED",
                                    "42": "1",
                                    "43": "116",
                                    "44": "1",
                                    "45": "300",
                                    "46": "48",
                                    "47": "16",
                                    "48": "0",
                                    "49": "5928",
                                    "50": "6822",
                                    "51": "0",
                                    "52": "0",
                                    "53": "0000:00000000"
                                },
                                {
                                    "0": "sysschobjs",
                                    "1": "PAGELATCH_EX",
                                    "2": "2",
                                    "3": "1",
                                    "4": "302",
                                    "5": "1",
                                    "6": "1",
                                    "7": "DATA_PAGE",
                                    "8": "0x0",
                                    "9": "",
                                    "10": "0x0",
                                    "11": "",
                                    "12": "0000006c:00003058:001d",
                                    "13": "0",
                                    "14": "34",
                                    "15": "1",
                                    "16": "281474978938880",
                                    "17": "281474978938880",
                                    "18": "0",
                                    "19": "0",
                                    "20": "0",
                                    "21": "0",
                                    "22": "0",
                                    "23": "0",
                                    "24": "0",
                                    "25": "1",
                                    "26": "1",
                                    "27": "0",
                                    "28": "0x40",
                                    "29": " PFS_IS_ALLOCATED | 0_PCT_FULL",
                                    "30": "2",
                                    "31": "1",
                                    "32": "ALLOCATED",
                                    "33": "3",
                                    "34": "0",
                                    "35": "NOT ALLOCATED",
                                    "36": "6",
                                    "37": "1",
                                    "38": "CHANGED",
                                    "39": "7",
                                    "40": "0",
                                    "41": "NOT MIN_LOGGED",
                                    "42": "1",
                                    "43": "116",
                                    "44": "1",
                                    "45": "300",
                                    "46": "48",
                                    "47": "16",
                                    "48": "0",
                                    "49": "5928",
                                    "50": "6822",
                                    "51": "0",
                                    "52": "0",
                                    "53": "0000:00000000"
                                }
                            ]
                        },
                        "text/html": "<table><tr><th>(No column name)</th><th>wait_type</th><th>database_id</th><th>file_id</th><th>page_id</th><th>page_header_version</th><th>page_type</th><th>page_type_desc</th><th>page_type_flag_bits</th><th>page_type_flag_bits_desc</th><th>page_flag_bits</th><th>page_flag_bits_desc</th><th>page_lsn</th><th>page_level</th><th>object_id</th><th>index_id</th><th>partition_id</th><th>alloc_unit_id</th><th>is_encrypted</th><th>has_checksum</th><th>checksum</th><th>is_iam_page</th><th>is_mixed_extent</th><th>has_ghost_records</th><th>has_version_records</th><th>pfs_page_id</th><th>pfs_is_allocated</th><th>pfs_alloc_percent</th><th>pfs_status</th><th>pfs_status_desc</th><th>gam_page_id</th><th>gam_status</th><th>gam_status_desc</th><th>sgam_page_id</th><th>sgam_status</th><th>sgam_status_desc</th><th>diff_map_page_id</th><th>diff_status</th><th>diff_status_desc</th><th>ml_map_page_id</th><th>ml_status</th><th>ml_status_desc</th><th>prev_page_file_id</th><th>prev_page_page_id</th><th>next_page_file_id</th><th>next_page_page_id</th><th>fixed_length</th><th>slot_count</th><th>ghost_rec_count</th><th>free_bytes</th><th>free_bytes_offset</th><th>reserved_bytes</th><th>reserved_bytes_by_xdes_id</th><th>xdes_id</th></tr><tr><td>sysschobjs</td><td>PAGELATCH_EX</td><td>2</td><td>1</td><td>300</td><td>1</td><td>1</td><td>DATA_PAGE</td><td>0x0</td><td></td><td>0x0</td><td></td><td>0000006c:00002fe0:0129</td><td>0</td><td>34</td><td>1</td><td>281474978938880</td><td>281474978938880</td><td>0</td><td>0</td><td>0</td><td>0</td><td>0</td><td>0</td><td>0</td><td>1</td><td>1</td><td>0</td><td>0x40</td><td> PFS_IS_ALLOCATED | 0_PCT_FULL</td><td>2</td><td>1</td><td>ALLOCATED</td><td>3</td><td>0</td><td>NOT ALLOCATED</td><td>6</td><td>1</td><td>CHANGED</td><td>7</td><td>0</td><td>NOT MIN_LOGGED</td><td>1</td><td>302</td><td>1</td><td>301</td><td>48</td><td>17</td><td>0</td><td>6328</td><td>7372</td><td>0</td><td>0</td><td>0000:00000000</td></tr><tr><td>sysschobjs</td><td>PAGELATCH_EX</td><td>2</td><td>1</td><td>300</td><td>1</td><td>1</td><td>DATA_PAGE</td><td>0x0</td><td></td><td>0x0</td><td></td><td>0000006c:00002fe0:0129</td><td>0</td><td>34</td><td>1</td><td>281474978938880</td><td>281474978938880</td><td>0</td><td>0</td><td>0</td><td>0</td><td>0</td><td>0</td><td>0</td><td>1</td><td>1</td><td>0</td><td>0x40</td><td> PFS_IS_ALLOCATED | 0_PCT_FULL</td><td>2</td><td>1</td><td>ALLOCATED</td><td>3</td><td>0</td><td>NOT ALLOCATED</td><td>6</td><td>1</td><td>CHANGED</td><td>7</td><td>0</td><td>NOT MIN_LOGGED</td><td>1</td><td>302</td><td>1</td><td>301</td><td>48</td><td>17</td><td>0</td><td>6328</td><td>7372</td><td>0</td><td>0</td><td>0000:00000000</td></tr><tr><td>sysschobjs</td><td>PAGELATCH_EX</td><td>2</td><td>1</td><td>300</td><td>1</td><td>1</td><td>DATA_PAGE</td><td>0x0</td><td></td><td>0x0</td><td></td><td>0000006c:00002fe0:0129</td><td>0</td><td>34</td><td>1</td><td>281474978938880</td><td>281474978938880</td><td>0</td><td>0</td><td>0</td><td>0</td><td>0</td><td>0</td><td>0</td><td>1</td><td>1</td><td>0</td><td>0x40</td><td> PFS_IS_ALLOCATED | 0_PCT_FULL</td><td>2</td><td>1</td><td>ALLOCATED</td><td>3</td><td>0</td><td>NOT ALLOCATED</td><td>6</td><td>1</td><td>CHANGED</td><td>7</td><td>0</td><td>NOT MIN_LOGGED</td><td>1</td><td>302</td><td>1</td><td>301</td><td>48</td><td>17</td><td>0</td><td>6328</td><td>7372</td><td>0</td><td>0</td><td>0000:00000000</td></tr><tr><td>sysschobjs</td><td>NULL</td><td>2</td><td>1</td><td>300</td><td>1</td><td>1</td><td>DATA_PAGE</td><td>0x0</td><td></td><td>0x0</td><td></td><td>0000006c:00002fe0:0129</td><td>0</td><td>34</td><td>1</td><td>281474978938880</td><td>281474978938880</td><td>0</td><td>0</td><td>0</td><td>0</td><td>0</td><td>0</td><td>0</td><td>1</td><td>1</td><td>0</td><td>0x40</td><td> PFS_IS_ALLOCATED | 0_PCT_FULL</td><td>2</td><td>1</td><td>ALLOCATED</td><td>3</td><td>0</td><td>NOT ALLOCATED</td><td>6</td><td>1</td><td>CHANGED</td><td>7</td><td>0</td><td>NOT MIN_LOGGED</td><td>1</td><td>302</td><td>1</td><td>301</td><td>48</td><td>17</td><td>0</td><td>6328</td><td>7372</td><td>0</td><td>0</td><td>0000:00000000</td></tr><tr><td>sysschobjs</td><td>PAGELATCH_EX</td><td>2</td><td>1</td><td>302</td><td>1</td><td>1</td><td>DATA_PAGE</td><td>0x0</td><td></td><td>0x0</td><td></td><td>0000006c:00003058:001d</td><td>0</td><td>34</td><td>1</td><td>281474978938880</td><td>281474978938880</td><td>0</td><td>0</td><td>0</td><td>0</td><td>0</td><td>0</td><td>0</td><td>1</td><td>1</td><td>0</td><td>0x40</td><td> PFS_IS_ALLOCATED | 0_PCT_FULL</td><td>2</td><td>1</td><td>ALLOCATED</td><td>3</td><td>0</td><td>NOT ALLOCATED</td><td>6</td><td>1</td><td>CHANGED</td><td>7</td><td>0</td><td>NOT MIN_LOGGED</td><td>1</td><td>116</td><td>1</td><td>300</td><td>48</td><td>16</td><td>0</td><td>5928</td><td>6822</td><td>0</td><td>0</td><td>0000:00000000</td></tr><tr><td>sysschobjs</td><td>PAGELATCH_EX</td><td>2</td><td>1</td><td>302</td><td>1</td><td>1</td><td>DATA_PAGE</td><td>0x0</td><td></td><td>0x0</td><td></td><td>0000006c:00003058:001d</td><td>0</td><td>34</td><td>1</td><td>281474978938880</td><td>281474978938880</td><td>0</td><td>0</td><td>0</td><td>0</td><td>0</td><td>0</td><td>0</td><td>1</td><td>1</td><td>0</td><td>0x40</td><td> PFS_IS_ALLOCATED | 0_PCT_FULL</td><td>2</td><td>1</td><td>ALLOCATED</td><td>3</td><td>0</td><td>NOT ALLOCATED</td><td>6</td><td>1</td><td>CHANGED</td><td>7</td><td>0</td><td>NOT MIN_LOGGED</td><td>1</td><td>116</td><td>1</td><td>300</td><td>48</td><td>16</td><td>0</td><td>5928</td><td>6822</td><td>0</td><td>0</td><td>0000:00000000</td></tr><tr><td>sysschobjs</td><td>NULL</td><td>2</td><td>1</td><td>302</td><td>1</td><td>1</td><td>DATA_PAGE</td><td>0x0</td><td></td><td>0x0</td><td></td><td>0000006c:00003058:001d</td><td>0</td><td>34</td><td>1</td><td>281474978938880</td><td>281474978938880</td><td>0</td><td>0</td><td>0</td><td>0</td><td>0</td><td>0</td><td>0</td><td>1</td><td>1</td><td>0</td><td>0x40</td><td> PFS_IS_ALLOCATED | 0_PCT_FULL</td><td>2</td><td>1</td><td>ALLOCATED</td><td>3</td><td>0</td><td>NOT ALLOCATED</td><td>6</td><td>1</td><td>CHANGED</td><td>7</td><td>0</td><td>NOT MIN_LOGGED</td><td>1</td><td>116</td><td>1</td><td>300</td><td>48</td><td>16</td><td>0</td><td>5928</td><td>6822</td><td>0</td><td>0</td><td>0000:00000000</td></tr><tr><td>sysschobjs</td><td>PAGELATCH_EX</td><td>2</td><td>1</td><td>302</td><td>1</td><td>1</td><td>DATA_PAGE</td><td>0x0</td><td></td><td>0x0</td><td></td><td>0000006c:00003058:001d</td><td>0</td><td>34</td><td>1</td><td>281474978938880</td><td>281474978938880</td><td>0</td><td>0</td><td>0</td><td>0</td><td>0</td><td>0</td><td>0</td><td>1</td><td>1</td><td>0</td><td>0x40</td><td> PFS_IS_ALLOCATED | 0_PCT_FULL</td><td>2</td><td>1</td><td>ALLOCATED</td><td>3</td><td>0</td><td>NOT ALLOCATED</td><td>6</td><td>1</td><td>CHANGED</td><td>7</td><td>0</td><td>NOT MIN_LOGGED</td><td>1</td><td>116</td><td>1</td><td>300</td><td>48</td><td>16</td><td>0</td><td>5928</td><td>6822</td><td>0</td><td>0</td><td>0000:00000000</td></tr><tr><td>sysschobjs</td><td>PAGELATCH_EX</td><td>2</td><td>1</td><td>302</td><td>1</td><td>1</td><td>DATA_PAGE</td><td>0x0</td><td></td><td>0x0</td><td></td><td>0000006c:00003058:001d</td><td>0</td><td>34</td><td>1</td><td>281474978938880</td><td>281474978938880</td><td>0</td><td>0</td><td>0</td><td>0</td><td>0</td><td>0</td><td>0</td><td>1</td><td>1</td><td>0</td><td>0x40</td><td> PFS_IS_ALLOCATED | 0_PCT_FULL</td><td>2</td><td>1</td><td>ALLOCATED</td><td>3</td><td>0</td><td>NOT ALLOCATED</td><td>6</td><td>1</td><td>CHANGED</td><td>7</td><td>0</td><td>NOT MIN_LOGGED</td><td>1</td><td>116</td><td>1</td><td>300</td><td>48</td><td>16</td><td>0</td><td>5928</td><td>6822</td><td>0</td><td>0</td><td>0000:00000000</td></tr><tr><td>sysschobjs</td><td>PAGELATCH_EX</td><td>2</td><td>1</td><td>302</td><td>1</td><td>1</td><td>DATA_PAGE</td><td>0x0</td><td></td><td>0x0</td><td></td><td>0000006c:00003058:001d</td><td>0</td><td>34</td><td>1</td><td>281474978938880</td><td>281474978938880</td><td>0</td><td>0</td><td>0</td><td>0</td><td>0</td><td>0</td><td>0</td><td>1</td><td>1</td><td>0</td><td>0x40</td><td> PFS_IS_ALLOCATED | 0_PCT_FULL</td><td>2</td><td>1</td><td>ALLOCATED</td><td>3</td><td>0</td><td>NOT ALLOCATED</td><td>6</td><td>1</td><td>CHANGED</td><td>7</td><td>0</td><td>NOT MIN_LOGGED</td><td>1</td><td>116</td><td>1</td><td>300</td><td>48</td><td>16</td><td>0</td><td>5928</td><td>6822</td><td>0</td><td>0</td><td>0000:00000000</td></tr><tr><td>sysschobjs</td><td>PAGELATCH_EX</td><td>2</td><td>1</td><td>302</td><td>1</td><td>1</td><td>DATA_PAGE</td><td>0x0</td><td></td><td>0x0</td><td></td><td>0000006c:00003058:001d</td><td>0</td><td>34</td><td>1</td><td>281474978938880</td><td>281474978938880</td><td>0</td><td>0</td><td>0</td><td>0</td><td>0</td><td>0</td><td>0</td><td>1</td><td>1</td><td>0</td><td>0x40</td><td> PFS_IS_ALLOCATED | 0_PCT_FULL</td><td>2</td><td>1</td><td>ALLOCATED</td><td>3</td><td>0</td><td>NOT ALLOCATED</td><td>6</td><td>1</td><td>CHANGED</td><td>7</td><td>0</td><td>NOT MIN_LOGGED</td><td>1</td><td>116</td><td>1</td><td>300</td><td>48</td><td>16</td><td>0</td><td>5928</td><td>6822</td><td>0</td><td>0</td><td>0000:00000000</td></tr><tr><td>sysschobjs</td><td>PAGELATCH_EX</td><td>2</td><td>1</td><td>302</td><td>1</td><td>1</td><td>DATA_PAGE</td><td>0x0</td><td></td><td>0x0</td><td></td><td>0000006c:00003058:001d</td><td>0</td><td>34</td><td>1</td><td>281474978938880</td><td>281474978938880</td><td>0</td><td>0</td><td>0</td><td>0</td><td>0</td><td>0</td><td>0</td><td>1</td><td>1</td><td>0</td><td>0x40</td><td> PFS_IS_ALLOCATED | 0_PCT_FULL</td><td>2</td><td>1</td><td>ALLOCATED</td><td>3</td><td>0</td><td>NOT ALLOCATED</td><td>6</td><td>1</td><td>CHANGED</td><td>7</td><td>0</td><td>NOT MIN_LOGGED</td><td>1</td><td>116</td><td>1</td><td>300</td><td>48</td><td>16</td><td>0</td><td>5928</td><td>6822</td><td>0</td><td>0</td><td>0000:00000000</td></tr></table>"
                    }
                }
            ],
            "execution_count": 8
        },
        {
            "cell_type": "markdown",
            "source": [
                "## Step 4 - Once the ostress utility completes, run the optimizetempdb.cmd file to enable im-memory tempdb system tables\r\n",
                "### optimizetempdb.cmd contains the following code\r\n",
                "### Change the user name, password, and server name in the cmd file as required\r\n",
                "`sqlcmd -Usa -PJu@nS0t022 -ioptimizetempdb.sql -Slocalhost,1445\r\n",
                "docker stop sqlopttempdb\r\n",
                "docker start sqlopttempdb`\r\n",
                "### Once changes are made, execute optimizetempdb.cmd by running the following code at the command line\r\n",
                "`.\\optimizetempdb.cmd`"
            ],
            "metadata": {
                "azdata_cell_guid": "8f0e3681-9fa6-423c-979d-2e1c136f0895"
            }
        },
        {
            "cell_type": "markdown",
            "source": [
                "## Step 5 - Execute tempstress.cmd again from the command line in the directory that contains the tempdb scripts\r\n",
                "### The file contains the following code:\r\n",
                "### Change the user name, password, and database as needed\r\n",
                "`ostress -Usa -PJu@nS0t022 -Q\"exec letsgosox\" -n50 -r5000 -dChicagoWhiteSox -S\"localhost,1445\"`"
            ],
            "metadata": {
                "azdata_cell_guid": "fcc244b4-db25-41fe-85ea-f6a5eebabaaa"
            }
        },
        {
            "cell_type": "markdown",
            "source": [
                "## Step 6 - Run the query from Step 3 \r\n",
                "### You should not receive any results"
            ],
            "metadata": {
                "azdata_cell_guid": "dddbfb04-8566-4cc9-9ac2-0d13f560a199"
            }
        },
        {
            "cell_type": "code",
            "source": [
                "USE tempdb;\r\n",
                "GO\r\n",
                "SELECT object_name(page_info.object_id), d.wait_type, page_info.* \r\n",
                "FROM sys.dm_exec_requests AS d \r\n",
                "  CROSS APPLY sys.fn_PageResCracker(d.page_resource) AS r\r\n",
                "  CROSS APPLY sys.dm_db_page_info(r.db_id, r.file_id, r.page_id,'DETAILED')\r\n",
                "    AS page_info;\r\n",
                "GO"
            ],
            "metadata": {
                "azdata_cell_guid": "b3a4b0ca-3d02-4337-8d8c-1fd8e688e24e"
            },
            "outputs": [
                {
                    "output_type": "display_data",
                    "data": {
                        "text/html": "Commands completed successfully."
                    },
                    "metadata": {}
                },
                {
                    "output_type": "display_data",
                    "data": {
                        "text/html": "(0 rows affected)"
                    },
                    "metadata": {}
                },
                {
                    "output_type": "display_data",
                    "data": {
                        "text/html": "Total execution time: 00:00:00.062"
                    },
                    "metadata": {}
                },
                {
                    "output_type": "execute_result",
                    "metadata": {},
                    "execution_count": 12,
                    "data": {
                        "application/vnd.dataresource+json": {
                            "schema": {
                                "fields": [
                                    {
                                        "name": "(No column name)"
                                    },
                                    {
                                        "name": "wait_type"
                                    },
                                    {
                                        "name": "database_id"
                                    },
                                    {
                                        "name": "file_id"
                                    },
                                    {
                                        "name": "page_id"
                                    },
                                    {
                                        "name": "page_header_version"
                                    },
                                    {
                                        "name": "page_type"
                                    },
                                    {
                                        "name": "page_type_desc"
                                    },
                                    {
                                        "name": "page_type_flag_bits"
                                    },
                                    {
                                        "name": "page_type_flag_bits_desc"
                                    },
                                    {
                                        "name": "page_flag_bits"
                                    },
                                    {
                                        "name": "page_flag_bits_desc"
                                    },
                                    {
                                        "name": "page_lsn"
                                    },
                                    {
                                        "name": "page_level"
                                    },
                                    {
                                        "name": "object_id"
                                    },
                                    {
                                        "name": "index_id"
                                    },
                                    {
                                        "name": "partition_id"
                                    },
                                    {
                                        "name": "alloc_unit_id"
                                    },
                                    {
                                        "name": "is_encrypted"
                                    },
                                    {
                                        "name": "has_checksum"
                                    },
                                    {
                                        "name": "checksum"
                                    },
                                    {
                                        "name": "is_iam_page"
                                    },
                                    {
                                        "name": "is_mixed_extent"
                                    },
                                    {
                                        "name": "has_ghost_records"
                                    },
                                    {
                                        "name": "has_version_records"
                                    },
                                    {
                                        "name": "pfs_page_id"
                                    },
                                    {
                                        "name": "pfs_is_allocated"
                                    },
                                    {
                                        "name": "pfs_alloc_percent"
                                    },
                                    {
                                        "name": "pfs_status"
                                    },
                                    {
                                        "name": "pfs_status_desc"
                                    },
                                    {
                                        "name": "gam_page_id"
                                    },
                                    {
                                        "name": "gam_status"
                                    },
                                    {
                                        "name": "gam_status_desc"
                                    },
                                    {
                                        "name": "sgam_page_id"
                                    },
                                    {
                                        "name": "sgam_status"
                                    },
                                    {
                                        "name": "sgam_status_desc"
                                    },
                                    {
                                        "name": "diff_map_page_id"
                                    },
                                    {
                                        "name": "diff_status"
                                    },
                                    {
                                        "name": "diff_status_desc"
                                    },
                                    {
                                        "name": "ml_map_page_id"
                                    },
                                    {
                                        "name": "ml_status"
                                    },
                                    {
                                        "name": "ml_status_desc"
                                    },
                                    {
                                        "name": "prev_page_file_id"
                                    },
                                    {
                                        "name": "prev_page_page_id"
                                    },
                                    {
                                        "name": "next_page_file_id"
                                    },
                                    {
                                        "name": "next_page_page_id"
                                    },
                                    {
                                        "name": "fixed_length"
                                    },
                                    {
                                        "name": "slot_count"
                                    },
                                    {
                                        "name": "ghost_rec_count"
                                    },
                                    {
                                        "name": "free_bytes"
                                    },
                                    {
                                        "name": "free_bytes_offset"
                                    },
                                    {
                                        "name": "reserved_bytes"
                                    },
                                    {
                                        "name": "reserved_bytes_by_xdes_id"
                                    },
                                    {
                                        "name": "xdes_id"
                                    }
                                ]
                            },
                            "data": []
                        },
                        "text/html": "<table><tr><th>(No column name)</th><th>wait_type</th><th>database_id</th><th>file_id</th><th>page_id</th><th>page_header_version</th><th>page_type</th><th>page_type_desc</th><th>page_type_flag_bits</th><th>page_type_flag_bits_desc</th><th>page_flag_bits</th><th>page_flag_bits_desc</th><th>page_lsn</th><th>page_level</th><th>object_id</th><th>index_id</th><th>partition_id</th><th>alloc_unit_id</th><th>is_encrypted</th><th>has_checksum</th><th>checksum</th><th>is_iam_page</th><th>is_mixed_extent</th><th>has_ghost_records</th><th>has_version_records</th><th>pfs_page_id</th><th>pfs_is_allocated</th><th>pfs_alloc_percent</th><th>pfs_status</th><th>pfs_status_desc</th><th>gam_page_id</th><th>gam_status</th><th>gam_status_desc</th><th>sgam_page_id</th><th>sgam_status</th><th>sgam_status_desc</th><th>diff_map_page_id</th><th>diff_status</th><th>diff_status_desc</th><th>ml_map_page_id</th><th>ml_status</th><th>ml_status_desc</th><th>prev_page_file_id</th><th>prev_page_page_id</th><th>next_page_file_id</th><th>next_page_page_id</th><th>fixed_length</th><th>slot_count</th><th>ghost_rec_count</th><th>free_bytes</th><th>free_bytes_offset</th><th>reserved_bytes</th><th>reserved_bytes_by_xdes_id</th><th>xdes_id</th></tr></table>"
                    }
                }
            ],
            "execution_count": 12
        },
        {
            "cell_type": "markdown",
            "source": [
                "## Step 7 - Find a list of memory-optimized objects\r\n",
                "### Run the following query to return the memory optimized objects in tempdb"
            ],
            "metadata": {
                "azdata_cell_guid": "0ad7f9b6-ecec-4524-a820-6ef84545fc3c"
            }
        },
        {
            "cell_type": "code",
            "source": [
                "USE tempdb;\r\n",
                "go\r\n",
                "SELECT OBJECT_NAME(object_id), * FROM sys.dm_db_xtp_object_stats;\r\n",
                "go"
            ],
            "metadata": {
                "azdata_cell_guid": "69524f9b-2912-4e37-9f01-b587d7105542"
            },
            "outputs": [
                {
                    "output_type": "display_data",
                    "data": {
                        "text/html": "Commands completed successfully."
                    },
                    "metadata": {}
                },
                {
                    "output_type": "display_data",
                    "data": {
                        "text/html": "(10 rows affected)"
                    },
                    "metadata": {}
                },
                {
                    "output_type": "display_data",
                    "data": {
                        "text/html": "Total execution time: 00:00:00.117"
                    },
                    "metadata": {}
                },
                {
                    "output_type": "execute_result",
                    "metadata": {},
                    "execution_count": 13,
                    "data": {
                        "application/vnd.dataresource+json": {
                            "schema": {
                                "fields": [
                                    {
                                        "name": "(No column name)"
                                    },
                                    {
                                        "name": "object_id"
                                    },
                                    {
                                        "name": "xtp_object_id"
                                    },
                                    {
                                        "name": "row_insert_attempts"
                                    },
                                    {
                                        "name": "row_update_attempts"
                                    },
                                    {
                                        "name": "row_delete_attempts"
                                    },
                                    {
                                        "name": "write_conflicts"
                                    },
                                    {
                                        "name": "unique_constraint_violations"
                                    },
                                    {
                                        "name": "object_address"
                                    }
                                ]
                            },
                            "data": [
                                {
                                    "0": "sysrscols",
                                    "1": "3",
                                    "2": "-2147483648",
                                    "3": "1333",
                                    "4": "0",
                                    "5": "18",
                                    "6": "0",
                                    "7": "0",
                                    "8": "0x00000006C9486040"
                                },
                                {
                                    "0": "sysseobjvalues",
                                    "1": "9",
                                    "2": "-2147483647",
                                    "3": "0",
                                    "4": "0",
                                    "5": "0",
                                    "6": "0",
                                    "7": "0",
                                    "8": "0x00000006C9494040"
                                },
                                {
                                    "0": "sysschobjs",
                                    "1": "34",
                                    "2": "-2147483644",
                                    "3": "2598",
                                    "4": "552668",
                                    "5": "0",
                                    "6": "0",
                                    "7": "0",
                                    "8": "0x00000006C94D2040"
                                },
                                {
                                    "0": "sysmultiobjvalues",
                                    "1": "40",
                                    "2": "-2147483643",
                                    "3": "0",
                                    "4": "0",
                                    "5": "0",
                                    "6": "0",
                                    "7": "0",
                                    "8": "0x00000006C97E4040"
                                },
                                {
                                    "0": "syscolpars",
                                    "1": "41",
                                    "2": "-2147483640",
                                    "3": "1085",
                                    "4": "1",
                                    "5": "0",
                                    "6": "0",
                                    "7": "0",
                                    "8": "0x00000006C978C040"
                                },
                                {
                                    "0": "sysidxstats",
                                    "1": "54",
                                    "2": "-2147483639",
                                    "3": "234",
                                    "4": "4",
                                    "5": "4",
                                    "6": "0",
                                    "7": "0",
                                    "8": "0x00000006C8C10040"
                                },
                                {
                                    "0": "sysiscols",
                                    "1": "55",
                                    "2": "-2147483638",
                                    "3": "506",
                                    "4": "0",
                                    "5": "8",
                                    "6": "0",
                                    "7": "0",
                                    "8": "0x00000006C8C2E040"
                                },
                                {
                                    "0": "sysobjvalues",
                                    "1": "60",
                                    "2": "-2147483637",
                                    "3": "181",
                                    "4": "0",
                                    "5": "4",
                                    "6": "0",
                                    "7": "0",
                                    "8": "0x00000006C8C4A040"
                                },
                                {
                                    "0": "syssingleobjrefs",
                                    "1": "74",
                                    "2": "-2147483634",
                                    "3": "194",
                                    "4": "0",
                                    "5": "0",
                                    "6": "0",
                                    "7": "0",
                                    "8": "0x00000006C8E0C040"
                                },
                                {
                                    "0": "sysmultiobjrefs",
                                    "1": "75",
                                    "2": "-2147483633",
                                    "3": "107",
                                    "4": "0",
                                    "5": "0",
                                    "6": "0",
                                    "7": "0",
                                    "8": "0x00000006C8E28040"
                                }
                            ]
                        },
                        "text/html": "<table><tr><th>(No column name)</th><th>object_id</th><th>xtp_object_id</th><th>row_insert_attempts</th><th>row_update_attempts</th><th>row_delete_attempts</th><th>write_conflicts</th><th>unique_constraint_violations</th><th>object_address</th></tr><tr><td>sysrscols</td><td>3</td><td>-2147483648</td><td>1333</td><td>0</td><td>18</td><td>0</td><td>0</td><td>0x00000006C9486040</td></tr><tr><td>sysseobjvalues</td><td>9</td><td>-2147483647</td><td>0</td><td>0</td><td>0</td><td>0</td><td>0</td><td>0x00000006C9494040</td></tr><tr><td>sysschobjs</td><td>34</td><td>-2147483644</td><td>2598</td><td>552668</td><td>0</td><td>0</td><td>0</td><td>0x00000006C94D2040</td></tr><tr><td>sysmultiobjvalues</td><td>40</td><td>-2147483643</td><td>0</td><td>0</td><td>0</td><td>0</td><td>0</td><td>0x00000006C97E4040</td></tr><tr><td>syscolpars</td><td>41</td><td>-2147483640</td><td>1085</td><td>1</td><td>0</td><td>0</td><td>0</td><td>0x00000006C978C040</td></tr><tr><td>sysidxstats</td><td>54</td><td>-2147483639</td><td>234</td><td>4</td><td>4</td><td>0</td><td>0</td><td>0x00000006C8C10040</td></tr><tr><td>sysiscols</td><td>55</td><td>-2147483638</td><td>506</td><td>0</td><td>8</td><td>0</td><td>0</td><td>0x00000006C8C2E040</td></tr><tr><td>sysobjvalues</td><td>60</td><td>-2147483637</td><td>181</td><td>0</td><td>4</td><td>0</td><td>0</td><td>0x00000006C8C4A040</td></tr><tr><td>syssingleobjrefs</td><td>74</td><td>-2147483634</td><td>194</td><td>0</td><td>0</td><td>0</td><td>0</td><td>0x00000006C8E0C040</td></tr><tr><td>sysmultiobjrefs</td><td>75</td><td>-2147483633</td><td>107</td><td>0</td><td>0</td><td>0</td><td>0</td><td>0x00000006C8E28040</td></tr></table>"
                    }
                }
            ],
            "execution_count": 13
        }
    ]
}