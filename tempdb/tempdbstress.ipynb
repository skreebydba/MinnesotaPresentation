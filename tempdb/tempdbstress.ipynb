{
    "metadata": {
        "kernelspec": {
            "name": "SQL",
            "display_name": "SQL",
            "language": "sql"
        },
        "language_info": {
            "name": "sql",
            "version": ""
        }
    },
    "nbformat_minor": 2,
    "nbformat": 4,
    "cells": [
        {
            "cell_type": "markdown",
            "source": [
                "## Step 1 - Run this query against your SQL instance to create a database and procedure for use in the stress test"
            ],
            "metadata": {
                "azdata_cell_guid": "1b1fd77f-456a-4fea-bde7-c56a3b3375fb"
            }
        },
        {
            "cell_type": "code",
            "source": [
                "USE master;\r\n",
                "GO\r\n",
                "DROP DATABASE IF EXISTS ChicagoWhiteSox;\r\n",
                "GO\r\n",
                "CREATE DATABASE ChicagoWhiteSox;\r\n",
                "GO\r\n",
                "USE ChicagoWhiteSox;\r\n",
                "GO\r\n",
                "CREATE OR ALTER PROCEDURE letsgosox\r\n",
                "AS\r\n",
                "CREATE TABLE #gosox (col1 INT);\r\n",
                "GO"
            ],
            "metadata": {
                "azdata_cell_guid": "4b97246a-42f4-44d4-ab66-29e5c1c729b7"
            },
            "outputs": [
                {
                    "output_type": "display_data",
                    "data": {
                        "text/html": "Commands completed successfully."
                    },
                    "metadata": {}
                },
                {
                    "output_type": "display_data",
                    "data": {
                        "text/html": "Commands completed successfully."
                    },
                    "metadata": {}
                },
                {
                    "output_type": "display_data",
                    "data": {
                        "text/html": "Commands completed successfully."
                    },
                    "metadata": {}
                },
                {
                    "output_type": "display_data",
                    "data": {
                        "text/html": "Commands completed successfully."
                    },
                    "metadata": {}
                },
                {
                    "output_type": "display_data",
                    "data": {
                        "text/html": "Commands completed successfully."
                    },
                    "metadata": {}
                },
                {
                    "output_type": "display_data",
                    "data": {
                        "text/html": "Total execution time: 00:00:01.109"
                    },
                    "metadata": {}
                }
            ],
            "execution_count": 13
        },
        {
            "cell_type": "markdown",
            "source": [
                "## Step 2 - Disable in-memory optimization for tempdb by running disableopttempdb.cmd\r\n",
                "### The file contains the following code:\r\n",
                "### Change the user name, password, and server name  in the cmd file as required\r\n",
                "`sqlcmd -Usa -PJu@nS0t022 -i disableopttempdb.sql -S \"localhost,1445\"\r\n",
                "docker stop sqlopttempdb\r\n",
                "docker start sqlopttempdb`\r\n",
                "### Once changes are made, run the following code from the command line:\r\n",
                "`.\\disableopttempdb.cmd`"
            ],
            "metadata": {
                "azdata_cell_guid": "3873b211-7e73-42c9-9a97-b26249fc7fa9"
            }
        },
        {
            "cell_type": "markdown",
            "source": [
                "## Step 2 - Execute tempstress.cmd from the command line in the directory that contains the tempdb scripts\r\n",
                "### The file contains the following code:\r\n",
                "### Change the user name, password, and database as needed\r\n",
                "### When ostress completes, note the elapsed time\r\n",
                "### You will find it in the command window, as follows: OSTRESS exiting normally, elapsed time: 00:01:08.348\r\n",
                "`.\\ostress -Usa -PJu@nS0t022 -Q\"exec letsgosox\" -n50 -r5000 -dChicagoWhiteSox -S\"localhost,1445\"`\r\n",
                "### Once changes are made, run the following code from the command line:\r\n",
                "`.\\tempstress.cmd`"
            ],
            "metadata": {
                "azdata_cell_guid": "1c5c19f6-ef43-4a67-9aee-b5e6f93d11ea"
            }
        },
        {
            "cell_type": "markdown",
            "source": [
                "## Step 3 - While the ostress utility is running run the following query\r\n",
                "### This will return the pages that that are being latched\r\n",
                "### This will result in PAGELATCH_IO waits"
            ],
            "metadata": {
                "azdata_cell_guid": "8bf49e92-4456-4614-a7d9-db8362cb389e"
            }
        },
        {
            "cell_type": "code",
            "source": [
                "USE tempdb;\r\n",
                "GO\r\n",
                "SELECT object_name(page_info.object_id), d.wait_type, page_info.* \r\n",
                "FROM sys.dm_exec_requests AS d \r\n",
                "  CROSS APPLY sys.fn_PageResCracker(d.page_resource) AS r\r\n",
                "  CROSS APPLY sys.dm_db_page_info(r.db_id, r.file_id, r.page_id,'DETAILED')\r\n",
                "    AS page_info;\r\n",
                "GO\r\n",
                "\r\n",
                "DBCC PAGE (2,1,116,3) WITH TABLERESULTS;"
            ],
            "metadata": {
                "azdata_cell_guid": "c9779bb8-654c-4121-9f0a-8703238e17fa"
            },
            "outputs": [
                {
                    "output_type": "display_data",
                    "data": {
                        "text/html": "Commands completed successfully."
                    },
                    "metadata": {}
                },
                {
                    "output_type": "display_data",
                    "data": {
                        "text/html": "(41 rows affected)"
                    },
                    "metadata": {}
                },
                {
                    "output_type": "display_data",
                    "data": {
                        "text/html": "(390 rows affected)"
                    },
                    "metadata": {}
                },
                {
                    "output_type": "display_data",
                    "data": {
                        "text/html": "DBCC execution completed. If DBCC printed error messages, contact your system administrator."
                    },
                    "metadata": {}
                },
                {
                    "output_type": "display_data",
                    "data": {
                        "text/html": "Total execution time: 00:00:00.069"
                    },
                    "metadata": {}
                },
                {
                    "output_type": "execute_result",
                    "metadata": {},
                    "execution_count": 18,
                    "data": {
                        "application/vnd.dataresource+json": {
                            "schema": {
                                "fields": [
                                    {
                                        "name": "(No column name)"
                                    },
                                    {
                                        "name": "wait_type"
                                    },
                                    {
                                        "name": "database_id"
                                    },
                                    {
                                        "name": "file_id"
                                    },
                                    {
                                        "name": "page_id"
                                    },
                                    {
                                        "name": "page_header_version"
                                    },
                                    {
                                        "name": "page_type"
                                    },
                                    {
                                        "name": "page_type_desc"
                                    },
                                    {
                                        "name": "page_type_flag_bits"
                                    },
                                    {
                                        "name": "page_type_flag_bits_desc"
                                    },
                                    {
                                        "name": "page_flag_bits"
                                    },
                                    {
                                        "name": "page_flag_bits_desc"
                                    },
                                    {
                                        "name": "page_lsn"
                                    },
                                    {
                                        "name": "page_level"
                                    },
                                    {
                                        "name": "object_id"
                                    },
                                    {
                                        "name": "index_id"
                                    },
                                    {
                                        "name": "partition_id"
                                    },
                                    {
                                        "name": "alloc_unit_id"
                                    },
                                    {
                                        "name": "is_encrypted"
                                    },
                                    {
                                        "name": "has_checksum"
                                    },
                                    {
                                        "name": "checksum"
                                    },
                                    {
                                        "name": "is_iam_page"
                                    },
                                    {
                                        "name": "is_mixed_extent"
                                    },
                                    {
                                        "name": "has_ghost_records"
                                    },
                                    {
                                        "name": "has_version_records"
                                    },
                                    {
                                        "name": "pfs_page_id"
                                    },
                                    {
                                        "name": "pfs_is_allocated"
                                    },
                                    {
                                        "name": "pfs_alloc_percent"
                                    },
                                    {
                                        "name": "pfs_status"
                                    },
                                    {
                                        "name": "pfs_status_desc"
                                    },
                                    {
                                        "name": "gam_page_id"
                                    },
                                    {
                                        "name": "gam_status"
                                    },
                                    {
                                        "name": "gam_status_desc"
                                    },
                                    {
                                        "name": "sgam_page_id"
                                    },
                                    {
                                        "name": "sgam_status"
                                    },
                                    {
                                        "name": "sgam_status_desc"
                                    },
                                    {
                                        "name": "diff_map_page_id"
                                    },
                                    {
                                        "name": "diff_status"
                                    },
                                    {
                                        "name": "diff_status_desc"
                                    },
                                    {
                                        "name": "ml_map_page_id"
                                    },
                                    {
                                        "name": "ml_status"
                                    },
                                    {
                                        "name": "ml_status_desc"
                                    },
                                    {
                                        "name": "prev_page_file_id"
                                    },
                                    {
                                        "name": "prev_page_page_id"
                                    },
                                    {
                                        "name": "next_page_file_id"
                                    },
                                    {
                                        "name": "next_page_page_id"
                                    },
                                    {
                                        "name": "fixed_length"
                                    },
                                    {
                                        "name": "slot_count"
                                    },
                                    {
                                        "name": "ghost_rec_count"
                                    },
                                    {
                                        "name": "free_bytes"
                                    },
                                    {
                                        "name": "free_bytes_offset"
                                    },
                                    {
                                        "name": "reserved_bytes"
                                    },
                                    {
                                        "name": "reserved_bytes_by_xdes_id"
                                    },
                                    {
                                        "name": "xdes_id"
                                    }
                                ]
                            },
                            "data": [
                                {
                                    "0": "sysschobjs",
                                    "1": "PAGELATCH_EX",
                                    "2": "2",
                                    "3": "1",
                                    "4": "118",
                                    "5": "1",
                                    "6": "2",
                                    "7": "INDEX_PAGE",
                                    "8": "0x4",
                                    "9": "",
                                    "10": "0x0",
                                    "11": "",
                                    "12": "00000049:000051a0:003c",
                                    "13": "0",
                                    "14": "34",
                                    "15": "2",
                                    "16": "562949955649536",
                                    "17": "562949955649536",
                                    "18": "0",
                                    "19": "0",
                                    "20": "-612772230",
                                    "21": "0",
                                    "22": "1",
                                    "23": "1",
                                    "24": "0",
                                    "25": "1",
                                    "26": "1",
                                    "27": "0",
                                    "28": "0x68",
                                    "29": " MIXED_EXT | PFS_HAS_GHOST_RECORDS | PFS_IS_ALLOCATED | 0_PCT_FULL",
                                    "30": "2",
                                    "31": "1",
                                    "32": "ALLOCATED",
                                    "33": "3",
                                    "34": "0",
                                    "35": "NOT ALLOCATED",
                                    "36": "6",
                                    "37": "1",
                                    "38": "CHANGED",
                                    "39": "7",
                                    "40": "0",
                                    "41": "NOT MIN_LOGGED",
                                    "42": "0",
                                    "43": "0",
                                    "44": "1",
                                    "45": "295",
                                    "46": "10",
                                    "47": "68",
                                    "48": "38",
                                    "49": "1738",
                                    "50": "6382",
                                    "51": "0",
                                    "52": "0",
                                    "53": "0000:0003953f"
                                },
                                {
                                    "0": "sysschobjs",
                                    "1": "PAGELATCH_EX",
                                    "2": "2",
                                    "3": "1",
                                    "4": "118",
                                    "5": "1",
                                    "6": "2",
                                    "7": "INDEX_PAGE",
                                    "8": "0x4",
                                    "9": "",
                                    "10": "0x0",
                                    "11": "",
                                    "12": "00000049:000051a0:003c",
                                    "13": "0",
                                    "14": "34",
                                    "15": "2",
                                    "16": "562949955649536",
                                    "17": "562949955649536",
                                    "18": "0",
                                    "19": "0",
                                    "20": "-612772230",
                                    "21": "0",
                                    "22": "1",
                                    "23": "1",
                                    "24": "0",
                                    "25": "1",
                                    "26": "1",
                                    "27": "0",
                                    "28": "0x68",
                                    "29": " MIXED_EXT | PFS_HAS_GHOST_RECORDS | PFS_IS_ALLOCATED | 0_PCT_FULL",
                                    "30": "2",
                                    "31": "1",
                                    "32": "ALLOCATED",
                                    "33": "3",
                                    "34": "0",
                                    "35": "NOT ALLOCATED",
                                    "36": "6",
                                    "37": "1",
                                    "38": "CHANGED",
                                    "39": "7",
                                    "40": "0",
                                    "41": "NOT MIN_LOGGED",
                                    "42": "0",
                                    "43": "0",
                                    "44": "1",
                                    "45": "295",
                                    "46": "10",
                                    "47": "68",
                                    "48": "38",
                                    "49": "1738",
                                    "50": "6382",
                                    "51": "0",
                                    "52": "0",
                                    "53": "0000:0003953f"
                                },
                                {
                                    "0": "sysschobjs",
                                    "1": "PAGELATCH_EX",
                                    "2": "2",
                                    "3": "1",
                                    "4": "118",
                                    "5": "1",
                                    "6": "2",
                                    "7": "INDEX_PAGE",
                                    "8": "0x4",
                                    "9": "",
                                    "10": "0x0",
                                    "11": "",
                                    "12": "00000049:000051a0:003c",
                                    "13": "0",
                                    "14": "34",
                                    "15": "2",
                                    "16": "562949955649536",
                                    "17": "562949955649536",
                                    "18": "0",
                                    "19": "0",
                                    "20": "-612772230",
                                    "21": "0",
                                    "22": "1",
                                    "23": "1",
                                    "24": "0",
                                    "25": "1",
                                    "26": "1",
                                    "27": "0",
                                    "28": "0x68",
                                    "29": " MIXED_EXT | PFS_HAS_GHOST_RECORDS | PFS_IS_ALLOCATED | 0_PCT_FULL",
                                    "30": "2",
                                    "31": "1",
                                    "32": "ALLOCATED",
                                    "33": "3",
                                    "34": "0",
                                    "35": "NOT ALLOCATED",
                                    "36": "6",
                                    "37": "1",
                                    "38": "CHANGED",
                                    "39": "7",
                                    "40": "0",
                                    "41": "NOT MIN_LOGGED",
                                    "42": "0",
                                    "43": "0",
                                    "44": "1",
                                    "45": "295",
                                    "46": "10",
                                    "47": "68",
                                    "48": "38",
                                    "49": "1738",
                                    "50": "6382",
                                    "51": "0",
                                    "52": "0",
                                    "53": "0000:0003953f"
                                },
                                {
                                    "0": "sysschobjs",
                                    "1": "PAGELATCH_EX",
                                    "2": "2",
                                    "3": "1",
                                    "4": "118",
                                    "5": "1",
                                    "6": "2",
                                    "7": "INDEX_PAGE",
                                    "8": "0x4",
                                    "9": "",
                                    "10": "0x0",
                                    "11": "",
                                    "12": "00000049:000051a0:003c",
                                    "13": "0",
                                    "14": "34",
                                    "15": "2",
                                    "16": "562949955649536",
                                    "17": "562949955649536",
                                    "18": "0",
                                    "19": "0",
                                    "20": "-612772230",
                                    "21": "0",
                                    "22": "1",
                                    "23": "1",
                                    "24": "0",
                                    "25": "1",
                                    "26": "1",
                                    "27": "0",
                                    "28": "0x68",
                                    "29": " MIXED_EXT | PFS_HAS_GHOST_RECORDS | PFS_IS_ALLOCATED | 0_PCT_FULL",
                                    "30": "2",
                                    "31": "1",
                                    "32": "ALLOCATED",
                                    "33": "3",
                                    "34": "0",
                                    "35": "NOT ALLOCATED",
                                    "36": "6",
                                    "37": "1",
                                    "38": "CHANGED",
                                    "39": "7",
                                    "40": "0",
                                    "41": "NOT MIN_LOGGED",
                                    "42": "0",
                                    "43": "0",
                                    "44": "1",
                                    "45": "295",
                                    "46": "10",
                                    "47": "68",
                                    "48": "38",
                                    "49": "1738",
                                    "50": "6382",
                                    "51": "0",
                                    "52": "0",
                                    "53": "0000:0003953f"
                                },
                                {
                                    "0": "sysschobjs",
                                    "1": "NULL",
                                    "2": "2",
                                    "3": "1",
                                    "4": "118",
                                    "5": "1",
                                    "6": "2",
                                    "7": "INDEX_PAGE",
                                    "8": "0x4",
                                    "9": "",
                                    "10": "0x0",
                                    "11": "",
                                    "12": "00000049:000051a0:003c",
                                    "13": "0",
                                    "14": "34",
                                    "15": "2",
                                    "16": "562949955649536",
                                    "17": "562949955649536",
                                    "18": "0",
                                    "19": "0",
                                    "20": "-612772230",
                                    "21": "0",
                                    "22": "1",
                                    "23": "1",
                                    "24": "0",
                                    "25": "1",
                                    "26": "1",
                                    "27": "0",
                                    "28": "0x68",
                                    "29": " MIXED_EXT | PFS_HAS_GHOST_RECORDS | PFS_IS_ALLOCATED | 0_PCT_FULL",
                                    "30": "2",
                                    "31": "1",
                                    "32": "ALLOCATED",
                                    "33": "3",
                                    "34": "0",
                                    "35": "NOT ALLOCATED",
                                    "36": "6",
                                    "37": "1",
                                    "38": "CHANGED",
                                    "39": "7",
                                    "40": "0",
                                    "41": "NOT MIN_LOGGED",
                                    "42": "0",
                                    "43": "0",
                                    "44": "1",
                                    "45": "295",
                                    "46": "10",
                                    "47": "68",
                                    "48": "38",
                                    "49": "1738",
                                    "50": "6382",
                                    "51": "0",
                                    "52": "0",
                                    "53": "0000:0003953f"
                                },
                                {
                                    "0": "sysschobjs",
                                    "1": "PAGELATCH_EX",
                                    "2": "2",
                                    "3": "1",
                                    "4": "118",
                                    "5": "1",
                                    "6": "2",
                                    "7": "INDEX_PAGE",
                                    "8": "0x4",
                                    "9": "",
                                    "10": "0x0",
                                    "11": "",
                                    "12": "00000049:000051a0:003c",
                                    "13": "0",
                                    "14": "34",
                                    "15": "2",
                                    "16": "562949955649536",
                                    "17": "562949955649536",
                                    "18": "0",
                                    "19": "0",
                                    "20": "-612772230",
                                    "21": "0",
                                    "22": "1",
                                    "23": "1",
                                    "24": "0",
                                    "25": "1",
                                    "26": "1",
                                    "27": "0",
                                    "28": "0x68",
                                    "29": " MIXED_EXT | PFS_HAS_GHOST_RECORDS | PFS_IS_ALLOCATED | 0_PCT_FULL",
                                    "30": "2",
                                    "31": "1",
                                    "32": "ALLOCATED",
                                    "33": "3",
                                    "34": "0",
                                    "35": "NOT ALLOCATED",
                                    "36": "6",
                                    "37": "1",
                                    "38": "CHANGED",
                                    "39": "7",
                                    "40": "0",
                                    "41": "NOT MIN_LOGGED",
                                    "42": "0",
                                    "43": "0",
                                    "44": "1",
                                    "45": "295",
                                    "46": "10",
                                    "47": "68",
                                    "48": "38",
                                    "49": "1738",
                                    "50": "6382",
                                    "51": "0",
                                    "52": "0",
                                    "53": "0000:0003953f"
                                },
                                {
                                    "0": "sysschobjs",
                                    "1": "PAGELATCH_EX",
                                    "2": "2",
                                    "3": "1",
                                    "4": "118",
                                    "5": "1",
                                    "6": "2",
                                    "7": "INDEX_PAGE",
                                    "8": "0x4",
                                    "9": "",
                                    "10": "0x0",
                                    "11": "",
                                    "12": "00000049:000051a0:003c",
                                    "13": "0",
                                    "14": "34",
                                    "15": "2",
                                    "16": "562949955649536",
                                    "17": "562949955649536",
                                    "18": "0",
                                    "19": "0",
                                    "20": "-612772230",
                                    "21": "0",
                                    "22": "1",
                                    "23": "1",
                                    "24": "0",
                                    "25": "1",
                                    "26": "1",
                                    "27": "0",
                                    "28": "0x68",
                                    "29": " MIXED_EXT | PFS_HAS_GHOST_RECORDS | PFS_IS_ALLOCATED | 0_PCT_FULL",
                                    "30": "2",
                                    "31": "1",
                                    "32": "ALLOCATED",
                                    "33": "3",
                                    "34": "0",
                                    "35": "NOT ALLOCATED",
                                    "36": "6",
                                    "37": "1",
                                    "38": "CHANGED",
                                    "39": "7",
                                    "40": "0",
                                    "41": "NOT MIN_LOGGED",
                                    "42": "0",
                                    "43": "0",
                                    "44": "1",
                                    "45": "295",
                                    "46": "10",
                                    "47": "68",
                                    "48": "38",
                                    "49": "1738",
                                    "50": "6382",
                                    "51": "0",
                                    "52": "0",
                                    "53": "0000:0003953f"
                                },
                                {
                                    "0": "sysschobjs",
                                    "1": "PAGELATCH_EX",
                                    "2": "2",
                                    "3": "1",
                                    "4": "118",
                                    "5": "1",
                                    "6": "2",
                                    "7": "INDEX_PAGE",
                                    "8": "0x4",
                                    "9": "",
                                    "10": "0x0",
                                    "11": "",
                                    "12": "00000049:000051a0:003c",
                                    "13": "0",
                                    "14": "34",
                                    "15": "2",
                                    "16": "562949955649536",
                                    "17": "562949955649536",
                                    "18": "0",
                                    "19": "0",
                                    "20": "-612772230",
                                    "21": "0",
                                    "22": "1",
                                    "23": "1",
                                    "24": "0",
                                    "25": "1",
                                    "26": "1",
                                    "27": "0",
                                    "28": "0x68",
                                    "29": " MIXED_EXT | PFS_HAS_GHOST_RECORDS | PFS_IS_ALLOCATED | 0_PCT_FULL",
                                    "30": "2",
                                    "31": "1",
                                    "32": "ALLOCATED",
                                    "33": "3",
                                    "34": "0",
                                    "35": "NOT ALLOCATED",
                                    "36": "6",
                                    "37": "1",
                                    "38": "CHANGED",
                                    "39": "7",
                                    "40": "0",
                                    "41": "NOT MIN_LOGGED",
                                    "42": "0",
                                    "43": "0",
                                    "44": "1",
                                    "45": "295",
                                    "46": "10",
                                    "47": "68",
                                    "48": "38",
                                    "49": "1738",
                                    "50": "6382",
                                    "51": "0",
                                    "52": "0",
                                    "53": "0000:0003953f"
                                },
                                {
                                    "0": "sysschobjs",
                                    "1": "PAGELATCH_EX",
                                    "2": "2",
                                    "3": "1",
                                    "4": "118",
                                    "5": "1",
                                    "6": "2",
                                    "7": "INDEX_PAGE",
                                    "8": "0x4",
                                    "9": "",
                                    "10": "0x0",
                                    "11": "",
                                    "12": "00000049:000051a0:003c",
                                    "13": "0",
                                    "14": "34",
                                    "15": "2",
                                    "16": "562949955649536",
                                    "17": "562949955649536",
                                    "18": "0",
                                    "19": "0",
                                    "20": "-612772230",
                                    "21": "0",
                                    "22": "1",
                                    "23": "1",
                                    "24": "0",
                                    "25": "1",
                                    "26": "1",
                                    "27": "0",
                                    "28": "0x68",
                                    "29": " MIXED_EXT | PFS_HAS_GHOST_RECORDS | PFS_IS_ALLOCATED | 0_PCT_FULL",
                                    "30": "2",
                                    "31": "1",
                                    "32": "ALLOCATED",
                                    "33": "3",
                                    "34": "0",
                                    "35": "NOT ALLOCATED",
                                    "36": "6",
                                    "37": "1",
                                    "38": "CHANGED",
                                    "39": "7",
                                    "40": "0",
                                    "41": "NOT MIN_LOGGED",
                                    "42": "0",
                                    "43": "0",
                                    "44": "1",
                                    "45": "295",
                                    "46": "10",
                                    "47": "68",
                                    "48": "38",
                                    "49": "1738",
                                    "50": "6382",
                                    "51": "0",
                                    "52": "0",
                                    "53": "0000:0003953f"
                                },
                                {
                                    "0": "sysschobjs",
                                    "1": "PAGELATCH_EX",
                                    "2": "2",
                                    "3": "1",
                                    "4": "118",
                                    "5": "1",
                                    "6": "2",
                                    "7": "INDEX_PAGE",
                                    "8": "0x4",
                                    "9": "",
                                    "10": "0x0",
                                    "11": "",
                                    "12": "00000049:000051a0:003c",
                                    "13": "0",
                                    "14": "34",
                                    "15": "2",
                                    "16": "562949955649536",
                                    "17": "562949955649536",
                                    "18": "0",
                                    "19": "0",
                                    "20": "-612772230",
                                    "21": "0",
                                    "22": "1",
                                    "23": "1",
                                    "24": "0",
                                    "25": "1",
                                    "26": "1",
                                    "27": "0",
                                    "28": "0x68",
                                    "29": " MIXED_EXT | PFS_HAS_GHOST_RECORDS | PFS_IS_ALLOCATED | 0_PCT_FULL",
                                    "30": "2",
                                    "31": "1",
                                    "32": "ALLOCATED",
                                    "33": "3",
                                    "34": "0",
                                    "35": "NOT ALLOCATED",
                                    "36": "6",
                                    "37": "1",
                                    "38": "CHANGED",
                                    "39": "7",
                                    "40": "0",
                                    "41": "NOT MIN_LOGGED",
                                    "42": "0",
                                    "43": "0",
                                    "44": "1",
                                    "45": "295",
                                    "46": "10",
                                    "47": "68",
                                    "48": "38",
                                    "49": "1738",
                                    "50": "6382",
                                    "51": "0",
                                    "52": "0",
                                    "53": "0000:0003953f"
                                },
                                {
                                    "0": "sysschobjs",
                                    "1": "PAGELATCH_EX",
                                    "2": "2",
                                    "3": "1",
                                    "4": "118",
                                    "5": "1",
                                    "6": "2",
                                    "7": "INDEX_PAGE",
                                    "8": "0x4",
                                    "9": "",
                                    "10": "0x0",
                                    "11": "",
                                    "12": "00000049:000051a0:003c",
                                    "13": "0",
                                    "14": "34",
                                    "15": "2",
                                    "16": "562949955649536",
                                    "17": "562949955649536",
                                    "18": "0",
                                    "19": "0",
                                    "20": "-612772230",
                                    "21": "0",
                                    "22": "1",
                                    "23": "1",
                                    "24": "0",
                                    "25": "1",
                                    "26": "1",
                                    "27": "0",
                                    "28": "0x68",
                                    "29": " MIXED_EXT | PFS_HAS_GHOST_RECORDS | PFS_IS_ALLOCATED | 0_PCT_FULL",
                                    "30": "2",
                                    "31": "1",
                                    "32": "ALLOCATED",
                                    "33": "3",
                                    "34": "0",
                                    "35": "NOT ALLOCATED",
                                    "36": "6",
                                    "37": "1",
                                    "38": "CHANGED",
                                    "39": "7",
                                    "40": "0",
                                    "41": "NOT MIN_LOGGED",
                                    "42": "0",
                                    "43": "0",
                                    "44": "1",
                                    "45": "295",
                                    "46": "10",
                                    "47": "68",
                                    "48": "38",
                                    "49": "1738",
                                    "50": "6382",
                                    "51": "0",
                                    "52": "0",
                                    "53": "0000:0003953f"
                                },
                                {
                                    "0": "sysschobjs",
                                    "1": "PAGELATCH_EX",
                                    "2": "2",
                                    "3": "1",
                                    "4": "118",
                                    "5": "1",
                                    "6": "2",
                                    "7": "INDEX_PAGE",
                                    "8": "0x4",
                                    "9": "",
                                    "10": "0x0",
                                    "11": "",
                                    "12": "00000049:000051a0:003c",
                                    "13": "0",
                                    "14": "34",
                                    "15": "2",
                                    "16": "562949955649536",
                                    "17": "562949955649536",
                                    "18": "0",
                                    "19": "0",
                                    "20": "-612772230",
                                    "21": "0",
                                    "22": "1",
                                    "23": "1",
                                    "24": "0",
                                    "25": "1",
                                    "26": "1",
                                    "27": "0",
                                    "28": "0x68",
                                    "29": " MIXED_EXT | PFS_HAS_GHOST_RECORDS | PFS_IS_ALLOCATED | 0_PCT_FULL",
                                    "30": "2",
                                    "31": "1",
                                    "32": "ALLOCATED",
                                    "33": "3",
                                    "34": "0",
                                    "35": "NOT ALLOCATED",
                                    "36": "6",
                                    "37": "1",
                                    "38": "CHANGED",
                                    "39": "7",
                                    "40": "0",
                                    "41": "NOT MIN_LOGGED",
                                    "42": "0",
                                    "43": "0",
                                    "44": "1",
                                    "45": "295",
                                    "46": "10",
                                    "47": "68",
                                    "48": "38",
                                    "49": "1738",
                                    "50": "6382",
                                    "51": "0",
                                    "52": "0",
                                    "53": "0000:0003953f"
                                },
                                {
                                    "0": "sysschobjs",
                                    "1": "PAGELATCH_EX",
                                    "2": "2",
                                    "3": "1",
                                    "4": "118",
                                    "5": "1",
                                    "6": "2",
                                    "7": "INDEX_PAGE",
                                    "8": "0x4",
                                    "9": "",
                                    "10": "0x0",
                                    "11": "",
                                    "12": "00000049:000051a0:003c",
                                    "13": "0",
                                    "14": "34",
                                    "15": "2",
                                    "16": "562949955649536",
                                    "17": "562949955649536",
                                    "18": "0",
                                    "19": "0",
                                    "20": "-612772230",
                                    "21": "0",
                                    "22": "1",
                                    "23": "1",
                                    "24": "0",
                                    "25": "1",
                                    "26": "1",
                                    "27": "0",
                                    "28": "0x68",
                                    "29": " MIXED_EXT | PFS_HAS_GHOST_RECORDS | PFS_IS_ALLOCATED | 0_PCT_FULL",
                                    "30": "2",
                                    "31": "1",
                                    "32": "ALLOCATED",
                                    "33": "3",
                                    "34": "0",
                                    "35": "NOT ALLOCATED",
                                    "36": "6",
                                    "37": "1",
                                    "38": "CHANGED",
                                    "39": "7",
                                    "40": "0",
                                    "41": "NOT MIN_LOGGED",
                                    "42": "0",
                                    "43": "0",
                                    "44": "1",
                                    "45": "295",
                                    "46": "10",
                                    "47": "68",
                                    "48": "38",
                                    "49": "1738",
                                    "50": "6382",
                                    "51": "0",
                                    "52": "0",
                                    "53": "0000:0003953f"
                                },
                                {
                                    "0": "sysschobjs",
                                    "1": "PAGELATCH_EX",
                                    "2": "2",
                                    "3": "1",
                                    "4": "118",
                                    "5": "1",
                                    "6": "2",
                                    "7": "INDEX_PAGE",
                                    "8": "0x4",
                                    "9": "",
                                    "10": "0x0",
                                    "11": "",
                                    "12": "00000049:000051a0:003c",
                                    "13": "0",
                                    "14": "34",
                                    "15": "2",
                                    "16": "562949955649536",
                                    "17": "562949955649536",
                                    "18": "0",
                                    "19": "0",
                                    "20": "-612772230",
                                    "21": "0",
                                    "22": "1",
                                    "23": "1",
                                    "24": "0",
                                    "25": "1",
                                    "26": "1",
                                    "27": "0",
                                    "28": "0x68",
                                    "29": " MIXED_EXT | PFS_HAS_GHOST_RECORDS | PFS_IS_ALLOCATED | 0_PCT_FULL",
                                    "30": "2",
                                    "31": "1",
                                    "32": "ALLOCATED",
                                    "33": "3",
                                    "34": "0",
                                    "35": "NOT ALLOCATED",
                                    "36": "6",
                                    "37": "1",
                                    "38": "CHANGED",
                                    "39": "7",
                                    "40": "0",
                                    "41": "NOT MIN_LOGGED",
                                    "42": "0",
                                    "43": "0",
                                    "44": "1",
                                    "45": "295",
                                    "46": "10",
                                    "47": "68",
                                    "48": "38",
                                    "49": "1738",
                                    "50": "6382",
                                    "51": "0",
                                    "52": "0",
                                    "53": "0000:0003953f"
                                },
                                {
                                    "0": "sysschobjs",
                                    "1": "PAGELATCH_EX",
                                    "2": "2",
                                    "3": "1",
                                    "4": "118",
                                    "5": "1",
                                    "6": "2",
                                    "7": "INDEX_PAGE",
                                    "8": "0x4",
                                    "9": "",
                                    "10": "0x0",
                                    "11": "",
                                    "12": "00000049:000051a0:003c",
                                    "13": "0",
                                    "14": "34",
                                    "15": "2",
                                    "16": "562949955649536",
                                    "17": "562949955649536",
                                    "18": "0",
                                    "19": "0",
                                    "20": "-612772230",
                                    "21": "0",
                                    "22": "1",
                                    "23": "1",
                                    "24": "0",
                                    "25": "1",
                                    "26": "1",
                                    "27": "0",
                                    "28": "0x68",
                                    "29": " MIXED_EXT | PFS_HAS_GHOST_RECORDS | PFS_IS_ALLOCATED | 0_PCT_FULL",
                                    "30": "2",
                                    "31": "1",
                                    "32": "ALLOCATED",
                                    "33": "3",
                                    "34": "0",
                                    "35": "NOT ALLOCATED",
                                    "36": "6",
                                    "37": "1",
                                    "38": "CHANGED",
                                    "39": "7",
                                    "40": "0",
                                    "41": "NOT MIN_LOGGED",
                                    "42": "0",
                                    "43": "0",
                                    "44": "1",
                                    "45": "295",
                                    "46": "10",
                                    "47": "68",
                                    "48": "38",
                                    "49": "1738",
                                    "50": "6382",
                                    "51": "0",
                                    "52": "0",
                                    "53": "0000:0003953f"
                                },
                                {
                                    "0": "sysschobjs",
                                    "1": "PAGELATCH_EX",
                                    "2": "2",
                                    "3": "1",
                                    "4": "118",
                                    "5": "1",
                                    "6": "2",
                                    "7": "INDEX_PAGE",
                                    "8": "0x4",
                                    "9": "",
                                    "10": "0x0",
                                    "11": "",
                                    "12": "00000049:000051a0:003c",
                                    "13": "0",
                                    "14": "34",
                                    "15": "2",
                                    "16": "562949955649536",
                                    "17": "562949955649536",
                                    "18": "0",
                                    "19": "0",
                                    "20": "-612772230",
                                    "21": "0",
                                    "22": "1",
                                    "23": "1",
                                    "24": "0",
                                    "25": "1",
                                    "26": "1",
                                    "27": "0",
                                    "28": "0x68",
                                    "29": " MIXED_EXT | PFS_HAS_GHOST_RECORDS | PFS_IS_ALLOCATED | 0_PCT_FULL",
                                    "30": "2",
                                    "31": "1",
                                    "32": "ALLOCATED",
                                    "33": "3",
                                    "34": "0",
                                    "35": "NOT ALLOCATED",
                                    "36": "6",
                                    "37": "1",
                                    "38": "CHANGED",
                                    "39": "7",
                                    "40": "0",
                                    "41": "NOT MIN_LOGGED",
                                    "42": "0",
                                    "43": "0",
                                    "44": "1",
                                    "45": "295",
                                    "46": "10",
                                    "47": "68",
                                    "48": "38",
                                    "49": "1738",
                                    "50": "6382",
                                    "51": "0",
                                    "52": "0",
                                    "53": "0000:0003953f"
                                },
                                {
                                    "0": "sysschobjs",
                                    "1": "PAGELATCH_EX",
                                    "2": "2",
                                    "3": "1",
                                    "4": "118",
                                    "5": "1",
                                    "6": "2",
                                    "7": "INDEX_PAGE",
                                    "8": "0x4",
                                    "9": "",
                                    "10": "0x0",
                                    "11": "",
                                    "12": "00000049:000051a0:003c",
                                    "13": "0",
                                    "14": "34",
                                    "15": "2",
                                    "16": "562949955649536",
                                    "17": "562949955649536",
                                    "18": "0",
                                    "19": "0",
                                    "20": "-612772230",
                                    "21": "0",
                                    "22": "1",
                                    "23": "1",
                                    "24": "0",
                                    "25": "1",
                                    "26": "1",
                                    "27": "0",
                                    "28": "0x68",
                                    "29": " MIXED_EXT | PFS_HAS_GHOST_RECORDS | PFS_IS_ALLOCATED | 0_PCT_FULL",
                                    "30": "2",
                                    "31": "1",
                                    "32": "ALLOCATED",
                                    "33": "3",
                                    "34": "0",
                                    "35": "NOT ALLOCATED",
                                    "36": "6",
                                    "37": "1",
                                    "38": "CHANGED",
                                    "39": "7",
                                    "40": "0",
                                    "41": "NOT MIN_LOGGED",
                                    "42": "0",
                                    "43": "0",
                                    "44": "1",
                                    "45": "295",
                                    "46": "10",
                                    "47": "68",
                                    "48": "38",
                                    "49": "1738",
                                    "50": "6382",
                                    "51": "0",
                                    "52": "0",
                                    "53": "0000:0003953f"
                                },
                                {
                                    "0": "sysschobjs",
                                    "1": "PAGELATCH_EX",
                                    "2": "2",
                                    "3": "1",
                                    "4": "118",
                                    "5": "1",
                                    "6": "2",
                                    "7": "INDEX_PAGE",
                                    "8": "0x4",
                                    "9": "",
                                    "10": "0x0",
                                    "11": "",
                                    "12": "00000049:000051a0:003c",
                                    "13": "0",
                                    "14": "34",
                                    "15": "2",
                                    "16": "562949955649536",
                                    "17": "562949955649536",
                                    "18": "0",
                                    "19": "0",
                                    "20": "-612772230",
                                    "21": "0",
                                    "22": "1",
                                    "23": "1",
                                    "24": "0",
                                    "25": "1",
                                    "26": "1",
                                    "27": "0",
                                    "28": "0x68",
                                    "29": " MIXED_EXT | PFS_HAS_GHOST_RECORDS | PFS_IS_ALLOCATED | 0_PCT_FULL",
                                    "30": "2",
                                    "31": "1",
                                    "32": "ALLOCATED",
                                    "33": "3",
                                    "34": "0",
                                    "35": "NOT ALLOCATED",
                                    "36": "6",
                                    "37": "1",
                                    "38": "CHANGED",
                                    "39": "7",
                                    "40": "0",
                                    "41": "NOT MIN_LOGGED",
                                    "42": "0",
                                    "43": "0",
                                    "44": "1",
                                    "45": "295",
                                    "46": "10",
                                    "47": "68",
                                    "48": "38",
                                    "49": "1738",
                                    "50": "6382",
                                    "51": "0",
                                    "52": "0",
                                    "53": "0000:0003953f"
                                },
                                {
                                    "0": "sysschobjs",
                                    "1": "PAGELATCH_EX",
                                    "2": "2",
                                    "3": "1",
                                    "4": "118",
                                    "5": "1",
                                    "6": "2",
                                    "7": "INDEX_PAGE",
                                    "8": "0x4",
                                    "9": "",
                                    "10": "0x0",
                                    "11": "",
                                    "12": "00000049:000051a0:003c",
                                    "13": "0",
                                    "14": "34",
                                    "15": "2",
                                    "16": "562949955649536",
                                    "17": "562949955649536",
                                    "18": "0",
                                    "19": "0",
                                    "20": "-612772230",
                                    "21": "0",
                                    "22": "1",
                                    "23": "1",
                                    "24": "0",
                                    "25": "1",
                                    "26": "1",
                                    "27": "0",
                                    "28": "0x68",
                                    "29": " MIXED_EXT | PFS_HAS_GHOST_RECORDS | PFS_IS_ALLOCATED | 0_PCT_FULL",
                                    "30": "2",
                                    "31": "1",
                                    "32": "ALLOCATED",
                                    "33": "3",
                                    "34": "0",
                                    "35": "NOT ALLOCATED",
                                    "36": "6",
                                    "37": "1",
                                    "38": "CHANGED",
                                    "39": "7",
                                    "40": "0",
                                    "41": "NOT MIN_LOGGED",
                                    "42": "0",
                                    "43": "0",
                                    "44": "1",
                                    "45": "295",
                                    "46": "10",
                                    "47": "68",
                                    "48": "38",
                                    "49": "1738",
                                    "50": "6382",
                                    "51": "0",
                                    "52": "0",
                                    "53": "0000:0003953f"
                                },
                                {
                                    "0": "sysschobjs",
                                    "1": "PAGELATCH_EX",
                                    "2": "2",
                                    "3": "1",
                                    "4": "118",
                                    "5": "1",
                                    "6": "2",
                                    "7": "INDEX_PAGE",
                                    "8": "0x4",
                                    "9": "",
                                    "10": "0x0",
                                    "11": "",
                                    "12": "00000049:000051a0:003c",
                                    "13": "0",
                                    "14": "34",
                                    "15": "2",
                                    "16": "562949955649536",
                                    "17": "562949955649536",
                                    "18": "0",
                                    "19": "0",
                                    "20": "-612772230",
                                    "21": "0",
                                    "22": "1",
                                    "23": "1",
                                    "24": "0",
                                    "25": "1",
                                    "26": "1",
                                    "27": "0",
                                    "28": "0x68",
                                    "29": " MIXED_EXT | PFS_HAS_GHOST_RECORDS | PFS_IS_ALLOCATED | 0_PCT_FULL",
                                    "30": "2",
                                    "31": "1",
                                    "32": "ALLOCATED",
                                    "33": "3",
                                    "34": "0",
                                    "35": "NOT ALLOCATED",
                                    "36": "6",
                                    "37": "1",
                                    "38": "CHANGED",
                                    "39": "7",
                                    "40": "0",
                                    "41": "NOT MIN_LOGGED",
                                    "42": "0",
                                    "43": "0",
                                    "44": "1",
                                    "45": "295",
                                    "46": "10",
                                    "47": "68",
                                    "48": "38",
                                    "49": "1738",
                                    "50": "6382",
                                    "51": "0",
                                    "52": "0",
                                    "53": "0000:0003953f"
                                },
                                {
                                    "0": "sysschobjs",
                                    "1": "PAGELATCH_EX",
                                    "2": "2",
                                    "3": "1",
                                    "4": "118",
                                    "5": "1",
                                    "6": "2",
                                    "7": "INDEX_PAGE",
                                    "8": "0x4",
                                    "9": "",
                                    "10": "0x0",
                                    "11": "",
                                    "12": "00000049:000051a0:003c",
                                    "13": "0",
                                    "14": "34",
                                    "15": "2",
                                    "16": "562949955649536",
                                    "17": "562949955649536",
                                    "18": "0",
                                    "19": "0",
                                    "20": "-612772230",
                                    "21": "0",
                                    "22": "1",
                                    "23": "1",
                                    "24": "0",
                                    "25": "1",
                                    "26": "1",
                                    "27": "0",
                                    "28": "0x68",
                                    "29": " MIXED_EXT | PFS_HAS_GHOST_RECORDS | PFS_IS_ALLOCATED | 0_PCT_FULL",
                                    "30": "2",
                                    "31": "1",
                                    "32": "ALLOCATED",
                                    "33": "3",
                                    "34": "0",
                                    "35": "NOT ALLOCATED",
                                    "36": "6",
                                    "37": "1",
                                    "38": "CHANGED",
                                    "39": "7",
                                    "40": "0",
                                    "41": "NOT MIN_LOGGED",
                                    "42": "0",
                                    "43": "0",
                                    "44": "1",
                                    "45": "295",
                                    "46": "10",
                                    "47": "68",
                                    "48": "38",
                                    "49": "1738",
                                    "50": "6382",
                                    "51": "0",
                                    "52": "0",
                                    "53": "0000:0003953f"
                                },
                                {
                                    "0": "sysschobjs",
                                    "1": "PAGELATCH_EX",
                                    "2": "2",
                                    "3": "1",
                                    "4": "118",
                                    "5": "1",
                                    "6": "2",
                                    "7": "INDEX_PAGE",
                                    "8": "0x4",
                                    "9": "",
                                    "10": "0x0",
                                    "11": "",
                                    "12": "00000049:000051a0:003c",
                                    "13": "0",
                                    "14": "34",
                                    "15": "2",
                                    "16": "562949955649536",
                                    "17": "562949955649536",
                                    "18": "0",
                                    "19": "0",
                                    "20": "-612772230",
                                    "21": "0",
                                    "22": "1",
                                    "23": "1",
                                    "24": "0",
                                    "25": "1",
                                    "26": "1",
                                    "27": "0",
                                    "28": "0x68",
                                    "29": " MIXED_EXT | PFS_HAS_GHOST_RECORDS | PFS_IS_ALLOCATED | 0_PCT_FULL",
                                    "30": "2",
                                    "31": "1",
                                    "32": "ALLOCATED",
                                    "33": "3",
                                    "34": "0",
                                    "35": "NOT ALLOCATED",
                                    "36": "6",
                                    "37": "1",
                                    "38": "CHANGED",
                                    "39": "7",
                                    "40": "0",
                                    "41": "NOT MIN_LOGGED",
                                    "42": "0",
                                    "43": "0",
                                    "44": "1",
                                    "45": "295",
                                    "46": "10",
                                    "47": "68",
                                    "48": "38",
                                    "49": "1738",
                                    "50": "6382",
                                    "51": "0",
                                    "52": "0",
                                    "53": "0000:0003953f"
                                },
                                {
                                    "0": "sysschobjs",
                                    "1": "PAGELATCH_EX",
                                    "2": "2",
                                    "3": "1",
                                    "4": "301",
                                    "5": "1",
                                    "6": "1",
                                    "7": "DATA_PAGE",
                                    "8": "0x0",
                                    "9": "",
                                    "10": "0x0",
                                    "11": "",
                                    "12": "00000049:000051a0:0083",
                                    "13": "0",
                                    "14": "34",
                                    "15": "1",
                                    "16": "281474978938880",
                                    "17": "281474978938880",
                                    "18": "0",
                                    "19": "0",
                                    "20": "0",
                                    "21": "0",
                                    "22": "0",
                                    "23": "0",
                                    "24": "0",
                                    "25": "1",
                                    "26": "1",
                                    "27": "0",
                                    "28": "0x40",
                                    "29": " PFS_IS_ALLOCATED | 0_PCT_FULL",
                                    "30": "2",
                                    "31": "1",
                                    "32": "ALLOCATED",
                                    "33": "3",
                                    "34": "0",
                                    "35": "NOT ALLOCATED",
                                    "36": "6",
                                    "37": "1",
                                    "38": "CHANGED",
                                    "39": "7",
                                    "40": "0",
                                    "41": "NOT MIN_LOGGED",
                                    "42": "1",
                                    "43": "302",
                                    "44": "1",
                                    "45": "300",
                                    "46": "48",
                                    "47": "13",
                                    "48": "0",
                                    "49": "5442",
                                    "50": "5844",
                                    "51": "0",
                                    "52": "0",
                                    "53": "0000:00000000"
                                },
                                {
                                    "0": "sysschobjs",
                                    "1": "PAGELATCH_EX",
                                    "2": "2",
                                    "3": "1",
                                    "4": "301",
                                    "5": "1",
                                    "6": "1",
                                    "7": "DATA_PAGE",
                                    "8": "0x0",
                                    "9": "",
                                    "10": "0x0",
                                    "11": "",
                                    "12": "00000049:000051a0:0083",
                                    "13": "0",
                                    "14": "34",
                                    "15": "1",
                                    "16": "281474978938880",
                                    "17": "281474978938880",
                                    "18": "0",
                                    "19": "0",
                                    "20": "0",
                                    "21": "0",
                                    "22": "0",
                                    "23": "0",
                                    "24": "0",
                                    "25": "1",
                                    "26": "1",
                                    "27": "0",
                                    "28": "0x40",
                                    "29": " PFS_IS_ALLOCATED | 0_PCT_FULL",
                                    "30": "2",
                                    "31": "1",
                                    "32": "ALLOCATED",
                                    "33": "3",
                                    "34": "0",
                                    "35": "NOT ALLOCATED",
                                    "36": "6",
                                    "37": "1",
                                    "38": "CHANGED",
                                    "39": "7",
                                    "40": "0",
                                    "41": "NOT MIN_LOGGED",
                                    "42": "1",
                                    "43": "302",
                                    "44": "1",
                                    "45": "300",
                                    "46": "48",
                                    "47": "13",
                                    "48": "0",
                                    "49": "5442",
                                    "50": "5844",
                                    "51": "0",
                                    "52": "0",
                                    "53": "0000:00000000"
                                },
                                {
                                    "0": "sysschobjs",
                                    "1": "NULL",
                                    "2": "2",
                                    "3": "1",
                                    "4": "301",
                                    "5": "1",
                                    "6": "1",
                                    "7": "DATA_PAGE",
                                    "8": "0x0",
                                    "9": "",
                                    "10": "0x0",
                                    "11": "",
                                    "12": "00000049:000051a0:0083",
                                    "13": "0",
                                    "14": "34",
                                    "15": "1",
                                    "16": "281474978938880",
                                    "17": "281474978938880",
                                    "18": "0",
                                    "19": "0",
                                    "20": "0",
                                    "21": "0",
                                    "22": "0",
                                    "23": "0",
                                    "24": "0",
                                    "25": "1",
                                    "26": "1",
                                    "27": "0",
                                    "28": "0x40",
                                    "29": " PFS_IS_ALLOCATED | 0_PCT_FULL",
                                    "30": "2",
                                    "31": "1",
                                    "32": "ALLOCATED",
                                    "33": "3",
                                    "34": "0",
                                    "35": "NOT ALLOCATED",
                                    "36": "6",
                                    "37": "1",
                                    "38": "CHANGED",
                                    "39": "7",
                                    "40": "0",
                                    "41": "NOT MIN_LOGGED",
                                    "42": "1",
                                    "43": "302",
                                    "44": "1",
                                    "45": "300",
                                    "46": "48",
                                    "47": "13",
                                    "48": "0",
                                    "49": "5442",
                                    "50": "5844",
                                    "51": "0",
                                    "52": "0",
                                    "53": "0000:00000000"
                                },
                                {
                                    "0": "sysschobjs",
                                    "1": "PAGELATCH_SH",
                                    "2": "2",
                                    "3": "1",
                                    "4": "301",
                                    "5": "1",
                                    "6": "1",
                                    "7": "DATA_PAGE",
                                    "8": "0x0",
                                    "9": "",
                                    "10": "0x0",
                                    "11": "",
                                    "12": "00000049:000051a0:0083",
                                    "13": "0",
                                    "14": "34",
                                    "15": "1",
                                    "16": "281474978938880",
                                    "17": "281474978938880",
                                    "18": "0",
                                    "19": "0",
                                    "20": "0",
                                    "21": "0",
                                    "22": "0",
                                    "23": "0",
                                    "24": "0",
                                    "25": "1",
                                    "26": "1",
                                    "27": "0",
                                    "28": "0x40",
                                    "29": " PFS_IS_ALLOCATED | 0_PCT_FULL",
                                    "30": "2",
                                    "31": "1",
                                    "32": "ALLOCATED",
                                    "33": "3",
                                    "34": "0",
                                    "35": "NOT ALLOCATED",
                                    "36": "6",
                                    "37": "1",
                                    "38": "CHANGED",
                                    "39": "7",
                                    "40": "0",
                                    "41": "NOT MIN_LOGGED",
                                    "42": "1",
                                    "43": "302",
                                    "44": "1",
                                    "45": "300",
                                    "46": "48",
                                    "47": "13",
                                    "48": "0",
                                    "49": "5442",
                                    "50": "5844",
                                    "51": "0",
                                    "52": "0",
                                    "53": "0000:00000000"
                                },
                                {
                                    "0": "sysschobjs",
                                    "1": "PAGELATCH_SH",
                                    "2": "2",
                                    "3": "1",
                                    "4": "301",
                                    "5": "1",
                                    "6": "1",
                                    "7": "DATA_PAGE",
                                    "8": "0x0",
                                    "9": "",
                                    "10": "0x0",
                                    "11": "",
                                    "12": "00000049:000051a0:0083",
                                    "13": "0",
                                    "14": "34",
                                    "15": "1",
                                    "16": "281474978938880",
                                    "17": "281474978938880",
                                    "18": "0",
                                    "19": "0",
                                    "20": "0",
                                    "21": "0",
                                    "22": "0",
                                    "23": "0",
                                    "24": "0",
                                    "25": "1",
                                    "26": "1",
                                    "27": "0",
                                    "28": "0x40",
                                    "29": " PFS_IS_ALLOCATED | 0_PCT_FULL",
                                    "30": "2",
                                    "31": "1",
                                    "32": "ALLOCATED",
                                    "33": "3",
                                    "34": "0",
                                    "35": "NOT ALLOCATED",
                                    "36": "6",
                                    "37": "1",
                                    "38": "CHANGED",
                                    "39": "7",
                                    "40": "0",
                                    "41": "NOT MIN_LOGGED",
                                    "42": "1",
                                    "43": "302",
                                    "44": "1",
                                    "45": "300",
                                    "46": "48",
                                    "47": "13",
                                    "48": "0",
                                    "49": "5442",
                                    "50": "5844",
                                    "51": "0",
                                    "52": "0",
                                    "53": "0000:00000000"
                                },
                                {
                                    "0": "sysschobjs",
                                    "1": "PAGELATCH_SH",
                                    "2": "2",
                                    "3": "1",
                                    "4": "302",
                                    "5": "1",
                                    "6": "1",
                                    "7": "DATA_PAGE",
                                    "8": "0x0",
                                    "9": "",
                                    "10": "0x0",
                                    "11": "",
                                    "12": "00000049:000051a0:00c8",
                                    "13": "0",
                                    "14": "34",
                                    "15": "1",
                                    "16": "281474978938880",
                                    "17": "281474978938880",
                                    "18": "0",
                                    "19": "0",
                                    "20": "0",
                                    "21": "0",
                                    "22": "0",
                                    "23": "0",
                                    "24": "0",
                                    "25": "1",
                                    "26": "1",
                                    "27": "0",
                                    "28": "0x40",
                                    "29": " PFS_IS_ALLOCATED | 0_PCT_FULL",
                                    "30": "2",
                                    "31": "1",
                                    "32": "ALLOCATED",
                                    "33": "3",
                                    "34": "0",
                                    "35": "NOT ALLOCATED",
                                    "36": "6",
                                    "37": "1",
                                    "38": "CHANGED",
                                    "39": "7",
                                    "40": "0",
                                    "41": "NOT MIN_LOGGED",
                                    "42": "1",
                                    "43": "116",
                                    "44": "1",
                                    "45": "301",
                                    "46": "48",
                                    "47": "23",
                                    "48": "0",
                                    "49": "3968",
                                    "50": "6272",
                                    "51": "0",
                                    "52": "0",
                                    "53": "0000:00000000"
                                },
                                {
                                    "0": "sysschobjs",
                                    "1": "NULL",
                                    "2": "2",
                                    "3": "1",
                                    "4": "302",
                                    "5": "1",
                                    "6": "1",
                                    "7": "DATA_PAGE",
                                    "8": "0x0",
                                    "9": "",
                                    "10": "0x0",
                                    "11": "",
                                    "12": "00000049:000051a0:00c8",
                                    "13": "0",
                                    "14": "34",
                                    "15": "1",
                                    "16": "281474978938880",
                                    "17": "281474978938880",
                                    "18": "0",
                                    "19": "0",
                                    "20": "0",
                                    "21": "0",
                                    "22": "0",
                                    "23": "0",
                                    "24": "0",
                                    "25": "1",
                                    "26": "1",
                                    "27": "0",
                                    "28": "0x40",
                                    "29": " PFS_IS_ALLOCATED | 0_PCT_FULL",
                                    "30": "2",
                                    "31": "1",
                                    "32": "ALLOCATED",
                                    "33": "3",
                                    "34": "0",
                                    "35": "NOT ALLOCATED",
                                    "36": "6",
                                    "37": "1",
                                    "38": "CHANGED",
                                    "39": "7",
                                    "40": "0",
                                    "41": "NOT MIN_LOGGED",
                                    "42": "1",
                                    "43": "116",
                                    "44": "1",
                                    "45": "301",
                                    "46": "48",
                                    "47": "23",
                                    "48": "0",
                                    "49": "3968",
                                    "50": "6272",
                                    "51": "0",
                                    "52": "0",
                                    "53": "0000:00000000"
                                },
                                {
                                    "0": "sysschobjs",
                                    "1": "NULL",
                                    "2": "2",
                                    "3": "1",
                                    "4": "302",
                                    "5": "1",
                                    "6": "1",
                                    "7": "DATA_PAGE",
                                    "8": "0x0",
                                    "9": "",
                                    "10": "0x0",
                                    "11": "",
                                    "12": "00000049:000051a0:00c8",
                                    "13": "0",
                                    "14": "34",
                                    "15": "1",
                                    "16": "281474978938880",
                                    "17": "281474978938880",
                                    "18": "0",
                                    "19": "0",
                                    "20": "0",
                                    "21": "0",
                                    "22": "0",
                                    "23": "0",
                                    "24": "0",
                                    "25": "1",
                                    "26": "1",
                                    "27": "0",
                                    "28": "0x40",
                                    "29": " PFS_IS_ALLOCATED | 0_PCT_FULL",
                                    "30": "2",
                                    "31": "1",
                                    "32": "ALLOCATED",
                                    "33": "3",
                                    "34": "0",
                                    "35": "NOT ALLOCATED",
                                    "36": "6",
                                    "37": "1",
                                    "38": "CHANGED",
                                    "39": "7",
                                    "40": "0",
                                    "41": "NOT MIN_LOGGED",
                                    "42": "1",
                                    "43": "116",
                                    "44": "1",
                                    "45": "301",
                                    "46": "48",
                                    "47": "23",
                                    "48": "0",
                                    "49": "3968",
                                    "50": "6272",
                                    "51": "0",
                                    "52": "0",
                                    "53": "0000:00000000"
                                },
                                {
                                    "0": "sysschobjs",
                                    "1": "PAGELATCH_SH",
                                    "2": "2",
                                    "3": "1",
                                    "4": "302",
                                    "5": "1",
                                    "6": "1",
                                    "7": "DATA_PAGE",
                                    "8": "0x0",
                                    "9": "",
                                    "10": "0x0",
                                    "11": "",
                                    "12": "00000049:000051a0:00c8",
                                    "13": "0",
                                    "14": "34",
                                    "15": "1",
                                    "16": "281474978938880",
                                    "17": "281474978938880",
                                    "18": "0",
                                    "19": "0",
                                    "20": "0",
                                    "21": "0",
                                    "22": "0",
                                    "23": "0",
                                    "24": "0",
                                    "25": "1",
                                    "26": "1",
                                    "27": "0",
                                    "28": "0x40",
                                    "29": " PFS_IS_ALLOCATED | 0_PCT_FULL",
                                    "30": "2",
                                    "31": "1",
                                    "32": "ALLOCATED",
                                    "33": "3",
                                    "34": "0",
                                    "35": "NOT ALLOCATED",
                                    "36": "6",
                                    "37": "1",
                                    "38": "CHANGED",
                                    "39": "7",
                                    "40": "0",
                                    "41": "NOT MIN_LOGGED",
                                    "42": "1",
                                    "43": "116",
                                    "44": "1",
                                    "45": "301",
                                    "46": "48",
                                    "47": "23",
                                    "48": "0",
                                    "49": "3968",
                                    "50": "6272",
                                    "51": "0",
                                    "52": "0",
                                    "53": "0000:00000000"
                                },
                                {
                                    "0": "sysschobjs",
                                    "1": "PAGELATCH_EX",
                                    "2": "2",
                                    "3": "1",
                                    "4": "302",
                                    "5": "1",
                                    "6": "1",
                                    "7": "DATA_PAGE",
                                    "8": "0x0",
                                    "9": "",
                                    "10": "0x0",
                                    "11": "",
                                    "12": "00000049:000051a0:00c8",
                                    "13": "0",
                                    "14": "34",
                                    "15": "1",
                                    "16": "281474978938880",
                                    "17": "281474978938880",
                                    "18": "0",
                                    "19": "0",
                                    "20": "0",
                                    "21": "0",
                                    "22": "0",
                                    "23": "0",
                                    "24": "0",
                                    "25": "1",
                                    "26": "1",
                                    "27": "0",
                                    "28": "0x40",
                                    "29": " PFS_IS_ALLOCATED | 0_PCT_FULL",
                                    "30": "2",
                                    "31": "1",
                                    "32": "ALLOCATED",
                                    "33": "3",
                                    "34": "0",
                                    "35": "NOT ALLOCATED",
                                    "36": "6",
                                    "37": "1",
                                    "38": "CHANGED",
                                    "39": "7",
                                    "40": "0",
                                    "41": "NOT MIN_LOGGED",
                                    "42": "1",
                                    "43": "116",
                                    "44": "1",
                                    "45": "301",
                                    "46": "48",
                                    "47": "23",
                                    "48": "0",
                                    "49": "3968",
                                    "50": "6272",
                                    "51": "0",
                                    "52": "0",
                                    "53": "0000:00000000"
                                },
                                {
                                    "0": "sysschobjs",
                                    "1": "PAGELATCH_EX",
                                    "2": "2",
                                    "3": "1",
                                    "4": "302",
                                    "5": "1",
                                    "6": "1",
                                    "7": "DATA_PAGE",
                                    "8": "0x0",
                                    "9": "",
                                    "10": "0x0",
                                    "11": "",
                                    "12": "00000049:000051a0:00c8",
                                    "13": "0",
                                    "14": "34",
                                    "15": "1",
                                    "16": "281474978938880",
                                    "17": "281474978938880",
                                    "18": "0",
                                    "19": "0",
                                    "20": "0",
                                    "21": "0",
                                    "22": "0",
                                    "23": "0",
                                    "24": "0",
                                    "25": "1",
                                    "26": "1",
                                    "27": "0",
                                    "28": "0x40",
                                    "29": " PFS_IS_ALLOCATED | 0_PCT_FULL",
                                    "30": "2",
                                    "31": "1",
                                    "32": "ALLOCATED",
                                    "33": "3",
                                    "34": "0",
                                    "35": "NOT ALLOCATED",
                                    "36": "6",
                                    "37": "1",
                                    "38": "CHANGED",
                                    "39": "7",
                                    "40": "0",
                                    "41": "NOT MIN_LOGGED",
                                    "42": "1",
                                    "43": "116",
                                    "44": "1",
                                    "45": "301",
                                    "46": "48",
                                    "47": "23",
                                    "48": "0",
                                    "49": "3968",
                                    "50": "6272",
                                    "51": "0",
                                    "52": "0",
                                    "53": "0000:00000000"
                                },
                                {
                                    "0": "sysschobjs",
                                    "1": "NULL",
                                    "2": "2",
                                    "3": "1",
                                    "4": "302",
                                    "5": "1",
                                    "6": "1",
                                    "7": "DATA_PAGE",
                                    "8": "0x0",
                                    "9": "",
                                    "10": "0x0",
                                    "11": "",
                                    "12": "00000049:000051a0:00c8",
                                    "13": "0",
                                    "14": "34",
                                    "15": "1",
                                    "16": "281474978938880",
                                    "17": "281474978938880",
                                    "18": "0",
                                    "19": "0",
                                    "20": "0",
                                    "21": "0",
                                    "22": "0",
                                    "23": "0",
                                    "24": "0",
                                    "25": "1",
                                    "26": "1",
                                    "27": "0",
                                    "28": "0x40",
                                    "29": " PFS_IS_ALLOCATED | 0_PCT_FULL",
                                    "30": "2",
                                    "31": "1",
                                    "32": "ALLOCATED",
                                    "33": "3",
                                    "34": "0",
                                    "35": "NOT ALLOCATED",
                                    "36": "6",
                                    "37": "1",
                                    "38": "CHANGED",
                                    "39": "7",
                                    "40": "0",
                                    "41": "NOT MIN_LOGGED",
                                    "42": "1",
                                    "43": "116",
                                    "44": "1",
                                    "45": "301",
                                    "46": "48",
                                    "47": "23",
                                    "48": "0",
                                    "49": "3968",
                                    "50": "6272",
                                    "51": "0",
                                    "52": "0",
                                    "53": "0000:00000000"
                                },
                                {
                                    "0": "sysschobjs",
                                    "1": "PAGELATCH_EX",
                                    "2": "2",
                                    "3": "1",
                                    "4": "302",
                                    "5": "1",
                                    "6": "1",
                                    "7": "DATA_PAGE",
                                    "8": "0x0",
                                    "9": "",
                                    "10": "0x0",
                                    "11": "",
                                    "12": "00000049:000051a0:00c8",
                                    "13": "0",
                                    "14": "34",
                                    "15": "1",
                                    "16": "281474978938880",
                                    "17": "281474978938880",
                                    "18": "0",
                                    "19": "0",
                                    "20": "0",
                                    "21": "0",
                                    "22": "0",
                                    "23": "0",
                                    "24": "0",
                                    "25": "1",
                                    "26": "1",
                                    "27": "0",
                                    "28": "0x40",
                                    "29": " PFS_IS_ALLOCATED | 0_PCT_FULL",
                                    "30": "2",
                                    "31": "1",
                                    "32": "ALLOCATED",
                                    "33": "3",
                                    "34": "0",
                                    "35": "NOT ALLOCATED",
                                    "36": "6",
                                    "37": "1",
                                    "38": "CHANGED",
                                    "39": "7",
                                    "40": "0",
                                    "41": "NOT MIN_LOGGED",
                                    "42": "1",
                                    "43": "116",
                                    "44": "1",
                                    "45": "301",
                                    "46": "48",
                                    "47": "23",
                                    "48": "0",
                                    "49": "3968",
                                    "50": "6272",
                                    "51": "0",
                                    "52": "0",
                                    "53": "0000:00000000"
                                },
                                {
                                    "0": "sysschobjs",
                                    "1": "PAGELATCH_EX",
                                    "2": "2",
                                    "3": "1",
                                    "4": "302",
                                    "5": "1",
                                    "6": "1",
                                    "7": "DATA_PAGE",
                                    "8": "0x0",
                                    "9": "",
                                    "10": "0x0",
                                    "11": "",
                                    "12": "00000049:000051a0:00c8",
                                    "13": "0",
                                    "14": "34",
                                    "15": "1",
                                    "16": "281474978938880",
                                    "17": "281474978938880",
                                    "18": "0",
                                    "19": "0",
                                    "20": "0",
                                    "21": "0",
                                    "22": "0",
                                    "23": "0",
                                    "24": "0",
                                    "25": "1",
                                    "26": "1",
                                    "27": "0",
                                    "28": "0x40",
                                    "29": " PFS_IS_ALLOCATED | 0_PCT_FULL",
                                    "30": "2",
                                    "31": "1",
                                    "32": "ALLOCATED",
                                    "33": "3",
                                    "34": "0",
                                    "35": "NOT ALLOCATED",
                                    "36": "6",
                                    "37": "1",
                                    "38": "CHANGED",
                                    "39": "7",
                                    "40": "0",
                                    "41": "NOT MIN_LOGGED",
                                    "42": "1",
                                    "43": "116",
                                    "44": "1",
                                    "45": "301",
                                    "46": "48",
                                    "47": "23",
                                    "48": "0",
                                    "49": "3968",
                                    "50": "6272",
                                    "51": "0",
                                    "52": "0",
                                    "53": "0000:00000000"
                                },
                                {
                                    "0": "sysschobjs",
                                    "1": "PAGELATCH_EX",
                                    "2": "2",
                                    "3": "1",
                                    "4": "302",
                                    "5": "1",
                                    "6": "1",
                                    "7": "DATA_PAGE",
                                    "8": "0x0",
                                    "9": "",
                                    "10": "0x0",
                                    "11": "",
                                    "12": "00000049:000051a0:00c8",
                                    "13": "0",
                                    "14": "34",
                                    "15": "1",
                                    "16": "281474978938880",
                                    "17": "281474978938880",
                                    "18": "0",
                                    "19": "0",
                                    "20": "0",
                                    "21": "0",
                                    "22": "0",
                                    "23": "0",
                                    "24": "0",
                                    "25": "1",
                                    "26": "1",
                                    "27": "0",
                                    "28": "0x40",
                                    "29": " PFS_IS_ALLOCATED | 0_PCT_FULL",
                                    "30": "2",
                                    "31": "1",
                                    "32": "ALLOCATED",
                                    "33": "3",
                                    "34": "0",
                                    "35": "NOT ALLOCATED",
                                    "36": "6",
                                    "37": "1",
                                    "38": "CHANGED",
                                    "39": "7",
                                    "40": "0",
                                    "41": "NOT MIN_LOGGED",
                                    "42": "1",
                                    "43": "116",
                                    "44": "1",
                                    "45": "301",
                                    "46": "48",
                                    "47": "23",
                                    "48": "0",
                                    "49": "3968",
                                    "50": "6272",
                                    "51": "0",
                                    "52": "0",
                                    "53": "0000:00000000"
                                },
                                {
                                    "0": "sysschobjs",
                                    "1": "PAGELATCH_SH",
                                    "2": "2",
                                    "3": "1",
                                    "4": "302",
                                    "5": "1",
                                    "6": "1",
                                    "7": "DATA_PAGE",
                                    "8": "0x0",
                                    "9": "",
                                    "10": "0x0",
                                    "11": "",
                                    "12": "00000049:000051a0:00c8",
                                    "13": "0",
                                    "14": "34",
                                    "15": "1",
                                    "16": "281474978938880",
                                    "17": "281474978938880",
                                    "18": "0",
                                    "19": "0",
                                    "20": "0",
                                    "21": "0",
                                    "22": "0",
                                    "23": "0",
                                    "24": "0",
                                    "25": "1",
                                    "26": "1",
                                    "27": "0",
                                    "28": "0x40",
                                    "29": " PFS_IS_ALLOCATED | 0_PCT_FULL",
                                    "30": "2",
                                    "31": "1",
                                    "32": "ALLOCATED",
                                    "33": "3",
                                    "34": "0",
                                    "35": "NOT ALLOCATED",
                                    "36": "6",
                                    "37": "1",
                                    "38": "CHANGED",
                                    "39": "7",
                                    "40": "0",
                                    "41": "NOT MIN_LOGGED",
                                    "42": "1",
                                    "43": "116",
                                    "44": "1",
                                    "45": "301",
                                    "46": "48",
                                    "47": "23",
                                    "48": "0",
                                    "49": "3968",
                                    "50": "6272",
                                    "51": "0",
                                    "52": "0",
                                    "53": "0000:00000000"
                                },
                                {
                                    "0": "sysschobjs",
                                    "1": "PAGELATCH_EX",
                                    "2": "2",
                                    "3": "1",
                                    "4": "302",
                                    "5": "1",
                                    "6": "1",
                                    "7": "DATA_PAGE",
                                    "8": "0x0",
                                    "9": "",
                                    "10": "0x0",
                                    "11": "",
                                    "12": "00000049:000051a0:00c8",
                                    "13": "0",
                                    "14": "34",
                                    "15": "1",
                                    "16": "281474978938880",
                                    "17": "281474978938880",
                                    "18": "0",
                                    "19": "0",
                                    "20": "0",
                                    "21": "0",
                                    "22": "0",
                                    "23": "0",
                                    "24": "0",
                                    "25": "1",
                                    "26": "1",
                                    "27": "0",
                                    "28": "0x40",
                                    "29": " PFS_IS_ALLOCATED | 0_PCT_FULL",
                                    "30": "2",
                                    "31": "1",
                                    "32": "ALLOCATED",
                                    "33": "3",
                                    "34": "0",
                                    "35": "NOT ALLOCATED",
                                    "36": "6",
                                    "37": "1",
                                    "38": "CHANGED",
                                    "39": "7",
                                    "40": "0",
                                    "41": "NOT MIN_LOGGED",
                                    "42": "1",
                                    "43": "116",
                                    "44": "1",
                                    "45": "301",
                                    "46": "48",
                                    "47": "23",
                                    "48": "0",
                                    "49": "3968",
                                    "50": "6272",
                                    "51": "0",
                                    "52": "0",
                                    "53": "0000:00000000"
                                },
                                {
                                    "0": "sysschobjs",
                                    "1": "NULL",
                                    "2": "2",
                                    "3": "1",
                                    "4": "302",
                                    "5": "1",
                                    "6": "1",
                                    "7": "DATA_PAGE",
                                    "8": "0x0",
                                    "9": "",
                                    "10": "0x0",
                                    "11": "",
                                    "12": "00000049:000051a0:00c8",
                                    "13": "0",
                                    "14": "34",
                                    "15": "1",
                                    "16": "281474978938880",
                                    "17": "281474978938880",
                                    "18": "0",
                                    "19": "0",
                                    "20": "0",
                                    "21": "0",
                                    "22": "0",
                                    "23": "0",
                                    "24": "0",
                                    "25": "1",
                                    "26": "1",
                                    "27": "0",
                                    "28": "0x40",
                                    "29": " PFS_IS_ALLOCATED | 0_PCT_FULL",
                                    "30": "2",
                                    "31": "1",
                                    "32": "ALLOCATED",
                                    "33": "3",
                                    "34": "0",
                                    "35": "NOT ALLOCATED",
                                    "36": "6",
                                    "37": "1",
                                    "38": "CHANGED",
                                    "39": "7",
                                    "40": "0",
                                    "41": "NOT MIN_LOGGED",
                                    "42": "1",
                                    "43": "116",
                                    "44": "1",
                                    "45": "301",
                                    "46": "48",
                                    "47": "23",
                                    "48": "0",
                                    "49": "3968",
                                    "50": "6272",
                                    "51": "0",
                                    "52": "0",
                                    "53": "0000:00000000"
                                },
                                {
                                    "0": "sysschobjs",
                                    "1": "NULL",
                                    "2": "2",
                                    "3": "1",
                                    "4": "302",
                                    "5": "1",
                                    "6": "1",
                                    "7": "DATA_PAGE",
                                    "8": "0x0",
                                    "9": "",
                                    "10": "0x0",
                                    "11": "",
                                    "12": "00000049:000051a0:00c8",
                                    "13": "0",
                                    "14": "34",
                                    "15": "1",
                                    "16": "281474978938880",
                                    "17": "281474978938880",
                                    "18": "0",
                                    "19": "0",
                                    "20": "0",
                                    "21": "0",
                                    "22": "0",
                                    "23": "0",
                                    "24": "0",
                                    "25": "1",
                                    "26": "1",
                                    "27": "0",
                                    "28": "0x40",
                                    "29": " PFS_IS_ALLOCATED | 0_PCT_FULL",
                                    "30": "2",
                                    "31": "1",
                                    "32": "ALLOCATED",
                                    "33": "3",
                                    "34": "0",
                                    "35": "NOT ALLOCATED",
                                    "36": "6",
                                    "37": "1",
                                    "38": "CHANGED",
                                    "39": "7",
                                    "40": "0",
                                    "41": "NOT MIN_LOGGED",
                                    "42": "1",
                                    "43": "116",
                                    "44": "1",
                                    "45": "301",
                                    "46": "48",
                                    "47": "23",
                                    "48": "0",
                                    "49": "3968",
                                    "50": "6272",
                                    "51": "0",
                                    "52": "0",
                                    "53": "0000:00000000"
                                }
                            ]
                        },
                        "text/html": "<table><tr><th>(No column name)</th><th>wait_type</th><th>database_id</th><th>file_id</th><th>page_id</th><th>page_header_version</th><th>page_type</th><th>page_type_desc</th><th>page_type_flag_bits</th><th>page_type_flag_bits_desc</th><th>page_flag_bits</th><th>page_flag_bits_desc</th><th>page_lsn</th><th>page_level</th><th>object_id</th><th>index_id</th><th>partition_id</th><th>alloc_unit_id</th><th>is_encrypted</th><th>has_checksum</th><th>checksum</th><th>is_iam_page</th><th>is_mixed_extent</th><th>has_ghost_records</th><th>has_version_records</th><th>pfs_page_id</th><th>pfs_is_allocated</th><th>pfs_alloc_percent</th><th>pfs_status</th><th>pfs_status_desc</th><th>gam_page_id</th><th>gam_status</th><th>gam_status_desc</th><th>sgam_page_id</th><th>sgam_status</th><th>sgam_status_desc</th><th>diff_map_page_id</th><th>diff_status</th><th>diff_status_desc</th><th>ml_map_page_id</th><th>ml_status</th><th>ml_status_desc</th><th>prev_page_file_id</th><th>prev_page_page_id</th><th>next_page_file_id</th><th>next_page_page_id</th><th>fixed_length</th><th>slot_count</th><th>ghost_rec_count</th><th>free_bytes</th><th>free_bytes_offset</th><th>reserved_bytes</th><th>reserved_bytes_by_xdes_id</th><th>xdes_id</th></tr><tr><td>sysschobjs</td><td>PAGELATCH_EX</td><td>2</td><td>1</td><td>118</td><td>1</td><td>2</td><td>INDEX_PAGE</td><td>0x4</td><td></td><td>0x0</td><td></td><td>00000049:000051a0:003c</td><td>0</td><td>34</td><td>2</td><td>562949955649536</td><td>562949955649536</td><td>0</td><td>0</td><td>-612772230</td><td>0</td><td>1</td><td>1</td><td>0</td><td>1</td><td>1</td><td>0</td><td>0x68</td><td> MIXED_EXT | PFS_HAS_GHOST_RECORDS | PFS_IS_ALLOCATED | 0_PCT_FULL</td><td>2</td><td>1</td><td>ALLOCATED</td><td>3</td><td>0</td><td>NOT ALLOCATED</td><td>6</td><td>1</td><td>CHANGED</td><td>7</td><td>0</td><td>NOT MIN_LOGGED</td><td>0</td><td>0</td><td>1</td><td>295</td><td>10</td><td>68</td><td>38</td><td>1738</td><td>6382</td><td>0</td><td>0</td><td>0000:0003953f</td></tr><tr><td>sysschobjs</td><td>PAGELATCH_EX</td><td>2</td><td>1</td><td>118</td><td>1</td><td>2</td><td>INDEX_PAGE</td><td>0x4</td><td></td><td>0x0</td><td></td><td>00000049:000051a0:003c</td><td>0</td><td>34</td><td>2</td><td>562949955649536</td><td>562949955649536</td><td>0</td><td>0</td><td>-612772230</td><td>0</td><td>1</td><td>1</td><td>0</td><td>1</td><td>1</td><td>0</td><td>0x68</td><td> MIXED_EXT | PFS_HAS_GHOST_RECORDS | PFS_IS_ALLOCATED | 0_PCT_FULL</td><td>2</td><td>1</td><td>ALLOCATED</td><td>3</td><td>0</td><td>NOT ALLOCATED</td><td>6</td><td>1</td><td>CHANGED</td><td>7</td><td>0</td><td>NOT MIN_LOGGED</td><td>0</td><td>0</td><td>1</td><td>295</td><td>10</td><td>68</td><td>38</td><td>1738</td><td>6382</td><td>0</td><td>0</td><td>0000:0003953f</td></tr><tr><td>sysschobjs</td><td>PAGELATCH_EX</td><td>2</td><td>1</td><td>118</td><td>1</td><td>2</td><td>INDEX_PAGE</td><td>0x4</td><td></td><td>0x0</td><td></td><td>00000049:000051a0:003c</td><td>0</td><td>34</td><td>2</td><td>562949955649536</td><td>562949955649536</td><td>0</td><td>0</td><td>-612772230</td><td>0</td><td>1</td><td>1</td><td>0</td><td>1</td><td>1</td><td>0</td><td>0x68</td><td> MIXED_EXT | PFS_HAS_GHOST_RECORDS | PFS_IS_ALLOCATED | 0_PCT_FULL</td><td>2</td><td>1</td><td>ALLOCATED</td><td>3</td><td>0</td><td>NOT ALLOCATED</td><td>6</td><td>1</td><td>CHANGED</td><td>7</td><td>0</td><td>NOT MIN_LOGGED</td><td>0</td><td>0</td><td>1</td><td>295</td><td>10</td><td>68</td><td>38</td><td>1738</td><td>6382</td><td>0</td><td>0</td><td>0000:0003953f</td></tr><tr><td>sysschobjs</td><td>PAGELATCH_EX</td><td>2</td><td>1</td><td>118</td><td>1</td><td>2</td><td>INDEX_PAGE</td><td>0x4</td><td></td><td>0x0</td><td></td><td>00000049:000051a0:003c</td><td>0</td><td>34</td><td>2</td><td>562949955649536</td><td>562949955649536</td><td>0</td><td>0</td><td>-612772230</td><td>0</td><td>1</td><td>1</td><td>0</td><td>1</td><td>1</td><td>0</td><td>0x68</td><td> MIXED_EXT | PFS_HAS_GHOST_RECORDS | PFS_IS_ALLOCATED | 0_PCT_FULL</td><td>2</td><td>1</td><td>ALLOCATED</td><td>3</td><td>0</td><td>NOT ALLOCATED</td><td>6</td><td>1</td><td>CHANGED</td><td>7</td><td>0</td><td>NOT MIN_LOGGED</td><td>0</td><td>0</td><td>1</td><td>295</td><td>10</td><td>68</td><td>38</td><td>1738</td><td>6382</td><td>0</td><td>0</td><td>0000:0003953f</td></tr><tr><td>sysschobjs</td><td>NULL</td><td>2</td><td>1</td><td>118</td><td>1</td><td>2</td><td>INDEX_PAGE</td><td>0x4</td><td></td><td>0x0</td><td></td><td>00000049:000051a0:003c</td><td>0</td><td>34</td><td>2</td><td>562949955649536</td><td>562949955649536</td><td>0</td><td>0</td><td>-612772230</td><td>0</td><td>1</td><td>1</td><td>0</td><td>1</td><td>1</td><td>0</td><td>0x68</td><td> MIXED_EXT | PFS_HAS_GHOST_RECORDS | PFS_IS_ALLOCATED | 0_PCT_FULL</td><td>2</td><td>1</td><td>ALLOCATED</td><td>3</td><td>0</td><td>NOT ALLOCATED</td><td>6</td><td>1</td><td>CHANGED</td><td>7</td><td>0</td><td>NOT MIN_LOGGED</td><td>0</td><td>0</td><td>1</td><td>295</td><td>10</td><td>68</td><td>38</td><td>1738</td><td>6382</td><td>0</td><td>0</td><td>0000:0003953f</td></tr><tr><td>sysschobjs</td><td>PAGELATCH_EX</td><td>2</td><td>1</td><td>118</td><td>1</td><td>2</td><td>INDEX_PAGE</td><td>0x4</td><td></td><td>0x0</td><td></td><td>00000049:000051a0:003c</td><td>0</td><td>34</td><td>2</td><td>562949955649536</td><td>562949955649536</td><td>0</td><td>0</td><td>-612772230</td><td>0</td><td>1</td><td>1</td><td>0</td><td>1</td><td>1</td><td>0</td><td>0x68</td><td> MIXED_EXT | PFS_HAS_GHOST_RECORDS | PFS_IS_ALLOCATED | 0_PCT_FULL</td><td>2</td><td>1</td><td>ALLOCATED</td><td>3</td><td>0</td><td>NOT ALLOCATED</td><td>6</td><td>1</td><td>CHANGED</td><td>7</td><td>0</td><td>NOT MIN_LOGGED</td><td>0</td><td>0</td><td>1</td><td>295</td><td>10</td><td>68</td><td>38</td><td>1738</td><td>6382</td><td>0</td><td>0</td><td>0000:0003953f</td></tr><tr><td>sysschobjs</td><td>PAGELATCH_EX</td><td>2</td><td>1</td><td>118</td><td>1</td><td>2</td><td>INDEX_PAGE</td><td>0x4</td><td></td><td>0x0</td><td></td><td>00000049:000051a0:003c</td><td>0</td><td>34</td><td>2</td><td>562949955649536</td><td>562949955649536</td><td>0</td><td>0</td><td>-612772230</td><td>0</td><td>1</td><td>1</td><td>0</td><td>1</td><td>1</td><td>0</td><td>0x68</td><td> MIXED_EXT | PFS_HAS_GHOST_RECORDS | PFS_IS_ALLOCATED | 0_PCT_FULL</td><td>2</td><td>1</td><td>ALLOCATED</td><td>3</td><td>0</td><td>NOT ALLOCATED</td><td>6</td><td>1</td><td>CHANGED</td><td>7</td><td>0</td><td>NOT MIN_LOGGED</td><td>0</td><td>0</td><td>1</td><td>295</td><td>10</td><td>68</td><td>38</td><td>1738</td><td>6382</td><td>0</td><td>0</td><td>0000:0003953f</td></tr><tr><td>sysschobjs</td><td>PAGELATCH_EX</td><td>2</td><td>1</td><td>118</td><td>1</td><td>2</td><td>INDEX_PAGE</td><td>0x4</td><td></td><td>0x0</td><td></td><td>00000049:000051a0:003c</td><td>0</td><td>34</td><td>2</td><td>562949955649536</td><td>562949955649536</td><td>0</td><td>0</td><td>-612772230</td><td>0</td><td>1</td><td>1</td><td>0</td><td>1</td><td>1</td><td>0</td><td>0x68</td><td> MIXED_EXT | PFS_HAS_GHOST_RECORDS | PFS_IS_ALLOCATED | 0_PCT_FULL</td><td>2</td><td>1</td><td>ALLOCATED</td><td>3</td><td>0</td><td>NOT ALLOCATED</td><td>6</td><td>1</td><td>CHANGED</td><td>7</td><td>0</td><td>NOT MIN_LOGGED</td><td>0</td><td>0</td><td>1</td><td>295</td><td>10</td><td>68</td><td>38</td><td>1738</td><td>6382</td><td>0</td><td>0</td><td>0000:0003953f</td></tr><tr><td>sysschobjs</td><td>PAGELATCH_EX</td><td>2</td><td>1</td><td>118</td><td>1</td><td>2</td><td>INDEX_PAGE</td><td>0x4</td><td></td><td>0x0</td><td></td><td>00000049:000051a0:003c</td><td>0</td><td>34</td><td>2</td><td>562949955649536</td><td>562949955649536</td><td>0</td><td>0</td><td>-612772230</td><td>0</td><td>1</td><td>1</td><td>0</td><td>1</td><td>1</td><td>0</td><td>0x68</td><td> MIXED_EXT | PFS_HAS_GHOST_RECORDS | PFS_IS_ALLOCATED | 0_PCT_FULL</td><td>2</td><td>1</td><td>ALLOCATED</td><td>3</td><td>0</td><td>NOT ALLOCATED</td><td>6</td><td>1</td><td>CHANGED</td><td>7</td><td>0</td><td>NOT MIN_LOGGED</td><td>0</td><td>0</td><td>1</td><td>295</td><td>10</td><td>68</td><td>38</td><td>1738</td><td>6382</td><td>0</td><td>0</td><td>0000:0003953f</td></tr><tr><td>sysschobjs</td><td>PAGELATCH_EX</td><td>2</td><td>1</td><td>118</td><td>1</td><td>2</td><td>INDEX_PAGE</td><td>0x4</td><td></td><td>0x0</td><td></td><td>00000049:000051a0:003c</td><td>0</td><td>34</td><td>2</td><td>562949955649536</td><td>562949955649536</td><td>0</td><td>0</td><td>-612772230</td><td>0</td><td>1</td><td>1</td><td>0</td><td>1</td><td>1</td><td>0</td><td>0x68</td><td> MIXED_EXT | PFS_HAS_GHOST_RECORDS | PFS_IS_ALLOCATED | 0_PCT_FULL</td><td>2</td><td>1</td><td>ALLOCATED</td><td>3</td><td>0</td><td>NOT ALLOCATED</td><td>6</td><td>1</td><td>CHANGED</td><td>7</td><td>0</td><td>NOT MIN_LOGGED</td><td>0</td><td>0</td><td>1</td><td>295</td><td>10</td><td>68</td><td>38</td><td>1738</td><td>6382</td><td>0</td><td>0</td><td>0000:0003953f</td></tr><tr><td>sysschobjs</td><td>PAGELATCH_EX</td><td>2</td><td>1</td><td>118</td><td>1</td><td>2</td><td>INDEX_PAGE</td><td>0x4</td><td></td><td>0x0</td><td></td><td>00000049:000051a0:003c</td><td>0</td><td>34</td><td>2</td><td>562949955649536</td><td>562949955649536</td><td>0</td><td>0</td><td>-612772230</td><td>0</td><td>1</td><td>1</td><td>0</td><td>1</td><td>1</td><td>0</td><td>0x68</td><td> MIXED_EXT | PFS_HAS_GHOST_RECORDS | PFS_IS_ALLOCATED | 0_PCT_FULL</td><td>2</td><td>1</td><td>ALLOCATED</td><td>3</td><td>0</td><td>NOT ALLOCATED</td><td>6</td><td>1</td><td>CHANGED</td><td>7</td><td>0</td><td>NOT MIN_LOGGED</td><td>0</td><td>0</td><td>1</td><td>295</td><td>10</td><td>68</td><td>38</td><td>1738</td><td>6382</td><td>0</td><td>0</td><td>0000:0003953f</td></tr><tr><td>sysschobjs</td><td>PAGELATCH_EX</td><td>2</td><td>1</td><td>118</td><td>1</td><td>2</td><td>INDEX_PAGE</td><td>0x4</td><td></td><td>0x0</td><td></td><td>00000049:000051a0:003c</td><td>0</td><td>34</td><td>2</td><td>562949955649536</td><td>562949955649536</td><td>0</td><td>0</td><td>-612772230</td><td>0</td><td>1</td><td>1</td><td>0</td><td>1</td><td>1</td><td>0</td><td>0x68</td><td> MIXED_EXT | PFS_HAS_GHOST_RECORDS | PFS_IS_ALLOCATED | 0_PCT_FULL</td><td>2</td><td>1</td><td>ALLOCATED</td><td>3</td><td>0</td><td>NOT ALLOCATED</td><td>6</td><td>1</td><td>CHANGED</td><td>7</td><td>0</td><td>NOT MIN_LOGGED</td><td>0</td><td>0</td><td>1</td><td>295</td><td>10</td><td>68</td><td>38</td><td>1738</td><td>6382</td><td>0</td><td>0</td><td>0000:0003953f</td></tr><tr><td>sysschobjs</td><td>PAGELATCH_EX</td><td>2</td><td>1</td><td>118</td><td>1</td><td>2</td><td>INDEX_PAGE</td><td>0x4</td><td></td><td>0x0</td><td></td><td>00000049:000051a0:003c</td><td>0</td><td>34</td><td>2</td><td>562949955649536</td><td>562949955649536</td><td>0</td><td>0</td><td>-612772230</td><td>0</td><td>1</td><td>1</td><td>0</td><td>1</td><td>1</td><td>0</td><td>0x68</td><td> MIXED_EXT | PFS_HAS_GHOST_RECORDS | PFS_IS_ALLOCATED | 0_PCT_FULL</td><td>2</td><td>1</td><td>ALLOCATED</td><td>3</td><td>0</td><td>NOT ALLOCATED</td><td>6</td><td>1</td><td>CHANGED</td><td>7</td><td>0</td><td>NOT MIN_LOGGED</td><td>0</td><td>0</td><td>1</td><td>295</td><td>10</td><td>68</td><td>38</td><td>1738</td><td>6382</td><td>0</td><td>0</td><td>0000:0003953f</td></tr><tr><td>sysschobjs</td><td>PAGELATCH_EX</td><td>2</td><td>1</td><td>118</td><td>1</td><td>2</td><td>INDEX_PAGE</td><td>0x4</td><td></td><td>0x0</td><td></td><td>00000049:000051a0:003c</td><td>0</td><td>34</td><td>2</td><td>562949955649536</td><td>562949955649536</td><td>0</td><td>0</td><td>-612772230</td><td>0</td><td>1</td><td>1</td><td>0</td><td>1</td><td>1</td><td>0</td><td>0x68</td><td> MIXED_EXT | PFS_HAS_GHOST_RECORDS | PFS_IS_ALLOCATED | 0_PCT_FULL</td><td>2</td><td>1</td><td>ALLOCATED</td><td>3</td><td>0</td><td>NOT ALLOCATED</td><td>6</td><td>1</td><td>CHANGED</td><td>7</td><td>0</td><td>NOT MIN_LOGGED</td><td>0</td><td>0</td><td>1</td><td>295</td><td>10</td><td>68</td><td>38</td><td>1738</td><td>6382</td><td>0</td><td>0</td><td>0000:0003953f</td></tr><tr><td>sysschobjs</td><td>PAGELATCH_EX</td><td>2</td><td>1</td><td>118</td><td>1</td><td>2</td><td>INDEX_PAGE</td><td>0x4</td><td></td><td>0x0</td><td></td><td>00000049:000051a0:003c</td><td>0</td><td>34</td><td>2</td><td>562949955649536</td><td>562949955649536</td><td>0</td><td>0</td><td>-612772230</td><td>0</td><td>1</td><td>1</td><td>0</td><td>1</td><td>1</td><td>0</td><td>0x68</td><td> MIXED_EXT | PFS_HAS_GHOST_RECORDS | PFS_IS_ALLOCATED | 0_PCT_FULL</td><td>2</td><td>1</td><td>ALLOCATED</td><td>3</td><td>0</td><td>NOT ALLOCATED</td><td>6</td><td>1</td><td>CHANGED</td><td>7</td><td>0</td><td>NOT MIN_LOGGED</td><td>0</td><td>0</td><td>1</td><td>295</td><td>10</td><td>68</td><td>38</td><td>1738</td><td>6382</td><td>0</td><td>0</td><td>0000:0003953f</td></tr><tr><td>sysschobjs</td><td>PAGELATCH_EX</td><td>2</td><td>1</td><td>118</td><td>1</td><td>2</td><td>INDEX_PAGE</td><td>0x4</td><td></td><td>0x0</td><td></td><td>00000049:000051a0:003c</td><td>0</td><td>34</td><td>2</td><td>562949955649536</td><td>562949955649536</td><td>0</td><td>0</td><td>-612772230</td><td>0</td><td>1</td><td>1</td><td>0</td><td>1</td><td>1</td><td>0</td><td>0x68</td><td> MIXED_EXT | PFS_HAS_GHOST_RECORDS | PFS_IS_ALLOCATED | 0_PCT_FULL</td><td>2</td><td>1</td><td>ALLOCATED</td><td>3</td><td>0</td><td>NOT ALLOCATED</td><td>6</td><td>1</td><td>CHANGED</td><td>7</td><td>0</td><td>NOT MIN_LOGGED</td><td>0</td><td>0</td><td>1</td><td>295</td><td>10</td><td>68</td><td>38</td><td>1738</td><td>6382</td><td>0</td><td>0</td><td>0000:0003953f</td></tr><tr><td>sysschobjs</td><td>PAGELATCH_EX</td><td>2</td><td>1</td><td>118</td><td>1</td><td>2</td><td>INDEX_PAGE</td><td>0x4</td><td></td><td>0x0</td><td></td><td>00000049:000051a0:003c</td><td>0</td><td>34</td><td>2</td><td>562949955649536</td><td>562949955649536</td><td>0</td><td>0</td><td>-612772230</td><td>0</td><td>1</td><td>1</td><td>0</td><td>1</td><td>1</td><td>0</td><td>0x68</td><td> MIXED_EXT | PFS_HAS_GHOST_RECORDS | PFS_IS_ALLOCATED | 0_PCT_FULL</td><td>2</td><td>1</td><td>ALLOCATED</td><td>3</td><td>0</td><td>NOT ALLOCATED</td><td>6</td><td>1</td><td>CHANGED</td><td>7</td><td>0</td><td>NOT MIN_LOGGED</td><td>0</td><td>0</td><td>1</td><td>295</td><td>10</td><td>68</td><td>38</td><td>1738</td><td>6382</td><td>0</td><td>0</td><td>0000:0003953f</td></tr><tr><td>sysschobjs</td><td>PAGELATCH_EX</td><td>2</td><td>1</td><td>118</td><td>1</td><td>2</td><td>INDEX_PAGE</td><td>0x4</td><td></td><td>0x0</td><td></td><td>00000049:000051a0:003c</td><td>0</td><td>34</td><td>2</td><td>562949955649536</td><td>562949955649536</td><td>0</td><td>0</td><td>-612772230</td><td>0</td><td>1</td><td>1</td><td>0</td><td>1</td><td>1</td><td>0</td><td>0x68</td><td> MIXED_EXT | PFS_HAS_GHOST_RECORDS | PFS_IS_ALLOCATED | 0_PCT_FULL</td><td>2</td><td>1</td><td>ALLOCATED</td><td>3</td><td>0</td><td>NOT ALLOCATED</td><td>6</td><td>1</td><td>CHANGED</td><td>7</td><td>0</td><td>NOT MIN_LOGGED</td><td>0</td><td>0</td><td>1</td><td>295</td><td>10</td><td>68</td><td>38</td><td>1738</td><td>6382</td><td>0</td><td>0</td><td>0000:0003953f</td></tr><tr><td>sysschobjs</td><td>PAGELATCH_EX</td><td>2</td><td>1</td><td>118</td><td>1</td><td>2</td><td>INDEX_PAGE</td><td>0x4</td><td></td><td>0x0</td><td></td><td>00000049:000051a0:003c</td><td>0</td><td>34</td><td>2</td><td>562949955649536</td><td>562949955649536</td><td>0</td><td>0</td><td>-612772230</td><td>0</td><td>1</td><td>1</td><td>0</td><td>1</td><td>1</td><td>0</td><td>0x68</td><td> MIXED_EXT | PFS_HAS_GHOST_RECORDS | PFS_IS_ALLOCATED | 0_PCT_FULL</td><td>2</td><td>1</td><td>ALLOCATED</td><td>3</td><td>0</td><td>NOT ALLOCATED</td><td>6</td><td>1</td><td>CHANGED</td><td>7</td><td>0</td><td>NOT MIN_LOGGED</td><td>0</td><td>0</td><td>1</td><td>295</td><td>10</td><td>68</td><td>38</td><td>1738</td><td>6382</td><td>0</td><td>0</td><td>0000:0003953f</td></tr><tr><td>sysschobjs</td><td>PAGELATCH_EX</td><td>2</td><td>1</td><td>118</td><td>1</td><td>2</td><td>INDEX_PAGE</td><td>0x4</td><td></td><td>0x0</td><td></td><td>00000049:000051a0:003c</td><td>0</td><td>34</td><td>2</td><td>562949955649536</td><td>562949955649536</td><td>0</td><td>0</td><td>-612772230</td><td>0</td><td>1</td><td>1</td><td>0</td><td>1</td><td>1</td><td>0</td><td>0x68</td><td> MIXED_EXT | PFS_HAS_GHOST_RECORDS | PFS_IS_ALLOCATED | 0_PCT_FULL</td><td>2</td><td>1</td><td>ALLOCATED</td><td>3</td><td>0</td><td>NOT ALLOCATED</td><td>6</td><td>1</td><td>CHANGED</td><td>7</td><td>0</td><td>NOT MIN_LOGGED</td><td>0</td><td>0</td><td>1</td><td>295</td><td>10</td><td>68</td><td>38</td><td>1738</td><td>6382</td><td>0</td><td>0</td><td>0000:0003953f</td></tr><tr><td>sysschobjs</td><td>PAGELATCH_EX</td><td>2</td><td>1</td><td>118</td><td>1</td><td>2</td><td>INDEX_PAGE</td><td>0x4</td><td></td><td>0x0</td><td></td><td>00000049:000051a0:003c</td><td>0</td><td>34</td><td>2</td><td>562949955649536</td><td>562949955649536</td><td>0</td><td>0</td><td>-612772230</td><td>0</td><td>1</td><td>1</td><td>0</td><td>1</td><td>1</td><td>0</td><td>0x68</td><td> MIXED_EXT | PFS_HAS_GHOST_RECORDS | PFS_IS_ALLOCATED | 0_PCT_FULL</td><td>2</td><td>1</td><td>ALLOCATED</td><td>3</td><td>0</td><td>NOT ALLOCATED</td><td>6</td><td>1</td><td>CHANGED</td><td>7</td><td>0</td><td>NOT MIN_LOGGED</td><td>0</td><td>0</td><td>1</td><td>295</td><td>10</td><td>68</td><td>38</td><td>1738</td><td>6382</td><td>0</td><td>0</td><td>0000:0003953f</td></tr><tr><td>sysschobjs</td><td>PAGELATCH_EX</td><td>2</td><td>1</td><td>118</td><td>1</td><td>2</td><td>INDEX_PAGE</td><td>0x4</td><td></td><td>0x0</td><td></td><td>00000049:000051a0:003c</td><td>0</td><td>34</td><td>2</td><td>562949955649536</td><td>562949955649536</td><td>0</td><td>0</td><td>-612772230</td><td>0</td><td>1</td><td>1</td><td>0</td><td>1</td><td>1</td><td>0</td><td>0x68</td><td> MIXED_EXT | PFS_HAS_GHOST_RECORDS | PFS_IS_ALLOCATED | 0_PCT_FULL</td><td>2</td><td>1</td><td>ALLOCATED</td><td>3</td><td>0</td><td>NOT ALLOCATED</td><td>6</td><td>1</td><td>CHANGED</td><td>7</td><td>0</td><td>NOT MIN_LOGGED</td><td>0</td><td>0</td><td>1</td><td>295</td><td>10</td><td>68</td><td>38</td><td>1738</td><td>6382</td><td>0</td><td>0</td><td>0000:0003953f</td></tr><tr><td>sysschobjs</td><td>PAGELATCH_EX</td><td>2</td><td>1</td><td>301</td><td>1</td><td>1</td><td>DATA_PAGE</td><td>0x0</td><td></td><td>0x0</td><td></td><td>00000049:000051a0:0083</td><td>0</td><td>34</td><td>1</td><td>281474978938880</td><td>281474978938880</td><td>0</td><td>0</td><td>0</td><td>0</td><td>0</td><td>0</td><td>0</td><td>1</td><td>1</td><td>0</td><td>0x40</td><td> PFS_IS_ALLOCATED | 0_PCT_FULL</td><td>2</td><td>1</td><td>ALLOCATED</td><td>3</td><td>0</td><td>NOT ALLOCATED</td><td>6</td><td>1</td><td>CHANGED</td><td>7</td><td>0</td><td>NOT MIN_LOGGED</td><td>1</td><td>302</td><td>1</td><td>300</td><td>48</td><td>13</td><td>0</td><td>5442</td><td>5844</td><td>0</td><td>0</td><td>0000:00000000</td></tr><tr><td>sysschobjs</td><td>PAGELATCH_EX</td><td>2</td><td>1</td><td>301</td><td>1</td><td>1</td><td>DATA_PAGE</td><td>0x0</td><td></td><td>0x0</td><td></td><td>00000049:000051a0:0083</td><td>0</td><td>34</td><td>1</td><td>281474978938880</td><td>281474978938880</td><td>0</td><td>0</td><td>0</td><td>0</td><td>0</td><td>0</td><td>0</td><td>1</td><td>1</td><td>0</td><td>0x40</td><td> PFS_IS_ALLOCATED | 0_PCT_FULL</td><td>2</td><td>1</td><td>ALLOCATED</td><td>3</td><td>0</td><td>NOT ALLOCATED</td><td>6</td><td>1</td><td>CHANGED</td><td>7</td><td>0</td><td>NOT MIN_LOGGED</td><td>1</td><td>302</td><td>1</td><td>300</td><td>48</td><td>13</td><td>0</td><td>5442</td><td>5844</td><td>0</td><td>0</td><td>0000:00000000</td></tr><tr><td>sysschobjs</td><td>NULL</td><td>2</td><td>1</td><td>301</td><td>1</td><td>1</td><td>DATA_PAGE</td><td>0x0</td><td></td><td>0x0</td><td></td><td>00000049:000051a0:0083</td><td>0</td><td>34</td><td>1</td><td>281474978938880</td><td>281474978938880</td><td>0</td><td>0</td><td>0</td><td>0</td><td>0</td><td>0</td><td>0</td><td>1</td><td>1</td><td>0</td><td>0x40</td><td> PFS_IS_ALLOCATED | 0_PCT_FULL</td><td>2</td><td>1</td><td>ALLOCATED</td><td>3</td><td>0</td><td>NOT ALLOCATED</td><td>6</td><td>1</td><td>CHANGED</td><td>7</td><td>0</td><td>NOT MIN_LOGGED</td><td>1</td><td>302</td><td>1</td><td>300</td><td>48</td><td>13</td><td>0</td><td>5442</td><td>5844</td><td>0</td><td>0</td><td>0000:00000000</td></tr><tr><td>sysschobjs</td><td>PAGELATCH_SH</td><td>2</td><td>1</td><td>301</td><td>1</td><td>1</td><td>DATA_PAGE</td><td>0x0</td><td></td><td>0x0</td><td></td><td>00000049:000051a0:0083</td><td>0</td><td>34</td><td>1</td><td>281474978938880</td><td>281474978938880</td><td>0</td><td>0</td><td>0</td><td>0</td><td>0</td><td>0</td><td>0</td><td>1</td><td>1</td><td>0</td><td>0x40</td><td> PFS_IS_ALLOCATED | 0_PCT_FULL</td><td>2</td><td>1</td><td>ALLOCATED</td><td>3</td><td>0</td><td>NOT ALLOCATED</td><td>6</td><td>1</td><td>CHANGED</td><td>7</td><td>0</td><td>NOT MIN_LOGGED</td><td>1</td><td>302</td><td>1</td><td>300</td><td>48</td><td>13</td><td>0</td><td>5442</td><td>5844</td><td>0</td><td>0</td><td>0000:00000000</td></tr><tr><td>sysschobjs</td><td>PAGELATCH_SH</td><td>2</td><td>1</td><td>301</td><td>1</td><td>1</td><td>DATA_PAGE</td><td>0x0</td><td></td><td>0x0</td><td></td><td>00000049:000051a0:0083</td><td>0</td><td>34</td><td>1</td><td>281474978938880</td><td>281474978938880</td><td>0</td><td>0</td><td>0</td><td>0</td><td>0</td><td>0</td><td>0</td><td>1</td><td>1</td><td>0</td><td>0x40</td><td> PFS_IS_ALLOCATED | 0_PCT_FULL</td><td>2</td><td>1</td><td>ALLOCATED</td><td>3</td><td>0</td><td>NOT ALLOCATED</td><td>6</td><td>1</td><td>CHANGED</td><td>7</td><td>0</td><td>NOT MIN_LOGGED</td><td>1</td><td>302</td><td>1</td><td>300</td><td>48</td><td>13</td><td>0</td><td>5442</td><td>5844</td><td>0</td><td>0</td><td>0000:00000000</td></tr><tr><td>sysschobjs</td><td>PAGELATCH_SH</td><td>2</td><td>1</td><td>302</td><td>1</td><td>1</td><td>DATA_PAGE</td><td>0x0</td><td></td><td>0x0</td><td></td><td>00000049:000051a0:00c8</td><td>0</td><td>34</td><td>1</td><td>281474978938880</td><td>281474978938880</td><td>0</td><td>0</td><td>0</td><td>0</td><td>0</td><td>0</td><td>0</td><td>1</td><td>1</td><td>0</td><td>0x40</td><td> PFS_IS_ALLOCATED | 0_PCT_FULL</td><td>2</td><td>1</td><td>ALLOCATED</td><td>3</td><td>0</td><td>NOT ALLOCATED</td><td>6</td><td>1</td><td>CHANGED</td><td>7</td><td>0</td><td>NOT MIN_LOGGED</td><td>1</td><td>116</td><td>1</td><td>301</td><td>48</td><td>23</td><td>0</td><td>3968</td><td>6272</td><td>0</td><td>0</td><td>0000:00000000</td></tr><tr><td>sysschobjs</td><td>NULL</td><td>2</td><td>1</td><td>302</td><td>1</td><td>1</td><td>DATA_PAGE</td><td>0x0</td><td></td><td>0x0</td><td></td><td>00000049:000051a0:00c8</td><td>0</td><td>34</td><td>1</td><td>281474978938880</td><td>281474978938880</td><td>0</td><td>0</td><td>0</td><td>0</td><td>0</td><td>0</td><td>0</td><td>1</td><td>1</td><td>0</td><td>0x40</td><td> PFS_IS_ALLOCATED | 0_PCT_FULL</td><td>2</td><td>1</td><td>ALLOCATED</td><td>3</td><td>0</td><td>NOT ALLOCATED</td><td>6</td><td>1</td><td>CHANGED</td><td>7</td><td>0</td><td>NOT MIN_LOGGED</td><td>1</td><td>116</td><td>1</td><td>301</td><td>48</td><td>23</td><td>0</td><td>3968</td><td>6272</td><td>0</td><td>0</td><td>0000:00000000</td></tr><tr><td>sysschobjs</td><td>NULL</td><td>2</td><td>1</td><td>302</td><td>1</td><td>1</td><td>DATA_PAGE</td><td>0x0</td><td></td><td>0x0</td><td></td><td>00000049:000051a0:00c8</td><td>0</td><td>34</td><td>1</td><td>281474978938880</td><td>281474978938880</td><td>0</td><td>0</td><td>0</td><td>0</td><td>0</td><td>0</td><td>0</td><td>1</td><td>1</td><td>0</td><td>0x40</td><td> PFS_IS_ALLOCATED | 0_PCT_FULL</td><td>2</td><td>1</td><td>ALLOCATED</td><td>3</td><td>0</td><td>NOT ALLOCATED</td><td>6</td><td>1</td><td>CHANGED</td><td>7</td><td>0</td><td>NOT MIN_LOGGED</td><td>1</td><td>116</td><td>1</td><td>301</td><td>48</td><td>23</td><td>0</td><td>3968</td><td>6272</td><td>0</td><td>0</td><td>0000:00000000</td></tr><tr><td>sysschobjs</td><td>PAGELATCH_SH</td><td>2</td><td>1</td><td>302</td><td>1</td><td>1</td><td>DATA_PAGE</td><td>0x0</td><td></td><td>0x0</td><td></td><td>00000049:000051a0:00c8</td><td>0</td><td>34</td><td>1</td><td>281474978938880</td><td>281474978938880</td><td>0</td><td>0</td><td>0</td><td>0</td><td>0</td><td>0</td><td>0</td><td>1</td><td>1</td><td>0</td><td>0x40</td><td> PFS_IS_ALLOCATED | 0_PCT_FULL</td><td>2</td><td>1</td><td>ALLOCATED</td><td>3</td><td>0</td><td>NOT ALLOCATED</td><td>6</td><td>1</td><td>CHANGED</td><td>7</td><td>0</td><td>NOT MIN_LOGGED</td><td>1</td><td>116</td><td>1</td><td>301</td><td>48</td><td>23</td><td>0</td><td>3968</td><td>6272</td><td>0</td><td>0</td><td>0000:00000000</td></tr><tr><td>sysschobjs</td><td>PAGELATCH_EX</td><td>2</td><td>1</td><td>302</td><td>1</td><td>1</td><td>DATA_PAGE</td><td>0x0</td><td></td><td>0x0</td><td></td><td>00000049:000051a0:00c8</td><td>0</td><td>34</td><td>1</td><td>281474978938880</td><td>281474978938880</td><td>0</td><td>0</td><td>0</td><td>0</td><td>0</td><td>0</td><td>0</td><td>1</td><td>1</td><td>0</td><td>0x40</td><td> PFS_IS_ALLOCATED | 0_PCT_FULL</td><td>2</td><td>1</td><td>ALLOCATED</td><td>3</td><td>0</td><td>NOT ALLOCATED</td><td>6</td><td>1</td><td>CHANGED</td><td>7</td><td>0</td><td>NOT MIN_LOGGED</td><td>1</td><td>116</td><td>1</td><td>301</td><td>48</td><td>23</td><td>0</td><td>3968</td><td>6272</td><td>0</td><td>0</td><td>0000:00000000</td></tr><tr><td>sysschobjs</td><td>PAGELATCH_EX</td><td>2</td><td>1</td><td>302</td><td>1</td><td>1</td><td>DATA_PAGE</td><td>0x0</td><td></td><td>0x0</td><td></td><td>00000049:000051a0:00c8</td><td>0</td><td>34</td><td>1</td><td>281474978938880</td><td>281474978938880</td><td>0</td><td>0</td><td>0</td><td>0</td><td>0</td><td>0</td><td>0</td><td>1</td><td>1</td><td>0</td><td>0x40</td><td> PFS_IS_ALLOCATED | 0_PCT_FULL</td><td>2</td><td>1</td><td>ALLOCATED</td><td>3</td><td>0</td><td>NOT ALLOCATED</td><td>6</td><td>1</td><td>CHANGED</td><td>7</td><td>0</td><td>NOT MIN_LOGGED</td><td>1</td><td>116</td><td>1</td><td>301</td><td>48</td><td>23</td><td>0</td><td>3968</td><td>6272</td><td>0</td><td>0</td><td>0000:00000000</td></tr><tr><td>sysschobjs</td><td>NULL</td><td>2</td><td>1</td><td>302</td><td>1</td><td>1</td><td>DATA_PAGE</td><td>0x0</td><td></td><td>0x0</td><td></td><td>00000049:000051a0:00c8</td><td>0</td><td>34</td><td>1</td><td>281474978938880</td><td>281474978938880</td><td>0</td><td>0</td><td>0</td><td>0</td><td>0</td><td>0</td><td>0</td><td>1</td><td>1</td><td>0</td><td>0x40</td><td> PFS_IS_ALLOCATED | 0_PCT_FULL</td><td>2</td><td>1</td><td>ALLOCATED</td><td>3</td><td>0</td><td>NOT ALLOCATED</td><td>6</td><td>1</td><td>CHANGED</td><td>7</td><td>0</td><td>NOT MIN_LOGGED</td><td>1</td><td>116</td><td>1</td><td>301</td><td>48</td><td>23</td><td>0</td><td>3968</td><td>6272</td><td>0</td><td>0</td><td>0000:00000000</td></tr><tr><td>sysschobjs</td><td>PAGELATCH_EX</td><td>2</td><td>1</td><td>302</td><td>1</td><td>1</td><td>DATA_PAGE</td><td>0x0</td><td></td><td>0x0</td><td></td><td>00000049:000051a0:00c8</td><td>0</td><td>34</td><td>1</td><td>281474978938880</td><td>281474978938880</td><td>0</td><td>0</td><td>0</td><td>0</td><td>0</td><td>0</td><td>0</td><td>1</td><td>1</td><td>0</td><td>0x40</td><td> PFS_IS_ALLOCATED | 0_PCT_FULL</td><td>2</td><td>1</td><td>ALLOCATED</td><td>3</td><td>0</td><td>NOT ALLOCATED</td><td>6</td><td>1</td><td>CHANGED</td><td>7</td><td>0</td><td>NOT MIN_LOGGED</td><td>1</td><td>116</td><td>1</td><td>301</td><td>48</td><td>23</td><td>0</td><td>3968</td><td>6272</td><td>0</td><td>0</td><td>0000:00000000</td></tr><tr><td>sysschobjs</td><td>PAGELATCH_EX</td><td>2</td><td>1</td><td>302</td><td>1</td><td>1</td><td>DATA_PAGE</td><td>0x0</td><td></td><td>0x0</td><td></td><td>00000049:000051a0:00c8</td><td>0</td><td>34</td><td>1</td><td>281474978938880</td><td>281474978938880</td><td>0</td><td>0</td><td>0</td><td>0</td><td>0</td><td>0</td><td>0</td><td>1</td><td>1</td><td>0</td><td>0x40</td><td> PFS_IS_ALLOCATED | 0_PCT_FULL</td><td>2</td><td>1</td><td>ALLOCATED</td><td>3</td><td>0</td><td>NOT ALLOCATED</td><td>6</td><td>1</td><td>CHANGED</td><td>7</td><td>0</td><td>NOT MIN_LOGGED</td><td>1</td><td>116</td><td>1</td><td>301</td><td>48</td><td>23</td><td>0</td><td>3968</td><td>6272</td><td>0</td><td>0</td><td>0000:00000000</td></tr><tr><td>sysschobjs</td><td>PAGELATCH_EX</td><td>2</td><td>1</td><td>302</td><td>1</td><td>1</td><td>DATA_PAGE</td><td>0x0</td><td></td><td>0x0</td><td></td><td>00000049:000051a0:00c8</td><td>0</td><td>34</td><td>1</td><td>281474978938880</td><td>281474978938880</td><td>0</td><td>0</td><td>0</td><td>0</td><td>0</td><td>0</td><td>0</td><td>1</td><td>1</td><td>0</td><td>0x40</td><td> PFS_IS_ALLOCATED | 0_PCT_FULL</td><td>2</td><td>1</td><td>ALLOCATED</td><td>3</td><td>0</td><td>NOT ALLOCATED</td><td>6</td><td>1</td><td>CHANGED</td><td>7</td><td>0</td><td>NOT MIN_LOGGED</td><td>1</td><td>116</td><td>1</td><td>301</td><td>48</td><td>23</td><td>0</td><td>3968</td><td>6272</td><td>0</td><td>0</td><td>0000:00000000</td></tr><tr><td>sysschobjs</td><td>PAGELATCH_SH</td><td>2</td><td>1</td><td>302</td><td>1</td><td>1</td><td>DATA_PAGE</td><td>0x0</td><td></td><td>0x0</td><td></td><td>00000049:000051a0:00c8</td><td>0</td><td>34</td><td>1</td><td>281474978938880</td><td>281474978938880</td><td>0</td><td>0</td><td>0</td><td>0</td><td>0</td><td>0</td><td>0</td><td>1</td><td>1</td><td>0</td><td>0x40</td><td> PFS_IS_ALLOCATED | 0_PCT_FULL</td><td>2</td><td>1</td><td>ALLOCATED</td><td>3</td><td>0</td><td>NOT ALLOCATED</td><td>6</td><td>1</td><td>CHANGED</td><td>7</td><td>0</td><td>NOT MIN_LOGGED</td><td>1</td><td>116</td><td>1</td><td>301</td><td>48</td><td>23</td><td>0</td><td>3968</td><td>6272</td><td>0</td><td>0</td><td>0000:00000000</td></tr><tr><td>sysschobjs</td><td>PAGELATCH_EX</td><td>2</td><td>1</td><td>302</td><td>1</td><td>1</td><td>DATA_PAGE</td><td>0x0</td><td></td><td>0x0</td><td></td><td>00000049:000051a0:00c8</td><td>0</td><td>34</td><td>1</td><td>281474978938880</td><td>281474978938880</td><td>0</td><td>0</td><td>0</td><td>0</td><td>0</td><td>0</td><td>0</td><td>1</td><td>1</td><td>0</td><td>0x40</td><td> PFS_IS_ALLOCATED | 0_PCT_FULL</td><td>2</td><td>1</td><td>ALLOCATED</td><td>3</td><td>0</td><td>NOT ALLOCATED</td><td>6</td><td>1</td><td>CHANGED</td><td>7</td><td>0</td><td>NOT MIN_LOGGED</td><td>1</td><td>116</td><td>1</td><td>301</td><td>48</td><td>23</td><td>0</td><td>3968</td><td>6272</td><td>0</td><td>0</td><td>0000:00000000</td></tr><tr><td>sysschobjs</td><td>NULL</td><td>2</td><td>1</td><td>302</td><td>1</td><td>1</td><td>DATA_PAGE</td><td>0x0</td><td></td><td>0x0</td><td></td><td>00000049:000051a0:00c8</td><td>0</td><td>34</td><td>1</td><td>281474978938880</td><td>281474978938880</td><td>0</td><td>0</td><td>0</td><td>0</td><td>0</td><td>0</td><td>0</td><td>1</td><td>1</td><td>0</td><td>0x40</td><td> PFS_IS_ALLOCATED | 0_PCT_FULL</td><td>2</td><td>1</td><td>ALLOCATED</td><td>3</td><td>0</td><td>NOT ALLOCATED</td><td>6</td><td>1</td><td>CHANGED</td><td>7</td><td>0</td><td>NOT MIN_LOGGED</td><td>1</td><td>116</td><td>1</td><td>301</td><td>48</td><td>23</td><td>0</td><td>3968</td><td>6272</td><td>0</td><td>0</td><td>0000:00000000</td></tr><tr><td>sysschobjs</td><td>NULL</td><td>2</td><td>1</td><td>302</td><td>1</td><td>1</td><td>DATA_PAGE</td><td>0x0</td><td></td><td>0x0</td><td></td><td>00000049:000051a0:00c8</td><td>0</td><td>34</td><td>1</td><td>281474978938880</td><td>281474978938880</td><td>0</td><td>0</td><td>0</td><td>0</td><td>0</td><td>0</td><td>0</td><td>1</td><td>1</td><td>0</td><td>0x40</td><td> PFS_IS_ALLOCATED | 0_PCT_FULL</td><td>2</td><td>1</td><td>ALLOCATED</td><td>3</td><td>0</td><td>NOT ALLOCATED</td><td>6</td><td>1</td><td>CHANGED</td><td>7</td><td>0</td><td>NOT MIN_LOGGED</td><td>1</td><td>116</td><td>1</td><td>301</td><td>48</td><td>23</td><td>0</td><td>3968</td><td>6272</td><td>0</td><td>0</td><td>0000:00000000</td></tr></table>"
                    }
                },
                {
                    "output_type": "execute_result",
                    "metadata": {},
                    "execution_count": 18,
                    "data": {
                        "application/vnd.dataresource+json": {
                            "schema": {
                                "fields": [
                                    {
                                        "name": "ParentObject"
                                    },
                                    {
                                        "name": "Object"
                                    },
                                    {
                                        "name": "Field"
                                    },
                                    {
                                        "name": "VALUE"
                                    }
                                ]
                            },
                            "data": [
                                {
                                    "0": "BUFFER:",
                                    "1": "BUF @0x0000000958CF0E40",
                                    "2": "bpage",
                                    "3": "0x00000009488D2000"
                                },
                                {
                                    "0": "BUFFER:",
                                    "1": "BUF @0x0000000958CF0E40",
                                    "2": "bPmmpage",
                                    "3": "0x0000000000000000"
                                },
                                {
                                    "0": "BUFFER:",
                                    "1": "BUF @0x0000000958CF0E40",
                                    "2": "bsort_r_nextbP",
                                    "3": "0x0000000000000000"
                                },
                                {
                                    "0": "BUFFER:",
                                    "1": "BUF @0x0000000958CF0E40",
                                    "2": "bsort_r_prevbP",
                                    "3": "0x0000000000000000"
                                },
                                {
                                    "0": "BUFFER:",
                                    "1": "BUF @0x0000000958CF0E40",
                                    "2": "bhash",
                                    "3": "0x0000000000000000"
                                },
                                {
                                    "0": "BUFFER:",
                                    "1": "BUF @0x0000000958CF0E40",
                                    "2": "bpageno",
                                    "3": "(1:116)"
                                },
                                {
                                    "0": "BUFFER:",
                                    "1": "BUF @0x0000000958CF0E40",
                                    "2": "bpart",
                                    "3": "1"
                                },
                                {
                                    "0": "BUFFER:",
                                    "1": "BUF @0x0000000958CF0E40",
                                    "2": "ckptGen",
                                    "3": "0x0000000000000000"
                                },
                                {
                                    "0": "BUFFER:",
                                    "1": "BUF @0x0000000958CF0E40",
                                    "2": "bDirtyRefCount",
                                    "3": "0"
                                },
                                {
                                    "0": "BUFFER:",
                                    "1": "BUF @0x0000000958CF0E40",
                                    "2": "bstat",
                                    "3": "0x10b"
                                },
                                {
                                    "0": "BUFFER:",
                                    "1": "BUF @0x0000000958CF0E40",
                                    "2": "breferences",
                                    "3": "8191"
                                },
                                {
                                    "0": "BUFFER:",
                                    "1": "BUF @0x0000000958CF0E40",
                                    "2": "berrcode",
                                    "3": "0"
                                },
                                {
                                    "0": "BUFFER:",
                                    "1": "BUF @0x0000000958CF0E40",
                                    "2": "bUse1",
                                    "3": "12513"
                                },
                                {
                                    "0": "BUFFER:",
                                    "1": "BUF @0x0000000958CF0E40",
                                    "2": "bstat2",
                                    "3": "0x0"
                                },
                                {
                                    "0": "BUFFER:",
                                    "1": "BUF @0x0000000958CF0E40",
                                    "2": "blog",
                                    "3": "0x15a"
                                },
                                {
                                    "0": "BUFFER:",
                                    "1": "BUF @0x0000000958CF0E40",
                                    "2": "bsampleCount",
                                    "3": "1246"
                                },
                                {
                                    "0": "BUFFER:",
                                    "1": "BUF @0x0000000958CF0E40",
                                    "2": "bIoCount",
                                    "3": "0"
                                },
                                {
                                    "0": "BUFFER:",
                                    "1": "BUF @0x0000000958CF0E40",
                                    "2": "resPoolId",
                                    "3": "0"
                                },
                                {
                                    "0": "BUFFER:",
                                    "1": "BUF @0x0000000958CF0E40",
                                    "2": "bcputicks",
                                    "3": "382752"
                                },
                                {
                                    "0": "BUFFER:",
                                    "1": "BUF @0x0000000958CF0E40",
                                    "2": "bReadMicroSec",
                                    "3": "949"
                                },
                                {
                                    "0": "BUFFER:",
                                    "1": "BUF @0x0000000958CF0E40",
                                    "2": "bDirtyContext",
                                    "3": "0x0000000951B16680"
                                },
                                {
                                    "0": "BUFFER:",
                                    "1": "BUF @0x0000000958CF0E40",
                                    "2": "bDbPageBroker",
                                    "3": "0x0000000000000000"
                                },
                                {
                                    "0": "BUFFER:",
                                    "1": "BUF @0x0000000958CF0E40",
                                    "2": "bdbid",
                                    "3": "2"
                                },
                                {
                                    "0": "BUFFER:",
                                    "1": "BUF @0x0000000958CF0E40",
                                    "2": "bpru",
                                    "3": "0x0000000948188040"
                                },
                                {
                                    "0": "PAGE HEADER:",
                                    "1": "Page @0x00000009488D2000",
                                    "2": "m_pageId",
                                    "3": "(1:116)"
                                },
                                {
                                    "0": "PAGE HEADER:",
                                    "1": "Page @0x00000009488D2000",
                                    "2": "m_headerVersion",
                                    "3": "1"
                                },
                                {
                                    "0": "PAGE HEADER:",
                                    "1": "Page @0x00000009488D2000",
                                    "2": "m_type",
                                    "3": "1"
                                },
                                {
                                    "0": "PAGE HEADER:",
                                    "1": "Page @0x00000009488D2000",
                                    "2": "m_typeFlagBits",
                                    "3": "0x4"
                                },
                                {
                                    "0": "PAGE HEADER:",
                                    "1": "Page @0x00000009488D2000",
                                    "2": "m_level",
                                    "3": "0"
                                },
                                {
                                    "0": "PAGE HEADER:",
                                    "1": "Page @0x00000009488D2000",
                                    "2": "m_flagBits",
                                    "3": "0x0"
                                },
                                {
                                    "0": "PAGE HEADER:",
                                    "1": "Page @0x00000009488D2000",
                                    "2": "m_objId (AllocUnitId.idObj)",
                                    "3": "34"
                                },
                                {
                                    "0": "PAGE HEADER:",
                                    "1": "Page @0x00000009488D2000",
                                    "2": "m_indexId (AllocUnitId.idInd)",
                                    "3": "1"
                                },
                                {
                                    "0": "PAGE HEADER:",
                                    "1": "Page @0x00000009488D2000",
                                    "2": "Metadata: AllocUnitId",
                                    "3": "281474978938880"
                                },
                                {
                                    "0": "PAGE HEADER:",
                                    "1": "Page @0x00000009488D2000",
                                    "2": "Metadata: PartitionId",
                                    "3": "281474978938880"
                                },
                                {
                                    "0": "PAGE HEADER:",
                                    "1": "Page @0x00000009488D2000",
                                    "2": "Metadata: IndexId",
                                    "3": "1"
                                },
                                {
                                    "0": "PAGE HEADER:",
                                    "1": "Page @0x00000009488D2000",
                                    "2": "Metadata: ObjectId",
                                    "3": "34"
                                },
                                {
                                    "0": "PAGE HEADER:",
                                    "1": "Page @0x00000009488D2000",
                                    "2": "m_prevPage",
                                    "3": "(0:0)"
                                },
                                {
                                    "0": "PAGE HEADER:",
                                    "1": "Page @0x00000009488D2000",
                                    "2": "m_nextPage",
                                    "3": "(1:302)"
                                },
                                {
                                    "0": "PAGE HEADER:",
                                    "1": "Page @0x00000009488D2000",
                                    "2": "pminlen",
                                    "3": "44"
                                },
                                {
                                    "0": "PAGE HEADER:",
                                    "1": "Page @0x00000009488D2000",
                                    "2": "m_slotCnt",
                                    "3": "15"
                                },
                                {
                                    "0": "PAGE HEADER:",
                                    "1": "Page @0x00000009488D2000",
                                    "2": "m_freeCnt",
                                    "3": "6242"
                                },
                                {
                                    "0": "PAGE HEADER:",
                                    "1": "Page @0x00000009488D2000",
                                    "2": "m_freeData",
                                    "3": "5352"
                                },
                                {
                                    "0": "PAGE HEADER:",
                                    "1": "Page @0x00000009488D2000",
                                    "2": "m_reservedCnt",
                                    "3": "0"
                                },
                                {
                                    "0": "PAGE HEADER:",
                                    "1": "Page @0x00000009488D2000",
                                    "2": "m_lsn",
                                    "3": "(73:21136:154)"
                                },
                                {
                                    "0": "PAGE HEADER:",
                                    "1": "Page @0x00000009488D2000",
                                    "2": "m_xactReserved",
                                    "3": "0"
                                },
                                {
                                    "0": "PAGE HEADER:",
                                    "1": "Page @0x00000009488D2000",
                                    "2": "m_xdesId",
                                    "3": "(0:0)"
                                },
                                {
                                    "0": "PAGE HEADER:",
                                    "1": "Page @0x00000009488D2000",
                                    "2": "m_ghostRecCnt",
                                    "3": "0"
                                },
                                {
                                    "0": "PAGE HEADER:",
                                    "1": "Page @0x00000009488D2000",
                                    "2": "m_tornBits",
                                    "3": "1678034623"
                                },
                                {
                                    "0": "PAGE HEADER:",
                                    "1": "Page @0x00000009488D2000",
                                    "2": "DB Frag ID",
                                    "3": "1"
                                },
                                {
                                    "0": "PAGE HEADER:",
                                    "1": "Allocation Status",
                                    "2": "GAM (1:2)",
                                    "3": "ALLOCATED"
                                },
                                {
                                    "0": "PAGE HEADER:",
                                    "1": "Allocation Status",
                                    "2": "SGAM (1:3)",
                                    "3": "NOT ALLOCATED"
                                },
                                {
                                    "0": "PAGE HEADER:",
                                    "1": "Allocation Status",
                                    "2": "PFS (1:1)",
                                    "3": "0x60 MIXED_EXT ALLOCATED   0_PCT_FULL"
                                },
                                {
                                    "0": "PAGE HEADER:",
                                    "1": "Allocation Status",
                                    "2": "DIFF (1:6)",
                                    "3": "CHANGED"
                                },
                                {
                                    "0": "PAGE HEADER:",
                                    "1": "Allocation Status",
                                    "2": "ML (1:7)",
                                    "3": "NOT MIN_LOGGED"
                                },
                                {
                                    "0": "PAGE HEADER:",
                                    "1": "Slot 0 Offset 0x13b0 Length 312",
                                    "2": "Record Type",
                                    "3": "PRIMARY_RECORD"
                                },
                                {
                                    "0": "PAGE HEADER:",
                                    "1": "Slot 0 Offset 0x13b0 Length 312",
                                    "2": "Record Attributes",
                                    "3": " NULL_BITMAP VARIABLE_COLUMNS"
                                },
                                {
                                    "0": "PAGE HEADER:",
                                    "1": "Slot 0 Offset 0x13b0 Length 312",
                                    "2": "Record Size",
                                    "3": "312"
                                },
                                {
                                    "0": "Slot 0 Offset 0x13b0 Length 312",
                                    "1": "Memory Dump @0x000000095DFE93B0",
                                    "2": "",
                                    "3": "0000000000000000:   30003000 b5176da0 01000000 0008000e 00552000  0.0.µ.m .........U ."
                                },
                                {
                                    "0": "Slot 0 Offset 0x13b0 Length 312",
                                    "1": "Memory Dump @0x000000095DFE93B0",
                                    "2": "",
                                    "3": "0000000000000014:   00000001 01000000 09407501 10ab0000 67a47501  ........\t@u..«..g¤u."
                                },
                                {
                                    "0": "Slot 0 Offset 0x13b0 Length 312",
                                    "1": "Memory Dump @0x000000095DFE93B0",
                                    "2": "",
                                    "3": "0000000000000028:   10ab0000 00000000 0c000000 01003801 23006700  .«............8.#.g."
                                },
                                {
                                    "0": "Slot 0 Offset 0x13b0 Length 312",
                                    "1": "Memory Dump @0x000000095DFE93B0",
                                    "2": "",
                                    "3": "000000000000003C:   6f007300 6f007800 5f005f00 5f005f00 5f005f00  o.s.o.x._._._._._._."
                                },
                                {
                                    "0": "Slot 0 Offset 0x13b0 Length 312",
                                    "1": "Memory Dump @0x000000095DFE93B0",
                                    "2": "",
                                    "3": "0000000000000050:   5f005f00 5f005f00 5f005f00 5f005f00 5f005f00  _._._._._._._._._._."
                                },
                                {
                                    "0": "Slot 0 Offset 0x13b0 Length 312",
                                    "1": "Memory Dump @0x000000095DFE93B0",
                                    "2": "",
                                    "3": "0000000000000064:   5f005f00 5f005f00 5f005f00 5f005f00 5f005f00  _._._._._._._._._._."
                                },
                                {
                                    "0": "Slot 0 Offset 0x13b0 Length 312",
                                    "1": "Memory Dump @0x000000095DFE93B0",
                                    "2": "",
                                    "3": "0000000000000078:   5f005f00 5f005f00 5f005f00 5f005f00 5f005f00  _._._._._._._._._._."
                                },
                                {
                                    "0": "Slot 0 Offset 0x13b0 Length 312",
                                    "1": "Memory Dump @0x000000095DFE93B0",
                                    "2": "",
                                    "3": "000000000000008C:   5f005f00 5f005f00 5f005f00 5f005f00 5f005f00  _._._._._._._._._._."
                                },
                                {
                                    "0": "Slot 0 Offset 0x13b0 Length 312",
                                    "1": "Memory Dump @0x000000095DFE93B0",
                                    "2": "",
                                    "3": "00000000000000A0:   5f005f00 5f005f00 5f005f00 5f005f00 5f005f00  _._._._._._._._._._."
                                },
                                {
                                    "0": "Slot 0 Offset 0x13b0 Length 312",
                                    "1": "Memory Dump @0x000000095DFE93B0",
                                    "2": "",
                                    "3": "00000000000000B4:   5f005f00 5f005f00 5f005f00 5f005f00 5f005f00  _._._._._._._._._._."
                                },
                                {
                                    "0": "Slot 0 Offset 0x13b0 Length 312",
                                    "1": "Memory Dump @0x000000095DFE93B0",
                                    "2": "",
                                    "3": "00000000000000C8:   5f005f00 5f005f00 5f005f00 5f005f00 5f005f00  _._._._._._._._._._."
                                },
                                {
                                    "0": "Slot 0 Offset 0x13b0 Length 312",
                                    "1": "Memory Dump @0x000000095DFE93B0",
                                    "2": "",
                                    "3": "00000000000000DC:   5f005f00 5f005f00 5f005f00 5f005f00 5f005f00  _._._._._._._._._._."
                                },
                                {
                                    "0": "Slot 0 Offset 0x13b0 Length 312",
                                    "1": "Memory Dump @0x000000095DFE93B0",
                                    "2": "",
                                    "3": "00000000000000F0:   5f005f00 5f005f00 5f005f00 5f005f00 5f005f00  _._._._._._._._._._."
                                },
                                {
                                    "0": "Slot 0 Offset 0x13b0 Length 312",
                                    "1": "Memory Dump @0x000000095DFE93B0",
                                    "2": "",
                                    "3": "0000000000000104:   5f005f00 5f005f00 5f005f00 5f005f00 5f005f00  _._._._._._._._._._."
                                },
                                {
                                    "0": "Slot 0 Offset 0x13b0 Length 312",
                                    "1": "Memory Dump @0x000000095DFE93B0",
                                    "2": "",
                                    "3": "0000000000000118:   5f005f00 5f005f00 30003000 30003000 30003000  _._._._.0.0.0.0.0.0."
                                },
                                {
                                    "0": "Slot 0 Offset 0x13b0 Length 312",
                                    "1": "Memory Dump @0x000000095DFE93B0",
                                    "2": "",
                                    "3": "000000000000012C:   30003000 30003000 32003300                    0.0.0.0.2.3."
                                },
                                {
                                    "0": "Slot 0 Offset 0x13b0 Length 312",
                                    "1": "Slot 0 Column 1 Offset 0x4 Length 4 Length (physical) 4",
                                    "2": "id",
                                    "3": "-1603463243"
                                },
                                {
                                    "0": "Slot 0 Offset 0x13b0 Length 312",
                                    "1": "Slot 0 Column 2 Offset 0x38 Length 256 Length (physical) 256",
                                    "2": "name",
                                    "3": "#gosox______________________________________________________________________________________________________________000000000023"
                                },
                                {
                                    "0": "Slot 0 Offset 0x13b0 Length 312",
                                    "1": "Slot 0 Column 3 Offset 0x8 Length 4 Length (physical) 4",
                                    "2": "nsid",
                                    "3": "1"
                                },
                                {
                                    "0": "Slot 0 Offset 0x13b0 Length 312",
                                    "1": "Slot 0 Column 4 Offset 0xc Length 1 Length (physical) 1",
                                    "2": "nsclass",
                                    "3": "0"
                                },
                                {
                                    "0": "Slot 0 Offset 0x13b0 Length 312",
                                    "1": "Slot 0 Column 5 Offset 0xd Length 4 Length (physical) 4",
                                    "2": "status",
                                    "3": "917512"
                                },
                                {
                                    "0": "Slot 0 Offset 0x13b0 Length 312",
                                    "1": "Slot 0 Column 6 Offset 0x11 Length 2 Length (physical) 2",
                                    "2": "type",
                                    "3": "U "
                                },
                                {
                                    "0": "Slot 0 Offset 0x13b0 Length 312",
                                    "1": "Slot 0 Column 7 Offset 0x13 Length 4 Length (physical) 4",
                                    "2": "pid",
                                    "3": "0"
                                },
                                {
                                    "0": "Slot 0 Offset 0x13b0 Length 312",
                                    "1": "Slot 0 Column 8 Offset 0x17 Length 1 Length (physical) 1",
                                    "2": "pclass",
                                    "3": "1"
                                },
                                {
                                    "0": "Slot 0 Offset 0x13b0 Length 312",
                                    "1": "Slot 0 Column 9 Offset 0x18 Length 4 Length (physical) 4",
                                    "2": "intprop",
                                    "3": "1"
                                },
                                {
                                    "0": "Slot 0 Offset 0x13b0 Length 312",
                                    "1": "Slot 0 Column 10 Offset 0x1c Length 8 Length (physical) 8",
                                    "2": "created",
                                    "3": "2019-11-25 22:38:57.737"
                                },
                                {
                                    "0": "Slot 0 Offset 0x13b0 Length 312",
                                    "1": "Slot 0 Column 11 Offset 0x24 Length 8 Length (physical) 8",
                                    "2": "modified",
                                    "3": "2019-11-25 22:40:23.383"
                                },
                                {
                                    "0": "Slot 0 Offset 0x13b0 Length 312",
                                    "1": "Slot 0 Column 12 Offset 0x2c Length 4 Length (physical) 4",
                                    "2": "status2",
                                    "3": "0"
                                },
                                {
                                    "0": "Slot 0 Offset 0x13b0 Length 312",
                                    "1": "Slot 0 Offset 0x0 Length 0 Length (physical) 0",
                                    "2": "KeyHashValue",
                                    "3": "(0191f5fd3093)"
                                },
                                {
                                    "0": "PAGE HEADER:",
                                    "1": "Slot 1 Offset 0x60 Length 74",
                                    "2": "Record Type",
                                    "3": "PRIMARY_RECORD"
                                },
                                {
                                    "0": "PAGE HEADER:",
                                    "1": "Slot 1 Offset 0x60 Length 74",
                                    "2": "Record Attributes",
                                    "3": " NULL_BITMAP VARIABLE_COLUMNS"
                                },
                                {
                                    "0": "PAGE HEADER:",
                                    "1": "Slot 1 Offset 0x60 Length 74",
                                    "2": "Record Size",
                                    "3": "74"
                                },
                                {
                                    "0": "Slot 1 Offset 0x60 Length 74",
                                    "1": "Memory Dump @0x000000095DFE8060",
                                    "2": "",
                                    "3": "0000000000000000:   30003000 5c6cf4a0 01000000 0008000e 00552000  0.0.\\lô .........U ."
                                },
                                {
                                    "0": "Slot 1 Offset 0x60 Length 74",
                                    "1": "Memory Dump @0x000000095DFE8060",
                                    "2": "",
                                    "3": "0000000000000014:   00000001 01000000 cc3f7501 10ab0000 faa37501  ........Ì?u..«..ú£u."
                                },
                                {
                                    "0": "Slot 1 Offset 0x60 Length 74",
                                    "1": "Memory Dump @0x000000095DFE8060",
                                    "2": "",
                                    "3": "0000000000000028:   10ab0000 00000000 0c000000 01004a00 23004100  .«............J.#.A."
                                },
                                {
                                    "0": "Slot 1 Offset 0x60 Length 74",
                                    "1": "Memory Dump @0x000000095DFE8060",
                                    "2": "",
                                    "3": "000000000000003C:   30004600 34003600 43003500 4300               0.F.4.6.C.5.C."
                                },
                                {
                                    "0": "Slot 1 Offset 0x60 Length 74",
                                    "1": "Slot 1 Column 1 Offset 0x4 Length 4 Length (physical) 4",
                                    "2": "id",
                                    "3": "-1594594212"
                                },
                                {
                                    "0": "Slot 1 Offset 0x60 Length 74",
                                    "1": "Slot 1 Column 2 Offset 0x38 Length 18 Length (physical) 18",
                                    "2": "name",
                                    "3": "#A0F46C5C"
                                },
                                {
                                    "0": "Slot 1 Offset 0x60 Length 74",
                                    "1": "Slot 1 Column 3 Offset 0x8 Length 4 Length (physical) 4",
                                    "2": "nsid",
                                    "3": "1"
                                },
                                {
                                    "0": "Slot 1 Offset 0x60 Length 74",
                                    "1": "Slot 1 Column 4 Offset 0xc Length 1 Length (physical) 1",
                                    "2": "nsclass",
                                    "3": "0"
                                },
                                {
                                    "0": "Slot 1 Offset 0x60 Length 74",
                                    "1": "Slot 1 Column 5 Offset 0xd Length 4 Length (physical) 4",
                                    "2": "status",
                                    "3": "917512"
                                },
                                {
                                    "0": "Slot 1 Offset 0x60 Length 74",
                                    "1": "Slot 1 Column 6 Offset 0x11 Length 2 Length (physical) 2",
                                    "2": "type",
                                    "3": "U "
                                },
                                {
                                    "0": "Slot 1 Offset 0x60 Length 74",
                                    "1": "Slot 1 Column 7 Offset 0x13 Length 4 Length (physical) 4",
                                    "2": "pid",
                                    "3": "0"
                                },
                                {
                                    "0": "Slot 1 Offset 0x60 Length 74",
                                    "1": "Slot 1 Column 8 Offset 0x17 Length 1 Length (physical) 1",
                                    "2": "pclass",
                                    "3": "1"
                                },
                                {
                                    "0": "Slot 1 Offset 0x60 Length 74",
                                    "1": "Slot 1 Column 9 Offset 0x18 Length 4 Length (physical) 4",
                                    "2": "intprop",
                                    "3": "1"
                                },
                                {
                                    "0": "Slot 1 Offset 0x60 Length 74",
                                    "1": "Slot 1 Column 10 Offset 0x1c Length 8 Length (physical) 8",
                                    "2": "created",
                                    "3": "2019-11-25 22:38:57.533"
                                },
                                {
                                    "0": "Slot 1 Offset 0x60 Length 74",
                                    "1": "Slot 1 Column 11 Offset 0x24 Length 8 Length (physical) 8",
                                    "2": "modified",
                                    "3": "2019-11-25 22:40:23.020"
                                },
                                {
                                    "0": "Slot 1 Offset 0x60 Length 74",
                                    "1": "Slot 1 Column 12 Offset 0x2c Length 4 Length (physical) 4",
                                    "2": "status2",
                                    "3": "0"
                                },
                                {
                                    "0": "Slot 1 Offset 0x60 Length 74",
                                    "1": "Slot 1 Offset 0x0 Length 0 Length (physical) 0",
                                    "2": "KeyHashValue",
                                    "3": "(0200fcfd7630)"
                                },
                                {
                                    "0": "PAGE HEADER:",
                                    "1": "Slot 2 Offset 0x1140 Length 312",
                                    "2": "Record Type",
                                    "3": "PRIMARY_RECORD"
                                },
                                {
                                    "0": "PAGE HEADER:",
                                    "1": "Slot 2 Offset 0x1140 Length 312",
                                    "2": "Record Attributes",
                                    "3": " NULL_BITMAP VARIABLE_COLUMNS"
                                },
                                {
                                    "0": "PAGE HEADER:",
                                    "1": "Slot 2 Offset 0x1140 Length 312",
                                    "2": "Record Size",
                                    "3": "312"
                                },
                                {
                                    "0": "Slot 2 Offset 0x1140 Length 312",
                                    "1": "Memory Dump @0x000000095DFE9140",
                                    "2": "",
                                    "3": "0000000000000000:   30003000 ee3b61a1 01000000 0008000e 00552000  0.0.î;a¡.........U ."
                                },
                                {
                                    "0": "Slot 2 Offset 0x1140 Length 312",
                                    "1": "Memory Dump @0x000000095DFE9140",
                                    "2": "",
                                    "3": "0000000000000014:   00000001 01000000 0a407501 10ab0000 67a47501  .........@u..«..g¤u."
                                },
                                {
                                    "0": "Slot 2 Offset 0x1140 Length 312",
                                    "1": "Memory Dump @0x000000095DFE9140",
                                    "2": "",
                                    "3": "0000000000000028:   10ab0000 00000000 0c000000 01003801 23006700  .«............8.#.g."
                                },
                                {
                                    "0": "Slot 2 Offset 0x1140 Length 312",
                                    "1": "Memory Dump @0x000000095DFE9140",
                                    "2": "",
                                    "3": "000000000000003C:   6f007300 6f007800 5f005f00 5f005f00 5f005f00  o.s.o.x._._._._._._."
                                },
                                {
                                    "0": "Slot 2 Offset 0x1140 Length 312",
                                    "1": "Memory Dump @0x000000095DFE9140",
                                    "2": "",
                                    "3": "0000000000000050:   5f005f00 5f005f00 5f005f00 5f005f00 5f005f00  _._._._._._._._._._."
                                },
                                {
                                    "0": "Slot 2 Offset 0x1140 Length 312",
                                    "1": "Memory Dump @0x000000095DFE9140",
                                    "2": "",
                                    "3": "0000000000000064:   5f005f00 5f005f00 5f005f00 5f005f00 5f005f00  _._._._._._._._._._."
                                },
                                {
                                    "0": "Slot 2 Offset 0x1140 Length 312",
                                    "1": "Memory Dump @0x000000095DFE9140",
                                    "2": "",
                                    "3": "0000000000000078:   5f005f00 5f005f00 5f005f00 5f005f00 5f005f00  _._._._._._._._._._."
                                },
                                {
                                    "0": "Slot 2 Offset 0x1140 Length 312",
                                    "1": "Memory Dump @0x000000095DFE9140",
                                    "2": "",
                                    "3": "000000000000008C:   5f005f00 5f005f00 5f005f00 5f005f00 5f005f00  _._._._._._._._._._."
                                },
                                {
                                    "0": "Slot 2 Offset 0x1140 Length 312",
                                    "1": "Memory Dump @0x000000095DFE9140",
                                    "2": "",
                                    "3": "00000000000000A0:   5f005f00 5f005f00 5f005f00 5f005f00 5f005f00  _._._._._._._._._._."
                                },
                                {
                                    "0": "Slot 2 Offset 0x1140 Length 312",
                                    "1": "Memory Dump @0x000000095DFE9140",
                                    "2": "",
                                    "3": "00000000000000B4:   5f005f00 5f005f00 5f005f00 5f005f00 5f005f00  _._._._._._._._._._."
                                },
                                {
                                    "0": "Slot 2 Offset 0x1140 Length 312",
                                    "1": "Memory Dump @0x000000095DFE9140",
                                    "2": "",
                                    "3": "00000000000000C8:   5f005f00 5f005f00 5f005f00 5f005f00 5f005f00  _._._._._._._._._._."
                                },
                                {
                                    "0": "Slot 2 Offset 0x1140 Length 312",
                                    "1": "Memory Dump @0x000000095DFE9140",
                                    "2": "",
                                    "3": "00000000000000DC:   5f005f00 5f005f00 5f005f00 5f005f00 5f005f00  _._._._._._._._._._."
                                },
                                {
                                    "0": "Slot 2 Offset 0x1140 Length 312",
                                    "1": "Memory Dump @0x000000095DFE9140",
                                    "2": "",
                                    "3": "00000000000000F0:   5f005f00 5f005f00 5f005f00 5f005f00 5f005f00  _._._._._._._._._._."
                                },
                                {
                                    "0": "Slot 2 Offset 0x1140 Length 312",
                                    "1": "Memory Dump @0x000000095DFE9140",
                                    "2": "",
                                    "3": "0000000000000104:   5f005f00 5f005f00 5f005f00 5f005f00 5f005f00  _._._._._._._._._._."
                                },
                                {
                                    "0": "Slot 2 Offset 0x1140 Length 312",
                                    "1": "Memory Dump @0x000000095DFE9140",
                                    "2": "",
                                    "3": "0000000000000118:   5f005f00 5f005f00 30003000 30003000 30003000  _._._._.0.0.0.0.0.0."
                                },
                                {
                                    "0": "Slot 2 Offset 0x1140 Length 312",
                                    "1": "Memory Dump @0x000000095DFE9140",
                                    "2": "",
                                    "3": "000000000000012C:   30003000 30003000 32003400                    0.0.0.0.2.4."
                                },
                                {
                                    "0": "Slot 2 Offset 0x1140 Length 312",
                                    "1": "Slot 2 Column 1 Offset 0x4 Length 4 Length (physical) 4",
                                    "2": "id",
                                    "3": "-1587463186"
                                },
                                {
                                    "0": "Slot 2 Offset 0x1140 Length 312",
                                    "1": "Slot 2 Column 2 Offset 0x38 Length 256 Length (physical) 256",
                                    "2": "name",
                                    "3": "#gosox______________________________________________________________________________________________________________000000000024"
                                },
                                {
                                    "0": "Slot 2 Offset 0x1140 Length 312",
                                    "1": "Slot 2 Column 3 Offset 0x8 Length 4 Length (physical) 4",
                                    "2": "nsid",
                                    "3": "1"
                                },
                                {
                                    "0": "Slot 2 Offset 0x1140 Length 312",
                                    "1": "Slot 2 Column 4 Offset 0xc Length 1 Length (physical) 1",
                                    "2": "nsclass",
                                    "3": "0"
                                },
                                {
                                    "0": "Slot 2 Offset 0x1140 Length 312",
                                    "1": "Slot 2 Column 5 Offset 0xd Length 4 Length (physical) 4",
                                    "2": "status",
                                    "3": "917512"
                                },
                                {
                                    "0": "Slot 2 Offset 0x1140 Length 312",
                                    "1": "Slot 2 Column 6 Offset 0x11 Length 2 Length (physical) 2",
                                    "2": "type",
                                    "3": "U "
                                },
                                {
                                    "0": "Slot 2 Offset 0x1140 Length 312",
                                    "1": "Slot 2 Column 7 Offset 0x13 Length 4 Length (physical) 4",
                                    "2": "pid",
                                    "3": "0"
                                },
                                {
                                    "0": "Slot 2 Offset 0x1140 Length 312",
                                    "1": "Slot 2 Column 8 Offset 0x17 Length 1 Length (physical) 1",
                                    "2": "pclass",
                                    "3": "1"
                                },
                                {
                                    "0": "Slot 2 Offset 0x1140 Length 312",
                                    "1": "Slot 2 Column 9 Offset 0x18 Length 4 Length (physical) 4",
                                    "2": "intprop",
                                    "3": "1"
                                },
                                {
                                    "0": "Slot 2 Offset 0x1140 Length 312",
                                    "1": "Slot 2 Column 10 Offset 0x1c Length 8 Length (physical) 8",
                                    "2": "created",
                                    "3": "2019-11-25 22:38:57.740"
                                },
                                {
                                    "0": "Slot 2 Offset 0x1140 Length 312",
                                    "1": "Slot 2 Column 11 Offset 0x24 Length 8 Length (physical) 8",
                                    "2": "modified",
                                    "3": "2019-11-25 22:40:23.383"
                                },
                                {
                                    "0": "Slot 2 Offset 0x1140 Length 312",
                                    "1": "Slot 2 Column 12 Offset 0x2c Length 4 Length (physical) 4",
                                    "2": "status2",
                                    "3": "0"
                                },
                                {
                                    "0": "Slot 2 Offset 0x1140 Length 312",
                                    "1": "Slot 2 Offset 0x0 Length 0 Length (physical) 0",
                                    "2": "KeyHashValue",
                                    "3": "(53f3df89b241)"
                                },
                                {
                                    "0": "PAGE HEADER:",
                                    "1": "Slot 3 Offset 0x21c Length 74",
                                    "2": "Record Type",
                                    "3": "PRIMARY_RECORD"
                                },
                                {
                                    "0": "PAGE HEADER:",
                                    "1": "Slot 3 Offset 0x21c Length 74",
                                    "2": "Record Attributes",
                                    "3": " NULL_BITMAP VARIABLE_COLUMNS"
                                },
                                {
                                    "0": "PAGE HEADER:",
                                    "1": "Slot 3 Offset 0x21c Length 74",
                                    "2": "Record Size",
                                    "3": "74"
                                },
                                {
                                    "0": "Slot 3 Offset 0x21c Length 74",
                                    "1": "Memory Dump @0x000000095DFE821C",
                                    "2": "",
                                    "3": "0000000000000000:   30003000 9590e8a1 01000000 0008000e 00552000  0.0..è¡.........U ."
                                },
                                {
                                    "0": "Slot 3 Offset 0x21c Length 74",
                                    "1": "Memory Dump @0x000000095DFE821C",
                                    "2": "",
                                    "3": "0000000000000014:   00000001 01000000 cc3f7501 10ab0000 5ca47501  ........Ì?u..«..\\¤u."
                                },
                                {
                                    "0": "Slot 3 Offset 0x21c Length 74",
                                    "1": "Memory Dump @0x000000095DFE821C",
                                    "2": "",
                                    "3": "0000000000000028:   10ab0000 00000000 0c000000 01004a00 23004100  .«............J.#.A."
                                },
                                {
                                    "0": "Slot 3 Offset 0x21c Length 74",
                                    "1": "Memory Dump @0x000000095DFE821C",
                                    "2": "",
                                    "3": "000000000000003C:   31004500 38003900 30003900 3500               1.E.8.9.0.9.5."
                                },
                                {
                                    "0": "Slot 3 Offset 0x21c Length 74",
                                    "1": "Slot 3 Column 1 Offset 0x4 Length 4 Length (physical) 4",
                                    "2": "id",
                                    "3": "-1578594155"
                                },
                                {
                                    "0": "Slot 3 Offset 0x21c Length 74",
                                    "1": "Slot 3 Column 2 Offset 0x38 Length 18 Length (physical) 18",
                                    "2": "name",
                                    "3": "#A1E89095"
                                },
                                {
                                    "0": "Slot 3 Offset 0x21c Length 74",
                                    "1": "Slot 3 Column 3 Offset 0x8 Length 4 Length (physical) 4",
                                    "2": "nsid",
                                    "3": "1"
                                },
                                {
                                    "0": "Slot 3 Offset 0x21c Length 74",
                                    "1": "Slot 3 Column 4 Offset 0xc Length 1 Length (physical) 1",
                                    "2": "nsclass",
                                    "3": "0"
                                },
                                {
                                    "0": "Slot 3 Offset 0x21c Length 74",
                                    "1": "Slot 3 Column 5 Offset 0xd Length 4 Length (physical) 4",
                                    "2": "status",
                                    "3": "917512"
                                },
                                {
                                    "0": "Slot 3 Offset 0x21c Length 74",
                                    "1": "Slot 3 Column 6 Offset 0x11 Length 2 Length (physical) 2",
                                    "2": "type",
                                    "3": "U "
                                },
                                {
                                    "0": "Slot 3 Offset 0x21c Length 74",
                                    "1": "Slot 3 Column 7 Offset 0x13 Length 4 Length (physical) 4",
                                    "2": "pid",
                                    "3": "0"
                                },
                                {
                                    "0": "Slot 3 Offset 0x21c Length 74",
                                    "1": "Slot 3 Column 8 Offset 0x17 Length 1 Length (physical) 1",
                                    "2": "pclass",
                                    "3": "1"
                                },
                                {
                                    "0": "Slot 3 Offset 0x21c Length 74",
                                    "1": "Slot 3 Column 9 Offset 0x18 Length 4 Length (physical) 4",
                                    "2": "intprop",
                                    "3": "1"
                                },
                                {
                                    "0": "Slot 3 Offset 0x21c Length 74",
                                    "1": "Slot 3 Column 10 Offset 0x1c Length 8 Length (physical) 8",
                                    "2": "created",
                                    "3": "2019-11-25 22:38:57.533"
                                },
                                {
                                    "0": "Slot 3 Offset 0x21c Length 74",
                                    "1": "Slot 3 Column 11 Offset 0x24 Length 8 Length (physical) 8",
                                    "2": "modified",
                                    "3": "2019-11-25 22:40:23.347"
                                },
                                {
                                    "0": "Slot 3 Offset 0x21c Length 74",
                                    "1": "Slot 3 Column 12 Offset 0x2c Length 4 Length (physical) 4",
                                    "2": "status2",
                                    "3": "0"
                                },
                                {
                                    "0": "Slot 3 Offset 0x21c Length 74",
                                    "1": "Slot 3 Offset 0x0 Length 0 Length (physical) 0",
                                    "2": "KeyHashValue",
                                    "3": "(84e6005513d5)"
                                },
                                {
                                    "0": "PAGE HEADER:",
                                    "1": "Slot 4 Offset 0x1008 Length 74",
                                    "2": "Record Type",
                                    "3": "PRIMARY_RECORD"
                                },
                                {
                                    "0": "PAGE HEADER:",
                                    "1": "Slot 4 Offset 0x1008 Length 74",
                                    "2": "Record Attributes",
                                    "3": " NULL_BITMAP VARIABLE_COLUMNS"
                                },
                                {
                                    "0": "PAGE HEADER:",
                                    "1": "Slot 4 Offset 0x1008 Length 74",
                                    "2": "Record Size",
                                    "3": "74"
                                },
                                {
                                    "0": "Slot 4 Offset 0x1008 Length 74",
                                    "1": "Memory Dump @0x000000095DFE9008",
                                    "2": "",
                                    "3": "0000000000000000:   30003000 276055a2 01000000 0008000e 00552000  0.0.'`U¢.........U ."
                                },
                                {
                                    "0": "Slot 4 Offset 0x1008 Length 74",
                                    "1": "Memory Dump @0x000000095DFE9008",
                                    "2": "",
                                    "3": "0000000000000014:   00000001 01000000 0c407501 10ab0000 66a47501  .........@u..«..f¤u."
                                },
                                {
                                    "0": "Slot 4 Offset 0x1008 Length 74",
                                    "1": "Memory Dump @0x000000095DFE9008",
                                    "2": "",
                                    "3": "0000000000000028:   10ab0000 00000000 0c000000 01004a00 23004100  .«............J.#.A."
                                },
                                {
                                    "0": "Slot 4 Offset 0x1008 Length 74",
                                    "1": "Memory Dump @0x000000095DFE9008",
                                    "2": "",
                                    "3": "000000000000003C:   32003500 35003600 30003200 3700               2.5.5.6.0.2.7."
                                },
                                {
                                    "0": "Slot 4 Offset 0x1008 Length 74",
                                    "1": "Slot 4 Column 1 Offset 0x4 Length 4 Length (physical) 4",
                                    "2": "id",
                                    "3": "-1571463129"
                                },
                                {
                                    "0": "Slot 4 Offset 0x1008 Length 74",
                                    "1": "Slot 4 Column 2 Offset 0x38 Length 18 Length (physical) 18",
                                    "2": "name",
                                    "3": "#A2556027"
                                },
                                {
                                    "0": "Slot 4 Offset 0x1008 Length 74",
                                    "1": "Slot 4 Column 3 Offset 0x8 Length 4 Length (physical) 4",
                                    "2": "nsid",
                                    "3": "1"
                                },
                                {
                                    "0": "Slot 4 Offset 0x1008 Length 74",
                                    "1": "Slot 4 Column 4 Offset 0xc Length 1 Length (physical) 1",
                                    "2": "nsclass",
                                    "3": "0"
                                },
                                {
                                    "0": "Slot 4 Offset 0x1008 Length 74",
                                    "1": "Slot 4 Column 5 Offset 0xd Length 4 Length (physical) 4",
                                    "2": "status",
                                    "3": "917512"
                                },
                                {
                                    "0": "Slot 4 Offset 0x1008 Length 74",
                                    "1": "Slot 4 Column 6 Offset 0x11 Length 2 Length (physical) 2",
                                    "2": "type",
                                    "3": "U "
                                },
                                {
                                    "0": "Slot 4 Offset 0x1008 Length 74",
                                    "1": "Slot 4 Column 7 Offset 0x13 Length 4 Length (physical) 4",
                                    "2": "pid",
                                    "3": "0"
                                },
                                {
                                    "0": "Slot 4 Offset 0x1008 Length 74",
                                    "1": "Slot 4 Column 8 Offset 0x17 Length 1 Length (physical) 1",
                                    "2": "pclass",
                                    "3": "1"
                                },
                                {
                                    "0": "Slot 4 Offset 0x1008 Length 74",
                                    "1": "Slot 4 Column 9 Offset 0x18 Length 4 Length (physical) 4",
                                    "2": "intprop",
                                    "3": "1"
                                },
                                {
                                    "0": "Slot 4 Offset 0x1008 Length 74",
                                    "1": "Slot 4 Column 10 Offset 0x1c Length 8 Length (physical) 8",
                                    "2": "created",
                                    "3": "2019-11-25 22:38:57.747"
                                },
                                {
                                    "0": "Slot 4 Offset 0x1008 Length 74",
                                    "1": "Slot 4 Column 11 Offset 0x24 Length 8 Length (physical) 8",
                                    "2": "modified",
                                    "3": "2019-11-25 22:40:23.380"
                                },
                                {
                                    "0": "Slot 4 Offset 0x1008 Length 74",
                                    "1": "Slot 4 Column 12 Offset 0x2c Length 4 Length (physical) 4",
                                    "2": "status2",
                                    "3": "0"
                                },
                                {
                                    "0": "Slot 4 Offset 0x1008 Length 74",
                                    "1": "Slot 4 Offset 0x0 Length 0 Length (physical) 0",
                                    "2": "KeyHashValue",
                                    "3": "(3bb514be4c28)"
                                },
                                {
                                    "0": "PAGE HEADER:",
                                    "1": "Slot 5 Offset 0xf4 Length 74",
                                    "2": "Record Type",
                                    "3": "PRIMARY_RECORD"
                                },
                                {
                                    "0": "PAGE HEADER:",
                                    "1": "Slot 5 Offset 0xf4 Length 74",
                                    "2": "Record Attributes",
                                    "3": " NULL_BITMAP VARIABLE_COLUMNS"
                                },
                                {
                                    "0": "PAGE HEADER:",
                                    "1": "Slot 5 Offset 0xf4 Length 74",
                                    "2": "Record Size",
                                    "3": "74"
                                },
                                {
                                    "0": "Slot 5 Offset 0xf4 Length 74",
                                    "1": "Memory Dump @0x000000095DFE80F4",
                                    "2": "",
                                    "3": "0000000000000000:   30003000 ceb4dca2 01000000 0008000e 00552000  0.0.Î´Ü¢.........U ."
                                },
                                {
                                    "0": "Slot 5 Offset 0xf4 Length 74",
                                    "1": "Memory Dump @0x000000095DFE80F4",
                                    "2": "",
                                    "3": "0000000000000014:   00000001 01000000 ce3f7501 10ab0000 58a47501  ........Î?u..«..X¤u."
                                },
                                {
                                    "0": "Slot 5 Offset 0xf4 Length 74",
                                    "1": "Memory Dump @0x000000095DFE80F4",
                                    "2": "",
                                    "3": "0000000000000028:   10ab0000 00000000 0c000000 01004a00 23004100  .«............J.#.A."
                                },
                                {
                                    "0": "Slot 5 Offset 0xf4 Length 74",
                                    "1": "Memory Dump @0x000000095DFE80F4",
                                    "2": "",
                                    "3": "000000000000003C:   32004400 43004200 34004300 4500               2.D.C.B.4.C.E."
                                },
                                {
                                    "0": "Slot 5 Offset 0xf4 Length 74",
                                    "1": "Slot 5 Column 1 Offset 0x4 Length 4 Length (physical) 4",
                                    "2": "id",
                                    "3": "-1562594098"
                                },
                                {
                                    "0": "Slot 5 Offset 0xf4 Length 74",
                                    "1": "Slot 5 Column 2 Offset 0x38 Length 18 Length (physical) 18",
                                    "2": "name",
                                    "3": "#A2DCB4CE"
                                },
                                {
                                    "0": "Slot 5 Offset 0xf4 Length 74",
                                    "1": "Slot 5 Column 3 Offset 0x8 Length 4 Length (physical) 4",
                                    "2": "nsid",
                                    "3": "1"
                                },
                                {
                                    "0": "Slot 5 Offset 0xf4 Length 74",
                                    "1": "Slot 5 Column 4 Offset 0xc Length 1 Length (physical) 1",
                                    "2": "nsclass",
                                    "3": "0"
                                },
                                {
                                    "0": "Slot 5 Offset 0xf4 Length 74",
                                    "1": "Slot 5 Column 5 Offset 0xd Length 4 Length (physical) 4",
                                    "2": "status",
                                    "3": "917512"
                                },
                                {
                                    "0": "Slot 5 Offset 0xf4 Length 74",
                                    "1": "Slot 5 Column 6 Offset 0x11 Length 2 Length (physical) 2",
                                    "2": "type",
                                    "3": "U "
                                },
                                {
                                    "0": "Slot 5 Offset 0xf4 Length 74",
                                    "1": "Slot 5 Column 7 Offset 0x13 Length 4 Length (physical) 4",
                                    "2": "pid",
                                    "3": "0"
                                },
                                {
                                    "0": "Slot 5 Offset 0xf4 Length 74",
                                    "1": "Slot 5 Column 8 Offset 0x17 Length 1 Length (physical) 1",
                                    "2": "pclass",
                                    "3": "1"
                                },
                                {
                                    "0": "Slot 5 Offset 0xf4 Length 74",
                                    "1": "Slot 5 Column 9 Offset 0x18 Length 4 Length (physical) 4",
                                    "2": "intprop",
                                    "3": "1"
                                },
                                {
                                    "0": "Slot 5 Offset 0xf4 Length 74",
                                    "1": "Slot 5 Column 10 Offset 0x1c Length 8 Length (physical) 8",
                                    "2": "created",
                                    "3": "2019-11-25 22:38:57.540"
                                },
                                {
                                    "0": "Slot 5 Offset 0xf4 Length 74",
                                    "1": "Slot 5 Column 11 Offset 0x24 Length 8 Length (physical) 8",
                                    "2": "modified",
                                    "3": "2019-11-25 22:40:23.333"
                                },
                                {
                                    "0": "Slot 5 Offset 0xf4 Length 74",
                                    "1": "Slot 5 Column 12 Offset 0x2c Length 4 Length (physical) 4",
                                    "2": "status2",
                                    "3": "0"
                                },
                                {
                                    "0": "Slot 5 Offset 0xf4 Length 74",
                                    "1": "Slot 5 Offset 0x0 Length 0 Length (physical) 0",
                                    "2": "KeyHashValue",
                                    "3": "(34d52864e721)"
                                },
                                {
                                    "0": "PAGE HEADER:",
                                    "1": "Slot 6 Offset 0xd98 Length 74",
                                    "2": "Record Type",
                                    "3": "PRIMARY_RECORD"
                                },
                                {
                                    "0": "PAGE HEADER:",
                                    "1": "Slot 6 Offset 0xd98 Length 74",
                                    "2": "Record Attributes",
                                    "3": " NULL_BITMAP VARIABLE_COLUMNS"
                                },
                                {
                                    "0": "PAGE HEADER:",
                                    "1": "Slot 6 Offset 0xd98 Length 74",
                                    "2": "Record Size",
                                    "3": "74"
                                },
                                {
                                    "0": "Slot 6 Offset 0xd98 Length 74",
                                    "1": "Memory Dump @0x000000095DFE8D98",
                                    "2": "",
                                    "3": "0000000000000000:   30003000 608449a3 01000000 0008000e 00552000  0.0.`I£.........U ."
                                },
                                {
                                    "0": "Slot 6 Offset 0xd98 Length 74",
                                    "1": "Memory Dump @0x000000095DFE8D98",
                                    "2": "",
                                    "3": "0000000000000014:   00000001 01000000 0c407501 10ab0000 67a47501  .........@u..«..g¤u."
                                },
                                {
                                    "0": "Slot 6 Offset 0xd98 Length 74",
                                    "1": "Memory Dump @0x000000095DFE8D98",
                                    "2": "",
                                    "3": "0000000000000028:   10ab0000 00000000 0c000000 01004a00 23004100  .«............J.#.A."
                                },
                                {
                                    "0": "Slot 6 Offset 0xd98 Length 74",
                                    "1": "Memory Dump @0x000000095DFE8D98",
                                    "2": "",
                                    "3": "000000000000003C:   33003400 39003800 34003600 3000               3.4.9.8.4.6.0."
                                },
                                {
                                    "0": "Slot 6 Offset 0xd98 Length 74",
                                    "1": "Slot 6 Column 1 Offset 0x4 Length 4 Length (physical) 4",
                                    "2": "id",
                                    "3": "-1555463072"
                                },
                                {
                                    "0": "Slot 6 Offset 0xd98 Length 74",
                                    "1": "Slot 6 Column 2 Offset 0x38 Length 18 Length (physical) 18",
                                    "2": "name",
                                    "3": "#A3498460"
                                },
                                {
                                    "0": "Slot 6 Offset 0xd98 Length 74",
                                    "1": "Slot 6 Column 3 Offset 0x8 Length 4 Length (physical) 4",
                                    "2": "nsid",
                                    "3": "1"
                                },
                                {
                                    "0": "Slot 6 Offset 0xd98 Length 74",
                                    "1": "Slot 6 Column 4 Offset 0xc Length 1 Length (physical) 1",
                                    "2": "nsclass",
                                    "3": "0"
                                },
                                {
                                    "0": "Slot 6 Offset 0xd98 Length 74",
                                    "1": "Slot 6 Column 5 Offset 0xd Length 4 Length (physical) 4",
                                    "2": "status",
                                    "3": "917512"
                                },
                                {
                                    "0": "Slot 6 Offset 0xd98 Length 74",
                                    "1": "Slot 6 Column 6 Offset 0x11 Length 2 Length (physical) 2",
                                    "2": "type",
                                    "3": "U "
                                },
                                {
                                    "0": "Slot 6 Offset 0xd98 Length 74",
                                    "1": "Slot 6 Column 7 Offset 0x13 Length 4 Length (physical) 4",
                                    "2": "pid",
                                    "3": "0"
                                },
                                {
                                    "0": "Slot 6 Offset 0xd98 Length 74",
                                    "1": "Slot 6 Column 8 Offset 0x17 Length 1 Length (physical) 1",
                                    "2": "pclass",
                                    "3": "1"
                                },
                                {
                                    "0": "Slot 6 Offset 0xd98 Length 74",
                                    "1": "Slot 6 Column 9 Offset 0x18 Length 4 Length (physical) 4",
                                    "2": "intprop",
                                    "3": "1"
                                },
                                {
                                    "0": "Slot 6 Offset 0xd98 Length 74",
                                    "1": "Slot 6 Column 10 Offset 0x1c Length 8 Length (physical) 8",
                                    "2": "created",
                                    "3": "2019-11-25 22:38:57.747"
                                },
                                {
                                    "0": "Slot 6 Offset 0xd98 Length 74",
                                    "1": "Slot 6 Column 11 Offset 0x24 Length 8 Length (physical) 8",
                                    "2": "modified",
                                    "3": "2019-11-25 22:40:23.383"
                                },
                                {
                                    "0": "Slot 6 Offset 0xd98 Length 74",
                                    "1": "Slot 6 Column 12 Offset 0x2c Length 4 Length (physical) 4",
                                    "2": "status2",
                                    "3": "0"
                                },
                                {
                                    "0": "Slot 6 Offset 0xd98 Length 74",
                                    "1": "Slot 6 Offset 0x0 Length 0 Length (physical) 0",
                                    "2": "KeyHashValue",
                                    "3": "(bfcac36256dc)"
                                },
                                {
                                    "0": "PAGE HEADER:",
                                    "1": "Slot 7 Offset 0x188 Length 74",
                                    "2": "Record Type",
                                    "3": "PRIMARY_RECORD"
                                },
                                {
                                    "0": "PAGE HEADER:",
                                    "1": "Slot 7 Offset 0x188 Length 74",
                                    "2": "Record Attributes",
                                    "3": " NULL_BITMAP VARIABLE_COLUMNS"
                                },
                                {
                                    "0": "PAGE HEADER:",
                                    "1": "Slot 7 Offset 0x188 Length 74",
                                    "2": "Record Size",
                                    "3": "74"
                                },
                                {
                                    "0": "Slot 7 Offset 0x188 Length 74",
                                    "1": "Memory Dump @0x000000095DFE8188",
                                    "2": "",
                                    "3": "0000000000000000:   30003000 07d9d0a3 01000000 0008000e 00552000  0.0..ÙÐ£.........U ."
                                },
                                {
                                    "0": "Slot 7 Offset 0x188 Length 74",
                                    "1": "Memory Dump @0x000000095DFE8188",
                                    "2": "",
                                    "3": "0000000000000014:   00000001 01000000 cf3f7501 10ab0000 5aa47501  ........Ï?u..«..Z¤u."
                                },
                                {
                                    "0": "Slot 7 Offset 0x188 Length 74",
                                    "1": "Memory Dump @0x000000095DFE8188",
                                    "2": "",
                                    "3": "0000000000000028:   10ab0000 00000000 0c000000 01004a00 23004100  .«............J.#.A."
                                },
                                {
                                    "0": "Slot 7 Offset 0x188 Length 74",
                                    "1": "Memory Dump @0x000000095DFE8188",
                                    "2": "",
                                    "3": "000000000000003C:   33004400 30004400 39003000 3700               3.D.0.D.9.0.7."
                                },
                                {
                                    "0": "Slot 7 Offset 0x188 Length 74",
                                    "1": "Slot 7 Column 1 Offset 0x4 Length 4 Length (physical) 4",
                                    "2": "id",
                                    "3": "-1546594041"
                                },
                                {
                                    "0": "Slot 7 Offset 0x188 Length 74",
                                    "1": "Slot 7 Column 2 Offset 0x38 Length 18 Length (physical) 18",
                                    "2": "name",
                                    "3": "#A3D0D907"
                                },
                                {
                                    "0": "Slot 7 Offset 0x188 Length 74",
                                    "1": "Slot 7 Column 3 Offset 0x8 Length 4 Length (physical) 4",
                                    "2": "nsid",
                                    "3": "1"
                                },
                                {
                                    "0": "Slot 7 Offset 0x188 Length 74",
                                    "1": "Slot 7 Column 4 Offset 0xc Length 1 Length (physical) 1",
                                    "2": "nsclass",
                                    "3": "0"
                                },
                                {
                                    "0": "Slot 7 Offset 0x188 Length 74",
                                    "1": "Slot 7 Column 5 Offset 0xd Length 4 Length (physical) 4",
                                    "2": "status",
                                    "3": "917512"
                                },
                                {
                                    "0": "Slot 7 Offset 0x188 Length 74",
                                    "1": "Slot 7 Column 6 Offset 0x11 Length 2 Length (physical) 2",
                                    "2": "type",
                                    "3": "U "
                                },
                                {
                                    "0": "Slot 7 Offset 0x188 Length 74",
                                    "1": "Slot 7 Column 7 Offset 0x13 Length 4 Length (physical) 4",
                                    "2": "pid",
                                    "3": "0"
                                },
                                {
                                    "0": "Slot 7 Offset 0x188 Length 74",
                                    "1": "Slot 7 Column 8 Offset 0x17 Length 1 Length (physical) 1",
                                    "2": "pclass",
                                    "3": "1"
                                },
                                {
                                    "0": "Slot 7 Offset 0x188 Length 74",
                                    "1": "Slot 7 Column 9 Offset 0x18 Length 4 Length (physical) 4",
                                    "2": "intprop",
                                    "3": "1"
                                },
                                {
                                    "0": "Slot 7 Offset 0x188 Length 74",
                                    "1": "Slot 7 Column 10 Offset 0x1c Length 8 Length (physical) 8",
                                    "2": "created",
                                    "3": "2019-11-25 22:38:57.543"
                                },
                                {
                                    "0": "Slot 7 Offset 0x188 Length 74",
                                    "1": "Slot 7 Column 11 Offset 0x24 Length 8 Length (physical) 8",
                                    "2": "modified",
                                    "3": "2019-11-25 22:40:23.340"
                                },
                                {
                                    "0": "Slot 7 Offset 0x188 Length 74",
                                    "1": "Slot 7 Column 12 Offset 0x2c Length 4 Length (physical) 4",
                                    "2": "status2",
                                    "3": "0"
                                },
                                {
                                    "0": "Slot 7 Offset 0x188 Length 74",
                                    "1": "Slot 7 Offset 0x0 Length 0 Length (physical) 0",
                                    "2": "KeyHashValue",
                                    "3": "(6881b1a1cb25)"
                                },
                                {
                                    "0": "PAGE HEADER:",
                                    "1": "Slot 8 Offset 0xc60 Length 74",
                                    "2": "Record Type",
                                    "3": "PRIMARY_RECORD"
                                },
                                {
                                    "0": "PAGE HEADER:",
                                    "1": "Slot 8 Offset 0xc60 Length 74",
                                    "2": "Record Attributes",
                                    "3": " NULL_BITMAP VARIABLE_COLUMNS"
                                },
                                {
                                    "0": "PAGE HEADER:",
                                    "1": "Slot 8 Offset 0xc60 Length 74",
                                    "2": "Record Size",
                                    "3": "74"
                                },
                                {
                                    "0": "Slot 8 Offset 0xc60 Length 74",
                                    "1": "Memory Dump @0x000000095DFE8C60",
                                    "2": "",
                                    "3": "0000000000000000:   30003000 99a83da4 01000000 0008000e 00552000  0.0..¨=¤.........U ."
                                },
                                {
                                    "0": "Slot 8 Offset 0xc60 Length 74",
                                    "1": "Memory Dump @0x000000095DFE8C60",
                                    "2": "",
                                    "3": "0000000000000014:   00000001 01000000 0e407501 10ab0000 67a47501  .........@u..«..g¤u."
                                },
                                {
                                    "0": "Slot 8 Offset 0xc60 Length 74",
                                    "1": "Memory Dump @0x000000095DFE8C60",
                                    "2": "",
                                    "3": "0000000000000028:   10ab0000 00000000 0c000000 01004a00 23004100  .«............J.#.A."
                                },
                                {
                                    "0": "Slot 8 Offset 0xc60 Length 74",
                                    "1": "Memory Dump @0x000000095DFE8C60",
                                    "2": "",
                                    "3": "000000000000003C:   34003300 44004100 38003900 3900               4.3.D.A.8.9.9."
                                },
                                {
                                    "0": "Slot 8 Offset 0xc60 Length 74",
                                    "1": "Slot 8 Column 1 Offset 0x4 Length 4 Length (physical) 4",
                                    "2": "id",
                                    "3": "-1539463015"
                                },
                                {
                                    "0": "Slot 8 Offset 0xc60 Length 74",
                                    "1": "Slot 8 Column 2 Offset 0x38 Length 18 Length (physical) 18",
                                    "2": "name",
                                    "3": "#A43DA899"
                                },
                                {
                                    "0": "Slot 8 Offset 0xc60 Length 74",
                                    "1": "Slot 8 Column 3 Offset 0x8 Length 4 Length (physical) 4",
                                    "2": "nsid",
                                    "3": "1"
                                },
                                {
                                    "0": "Slot 8 Offset 0xc60 Length 74",
                                    "1": "Slot 8 Column 4 Offset 0xc Length 1 Length (physical) 1",
                                    "2": "nsclass",
                                    "3": "0"
                                },
                                {
                                    "0": "Slot 8 Offset 0xc60 Length 74",
                                    "1": "Slot 8 Column 5 Offset 0xd Length 4 Length (physical) 4",
                                    "2": "status",
                                    "3": "917512"
                                },
                                {
                                    "0": "Slot 8 Offset 0xc60 Length 74",
                                    "1": "Slot 8 Column 6 Offset 0x11 Length 2 Length (physical) 2",
                                    "2": "type",
                                    "3": "U "
                                },
                                {
                                    "0": "Slot 8 Offset 0xc60 Length 74",
                                    "1": "Slot 8 Column 7 Offset 0x13 Length 4 Length (physical) 4",
                                    "2": "pid",
                                    "3": "0"
                                },
                                {
                                    "0": "Slot 8 Offset 0xc60 Length 74",
                                    "1": "Slot 8 Column 8 Offset 0x17 Length 1 Length (physical) 1",
                                    "2": "pclass",
                                    "3": "1"
                                },
                                {
                                    "0": "Slot 8 Offset 0xc60 Length 74",
                                    "1": "Slot 8 Column 9 Offset 0x18 Length 4 Length (physical) 4",
                                    "2": "intprop",
                                    "3": "1"
                                },
                                {
                                    "0": "Slot 8 Offset 0xc60 Length 74",
                                    "1": "Slot 8 Column 10 Offset 0x1c Length 8 Length (physical) 8",
                                    "2": "created",
                                    "3": "2019-11-25 22:38:57.753"
                                },
                                {
                                    "0": "Slot 8 Offset 0xc60 Length 74",
                                    "1": "Slot 8 Column 11 Offset 0x24 Length 8 Length (physical) 8",
                                    "2": "modified",
                                    "3": "2019-11-25 22:40:23.383"
                                },
                                {
                                    "0": "Slot 8 Offset 0xc60 Length 74",
                                    "1": "Slot 8 Column 12 Offset 0x2c Length 4 Length (physical) 4",
                                    "2": "status2",
                                    "3": "0"
                                },
                                {
                                    "0": "Slot 8 Offset 0xc60 Length 74",
                                    "1": "Slot 8 Offset 0x0 Length 0 Length (physical) 0",
                                    "2": "KeyHashValue",
                                    "3": "(8946193699a9)"
                                },
                                {
                                    "0": "PAGE HEADER:",
                                    "1": "Slot 9 Offset 0x13e Length 74",
                                    "2": "Record Type",
                                    "3": "PRIMARY_RECORD"
                                },
                                {
                                    "0": "PAGE HEADER:",
                                    "1": "Slot 9 Offset 0x13e Length 74",
                                    "2": "Record Attributes",
                                    "3": " NULL_BITMAP VARIABLE_COLUMNS"
                                },
                                {
                                    "0": "PAGE HEADER:",
                                    "1": "Slot 9 Offset 0x13e Length 74",
                                    "2": "Record Size",
                                    "3": "74"
                                },
                                {
                                    "0": "Slot 9 Offset 0x13e Length 74",
                                    "1": "Memory Dump @0x000000095DFE813E",
                                    "2": "",
                                    "3": "0000000000000000:   30003000 40fdc4a4 01000000 0008000e 00552000  0.0.@ýÄ¤.........U ."
                                },
                                {
                                    "0": "Slot 9 Offset 0x13e Length 74",
                                    "1": "Memory Dump @0x000000095DFE813E",
                                    "2": "",
                                    "3": "0000000000000014:   00000001 01000000 cf3f7501 10ab0000 5aa47501  ........Ï?u..«..Z¤u."
                                },
                                {
                                    "0": "Slot 9 Offset 0x13e Length 74",
                                    "1": "Memory Dump @0x000000095DFE813E",
                                    "2": "",
                                    "3": "0000000000000028:   10ab0000 00000000 0c000000 01004a00 23004100  .«............J.#.A."
                                },
                                {
                                    "0": "Slot 9 Offset 0x13e Length 74",
                                    "1": "Memory Dump @0x000000095DFE813E",
                                    "2": "",
                                    "3": "000000000000003C:   34004300 34004600 44003400 3000               4.C.4.F.D.4.0."
                                },
                                {
                                    "0": "Slot 9 Offset 0x13e Length 74",
                                    "1": "Slot 9 Column 1 Offset 0x4 Length 4 Length (physical) 4",
                                    "2": "id",
                                    "3": "-1530593984"
                                },
                                {
                                    "0": "Slot 9 Offset 0x13e Length 74",
                                    "1": "Slot 9 Column 2 Offset 0x38 Length 18 Length (physical) 18",
                                    "2": "name",
                                    "3": "#A4C4FD40"
                                },
                                {
                                    "0": "Slot 9 Offset 0x13e Length 74",
                                    "1": "Slot 9 Column 3 Offset 0x8 Length 4 Length (physical) 4",
                                    "2": "nsid",
                                    "3": "1"
                                },
                                {
                                    "0": "Slot 9 Offset 0x13e Length 74",
                                    "1": "Slot 9 Column 4 Offset 0xc Length 1 Length (physical) 1",
                                    "2": "nsclass",
                                    "3": "0"
                                },
                                {
                                    "0": "Slot 9 Offset 0x13e Length 74",
                                    "1": "Slot 9 Column 5 Offset 0xd Length 4 Length (physical) 4",
                                    "2": "status",
                                    "3": "917512"
                                },
                                {
                                    "0": "Slot 9 Offset 0x13e Length 74",
                                    "1": "Slot 9 Column 6 Offset 0x11 Length 2 Length (physical) 2",
                                    "2": "type",
                                    "3": "U "
                                },
                                {
                                    "0": "Slot 9 Offset 0x13e Length 74",
                                    "1": "Slot 9 Column 7 Offset 0x13 Length 4 Length (physical) 4",
                                    "2": "pid",
                                    "3": "0"
                                },
                                {
                                    "0": "Slot 9 Offset 0x13e Length 74",
                                    "1": "Slot 9 Column 8 Offset 0x17 Length 1 Length (physical) 1",
                                    "2": "pclass",
                                    "3": "1"
                                },
                                {
                                    "0": "Slot 9 Offset 0x13e Length 74",
                                    "1": "Slot 9 Column 9 Offset 0x18 Length 4 Length (physical) 4",
                                    "2": "intprop",
                                    "3": "1"
                                },
                                {
                                    "0": "Slot 9 Offset 0x13e Length 74",
                                    "1": "Slot 9 Column 10 Offset 0x1c Length 8 Length (physical) 8",
                                    "2": "created",
                                    "3": "2019-11-25 22:38:57.543"
                                },
                                {
                                    "0": "Slot 9 Offset 0x13e Length 74",
                                    "1": "Slot 9 Column 11 Offset 0x24 Length 8 Length (physical) 8",
                                    "2": "modified",
                                    "3": "2019-11-25 22:40:23.340"
                                },
                                {
                                    "0": "Slot 9 Offset 0x13e Length 74",
                                    "1": "Slot 9 Column 12 Offset 0x2c Length 4 Length (physical) 4",
                                    "2": "status2",
                                    "3": "0"
                                },
                                {
                                    "0": "Slot 9 Offset 0x13e Length 74",
                                    "1": "Slot 9 Offset 0x0 Length 0 Length (physical) 0",
                                    "2": "KeyHashValue",
                                    "3": "(47f219e65d4c)"
                                },
                                {
                                    "0": "PAGE HEADER:",
                                    "1": "Slot 10 Offset 0xed0 Length 74",
                                    "2": "Record Type",
                                    "3": "PRIMARY_RECORD"
                                },
                                {
                                    "0": "PAGE HEADER:",
                                    "1": "Slot 10 Offset 0xed0 Length 74",
                                    "2": "Record Attributes",
                                    "3": " NULL_BITMAP VARIABLE_COLUMNS"
                                },
                                {
                                    "0": "PAGE HEADER:",
                                    "1": "Slot 10 Offset 0xed0 Length 74",
                                    "2": "Record Size",
                                    "3": "74"
                                },
                                {
                                    "0": "Slot 10 Offset 0xed0 Length 74",
                                    "1": "Memory Dump @0x000000095DFE8ED0",
                                    "2": "",
                                    "3": "0000000000000000:   30003000 d2cc31a5 01000000 0008000e 00552000  0.0.ÒÌ1¥.........U ."
                                },
                                {
                                    "0": "Slot 10 Offset 0xed0 Length 74",
                                    "1": "Memory Dump @0x000000095DFE8ED0",
                                    "2": "",
                                    "3": "0000000000000014:   00000001 01000000 10407501 10ab0000 66a47501  .........@u..«..f¤u."
                                },
                                {
                                    "0": "Slot 10 Offset 0xed0 Length 74",
                                    "1": "Memory Dump @0x000000095DFE8ED0",
                                    "2": "",
                                    "3": "0000000000000028:   10ab0000 00000000 0c000000 01004a00 23004100  .«............J.#.A."
                                },
                                {
                                    "0": "Slot 10 Offset 0xed0 Length 74",
                                    "1": "Memory Dump @0x000000095DFE8ED0",
                                    "2": "",
                                    "3": "000000000000003C:   35003300 31004300 43004400 3200               5.3.1.C.C.D.2."
                                },
                                {
                                    "0": "Slot 10 Offset 0xed0 Length 74",
                                    "1": "Slot 10 Column 1 Offset 0x4 Length 4 Length (physical) 4",
                                    "2": "id",
                                    "3": "-1523462958"
                                },
                                {
                                    "0": "Slot 10 Offset 0xed0 Length 74",
                                    "1": "Slot 10 Column 2 Offset 0x38 Length 18 Length (physical) 18",
                                    "2": "name",
                                    "3": "#A531CCD2"
                                },
                                {
                                    "0": "Slot 10 Offset 0xed0 Length 74",
                                    "1": "Slot 10 Column 3 Offset 0x8 Length 4 Length (physical) 4",
                                    "2": "nsid",
                                    "3": "1"
                                },
                                {
                                    "0": "Slot 10 Offset 0xed0 Length 74",
                                    "1": "Slot 10 Column 4 Offset 0xc Length 1 Length (physical) 1",
                                    "2": "nsclass",
                                    "3": "0"
                                },
                                {
                                    "0": "Slot 10 Offset 0xed0 Length 74",
                                    "1": "Slot 10 Column 5 Offset 0xd Length 4 Length (physical) 4",
                                    "2": "status",
                                    "3": "917512"
                                },
                                {
                                    "0": "Slot 10 Offset 0xed0 Length 74",
                                    "1": "Slot 10 Column 6 Offset 0x11 Length 2 Length (physical) 2",
                                    "2": "type",
                                    "3": "U "
                                },
                                {
                                    "0": "Slot 10 Offset 0xed0 Length 74",
                                    "1": "Slot 10 Column 7 Offset 0x13 Length 4 Length (physical) 4",
                                    "2": "pid",
                                    "3": "0"
                                },
                                {
                                    "0": "Slot 10 Offset 0xed0 Length 74",
                                    "1": "Slot 10 Column 8 Offset 0x17 Length 1 Length (physical) 1",
                                    "2": "pclass",
                                    "3": "1"
                                },
                                {
                                    "0": "Slot 10 Offset 0xed0 Length 74",
                                    "1": "Slot 10 Column 9 Offset 0x18 Length 4 Length (physical) 4",
                                    "2": "intprop",
                                    "3": "1"
                                },
                                {
                                    "0": "Slot 10 Offset 0xed0 Length 74",
                                    "1": "Slot 10 Column 10 Offset 0x1c Length 8 Length (physical) 8",
                                    "2": "created",
                                    "3": "2019-11-25 22:38:57.760"
                                },
                                {
                                    "0": "Slot 10 Offset 0xed0 Length 74",
                                    "1": "Slot 10 Column 11 Offset 0x24 Length 8 Length (physical) 8",
                                    "2": "modified",
                                    "3": "2019-11-25 22:40:23.380"
                                },
                                {
                                    "0": "Slot 10 Offset 0xed0 Length 74",
                                    "1": "Slot 10 Column 12 Offset 0x2c Length 4 Length (physical) 4",
                                    "2": "status2",
                                    "3": "0"
                                },
                                {
                                    "0": "Slot 10 Offset 0xed0 Length 74",
                                    "1": "Slot 10 Offset 0x0 Length 0 Length (physical) 0",
                                    "2": "KeyHashValue",
                                    "3": "(05f411744022)"
                                },
                                {
                                    "0": "PAGE HEADER:",
                                    "1": "Slot 11 Offset 0x1d2 Length 74",
                                    "2": "Record Type",
                                    "3": "PRIMARY_RECORD"
                                },
                                {
                                    "0": "PAGE HEADER:",
                                    "1": "Slot 11 Offset 0x1d2 Length 74",
                                    "2": "Record Attributes",
                                    "3": " NULL_BITMAP VARIABLE_COLUMNS"
                                },
                                {
                                    "0": "PAGE HEADER:",
                                    "1": "Slot 11 Offset 0x1d2 Length 74",
                                    "2": "Record Size",
                                    "3": "74"
                                },
                                {
                                    "0": "Slot 11 Offset 0x1d2 Length 74",
                                    "1": "Memory Dump @0x000000095DFE81D2",
                                    "2": "",
                                    "3": "0000000000000000:   30003000 7921b9a5 01000000 0008000e 00552000  0.0.y!¹¥.........U ."
                                },
                                {
                                    "0": "Slot 11 Offset 0x1d2 Length 74",
                                    "1": "Memory Dump @0x000000095DFE81D2",
                                    "2": "",
                                    "3": "0000000000000014:   00000001 01000000 d03f7501 10ab0000 5ca47501  ........Ð?u..«..\\¤u."
                                },
                                {
                                    "0": "Slot 11 Offset 0x1d2 Length 74",
                                    "1": "Memory Dump @0x000000095DFE81D2",
                                    "2": "",
                                    "3": "0000000000000028:   10ab0000 00000000 0c000000 01004a00 23004100  .«............J.#.A."
                                },
                                {
                                    "0": "Slot 11 Offset 0x1d2 Length 74",
                                    "1": "Memory Dump @0x000000095DFE81D2",
                                    "2": "",
                                    "3": "000000000000003C:   35004200 39003200 31003700 3900               5.B.9.2.1.7.9."
                                },
                                {
                                    "0": "Slot 11 Offset 0x1d2 Length 74",
                                    "1": "Slot 11 Column 1 Offset 0x4 Length 4 Length (physical) 4",
                                    "2": "id",
                                    "3": "-1514593927"
                                },
                                {
                                    "0": "Slot 11 Offset 0x1d2 Length 74",
                                    "1": "Slot 11 Column 2 Offset 0x38 Length 18 Length (physical) 18",
                                    "2": "name",
                                    "3": "#A5B92179"
                                },
                                {
                                    "0": "Slot 11 Offset 0x1d2 Length 74",
                                    "1": "Slot 11 Column 3 Offset 0x8 Length 4 Length (physical) 4",
                                    "2": "nsid",
                                    "3": "1"
                                },
                                {
                                    "0": "Slot 11 Offset 0x1d2 Length 74",
                                    "1": "Slot 11 Column 4 Offset 0xc Length 1 Length (physical) 1",
                                    "2": "nsclass",
                                    "3": "0"
                                },
                                {
                                    "0": "Slot 11 Offset 0x1d2 Length 74",
                                    "1": "Slot 11 Column 5 Offset 0xd Length 4 Length (physical) 4",
                                    "2": "status",
                                    "3": "917512"
                                },
                                {
                                    "0": "Slot 11 Offset 0x1d2 Length 74",
                                    "1": "Slot 11 Column 6 Offset 0x11 Length 2 Length (physical) 2",
                                    "2": "type",
                                    "3": "U "
                                },
                                {
                                    "0": "Slot 11 Offset 0x1d2 Length 74",
                                    "1": "Slot 11 Column 7 Offset 0x13 Length 4 Length (physical) 4",
                                    "2": "pid",
                                    "3": "0"
                                },
                                {
                                    "0": "Slot 11 Offset 0x1d2 Length 74",
                                    "1": "Slot 11 Column 8 Offset 0x17 Length 1 Length (physical) 1",
                                    "2": "pclass",
                                    "3": "1"
                                },
                                {
                                    "0": "Slot 11 Offset 0x1d2 Length 74",
                                    "1": "Slot 11 Column 9 Offset 0x18 Length 4 Length (physical) 4",
                                    "2": "intprop",
                                    "3": "1"
                                },
                                {
                                    "0": "Slot 11 Offset 0x1d2 Length 74",
                                    "1": "Slot 11 Column 10 Offset 0x1c Length 8 Length (physical) 8",
                                    "2": "created",
                                    "3": "2019-11-25 22:38:57.547"
                                },
                                {
                                    "0": "Slot 11 Offset 0x1d2 Length 74",
                                    "1": "Slot 11 Column 11 Offset 0x24 Length 8 Length (physical) 8",
                                    "2": "modified",
                                    "3": "2019-11-25 22:40:23.347"
                                },
                                {
                                    "0": "Slot 11 Offset 0x1d2 Length 74",
                                    "1": "Slot 11 Column 12 Offset 0x2c Length 4 Length (physical) 4",
                                    "2": "status2",
                                    "3": "0"
                                },
                                {
                                    "0": "Slot 11 Offset 0x1d2 Length 74",
                                    "1": "Slot 11 Offset 0x0 Length 0 Length (physical) 0",
                                    "2": "KeyHashValue",
                                    "3": "(51d9b82fed1a)"
                                },
                                {
                                    "0": "PAGE HEADER:",
                                    "1": "Slot 12 Offset 0xb28 Length 74",
                                    "2": "Record Type",
                                    "3": "PRIMARY_RECORD"
                                },
                                {
                                    "0": "PAGE HEADER:",
                                    "1": "Slot 12 Offset 0xb28 Length 74",
                                    "2": "Record Attributes",
                                    "3": " NULL_BITMAP VARIABLE_COLUMNS"
                                },
                                {
                                    "0": "PAGE HEADER:",
                                    "1": "Slot 12 Offset 0xb28 Length 74",
                                    "2": "Record Size",
                                    "3": "74"
                                },
                                {
                                    "0": "Slot 12 Offset 0xb28 Length 74",
                                    "1": "Memory Dump @0x000000095DFE8B28",
                                    "2": "",
                                    "3": "0000000000000000:   30003000 0bf125a6 01000000 0008000e 00552000  0.0..ñ%¦.........U ."
                                },
                                {
                                    "0": "Slot 12 Offset 0xb28 Length 74",
                                    "1": "Memory Dump @0x000000095DFE8B28",
                                    "2": "",
                                    "3": "0000000000000014:   00000001 01000000 11407501 10ab0000 66a47501  .........@u..«..f¤u."
                                },
                                {
                                    "0": "Slot 12 Offset 0xb28 Length 74",
                                    "1": "Memory Dump @0x000000095DFE8B28",
                                    "2": "",
                                    "3": "0000000000000028:   10ab0000 00000000 0c000000 01004a00 23004100  .«............J.#.A."
                                },
                                {
                                    "0": "Slot 12 Offset 0xb28 Length 74",
                                    "1": "Memory Dump @0x000000095DFE8B28",
                                    "2": "",
                                    "3": "000000000000003C:   36003200 35004600 31003000 4200               6.2.5.F.1.0.B."
                                },
                                {
                                    "0": "Slot 12 Offset 0xb28 Length 74",
                                    "1": "Slot 12 Column 1 Offset 0x4 Length 4 Length (physical) 4",
                                    "2": "id",
                                    "3": "-1507462901"
                                },
                                {
                                    "0": "Slot 12 Offset 0xb28 Length 74",
                                    "1": "Slot 12 Column 2 Offset 0x38 Length 18 Length (physical) 18",
                                    "2": "name",
                                    "3": "#A625F10B"
                                },
                                {
                                    "0": "Slot 12 Offset 0xb28 Length 74",
                                    "1": "Slot 12 Column 3 Offset 0x8 Length 4 Length (physical) 4",
                                    "2": "nsid",
                                    "3": "1"
                                },
                                {
                                    "0": "Slot 12 Offset 0xb28 Length 74",
                                    "1": "Slot 12 Column 4 Offset 0xc Length 1 Length (physical) 1",
                                    "2": "nsclass",
                                    "3": "0"
                                },
                                {
                                    "0": "Slot 12 Offset 0xb28 Length 74",
                                    "1": "Slot 12 Column 5 Offset 0xd Length 4 Length (physical) 4",
                                    "2": "status",
                                    "3": "917512"
                                },
                                {
                                    "0": "Slot 12 Offset 0xb28 Length 74",
                                    "1": "Slot 12 Column 6 Offset 0x11 Length 2 Length (physical) 2",
                                    "2": "type",
                                    "3": "U "
                                },
                                {
                                    "0": "Slot 12 Offset 0xb28 Length 74",
                                    "1": "Slot 12 Column 7 Offset 0x13 Length 4 Length (physical) 4",
                                    "2": "pid",
                                    "3": "0"
                                },
                                {
                                    "0": "Slot 12 Offset 0xb28 Length 74",
                                    "1": "Slot 12 Column 8 Offset 0x17 Length 1 Length (physical) 1",
                                    "2": "pclass",
                                    "3": "1"
                                },
                                {
                                    "0": "Slot 12 Offset 0xb28 Length 74",
                                    "1": "Slot 12 Column 9 Offset 0x18 Length 4 Length (physical) 4",
                                    "2": "intprop",
                                    "3": "1"
                                },
                                {
                                    "0": "Slot 12 Offset 0xb28 Length 74",
                                    "1": "Slot 12 Column 10 Offset 0x1c Length 8 Length (physical) 8",
                                    "2": "created",
                                    "3": "2019-11-25 22:38:57.763"
                                },
                                {
                                    "0": "Slot 12 Offset 0xb28 Length 74",
                                    "1": "Slot 12 Column 11 Offset 0x24 Length 8 Length (physical) 8",
                                    "2": "modified",
                                    "3": "2019-11-25 22:40:23.380"
                                },
                                {
                                    "0": "Slot 12 Offset 0xb28 Length 74",
                                    "1": "Slot 12 Column 12 Offset 0x2c Length 4 Length (physical) 4",
                                    "2": "status2",
                                    "3": "0"
                                },
                                {
                                    "0": "Slot 12 Offset 0xb28 Length 74",
                                    "1": "Slot 12 Offset 0x0 Length 0 Length (physical) 0",
                                    "2": "KeyHashValue",
                                    "3": "(7a297d9d76e1)"
                                },
                                {
                                    "0": "PAGE HEADER:",
                                    "1": "Slot 13 Offset 0xaa Length 74",
                                    "2": "Record Type",
                                    "3": "PRIMARY_RECORD"
                                },
                                {
                                    "0": "PAGE HEADER:",
                                    "1": "Slot 13 Offset 0xaa Length 74",
                                    "2": "Record Attributes",
                                    "3": " NULL_BITMAP VARIABLE_COLUMNS"
                                },
                                {
                                    "0": "PAGE HEADER:",
                                    "1": "Slot 13 Offset 0xaa Length 74",
                                    "2": "Record Size",
                                    "3": "74"
                                },
                                {
                                    "0": "Slot 13 Offset 0xaa Length 74",
                                    "1": "Memory Dump @0x000000095DFE80AA",
                                    "2": "",
                                    "3": "0000000000000000:   30003000 b245ada6 01000000 0008000e 00552000  0.0.²E­¦.........U ."
                                },
                                {
                                    "0": "Slot 13 Offset 0xaa Length 74",
                                    "1": "Memory Dump @0x000000095DFE80AA",
                                    "2": "",
                                    "3": "0000000000000014:   00000001 01000000 d13f7501 10ab0000 4fa47501  ........Ñ?u..«..O¤u."
                                },
                                {
                                    "0": "Slot 13 Offset 0xaa Length 74",
                                    "1": "Memory Dump @0x000000095DFE80AA",
                                    "2": "",
                                    "3": "0000000000000028:   10ab0000 00000000 0c000000 01004a00 23004100  .«............J.#.A."
                                },
                                {
                                    "0": "Slot 13 Offset 0xaa Length 74",
                                    "1": "Memory Dump @0x000000095DFE80AA",
                                    "2": "",
                                    "3": "000000000000003C:   36004100 44003400 35004200 3200               6.A.D.4.5.B.2."
                                },
                                {
                                    "0": "Slot 13 Offset 0xaa Length 74",
                                    "1": "Slot 13 Column 1 Offset 0x4 Length 4 Length (physical) 4",
                                    "2": "id",
                                    "3": "-1498593870"
                                },
                                {
                                    "0": "Slot 13 Offset 0xaa Length 74",
                                    "1": "Slot 13 Column 2 Offset 0x38 Length 18 Length (physical) 18",
                                    "2": "name",
                                    "3": "#A6AD45B2"
                                },
                                {
                                    "0": "Slot 13 Offset 0xaa Length 74",
                                    "1": "Slot 13 Column 3 Offset 0x8 Length 4 Length (physical) 4",
                                    "2": "nsid",
                                    "3": "1"
                                },
                                {
                                    "0": "Slot 13 Offset 0xaa Length 74",
                                    "1": "Slot 13 Column 4 Offset 0xc Length 1 Length (physical) 1",
                                    "2": "nsclass",
                                    "3": "0"
                                },
                                {
                                    "0": "Slot 13 Offset 0xaa Length 74",
                                    "1": "Slot 13 Column 5 Offset 0xd Length 4 Length (physical) 4",
                                    "2": "status",
                                    "3": "917512"
                                },
                                {
                                    "0": "Slot 13 Offset 0xaa Length 74",
                                    "1": "Slot 13 Column 6 Offset 0x11 Length 2 Length (physical) 2",
                                    "2": "type",
                                    "3": "U "
                                },
                                {
                                    "0": "Slot 13 Offset 0xaa Length 74",
                                    "1": "Slot 13 Column 7 Offset 0x13 Length 4 Length (physical) 4",
                                    "2": "pid",
                                    "3": "0"
                                },
                                {
                                    "0": "Slot 13 Offset 0xaa Length 74",
                                    "1": "Slot 13 Column 8 Offset 0x17 Length 1 Length (physical) 1",
                                    "2": "pclass",
                                    "3": "1"
                                },
                                {
                                    "0": "Slot 13 Offset 0xaa Length 74",
                                    "1": "Slot 13 Column 9 Offset 0x18 Length 4 Length (physical) 4",
                                    "2": "intprop",
                                    "3": "1"
                                },
                                {
                                    "0": "Slot 13 Offset 0xaa Length 74",
                                    "1": "Slot 13 Column 10 Offset 0x1c Length 8 Length (physical) 8",
                                    "2": "created",
                                    "3": "2019-11-25 22:38:57.550"
                                },
                                {
                                    "0": "Slot 13 Offset 0xaa Length 74",
                                    "1": "Slot 13 Column 11 Offset 0x24 Length 8 Length (physical) 8",
                                    "2": "modified",
                                    "3": "2019-11-25 22:40:23.303"
                                },
                                {
                                    "0": "Slot 13 Offset 0xaa Length 74",
                                    "1": "Slot 13 Column 12 Offset 0x2c Length 4 Length (physical) 4",
                                    "2": "status2",
                                    "3": "0"
                                },
                                {
                                    "0": "Slot 13 Offset 0xaa Length 74",
                                    "1": "Slot 13 Offset 0x0 Length 0 Length (physical) 0",
                                    "2": "KeyHashValue",
                                    "3": "(52e12211d3f4)"
                                },
                                {
                                    "0": "PAGE HEADER:",
                                    "1": "Slot 14 Offset 0x1278 Length 312",
                                    "2": "Record Type",
                                    "3": "PRIMARY_RECORD"
                                },
                                {
                                    "0": "PAGE HEADER:",
                                    "1": "Slot 14 Offset 0x1278 Length 312",
                                    "2": "Record Attributes",
                                    "3": " NULL_BITMAP VARIABLE_COLUMNS"
                                },
                                {
                                    "0": "PAGE HEADER:",
                                    "1": "Slot 14 Offset 0x1278 Length 312",
                                    "2": "Record Size",
                                    "3": "312"
                                },
                                {
                                    "0": "Slot 14 Offset 0x1278 Length 312",
                                    "1": "Memory Dump @0x000000095DFE9278",
                                    "2": "",
                                    "3": "0000000000000000:   30003000 44151aa7 01000000 0008000e 00552000  0.0.D..§.........U ."
                                },
                                {
                                    "0": "Slot 14 Offset 0x1278 Length 312",
                                    "1": "Memory Dump @0x000000095DFE9278",
                                    "2": "",
                                    "3": "0000000000000014:   00000001 01000000 13407501 10ab0000 67a47501  .........@u..«..g¤u."
                                },
                                {
                                    "0": "Slot 14 Offset 0x1278 Length 312",
                                    "1": "Memory Dump @0x000000095DFE9278",
                                    "2": "",
                                    "3": "0000000000000028:   10ab0000 00000000 0c000000 01003801 23006700  .«............8.#.g."
                                },
                                {
                                    "0": "Slot 14 Offset 0x1278 Length 312",
                                    "1": "Memory Dump @0x000000095DFE9278",
                                    "2": "",
                                    "3": "000000000000003C:   6f007300 6f007800 5f005f00 5f005f00 5f005f00  o.s.o.x._._._._._._."
                                },
                                {
                                    "0": "Slot 14 Offset 0x1278 Length 312",
                                    "1": "Memory Dump @0x000000095DFE9278",
                                    "2": "",
                                    "3": "0000000000000050:   5f005f00 5f005f00 5f005f00 5f005f00 5f005f00  _._._._._._._._._._."
                                },
                                {
                                    "0": "Slot 14 Offset 0x1278 Length 312",
                                    "1": "Memory Dump @0x000000095DFE9278",
                                    "2": "",
                                    "3": "0000000000000064:   5f005f00 5f005f00 5f005f00 5f005f00 5f005f00  _._._._._._._._._._."
                                },
                                {
                                    "0": "Slot 14 Offset 0x1278 Length 312",
                                    "1": "Memory Dump @0x000000095DFE9278",
                                    "2": "",
                                    "3": "0000000000000078:   5f005f00 5f005f00 5f005f00 5f005f00 5f005f00  _._._._._._._._._._."
                                },
                                {
                                    "0": "Slot 14 Offset 0x1278 Length 312",
                                    "1": "Memory Dump @0x000000095DFE9278",
                                    "2": "",
                                    "3": "000000000000008C:   5f005f00 5f005f00 5f005f00 5f005f00 5f005f00  _._._._._._._._._._."
                                },
                                {
                                    "0": "Slot 14 Offset 0x1278 Length 312",
                                    "1": "Memory Dump @0x000000095DFE9278",
                                    "2": "",
                                    "3": "00000000000000A0:   5f005f00 5f005f00 5f005f00 5f005f00 5f005f00  _._._._._._._._._._."
                                },
                                {
                                    "0": "Slot 14 Offset 0x1278 Length 312",
                                    "1": "Memory Dump @0x000000095DFE9278",
                                    "2": "",
                                    "3": "00000000000000B4:   5f005f00 5f005f00 5f005f00 5f005f00 5f005f00  _._._._._._._._._._."
                                },
                                {
                                    "0": "Slot 14 Offset 0x1278 Length 312",
                                    "1": "Memory Dump @0x000000095DFE9278",
                                    "2": "",
                                    "3": "00000000000000C8:   5f005f00 5f005f00 5f005f00 5f005f00 5f005f00  _._._._._._._._._._."
                                },
                                {
                                    "0": "Slot 14 Offset 0x1278 Length 312",
                                    "1": "Memory Dump @0x000000095DFE9278",
                                    "2": "",
                                    "3": "00000000000000DC:   5f005f00 5f005f00 5f005f00 5f005f00 5f005f00  _._._._._._._._._._."
                                },
                                {
                                    "0": "Slot 14 Offset 0x1278 Length 312",
                                    "1": "Memory Dump @0x000000095DFE9278",
                                    "2": "",
                                    "3": "00000000000000F0:   5f005f00 5f005f00 5f005f00 5f005f00 5f005f00  _._._._._._._._._._."
                                },
                                {
                                    "0": "Slot 14 Offset 0x1278 Length 312",
                                    "1": "Memory Dump @0x000000095DFE9278",
                                    "2": "",
                                    "3": "0000000000000104:   5f005f00 5f005f00 5f005f00 5f005f00 5f005f00  _._._._._._._._._._."
                                },
                                {
                                    "0": "Slot 14 Offset 0x1278 Length 312",
                                    "1": "Memory Dump @0x000000095DFE9278",
                                    "2": "",
                                    "3": "0000000000000118:   5f005f00 5f005f00 30003000 30003000 30003000  _._._._.0.0.0.0.0.0."
                                },
                                {
                                    "0": "Slot 14 Offset 0x1278 Length 312",
                                    "1": "Memory Dump @0x000000095DFE9278",
                                    "2": "",
                                    "3": "000000000000012C:   30003000 30003000 32004100                    0.0.0.0.2.A."
                                },
                                {
                                    "0": "Slot 14 Offset 0x1278 Length 312",
                                    "1": "Slot 14 Column 1 Offset 0x4 Length 4 Length (physical) 4",
                                    "2": "id",
                                    "3": "-1491462844"
                                },
                                {
                                    "0": "Slot 14 Offset 0x1278 Length 312",
                                    "1": "Slot 14 Column 2 Offset 0x38 Length 256 Length (physical) 256",
                                    "2": "name",
                                    "3": "#gosox______________________________________________________________________________________________________________00000000002A"
                                },
                                {
                                    "0": "Slot 14 Offset 0x1278 Length 312",
                                    "1": "Slot 14 Column 3 Offset 0x8 Length 4 Length (physical) 4",
                                    "2": "nsid",
                                    "3": "1"
                                },
                                {
                                    "0": "Slot 14 Offset 0x1278 Length 312",
                                    "1": "Slot 14 Column 4 Offset 0xc Length 1 Length (physical) 1",
                                    "2": "nsclass",
                                    "3": "0"
                                },
                                {
                                    "0": "Slot 14 Offset 0x1278 Length 312",
                                    "1": "Slot 14 Column 5 Offset 0xd Length 4 Length (physical) 4",
                                    "2": "status",
                                    "3": "917512"
                                },
                                {
                                    "0": "Slot 14 Offset 0x1278 Length 312",
                                    "1": "Slot 14 Column 6 Offset 0x11 Length 2 Length (physical) 2",
                                    "2": "type",
                                    "3": "U "
                                },
                                {
                                    "0": "Slot 14 Offset 0x1278 Length 312",
                                    "1": "Slot 14 Column 7 Offset 0x13 Length 4 Length (physical) 4",
                                    "2": "pid",
                                    "3": "0"
                                },
                                {
                                    "0": "Slot 14 Offset 0x1278 Length 312",
                                    "1": "Slot 14 Column 8 Offset 0x17 Length 1 Length (physical) 1",
                                    "2": "pclass",
                                    "3": "1"
                                },
                                {
                                    "0": "Slot 14 Offset 0x1278 Length 312",
                                    "1": "Slot 14 Column 9 Offset 0x18 Length 4 Length (physical) 4",
                                    "2": "intprop",
                                    "3": "1"
                                },
                                {
                                    "0": "Slot 14 Offset 0x1278 Length 312",
                                    "1": "Slot 14 Column 10 Offset 0x1c Length 8 Length (physical) 8",
                                    "2": "created",
                                    "3": "2019-11-25 22:38:57.770"
                                },
                                {
                                    "0": "Slot 14 Offset 0x1278 Length 312",
                                    "1": "Slot 14 Column 11 Offset 0x24 Length 8 Length (physical) 8",
                                    "2": "modified",
                                    "3": "2019-11-25 22:40:23.383"
                                },
                                {
                                    "0": "Slot 14 Offset 0x1278 Length 312",
                                    "1": "Slot 14 Column 12 Offset 0x2c Length 4 Length (physical) 4",
                                    "2": "status2",
                                    "3": "0"
                                },
                                {
                                    "0": "Slot 14 Offset 0x1278 Length 312",
                                    "1": "Slot 14 Offset 0x0 Length 0 Length (physical) 0",
                                    "2": "KeyHashValue",
                                    "3": "(225893a4d79d)"
                                }
                            ]
                        },
                        "text/html": "<table><tr><th>ParentObject</th><th>Object</th><th>Field</th><th>VALUE</th></tr><tr><td>BUFFER:</td><td>BUF @0x0000000958CF0E40</td><td>bpage</td><td>0x00000009488D2000</td></tr><tr><td>BUFFER:</td><td>BUF @0x0000000958CF0E40</td><td>bPmmpage</td><td>0x0000000000000000</td></tr><tr><td>BUFFER:</td><td>BUF @0x0000000958CF0E40</td><td>bsort_r_nextbP</td><td>0x0000000000000000</td></tr><tr><td>BUFFER:</td><td>BUF @0x0000000958CF0E40</td><td>bsort_r_prevbP</td><td>0x0000000000000000</td></tr><tr><td>BUFFER:</td><td>BUF @0x0000000958CF0E40</td><td>bhash</td><td>0x0000000000000000</td></tr><tr><td>BUFFER:</td><td>BUF @0x0000000958CF0E40</td><td>bpageno</td><td>(1:116)</td></tr><tr><td>BUFFER:</td><td>BUF @0x0000000958CF0E40</td><td>bpart</td><td>1</td></tr><tr><td>BUFFER:</td><td>BUF @0x0000000958CF0E40</td><td>ckptGen</td><td>0x0000000000000000</td></tr><tr><td>BUFFER:</td><td>BUF @0x0000000958CF0E40</td><td>bDirtyRefCount</td><td>0</td></tr><tr><td>BUFFER:</td><td>BUF @0x0000000958CF0E40</td><td>bstat</td><td>0x10b</td></tr><tr><td>BUFFER:</td><td>BUF @0x0000000958CF0E40</td><td>breferences</td><td>8191</td></tr><tr><td>BUFFER:</td><td>BUF @0x0000000958CF0E40</td><td>berrcode</td><td>0</td></tr><tr><td>BUFFER:</td><td>BUF @0x0000000958CF0E40</td><td>bUse1</td><td>12513</td></tr><tr><td>BUFFER:</td><td>BUF @0x0000000958CF0E40</td><td>bstat2</td><td>0x0</td></tr><tr><td>BUFFER:</td><td>BUF @0x0000000958CF0E40</td><td>blog</td><td>0x15a</td></tr><tr><td>BUFFER:</td><td>BUF @0x0000000958CF0E40</td><td>bsampleCount</td><td>1246</td></tr><tr><td>BUFFER:</td><td>BUF @0x0000000958CF0E40</td><td>bIoCount</td><td>0</td></tr><tr><td>BUFFER:</td><td>BUF @0x0000000958CF0E40</td><td>resPoolId</td><td>0</td></tr><tr><td>BUFFER:</td><td>BUF @0x0000000958CF0E40</td><td>bcputicks</td><td>382752</td></tr><tr><td>BUFFER:</td><td>BUF @0x0000000958CF0E40</td><td>bReadMicroSec</td><td>949</td></tr><tr><td>BUFFER:</td><td>BUF @0x0000000958CF0E40</td><td>bDirtyContext</td><td>0x0000000951B16680</td></tr><tr><td>BUFFER:</td><td>BUF @0x0000000958CF0E40</td><td>bDbPageBroker</td><td>0x0000000000000000</td></tr><tr><td>BUFFER:</td><td>BUF @0x0000000958CF0E40</td><td>bdbid</td><td>2</td></tr><tr><td>BUFFER:</td><td>BUF @0x0000000958CF0E40</td><td>bpru</td><td>0x0000000948188040</td></tr><tr><td>PAGE HEADER:</td><td>Page @0x00000009488D2000</td><td>m_pageId</td><td>(1:116)</td></tr><tr><td>PAGE HEADER:</td><td>Page @0x00000009488D2000</td><td>m_headerVersion</td><td>1</td></tr><tr><td>PAGE HEADER:</td><td>Page @0x00000009488D2000</td><td>m_type</td><td>1</td></tr><tr><td>PAGE HEADER:</td><td>Page @0x00000009488D2000</td><td>m_typeFlagBits</td><td>0x4</td></tr><tr><td>PAGE HEADER:</td><td>Page @0x00000009488D2000</td><td>m_level</td><td>0</td></tr><tr><td>PAGE HEADER:</td><td>Page @0x00000009488D2000</td><td>m_flagBits</td><td>0x0</td></tr><tr><td>PAGE HEADER:</td><td>Page @0x00000009488D2000</td><td>m_objId (AllocUnitId.idObj)</td><td>34</td></tr><tr><td>PAGE HEADER:</td><td>Page @0x00000009488D2000</td><td>m_indexId (AllocUnitId.idInd)</td><td>1</td></tr><tr><td>PAGE HEADER:</td><td>Page @0x00000009488D2000</td><td>Metadata: AllocUnitId</td><td>281474978938880</td></tr><tr><td>PAGE HEADER:</td><td>Page @0x00000009488D2000</td><td>Metadata: PartitionId</td><td>281474978938880</td></tr><tr><td>PAGE HEADER:</td><td>Page @0x00000009488D2000</td><td>Metadata: IndexId</td><td>1</td></tr><tr><td>PAGE HEADER:</td><td>Page @0x00000009488D2000</td><td>Metadata: ObjectId</td><td>34</td></tr><tr><td>PAGE HEADER:</td><td>Page @0x00000009488D2000</td><td>m_prevPage</td><td>(0:0)</td></tr><tr><td>PAGE HEADER:</td><td>Page @0x00000009488D2000</td><td>m_nextPage</td><td>(1:302)</td></tr><tr><td>PAGE HEADER:</td><td>Page @0x00000009488D2000</td><td>pminlen</td><td>44</td></tr><tr><td>PAGE HEADER:</td><td>Page @0x00000009488D2000</td><td>m_slotCnt</td><td>15</td></tr><tr><td>PAGE HEADER:</td><td>Page @0x00000009488D2000</td><td>m_freeCnt</td><td>6242</td></tr><tr><td>PAGE HEADER:</td><td>Page @0x00000009488D2000</td><td>m_freeData</td><td>5352</td></tr><tr><td>PAGE HEADER:</td><td>Page @0x00000009488D2000</td><td>m_reservedCnt</td><td>0</td></tr><tr><td>PAGE HEADER:</td><td>Page @0x00000009488D2000</td><td>m_lsn</td><td>(73:21136:154)</td></tr><tr><td>PAGE HEADER:</td><td>Page @0x00000009488D2000</td><td>m_xactReserved</td><td>0</td></tr><tr><td>PAGE HEADER:</td><td>Page @0x00000009488D2000</td><td>m_xdesId</td><td>(0:0)</td></tr><tr><td>PAGE HEADER:</td><td>Page @0x00000009488D2000</td><td>m_ghostRecCnt</td><td>0</td></tr><tr><td>PAGE HEADER:</td><td>Page @0x00000009488D2000</td><td>m_tornBits</td><td>1678034623</td></tr><tr><td>PAGE HEADER:</td><td>Page @0x00000009488D2000</td><td>DB Frag ID</td><td>1</td></tr><tr><td>PAGE HEADER:</td><td>Allocation Status</td><td>GAM (1:2)</td><td>ALLOCATED</td></tr><tr><td>PAGE HEADER:</td><td>Allocation Status</td><td>SGAM (1:3)</td><td>NOT ALLOCATED</td></tr><tr><td>PAGE HEADER:</td><td>Allocation Status</td><td>PFS (1:1)</td><td>0x60 MIXED_EXT ALLOCATED   0_PCT_FULL</td></tr><tr><td>PAGE HEADER:</td><td>Allocation Status</td><td>DIFF (1:6)</td><td>CHANGED</td></tr><tr><td>PAGE HEADER:</td><td>Allocation Status</td><td>ML (1:7)</td><td>NOT MIN_LOGGED</td></tr><tr><td>PAGE HEADER:</td><td>Slot 0 Offset 0x13b0 Length 312</td><td>Record Type</td><td>PRIMARY_RECORD</td></tr><tr><td>PAGE HEADER:</td><td>Slot 0 Offset 0x13b0 Length 312</td><td>Record Attributes</td><td> NULL_BITMAP VARIABLE_COLUMNS</td></tr><tr><td>PAGE HEADER:</td><td>Slot 0 Offset 0x13b0 Length 312</td><td>Record Size</td><td>312</td></tr><tr><td>Slot 0 Offset 0x13b0 Length 312</td><td>Memory Dump @0x000000095DFE93B0</td><td></td><td>0000000000000000:   30003000 b5176da0 01000000 0008000e 00552000  0.0.µ.m .........U .</td></tr><tr><td>Slot 0 Offset 0x13b0 Length 312</td><td>Memory Dump @0x000000095DFE93B0</td><td></td><td>0000000000000014:   00000001 01000000 09407501 10ab0000 67a47501  ........\t@u..«..g¤u.</td></tr><tr><td>Slot 0 Offset 0x13b0 Length 312</td><td>Memory Dump @0x000000095DFE93B0</td><td></td><td>0000000000000028:   10ab0000 00000000 0c000000 01003801 23006700  .«............8.#.g.</td></tr><tr><td>Slot 0 Offset 0x13b0 Length 312</td><td>Memory Dump @0x000000095DFE93B0</td><td></td><td>000000000000003C:   6f007300 6f007800 5f005f00 5f005f00 5f005f00  o.s.o.x._._._._._._.</td></tr><tr><td>Slot 0 Offset 0x13b0 Length 312</td><td>Memory Dump @0x000000095DFE93B0</td><td></td><td>0000000000000050:   5f005f00 5f005f00 5f005f00 5f005f00 5f005f00  _._._._._._._._._._.</td></tr><tr><td>Slot 0 Offset 0x13b0 Length 312</td><td>Memory Dump @0x000000095DFE93B0</td><td></td><td>0000000000000064:   5f005f00 5f005f00 5f005f00 5f005f00 5f005f00  _._._._._._._._._._.</td></tr><tr><td>Slot 0 Offset 0x13b0 Length 312</td><td>Memory Dump @0x000000095DFE93B0</td><td></td><td>0000000000000078:   5f005f00 5f005f00 5f005f00 5f005f00 5f005f00  _._._._._._._._._._.</td></tr><tr><td>Slot 0 Offset 0x13b0 Length 312</td><td>Memory Dump @0x000000095DFE93B0</td><td></td><td>000000000000008C:   5f005f00 5f005f00 5f005f00 5f005f00 5f005f00  _._._._._._._._._._.</td></tr><tr><td>Slot 0 Offset 0x13b0 Length 312</td><td>Memory Dump @0x000000095DFE93B0</td><td></td><td>00000000000000A0:   5f005f00 5f005f00 5f005f00 5f005f00 5f005f00  _._._._._._._._._._.</td></tr><tr><td>Slot 0 Offset 0x13b0 Length 312</td><td>Memory Dump @0x000000095DFE93B0</td><td></td><td>00000000000000B4:   5f005f00 5f005f00 5f005f00 5f005f00 5f005f00  _._._._._._._._._._.</td></tr><tr><td>Slot 0 Offset 0x13b0 Length 312</td><td>Memory Dump @0x000000095DFE93B0</td><td></td><td>00000000000000C8:   5f005f00 5f005f00 5f005f00 5f005f00 5f005f00  _._._._._._._._._._.</td></tr><tr><td>Slot 0 Offset 0x13b0 Length 312</td><td>Memory Dump @0x000000095DFE93B0</td><td></td><td>00000000000000DC:   5f005f00 5f005f00 5f005f00 5f005f00 5f005f00  _._._._._._._._._._.</td></tr><tr><td>Slot 0 Offset 0x13b0 Length 312</td><td>Memory Dump @0x000000095DFE93B0</td><td></td><td>00000000000000F0:   5f005f00 5f005f00 5f005f00 5f005f00 5f005f00  _._._._._._._._._._.</td></tr><tr><td>Slot 0 Offset 0x13b0 Length 312</td><td>Memory Dump @0x000000095DFE93B0</td><td></td><td>0000000000000104:   5f005f00 5f005f00 5f005f00 5f005f00 5f005f00  _._._._._._._._._._.</td></tr><tr><td>Slot 0 Offset 0x13b0 Length 312</td><td>Memory Dump @0x000000095DFE93B0</td><td></td><td>0000000000000118:   5f005f00 5f005f00 30003000 30003000 30003000  _._._._.0.0.0.0.0.0.</td></tr><tr><td>Slot 0 Offset 0x13b0 Length 312</td><td>Memory Dump @0x000000095DFE93B0</td><td></td><td>000000000000012C:   30003000 30003000 32003300                    0.0.0.0.2.3.</td></tr><tr><td>Slot 0 Offset 0x13b0 Length 312</td><td>Slot 0 Column 1 Offset 0x4 Length 4 Length (physical) 4</td><td>id</td><td>-1603463243</td></tr><tr><td>Slot 0 Offset 0x13b0 Length 312</td><td>Slot 0 Column 2 Offset 0x38 Length 256 Length (physical) 256</td><td>name</td><td>#gosox______________________________________________________________________________________________________________000000000023</td></tr><tr><td>Slot 0 Offset 0x13b0 Length 312</td><td>Slot 0 Column 3 Offset 0x8 Length 4 Length (physical) 4</td><td>nsid</td><td>1</td></tr><tr><td>Slot 0 Offset 0x13b0 Length 312</td><td>Slot 0 Column 4 Offset 0xc Length 1 Length (physical) 1</td><td>nsclass</td><td>0</td></tr><tr><td>Slot 0 Offset 0x13b0 Length 312</td><td>Slot 0 Column 5 Offset 0xd Length 4 Length (physical) 4</td><td>status</td><td>917512</td></tr><tr><td>Slot 0 Offset 0x13b0 Length 312</td><td>Slot 0 Column 6 Offset 0x11 Length 2 Length (physical) 2</td><td>type</td><td>U </td></tr><tr><td>Slot 0 Offset 0x13b0 Length 312</td><td>Slot 0 Column 7 Offset 0x13 Length 4 Length (physical) 4</td><td>pid</td><td>0</td></tr><tr><td>Slot 0 Offset 0x13b0 Length 312</td><td>Slot 0 Column 8 Offset 0x17 Length 1 Length (physical) 1</td><td>pclass</td><td>1</td></tr><tr><td>Slot 0 Offset 0x13b0 Length 312</td><td>Slot 0 Column 9 Offset 0x18 Length 4 Length (physical) 4</td><td>intprop</td><td>1</td></tr><tr><td>Slot 0 Offset 0x13b0 Length 312</td><td>Slot 0 Column 10 Offset 0x1c Length 8 Length (physical) 8</td><td>created</td><td>2019-11-25 22:38:57.737</td></tr><tr><td>Slot 0 Offset 0x13b0 Length 312</td><td>Slot 0 Column 11 Offset 0x24 Length 8 Length (physical) 8</td><td>modified</td><td>2019-11-25 22:40:23.383</td></tr><tr><td>Slot 0 Offset 0x13b0 Length 312</td><td>Slot 0 Column 12 Offset 0x2c Length 4 Length (physical) 4</td><td>status2</td><td>0</td></tr><tr><td>Slot 0 Offset 0x13b0 Length 312</td><td>Slot 0 Offset 0x0 Length 0 Length (physical) 0</td><td>KeyHashValue</td><td>(0191f5fd3093)</td></tr><tr><td>PAGE HEADER:</td><td>Slot 1 Offset 0x60 Length 74</td><td>Record Type</td><td>PRIMARY_RECORD</td></tr><tr><td>PAGE HEADER:</td><td>Slot 1 Offset 0x60 Length 74</td><td>Record Attributes</td><td> NULL_BITMAP VARIABLE_COLUMNS</td></tr><tr><td>PAGE HEADER:</td><td>Slot 1 Offset 0x60 Length 74</td><td>Record Size</td><td>74</td></tr><tr><td>Slot 1 Offset 0x60 Length 74</td><td>Memory Dump @0x000000095DFE8060</td><td></td><td>0000000000000000:   30003000 5c6cf4a0 01000000 0008000e 00552000  0.0.\\lô .........U .</td></tr><tr><td>Slot 1 Offset 0x60 Length 74</td><td>Memory Dump @0x000000095DFE8060</td><td></td><td>0000000000000014:   00000001 01000000 cc3f7501 10ab0000 faa37501  ........Ì?u..«..ú£u.</td></tr><tr><td>Slot 1 Offset 0x60 Length 74</td><td>Memory Dump @0x000000095DFE8060</td><td></td><td>0000000000000028:   10ab0000 00000000 0c000000 01004a00 23004100  .«............J.#.A.</td></tr><tr><td>Slot 1 Offset 0x60 Length 74</td><td>Memory Dump @0x000000095DFE8060</td><td></td><td>000000000000003C:   30004600 34003600 43003500 4300               0.F.4.6.C.5.C.</td></tr><tr><td>Slot 1 Offset 0x60 Length 74</td><td>Slot 1 Column 1 Offset 0x4 Length 4 Length (physical) 4</td><td>id</td><td>-1594594212</td></tr><tr><td>Slot 1 Offset 0x60 Length 74</td><td>Slot 1 Column 2 Offset 0x38 Length 18 Length (physical) 18</td><td>name</td><td>#A0F46C5C</td></tr><tr><td>Slot 1 Offset 0x60 Length 74</td><td>Slot 1 Column 3 Offset 0x8 Length 4 Length (physical) 4</td><td>nsid</td><td>1</td></tr><tr><td>Slot 1 Offset 0x60 Length 74</td><td>Slot 1 Column 4 Offset 0xc Length 1 Length (physical) 1</td><td>nsclass</td><td>0</td></tr><tr><td>Slot 1 Offset 0x60 Length 74</td><td>Slot 1 Column 5 Offset 0xd Length 4 Length (physical) 4</td><td>status</td><td>917512</td></tr><tr><td>Slot 1 Offset 0x60 Length 74</td><td>Slot 1 Column 6 Offset 0x11 Length 2 Length (physical) 2</td><td>type</td><td>U </td></tr><tr><td>Slot 1 Offset 0x60 Length 74</td><td>Slot 1 Column 7 Offset 0x13 Length 4 Length (physical) 4</td><td>pid</td><td>0</td></tr><tr><td>Slot 1 Offset 0x60 Length 74</td><td>Slot 1 Column 8 Offset 0x17 Length 1 Length (physical) 1</td><td>pclass</td><td>1</td></tr><tr><td>Slot 1 Offset 0x60 Length 74</td><td>Slot 1 Column 9 Offset 0x18 Length 4 Length (physical) 4</td><td>intprop</td><td>1</td></tr><tr><td>Slot 1 Offset 0x60 Length 74</td><td>Slot 1 Column 10 Offset 0x1c Length 8 Length (physical) 8</td><td>created</td><td>2019-11-25 22:38:57.533</td></tr><tr><td>Slot 1 Offset 0x60 Length 74</td><td>Slot 1 Column 11 Offset 0x24 Length 8 Length (physical) 8</td><td>modified</td><td>2019-11-25 22:40:23.020</td></tr><tr><td>Slot 1 Offset 0x60 Length 74</td><td>Slot 1 Column 12 Offset 0x2c Length 4 Length (physical) 4</td><td>status2</td><td>0</td></tr><tr><td>Slot 1 Offset 0x60 Length 74</td><td>Slot 1 Offset 0x0 Length 0 Length (physical) 0</td><td>KeyHashValue</td><td>(0200fcfd7630)</td></tr><tr><td>PAGE HEADER:</td><td>Slot 2 Offset 0x1140 Length 312</td><td>Record Type</td><td>PRIMARY_RECORD</td></tr><tr><td>PAGE HEADER:</td><td>Slot 2 Offset 0x1140 Length 312</td><td>Record Attributes</td><td> NULL_BITMAP VARIABLE_COLUMNS</td></tr><tr><td>PAGE HEADER:</td><td>Slot 2 Offset 0x1140 Length 312</td><td>Record Size</td><td>312</td></tr><tr><td>Slot 2 Offset 0x1140 Length 312</td><td>Memory Dump @0x000000095DFE9140</td><td></td><td>0000000000000000:   30003000 ee3b61a1 01000000 0008000e 00552000  0.0.î;a¡.........U .</td></tr><tr><td>Slot 2 Offset 0x1140 Length 312</td><td>Memory Dump @0x000000095DFE9140</td><td></td><td>0000000000000014:   00000001 01000000 0a407501 10ab0000 67a47501  .........@u..«..g¤u.</td></tr><tr><td>Slot 2 Offset 0x1140 Length 312</td><td>Memory Dump @0x000000095DFE9140</td><td></td><td>0000000000000028:   10ab0000 00000000 0c000000 01003801 23006700  .«............8.#.g.</td></tr><tr><td>Slot 2 Offset 0x1140 Length 312</td><td>Memory Dump @0x000000095DFE9140</td><td></td><td>000000000000003C:   6f007300 6f007800 5f005f00 5f005f00 5f005f00  o.s.o.x._._._._._._.</td></tr><tr><td>Slot 2 Offset 0x1140 Length 312</td><td>Memory Dump @0x000000095DFE9140</td><td></td><td>0000000000000050:   5f005f00 5f005f00 5f005f00 5f005f00 5f005f00  _._._._._._._._._._.</td></tr><tr><td>Slot 2 Offset 0x1140 Length 312</td><td>Memory Dump @0x000000095DFE9140</td><td></td><td>0000000000000064:   5f005f00 5f005f00 5f005f00 5f005f00 5f005f00  _._._._._._._._._._.</td></tr><tr><td>Slot 2 Offset 0x1140 Length 312</td><td>Memory Dump @0x000000095DFE9140</td><td></td><td>0000000000000078:   5f005f00 5f005f00 5f005f00 5f005f00 5f005f00  _._._._._._._._._._.</td></tr><tr><td>Slot 2 Offset 0x1140 Length 312</td><td>Memory Dump @0x000000095DFE9140</td><td></td><td>000000000000008C:   5f005f00 5f005f00 5f005f00 5f005f00 5f005f00  _._._._._._._._._._.</td></tr><tr><td>Slot 2 Offset 0x1140 Length 312</td><td>Memory Dump @0x000000095DFE9140</td><td></td><td>00000000000000A0:   5f005f00 5f005f00 5f005f00 5f005f00 5f005f00  _._._._._._._._._._.</td></tr><tr><td>Slot 2 Offset 0x1140 Length 312</td><td>Memory Dump @0x000000095DFE9140</td><td></td><td>00000000000000B4:   5f005f00 5f005f00 5f005f00 5f005f00 5f005f00  _._._._._._._._._._.</td></tr><tr><td>Slot 2 Offset 0x1140 Length 312</td><td>Memory Dump @0x000000095DFE9140</td><td></td><td>00000000000000C8:   5f005f00 5f005f00 5f005f00 5f005f00 5f005f00  _._._._._._._._._._.</td></tr><tr><td>Slot 2 Offset 0x1140 Length 312</td><td>Memory Dump @0x000000095DFE9140</td><td></td><td>00000000000000DC:   5f005f00 5f005f00 5f005f00 5f005f00 5f005f00  _._._._._._._._._._.</td></tr><tr><td>Slot 2 Offset 0x1140 Length 312</td><td>Memory Dump @0x000000095DFE9140</td><td></td><td>00000000000000F0:   5f005f00 5f005f00 5f005f00 5f005f00 5f005f00  _._._._._._._._._._.</td></tr><tr><td>Slot 2 Offset 0x1140 Length 312</td><td>Memory Dump @0x000000095DFE9140</td><td></td><td>0000000000000104:   5f005f00 5f005f00 5f005f00 5f005f00 5f005f00  _._._._._._._._._._.</td></tr><tr><td>Slot 2 Offset 0x1140 Length 312</td><td>Memory Dump @0x000000095DFE9140</td><td></td><td>0000000000000118:   5f005f00 5f005f00 30003000 30003000 30003000  _._._._.0.0.0.0.0.0.</td></tr><tr><td>Slot 2 Offset 0x1140 Length 312</td><td>Memory Dump @0x000000095DFE9140</td><td></td><td>000000000000012C:   30003000 30003000 32003400                    0.0.0.0.2.4.</td></tr><tr><td>Slot 2 Offset 0x1140 Length 312</td><td>Slot 2 Column 1 Offset 0x4 Length 4 Length (physical) 4</td><td>id</td><td>-1587463186</td></tr><tr><td>Slot 2 Offset 0x1140 Length 312</td><td>Slot 2 Column 2 Offset 0x38 Length 256 Length (physical) 256</td><td>name</td><td>#gosox______________________________________________________________________________________________________________000000000024</td></tr><tr><td>Slot 2 Offset 0x1140 Length 312</td><td>Slot 2 Column 3 Offset 0x8 Length 4 Length (physical) 4</td><td>nsid</td><td>1</td></tr><tr><td>Slot 2 Offset 0x1140 Length 312</td><td>Slot 2 Column 4 Offset 0xc Length 1 Length (physical) 1</td><td>nsclass</td><td>0</td></tr><tr><td>Slot 2 Offset 0x1140 Length 312</td><td>Slot 2 Column 5 Offset 0xd Length 4 Length (physical) 4</td><td>status</td><td>917512</td></tr><tr><td>Slot 2 Offset 0x1140 Length 312</td><td>Slot 2 Column 6 Offset 0x11 Length 2 Length (physical) 2</td><td>type</td><td>U </td></tr><tr><td>Slot 2 Offset 0x1140 Length 312</td><td>Slot 2 Column 7 Offset 0x13 Length 4 Length (physical) 4</td><td>pid</td><td>0</td></tr><tr><td>Slot 2 Offset 0x1140 Length 312</td><td>Slot 2 Column 8 Offset 0x17 Length 1 Length (physical) 1</td><td>pclass</td><td>1</td></tr><tr><td>Slot 2 Offset 0x1140 Length 312</td><td>Slot 2 Column 9 Offset 0x18 Length 4 Length (physical) 4</td><td>intprop</td><td>1</td></tr><tr><td>Slot 2 Offset 0x1140 Length 312</td><td>Slot 2 Column 10 Offset 0x1c Length 8 Length (physical) 8</td><td>created</td><td>2019-11-25 22:38:57.740</td></tr><tr><td>Slot 2 Offset 0x1140 Length 312</td><td>Slot 2 Column 11 Offset 0x24 Length 8 Length (physical) 8</td><td>modified</td><td>2019-11-25 22:40:23.383</td></tr><tr><td>Slot 2 Offset 0x1140 Length 312</td><td>Slot 2 Column 12 Offset 0x2c Length 4 Length (physical) 4</td><td>status2</td><td>0</td></tr><tr><td>Slot 2 Offset 0x1140 Length 312</td><td>Slot 2 Offset 0x0 Length 0 Length (physical) 0</td><td>KeyHashValue</td><td>(53f3df89b241)</td></tr><tr><td>PAGE HEADER:</td><td>Slot 3 Offset 0x21c Length 74</td><td>Record Type</td><td>PRIMARY_RECORD</td></tr><tr><td>PAGE HEADER:</td><td>Slot 3 Offset 0x21c Length 74</td><td>Record Attributes</td><td> NULL_BITMAP VARIABLE_COLUMNS</td></tr><tr><td>PAGE HEADER:</td><td>Slot 3 Offset 0x21c Length 74</td><td>Record Size</td><td>74</td></tr><tr><td>Slot 3 Offset 0x21c Length 74</td><td>Memory Dump @0x000000095DFE821C</td><td></td><td>0000000000000000:   30003000 9590e8a1 01000000 0008000e 00552000  0.0..è¡.........U .</td></tr><tr><td>Slot 3 Offset 0x21c Length 74</td><td>Memory Dump @0x000000095DFE821C</td><td></td><td>0000000000000014:   00000001 01000000 cc3f7501 10ab0000 5ca47501  ........Ì?u..«..\\¤u.</td></tr><tr><td>Slot 3 Offset 0x21c Length 74</td><td>Memory Dump @0x000000095DFE821C</td><td></td><td>0000000000000028:   10ab0000 00000000 0c000000 01004a00 23004100  .«............J.#.A.</td></tr><tr><td>Slot 3 Offset 0x21c Length 74</td><td>Memory Dump @0x000000095DFE821C</td><td></td><td>000000000000003C:   31004500 38003900 30003900 3500               1.E.8.9.0.9.5.</td></tr><tr><td>Slot 3 Offset 0x21c Length 74</td><td>Slot 3 Column 1 Offset 0x4 Length 4 Length (physical) 4</td><td>id</td><td>-1578594155</td></tr><tr><td>Slot 3 Offset 0x21c Length 74</td><td>Slot 3 Column 2 Offset 0x38 Length 18 Length (physical) 18</td><td>name</td><td>#A1E89095</td></tr><tr><td>Slot 3 Offset 0x21c Length 74</td><td>Slot 3 Column 3 Offset 0x8 Length 4 Length (physical) 4</td><td>nsid</td><td>1</td></tr><tr><td>Slot 3 Offset 0x21c Length 74</td><td>Slot 3 Column 4 Offset 0xc Length 1 Length (physical) 1</td><td>nsclass</td><td>0</td></tr><tr><td>Slot 3 Offset 0x21c Length 74</td><td>Slot 3 Column 5 Offset 0xd Length 4 Length (physical) 4</td><td>status</td><td>917512</td></tr><tr><td>Slot 3 Offset 0x21c Length 74</td><td>Slot 3 Column 6 Offset 0x11 Length 2 Length (physical) 2</td><td>type</td><td>U </td></tr><tr><td>Slot 3 Offset 0x21c Length 74</td><td>Slot 3 Column 7 Offset 0x13 Length 4 Length (physical) 4</td><td>pid</td><td>0</td></tr><tr><td>Slot 3 Offset 0x21c Length 74</td><td>Slot 3 Column 8 Offset 0x17 Length 1 Length (physical) 1</td><td>pclass</td><td>1</td></tr><tr><td>Slot 3 Offset 0x21c Length 74</td><td>Slot 3 Column 9 Offset 0x18 Length 4 Length (physical) 4</td><td>intprop</td><td>1</td></tr><tr><td>Slot 3 Offset 0x21c Length 74</td><td>Slot 3 Column 10 Offset 0x1c Length 8 Length (physical) 8</td><td>created</td><td>2019-11-25 22:38:57.533</td></tr><tr><td>Slot 3 Offset 0x21c Length 74</td><td>Slot 3 Column 11 Offset 0x24 Length 8 Length (physical) 8</td><td>modified</td><td>2019-11-25 22:40:23.347</td></tr><tr><td>Slot 3 Offset 0x21c Length 74</td><td>Slot 3 Column 12 Offset 0x2c Length 4 Length (physical) 4</td><td>status2</td><td>0</td></tr><tr><td>Slot 3 Offset 0x21c Length 74</td><td>Slot 3 Offset 0x0 Length 0 Length (physical) 0</td><td>KeyHashValue</td><td>(84e6005513d5)</td></tr><tr><td>PAGE HEADER:</td><td>Slot 4 Offset 0x1008 Length 74</td><td>Record Type</td><td>PRIMARY_RECORD</td></tr><tr><td>PAGE HEADER:</td><td>Slot 4 Offset 0x1008 Length 74</td><td>Record Attributes</td><td> NULL_BITMAP VARIABLE_COLUMNS</td></tr><tr><td>PAGE HEADER:</td><td>Slot 4 Offset 0x1008 Length 74</td><td>Record Size</td><td>74</td></tr><tr><td>Slot 4 Offset 0x1008 Length 74</td><td>Memory Dump @0x000000095DFE9008</td><td></td><td>0000000000000000:   30003000 276055a2 01000000 0008000e 00552000  0.0.'`U¢.........U .</td></tr><tr><td>Slot 4 Offset 0x1008 Length 74</td><td>Memory Dump @0x000000095DFE9008</td><td></td><td>0000000000000014:   00000001 01000000 0c407501 10ab0000 66a47501  .........@u..«..f¤u.</td></tr><tr><td>Slot 4 Offset 0x1008 Length 74</td><td>Memory Dump @0x000000095DFE9008</td><td></td><td>0000000000000028:   10ab0000 00000000 0c000000 01004a00 23004100  .«............J.#.A.</td></tr><tr><td>Slot 4 Offset 0x1008 Length 74</td><td>Memory Dump @0x000000095DFE9008</td><td></td><td>000000000000003C:   32003500 35003600 30003200 3700               2.5.5.6.0.2.7.</td></tr><tr><td>Slot 4 Offset 0x1008 Length 74</td><td>Slot 4 Column 1 Offset 0x4 Length 4 Length (physical) 4</td><td>id</td><td>-1571463129</td></tr><tr><td>Slot 4 Offset 0x1008 Length 74</td><td>Slot 4 Column 2 Offset 0x38 Length 18 Length (physical) 18</td><td>name</td><td>#A2556027</td></tr><tr><td>Slot 4 Offset 0x1008 Length 74</td><td>Slot 4 Column 3 Offset 0x8 Length 4 Length (physical) 4</td><td>nsid</td><td>1</td></tr><tr><td>Slot 4 Offset 0x1008 Length 74</td><td>Slot 4 Column 4 Offset 0xc Length 1 Length (physical) 1</td><td>nsclass</td><td>0</td></tr><tr><td>Slot 4 Offset 0x1008 Length 74</td><td>Slot 4 Column 5 Offset 0xd Length 4 Length (physical) 4</td><td>status</td><td>917512</td></tr><tr><td>Slot 4 Offset 0x1008 Length 74</td><td>Slot 4 Column 6 Offset 0x11 Length 2 Length (physical) 2</td><td>type</td><td>U </td></tr><tr><td>Slot 4 Offset 0x1008 Length 74</td><td>Slot 4 Column 7 Offset 0x13 Length 4 Length (physical) 4</td><td>pid</td><td>0</td></tr><tr><td>Slot 4 Offset 0x1008 Length 74</td><td>Slot 4 Column 8 Offset 0x17 Length 1 Length (physical) 1</td><td>pclass</td><td>1</td></tr><tr><td>Slot 4 Offset 0x1008 Length 74</td><td>Slot 4 Column 9 Offset 0x18 Length 4 Length (physical) 4</td><td>intprop</td><td>1</td></tr><tr><td>Slot 4 Offset 0x1008 Length 74</td><td>Slot 4 Column 10 Offset 0x1c Length 8 Length (physical) 8</td><td>created</td><td>2019-11-25 22:38:57.747</td></tr><tr><td>Slot 4 Offset 0x1008 Length 74</td><td>Slot 4 Column 11 Offset 0x24 Length 8 Length (physical) 8</td><td>modified</td><td>2019-11-25 22:40:23.380</td></tr><tr><td>Slot 4 Offset 0x1008 Length 74</td><td>Slot 4 Column 12 Offset 0x2c Length 4 Length (physical) 4</td><td>status2</td><td>0</td></tr><tr><td>Slot 4 Offset 0x1008 Length 74</td><td>Slot 4 Offset 0x0 Length 0 Length (physical) 0</td><td>KeyHashValue</td><td>(3bb514be4c28)</td></tr><tr><td>PAGE HEADER:</td><td>Slot 5 Offset 0xf4 Length 74</td><td>Record Type</td><td>PRIMARY_RECORD</td></tr><tr><td>PAGE HEADER:</td><td>Slot 5 Offset 0xf4 Length 74</td><td>Record Attributes</td><td> NULL_BITMAP VARIABLE_COLUMNS</td></tr><tr><td>PAGE HEADER:</td><td>Slot 5 Offset 0xf4 Length 74</td><td>Record Size</td><td>74</td></tr><tr><td>Slot 5 Offset 0xf4 Length 74</td><td>Memory Dump @0x000000095DFE80F4</td><td></td><td>0000000000000000:   30003000 ceb4dca2 01000000 0008000e 00552000  0.0.Î´Ü¢.........U .</td></tr><tr><td>Slot 5 Offset 0xf4 Length 74</td><td>Memory Dump @0x000000095DFE80F4</td><td></td><td>0000000000000014:   00000001 01000000 ce3f7501 10ab0000 58a47501  ........Î?u..«..X¤u.</td></tr><tr><td>Slot 5 Offset 0xf4 Length 74</td><td>Memory Dump @0x000000095DFE80F4</td><td></td><td>0000000000000028:   10ab0000 00000000 0c000000 01004a00 23004100  .«............J.#.A.</td></tr><tr><td>Slot 5 Offset 0xf4 Length 74</td><td>Memory Dump @0x000000095DFE80F4</td><td></td><td>000000000000003C:   32004400 43004200 34004300 4500               2.D.C.B.4.C.E.</td></tr><tr><td>Slot 5 Offset 0xf4 Length 74</td><td>Slot 5 Column 1 Offset 0x4 Length 4 Length (physical) 4</td><td>id</td><td>-1562594098</td></tr><tr><td>Slot 5 Offset 0xf4 Length 74</td><td>Slot 5 Column 2 Offset 0x38 Length 18 Length (physical) 18</td><td>name</td><td>#A2DCB4CE</td></tr><tr><td>Slot 5 Offset 0xf4 Length 74</td><td>Slot 5 Column 3 Offset 0x8 Length 4 Length (physical) 4</td><td>nsid</td><td>1</td></tr><tr><td>Slot 5 Offset 0xf4 Length 74</td><td>Slot 5 Column 4 Offset 0xc Length 1 Length (physical) 1</td><td>nsclass</td><td>0</td></tr><tr><td>Slot 5 Offset 0xf4 Length 74</td><td>Slot 5 Column 5 Offset 0xd Length 4 Length (physical) 4</td><td>status</td><td>917512</td></tr><tr><td>Slot 5 Offset 0xf4 Length 74</td><td>Slot 5 Column 6 Offset 0x11 Length 2 Length (physical) 2</td><td>type</td><td>U </td></tr><tr><td>Slot 5 Offset 0xf4 Length 74</td><td>Slot 5 Column 7 Offset 0x13 Length 4 Length (physical) 4</td><td>pid</td><td>0</td></tr><tr><td>Slot 5 Offset 0xf4 Length 74</td><td>Slot 5 Column 8 Offset 0x17 Length 1 Length (physical) 1</td><td>pclass</td><td>1</td></tr><tr><td>Slot 5 Offset 0xf4 Length 74</td><td>Slot 5 Column 9 Offset 0x18 Length 4 Length (physical) 4</td><td>intprop</td><td>1</td></tr><tr><td>Slot 5 Offset 0xf4 Length 74</td><td>Slot 5 Column 10 Offset 0x1c Length 8 Length (physical) 8</td><td>created</td><td>2019-11-25 22:38:57.540</td></tr><tr><td>Slot 5 Offset 0xf4 Length 74</td><td>Slot 5 Column 11 Offset 0x24 Length 8 Length (physical) 8</td><td>modified</td><td>2019-11-25 22:40:23.333</td></tr><tr><td>Slot 5 Offset 0xf4 Length 74</td><td>Slot 5 Column 12 Offset 0x2c Length 4 Length (physical) 4</td><td>status2</td><td>0</td></tr><tr><td>Slot 5 Offset 0xf4 Length 74</td><td>Slot 5 Offset 0x0 Length 0 Length (physical) 0</td><td>KeyHashValue</td><td>(34d52864e721)</td></tr><tr><td>PAGE HEADER:</td><td>Slot 6 Offset 0xd98 Length 74</td><td>Record Type</td><td>PRIMARY_RECORD</td></tr><tr><td>PAGE HEADER:</td><td>Slot 6 Offset 0xd98 Length 74</td><td>Record Attributes</td><td> NULL_BITMAP VARIABLE_COLUMNS</td></tr><tr><td>PAGE HEADER:</td><td>Slot 6 Offset 0xd98 Length 74</td><td>Record Size</td><td>74</td></tr><tr><td>Slot 6 Offset 0xd98 Length 74</td><td>Memory Dump @0x000000095DFE8D98</td><td></td><td>0000000000000000:   30003000 608449a3 01000000 0008000e 00552000  0.0.`I£.........U .</td></tr><tr><td>Slot 6 Offset 0xd98 Length 74</td><td>Memory Dump @0x000000095DFE8D98</td><td></td><td>0000000000000014:   00000001 01000000 0c407501 10ab0000 67a47501  .........@u..«..g¤u.</td></tr><tr><td>Slot 6 Offset 0xd98 Length 74</td><td>Memory Dump @0x000000095DFE8D98</td><td></td><td>0000000000000028:   10ab0000 00000000 0c000000 01004a00 23004100  .«............J.#.A.</td></tr><tr><td>Slot 6 Offset 0xd98 Length 74</td><td>Memory Dump @0x000000095DFE8D98</td><td></td><td>000000000000003C:   33003400 39003800 34003600 3000               3.4.9.8.4.6.0.</td></tr><tr><td>Slot 6 Offset 0xd98 Length 74</td><td>Slot 6 Column 1 Offset 0x4 Length 4 Length (physical) 4</td><td>id</td><td>-1555463072</td></tr><tr><td>Slot 6 Offset 0xd98 Length 74</td><td>Slot 6 Column 2 Offset 0x38 Length 18 Length (physical) 18</td><td>name</td><td>#A3498460</td></tr><tr><td>Slot 6 Offset 0xd98 Length 74</td><td>Slot 6 Column 3 Offset 0x8 Length 4 Length (physical) 4</td><td>nsid</td><td>1</td></tr><tr><td>Slot 6 Offset 0xd98 Length 74</td><td>Slot 6 Column 4 Offset 0xc Length 1 Length (physical) 1</td><td>nsclass</td><td>0</td></tr><tr><td>Slot 6 Offset 0xd98 Length 74</td><td>Slot 6 Column 5 Offset 0xd Length 4 Length (physical) 4</td><td>status</td><td>917512</td></tr><tr><td>Slot 6 Offset 0xd98 Length 74</td><td>Slot 6 Column 6 Offset 0x11 Length 2 Length (physical) 2</td><td>type</td><td>U </td></tr><tr><td>Slot 6 Offset 0xd98 Length 74</td><td>Slot 6 Column 7 Offset 0x13 Length 4 Length (physical) 4</td><td>pid</td><td>0</td></tr><tr><td>Slot 6 Offset 0xd98 Length 74</td><td>Slot 6 Column 8 Offset 0x17 Length 1 Length (physical) 1</td><td>pclass</td><td>1</td></tr><tr><td>Slot 6 Offset 0xd98 Length 74</td><td>Slot 6 Column 9 Offset 0x18 Length 4 Length (physical) 4</td><td>intprop</td><td>1</td></tr><tr><td>Slot 6 Offset 0xd98 Length 74</td><td>Slot 6 Column 10 Offset 0x1c Length 8 Length (physical) 8</td><td>created</td><td>2019-11-25 22:38:57.747</td></tr><tr><td>Slot 6 Offset 0xd98 Length 74</td><td>Slot 6 Column 11 Offset 0x24 Length 8 Length (physical) 8</td><td>modified</td><td>2019-11-25 22:40:23.383</td></tr><tr><td>Slot 6 Offset 0xd98 Length 74</td><td>Slot 6 Column 12 Offset 0x2c Length 4 Length (physical) 4</td><td>status2</td><td>0</td></tr><tr><td>Slot 6 Offset 0xd98 Length 74</td><td>Slot 6 Offset 0x0 Length 0 Length (physical) 0</td><td>KeyHashValue</td><td>(bfcac36256dc)</td></tr><tr><td>PAGE HEADER:</td><td>Slot 7 Offset 0x188 Length 74</td><td>Record Type</td><td>PRIMARY_RECORD</td></tr><tr><td>PAGE HEADER:</td><td>Slot 7 Offset 0x188 Length 74</td><td>Record Attributes</td><td> NULL_BITMAP VARIABLE_COLUMNS</td></tr><tr><td>PAGE HEADER:</td><td>Slot 7 Offset 0x188 Length 74</td><td>Record Size</td><td>74</td></tr><tr><td>Slot 7 Offset 0x188 Length 74</td><td>Memory Dump @0x000000095DFE8188</td><td></td><td>0000000000000000:   30003000 07d9d0a3 01000000 0008000e 00552000  0.0..ÙÐ£.........U .</td></tr><tr><td>Slot 7 Offset 0x188 Length 74</td><td>Memory Dump @0x000000095DFE8188</td><td></td><td>0000000000000014:   00000001 01000000 cf3f7501 10ab0000 5aa47501  ........Ï?u..«..Z¤u.</td></tr><tr><td>Slot 7 Offset 0x188 Length 74</td><td>Memory Dump @0x000000095DFE8188</td><td></td><td>0000000000000028:   10ab0000 00000000 0c000000 01004a00 23004100  .«............J.#.A.</td></tr><tr><td>Slot 7 Offset 0x188 Length 74</td><td>Memory Dump @0x000000095DFE8188</td><td></td><td>000000000000003C:   33004400 30004400 39003000 3700               3.D.0.D.9.0.7.</td></tr><tr><td>Slot 7 Offset 0x188 Length 74</td><td>Slot 7 Column 1 Offset 0x4 Length 4 Length (physical) 4</td><td>id</td><td>-1546594041</td></tr><tr><td>Slot 7 Offset 0x188 Length 74</td><td>Slot 7 Column 2 Offset 0x38 Length 18 Length (physical) 18</td><td>name</td><td>#A3D0D907</td></tr><tr><td>Slot 7 Offset 0x188 Length 74</td><td>Slot 7 Column 3 Offset 0x8 Length 4 Length (physical) 4</td><td>nsid</td><td>1</td></tr><tr><td>Slot 7 Offset 0x188 Length 74</td><td>Slot 7 Column 4 Offset 0xc Length 1 Length (physical) 1</td><td>nsclass</td><td>0</td></tr><tr><td>Slot 7 Offset 0x188 Length 74</td><td>Slot 7 Column 5 Offset 0xd Length 4 Length (physical) 4</td><td>status</td><td>917512</td></tr><tr><td>Slot 7 Offset 0x188 Length 74</td><td>Slot 7 Column 6 Offset 0x11 Length 2 Length (physical) 2</td><td>type</td><td>U </td></tr><tr><td>Slot 7 Offset 0x188 Length 74</td><td>Slot 7 Column 7 Offset 0x13 Length 4 Length (physical) 4</td><td>pid</td><td>0</td></tr><tr><td>Slot 7 Offset 0x188 Length 74</td><td>Slot 7 Column 8 Offset 0x17 Length 1 Length (physical) 1</td><td>pclass</td><td>1</td></tr><tr><td>Slot 7 Offset 0x188 Length 74</td><td>Slot 7 Column 9 Offset 0x18 Length 4 Length (physical) 4</td><td>intprop</td><td>1</td></tr><tr><td>Slot 7 Offset 0x188 Length 74</td><td>Slot 7 Column 10 Offset 0x1c Length 8 Length (physical) 8</td><td>created</td><td>2019-11-25 22:38:57.543</td></tr><tr><td>Slot 7 Offset 0x188 Length 74</td><td>Slot 7 Column 11 Offset 0x24 Length 8 Length (physical) 8</td><td>modified</td><td>2019-11-25 22:40:23.340</td></tr><tr><td>Slot 7 Offset 0x188 Length 74</td><td>Slot 7 Column 12 Offset 0x2c Length 4 Length (physical) 4</td><td>status2</td><td>0</td></tr><tr><td>Slot 7 Offset 0x188 Length 74</td><td>Slot 7 Offset 0x0 Length 0 Length (physical) 0</td><td>KeyHashValue</td><td>(6881b1a1cb25)</td></tr><tr><td>PAGE HEADER:</td><td>Slot 8 Offset 0xc60 Length 74</td><td>Record Type</td><td>PRIMARY_RECORD</td></tr><tr><td>PAGE HEADER:</td><td>Slot 8 Offset 0xc60 Length 74</td><td>Record Attributes</td><td> NULL_BITMAP VARIABLE_COLUMNS</td></tr><tr><td>PAGE HEADER:</td><td>Slot 8 Offset 0xc60 Length 74</td><td>Record Size</td><td>74</td></tr><tr><td>Slot 8 Offset 0xc60 Length 74</td><td>Memory Dump @0x000000095DFE8C60</td><td></td><td>0000000000000000:   30003000 99a83da4 01000000 0008000e 00552000  0.0..¨=¤.........U .</td></tr><tr><td>Slot 8 Offset 0xc60 Length 74</td><td>Memory Dump @0x000000095DFE8C60</td><td></td><td>0000000000000014:   00000001 01000000 0e407501 10ab0000 67a47501  .........@u..«..g¤u.</td></tr><tr><td>Slot 8 Offset 0xc60 Length 74</td><td>Memory Dump @0x000000095DFE8C60</td><td></td><td>0000000000000028:   10ab0000 00000000 0c000000 01004a00 23004100  .«............J.#.A.</td></tr><tr><td>Slot 8 Offset 0xc60 Length 74</td><td>Memory Dump @0x000000095DFE8C60</td><td></td><td>000000000000003C:   34003300 44004100 38003900 3900               4.3.D.A.8.9.9.</td></tr><tr><td>Slot 8 Offset 0xc60 Length 74</td><td>Slot 8 Column 1 Offset 0x4 Length 4 Length (physical) 4</td><td>id</td><td>-1539463015</td></tr><tr><td>Slot 8 Offset 0xc60 Length 74</td><td>Slot 8 Column 2 Offset 0x38 Length 18 Length (physical) 18</td><td>name</td><td>#A43DA899</td></tr><tr><td>Slot 8 Offset 0xc60 Length 74</td><td>Slot 8 Column 3 Offset 0x8 Length 4 Length (physical) 4</td><td>nsid</td><td>1</td></tr><tr><td>Slot 8 Offset 0xc60 Length 74</td><td>Slot 8 Column 4 Offset 0xc Length 1 Length (physical) 1</td><td>nsclass</td><td>0</td></tr><tr><td>Slot 8 Offset 0xc60 Length 74</td><td>Slot 8 Column 5 Offset 0xd Length 4 Length (physical) 4</td><td>status</td><td>917512</td></tr><tr><td>Slot 8 Offset 0xc60 Length 74</td><td>Slot 8 Column 6 Offset 0x11 Length 2 Length (physical) 2</td><td>type</td><td>U </td></tr><tr><td>Slot 8 Offset 0xc60 Length 74</td><td>Slot 8 Column 7 Offset 0x13 Length 4 Length (physical) 4</td><td>pid</td><td>0</td></tr><tr><td>Slot 8 Offset 0xc60 Length 74</td><td>Slot 8 Column 8 Offset 0x17 Length 1 Length (physical) 1</td><td>pclass</td><td>1</td></tr><tr><td>Slot 8 Offset 0xc60 Length 74</td><td>Slot 8 Column 9 Offset 0x18 Length 4 Length (physical) 4</td><td>intprop</td><td>1</td></tr><tr><td>Slot 8 Offset 0xc60 Length 74</td><td>Slot 8 Column 10 Offset 0x1c Length 8 Length (physical) 8</td><td>created</td><td>2019-11-25 22:38:57.753</td></tr><tr><td>Slot 8 Offset 0xc60 Length 74</td><td>Slot 8 Column 11 Offset 0x24 Length 8 Length (physical) 8</td><td>modified</td><td>2019-11-25 22:40:23.383</td></tr><tr><td>Slot 8 Offset 0xc60 Length 74</td><td>Slot 8 Column 12 Offset 0x2c Length 4 Length (physical) 4</td><td>status2</td><td>0</td></tr><tr><td>Slot 8 Offset 0xc60 Length 74</td><td>Slot 8 Offset 0x0 Length 0 Length (physical) 0</td><td>KeyHashValue</td><td>(8946193699a9)</td></tr><tr><td>PAGE HEADER:</td><td>Slot 9 Offset 0x13e Length 74</td><td>Record Type</td><td>PRIMARY_RECORD</td></tr><tr><td>PAGE HEADER:</td><td>Slot 9 Offset 0x13e Length 74</td><td>Record Attributes</td><td> NULL_BITMAP VARIABLE_COLUMNS</td></tr><tr><td>PAGE HEADER:</td><td>Slot 9 Offset 0x13e Length 74</td><td>Record Size</td><td>74</td></tr><tr><td>Slot 9 Offset 0x13e Length 74</td><td>Memory Dump @0x000000095DFE813E</td><td></td><td>0000000000000000:   30003000 40fdc4a4 01000000 0008000e 00552000  0.0.@ýÄ¤.........U .</td></tr><tr><td>Slot 9 Offset 0x13e Length 74</td><td>Memory Dump @0x000000095DFE813E</td><td></td><td>0000000000000014:   00000001 01000000 cf3f7501 10ab0000 5aa47501  ........Ï?u..«..Z¤u.</td></tr><tr><td>Slot 9 Offset 0x13e Length 74</td><td>Memory Dump @0x000000095DFE813E</td><td></td><td>0000000000000028:   10ab0000 00000000 0c000000 01004a00 23004100  .«............J.#.A.</td></tr><tr><td>Slot 9 Offset 0x13e Length 74</td><td>Memory Dump @0x000000095DFE813E</td><td></td><td>000000000000003C:   34004300 34004600 44003400 3000               4.C.4.F.D.4.0.</td></tr><tr><td>Slot 9 Offset 0x13e Length 74</td><td>Slot 9 Column 1 Offset 0x4 Length 4 Length (physical) 4</td><td>id</td><td>-1530593984</td></tr><tr><td>Slot 9 Offset 0x13e Length 74</td><td>Slot 9 Column 2 Offset 0x38 Length 18 Length (physical) 18</td><td>name</td><td>#A4C4FD40</td></tr><tr><td>Slot 9 Offset 0x13e Length 74</td><td>Slot 9 Column 3 Offset 0x8 Length 4 Length (physical) 4</td><td>nsid</td><td>1</td></tr><tr><td>Slot 9 Offset 0x13e Length 74</td><td>Slot 9 Column 4 Offset 0xc Length 1 Length (physical) 1</td><td>nsclass</td><td>0</td></tr><tr><td>Slot 9 Offset 0x13e Length 74</td><td>Slot 9 Column 5 Offset 0xd Length 4 Length (physical) 4</td><td>status</td><td>917512</td></tr><tr><td>Slot 9 Offset 0x13e Length 74</td><td>Slot 9 Column 6 Offset 0x11 Length 2 Length (physical) 2</td><td>type</td><td>U </td></tr><tr><td>Slot 9 Offset 0x13e Length 74</td><td>Slot 9 Column 7 Offset 0x13 Length 4 Length (physical) 4</td><td>pid</td><td>0</td></tr><tr><td>Slot 9 Offset 0x13e Length 74</td><td>Slot 9 Column 8 Offset 0x17 Length 1 Length (physical) 1</td><td>pclass</td><td>1</td></tr><tr><td>Slot 9 Offset 0x13e Length 74</td><td>Slot 9 Column 9 Offset 0x18 Length 4 Length (physical) 4</td><td>intprop</td><td>1</td></tr><tr><td>Slot 9 Offset 0x13e Length 74</td><td>Slot 9 Column 10 Offset 0x1c Length 8 Length (physical) 8</td><td>created</td><td>2019-11-25 22:38:57.543</td></tr><tr><td>Slot 9 Offset 0x13e Length 74</td><td>Slot 9 Column 11 Offset 0x24 Length 8 Length (physical) 8</td><td>modified</td><td>2019-11-25 22:40:23.340</td></tr><tr><td>Slot 9 Offset 0x13e Length 74</td><td>Slot 9 Column 12 Offset 0x2c Length 4 Length (physical) 4</td><td>status2</td><td>0</td></tr><tr><td>Slot 9 Offset 0x13e Length 74</td><td>Slot 9 Offset 0x0 Length 0 Length (physical) 0</td><td>KeyHashValue</td><td>(47f219e65d4c)</td></tr><tr><td>PAGE HEADER:</td><td>Slot 10 Offset 0xed0 Length 74</td><td>Record Type</td><td>PRIMARY_RECORD</td></tr><tr><td>PAGE HEADER:</td><td>Slot 10 Offset 0xed0 Length 74</td><td>Record Attributes</td><td> NULL_BITMAP VARIABLE_COLUMNS</td></tr><tr><td>PAGE HEADER:</td><td>Slot 10 Offset 0xed0 Length 74</td><td>Record Size</td><td>74</td></tr><tr><td>Slot 10 Offset 0xed0 Length 74</td><td>Memory Dump @0x000000095DFE8ED0</td><td></td><td>0000000000000000:   30003000 d2cc31a5 01000000 0008000e 00552000  0.0.ÒÌ1¥.........U .</td></tr><tr><td>Slot 10 Offset 0xed0 Length 74</td><td>Memory Dump @0x000000095DFE8ED0</td><td></td><td>0000000000000014:   00000001 01000000 10407501 10ab0000 66a47501  .........@u..«..f¤u.</td></tr><tr><td>Slot 10 Offset 0xed0 Length 74</td><td>Memory Dump @0x000000095DFE8ED0</td><td></td><td>0000000000000028:   10ab0000 00000000 0c000000 01004a00 23004100  .«............J.#.A.</td></tr><tr><td>Slot 10 Offset 0xed0 Length 74</td><td>Memory Dump @0x000000095DFE8ED0</td><td></td><td>000000000000003C:   35003300 31004300 43004400 3200               5.3.1.C.C.D.2.</td></tr><tr><td>Slot 10 Offset 0xed0 Length 74</td><td>Slot 10 Column 1 Offset 0x4 Length 4 Length (physical) 4</td><td>id</td><td>-1523462958</td></tr><tr><td>Slot 10 Offset 0xed0 Length 74</td><td>Slot 10 Column 2 Offset 0x38 Length 18 Length (physical) 18</td><td>name</td><td>#A531CCD2</td></tr><tr><td>Slot 10 Offset 0xed0 Length 74</td><td>Slot 10 Column 3 Offset 0x8 Length 4 Length (physical) 4</td><td>nsid</td><td>1</td></tr><tr><td>Slot 10 Offset 0xed0 Length 74</td><td>Slot 10 Column 4 Offset 0xc Length 1 Length (physical) 1</td><td>nsclass</td><td>0</td></tr><tr><td>Slot 10 Offset 0xed0 Length 74</td><td>Slot 10 Column 5 Offset 0xd Length 4 Length (physical) 4</td><td>status</td><td>917512</td></tr><tr><td>Slot 10 Offset 0xed0 Length 74</td><td>Slot 10 Column 6 Offset 0x11 Length 2 Length (physical) 2</td><td>type</td><td>U </td></tr><tr><td>Slot 10 Offset 0xed0 Length 74</td><td>Slot 10 Column 7 Offset 0x13 Length 4 Length (physical) 4</td><td>pid</td><td>0</td></tr><tr><td>Slot 10 Offset 0xed0 Length 74</td><td>Slot 10 Column 8 Offset 0x17 Length 1 Length (physical) 1</td><td>pclass</td><td>1</td></tr><tr><td>Slot 10 Offset 0xed0 Length 74</td><td>Slot 10 Column 9 Offset 0x18 Length 4 Length (physical) 4</td><td>intprop</td><td>1</td></tr><tr><td>Slot 10 Offset 0xed0 Length 74</td><td>Slot 10 Column 10 Offset 0x1c Length 8 Length (physical) 8</td><td>created</td><td>2019-11-25 22:38:57.760</td></tr><tr><td>Slot 10 Offset 0xed0 Length 74</td><td>Slot 10 Column 11 Offset 0x24 Length 8 Length (physical) 8</td><td>modified</td><td>2019-11-25 22:40:23.380</td></tr><tr><td>Slot 10 Offset 0xed0 Length 74</td><td>Slot 10 Column 12 Offset 0x2c Length 4 Length (physical) 4</td><td>status2</td><td>0</td></tr><tr><td>Slot 10 Offset 0xed0 Length 74</td><td>Slot 10 Offset 0x0 Length 0 Length (physical) 0</td><td>KeyHashValue</td><td>(05f411744022)</td></tr><tr><td>PAGE HEADER:</td><td>Slot 11 Offset 0x1d2 Length 74</td><td>Record Type</td><td>PRIMARY_RECORD</td></tr><tr><td>PAGE HEADER:</td><td>Slot 11 Offset 0x1d2 Length 74</td><td>Record Attributes</td><td> NULL_BITMAP VARIABLE_COLUMNS</td></tr><tr><td>PAGE HEADER:</td><td>Slot 11 Offset 0x1d2 Length 74</td><td>Record Size</td><td>74</td></tr><tr><td>Slot 11 Offset 0x1d2 Length 74</td><td>Memory Dump @0x000000095DFE81D2</td><td></td><td>0000000000000000:   30003000 7921b9a5 01000000 0008000e 00552000  0.0.y!¹¥.........U .</td></tr><tr><td>Slot 11 Offset 0x1d2 Length 74</td><td>Memory Dump @0x000000095DFE81D2</td><td></td><td>0000000000000014:   00000001 01000000 d03f7501 10ab0000 5ca47501  ........Ð?u..«..\\¤u.</td></tr><tr><td>Slot 11 Offset 0x1d2 Length 74</td><td>Memory Dump @0x000000095DFE81D2</td><td></td><td>0000000000000028:   10ab0000 00000000 0c000000 01004a00 23004100  .«............J.#.A.</td></tr><tr><td>Slot 11 Offset 0x1d2 Length 74</td><td>Memory Dump @0x000000095DFE81D2</td><td></td><td>000000000000003C:   35004200 39003200 31003700 3900               5.B.9.2.1.7.9.</td></tr><tr><td>Slot 11 Offset 0x1d2 Length 74</td><td>Slot 11 Column 1 Offset 0x4 Length 4 Length (physical) 4</td><td>id</td><td>-1514593927</td></tr><tr><td>Slot 11 Offset 0x1d2 Length 74</td><td>Slot 11 Column 2 Offset 0x38 Length 18 Length (physical) 18</td><td>name</td><td>#A5B92179</td></tr><tr><td>Slot 11 Offset 0x1d2 Length 74</td><td>Slot 11 Column 3 Offset 0x8 Length 4 Length (physical) 4</td><td>nsid</td><td>1</td></tr><tr><td>Slot 11 Offset 0x1d2 Length 74</td><td>Slot 11 Column 4 Offset 0xc Length 1 Length (physical) 1</td><td>nsclass</td><td>0</td></tr><tr><td>Slot 11 Offset 0x1d2 Length 74</td><td>Slot 11 Column 5 Offset 0xd Length 4 Length (physical) 4</td><td>status</td><td>917512</td></tr><tr><td>Slot 11 Offset 0x1d2 Length 74</td><td>Slot 11 Column 6 Offset 0x11 Length 2 Length (physical) 2</td><td>type</td><td>U </td></tr><tr><td>Slot 11 Offset 0x1d2 Length 74</td><td>Slot 11 Column 7 Offset 0x13 Length 4 Length (physical) 4</td><td>pid</td><td>0</td></tr><tr><td>Slot 11 Offset 0x1d2 Length 74</td><td>Slot 11 Column 8 Offset 0x17 Length 1 Length (physical) 1</td><td>pclass</td><td>1</td></tr><tr><td>Slot 11 Offset 0x1d2 Length 74</td><td>Slot 11 Column 9 Offset 0x18 Length 4 Length (physical) 4</td><td>intprop</td><td>1</td></tr><tr><td>Slot 11 Offset 0x1d2 Length 74</td><td>Slot 11 Column 10 Offset 0x1c Length 8 Length (physical) 8</td><td>created</td><td>2019-11-25 22:38:57.547</td></tr><tr><td>Slot 11 Offset 0x1d2 Length 74</td><td>Slot 11 Column 11 Offset 0x24 Length 8 Length (physical) 8</td><td>modified</td><td>2019-11-25 22:40:23.347</td></tr><tr><td>Slot 11 Offset 0x1d2 Length 74</td><td>Slot 11 Column 12 Offset 0x2c Length 4 Length (physical) 4</td><td>status2</td><td>0</td></tr><tr><td>Slot 11 Offset 0x1d2 Length 74</td><td>Slot 11 Offset 0x0 Length 0 Length (physical) 0</td><td>KeyHashValue</td><td>(51d9b82fed1a)</td></tr><tr><td>PAGE HEADER:</td><td>Slot 12 Offset 0xb28 Length 74</td><td>Record Type</td><td>PRIMARY_RECORD</td></tr><tr><td>PAGE HEADER:</td><td>Slot 12 Offset 0xb28 Length 74</td><td>Record Attributes</td><td> NULL_BITMAP VARIABLE_COLUMNS</td></tr><tr><td>PAGE HEADER:</td><td>Slot 12 Offset 0xb28 Length 74</td><td>Record Size</td><td>74</td></tr><tr><td>Slot 12 Offset 0xb28 Length 74</td><td>Memory Dump @0x000000095DFE8B28</td><td></td><td>0000000000000000:   30003000 0bf125a6 01000000 0008000e 00552000  0.0..ñ%¦.........U .</td></tr><tr><td>Slot 12 Offset 0xb28 Length 74</td><td>Memory Dump @0x000000095DFE8B28</td><td></td><td>0000000000000014:   00000001 01000000 11407501 10ab0000 66a47501  .........@u..«..f¤u.</td></tr><tr><td>Slot 12 Offset 0xb28 Length 74</td><td>Memory Dump @0x000000095DFE8B28</td><td></td><td>0000000000000028:   10ab0000 00000000 0c000000 01004a00 23004100  .«............J.#.A.</td></tr><tr><td>Slot 12 Offset 0xb28 Length 74</td><td>Memory Dump @0x000000095DFE8B28</td><td></td><td>000000000000003C:   36003200 35004600 31003000 4200               6.2.5.F.1.0.B.</td></tr><tr><td>Slot 12 Offset 0xb28 Length 74</td><td>Slot 12 Column 1 Offset 0x4 Length 4 Length (physical) 4</td><td>id</td><td>-1507462901</td></tr><tr><td>Slot 12 Offset 0xb28 Length 74</td><td>Slot 12 Column 2 Offset 0x38 Length 18 Length (physical) 18</td><td>name</td><td>#A625F10B</td></tr><tr><td>Slot 12 Offset 0xb28 Length 74</td><td>Slot 12 Column 3 Offset 0x8 Length 4 Length (physical) 4</td><td>nsid</td><td>1</td></tr><tr><td>Slot 12 Offset 0xb28 Length 74</td><td>Slot 12 Column 4 Offset 0xc Length 1 Length (physical) 1</td><td>nsclass</td><td>0</td></tr><tr><td>Slot 12 Offset 0xb28 Length 74</td><td>Slot 12 Column 5 Offset 0xd Length 4 Length (physical) 4</td><td>status</td><td>917512</td></tr><tr><td>Slot 12 Offset 0xb28 Length 74</td><td>Slot 12 Column 6 Offset 0x11 Length 2 Length (physical) 2</td><td>type</td><td>U </td></tr><tr><td>Slot 12 Offset 0xb28 Length 74</td><td>Slot 12 Column 7 Offset 0x13 Length 4 Length (physical) 4</td><td>pid</td><td>0</td></tr><tr><td>Slot 12 Offset 0xb28 Length 74</td><td>Slot 12 Column 8 Offset 0x17 Length 1 Length (physical) 1</td><td>pclass</td><td>1</td></tr><tr><td>Slot 12 Offset 0xb28 Length 74</td><td>Slot 12 Column 9 Offset 0x18 Length 4 Length (physical) 4</td><td>intprop</td><td>1</td></tr><tr><td>Slot 12 Offset 0xb28 Length 74</td><td>Slot 12 Column 10 Offset 0x1c Length 8 Length (physical) 8</td><td>created</td><td>2019-11-25 22:38:57.763</td></tr><tr><td>Slot 12 Offset 0xb28 Length 74</td><td>Slot 12 Column 11 Offset 0x24 Length 8 Length (physical) 8</td><td>modified</td><td>2019-11-25 22:40:23.380</td></tr><tr><td>Slot 12 Offset 0xb28 Length 74</td><td>Slot 12 Column 12 Offset 0x2c Length 4 Length (physical) 4</td><td>status2</td><td>0</td></tr><tr><td>Slot 12 Offset 0xb28 Length 74</td><td>Slot 12 Offset 0x0 Length 0 Length (physical) 0</td><td>KeyHashValue</td><td>(7a297d9d76e1)</td></tr><tr><td>PAGE HEADER:</td><td>Slot 13 Offset 0xaa Length 74</td><td>Record Type</td><td>PRIMARY_RECORD</td></tr><tr><td>PAGE HEADER:</td><td>Slot 13 Offset 0xaa Length 74</td><td>Record Attributes</td><td> NULL_BITMAP VARIABLE_COLUMNS</td></tr><tr><td>PAGE HEADER:</td><td>Slot 13 Offset 0xaa Length 74</td><td>Record Size</td><td>74</td></tr><tr><td>Slot 13 Offset 0xaa Length 74</td><td>Memory Dump @0x000000095DFE80AA</td><td></td><td>0000000000000000:   30003000 b245ada6 01000000 0008000e 00552000  0.0.²E­¦.........U .</td></tr><tr><td>Slot 13 Offset 0xaa Length 74</td><td>Memory Dump @0x000000095DFE80AA</td><td></td><td>0000000000000014:   00000001 01000000 d13f7501 10ab0000 4fa47501  ........Ñ?u..«..O¤u.</td></tr><tr><td>Slot 13 Offset 0xaa Length 74</td><td>Memory Dump @0x000000095DFE80AA</td><td></td><td>0000000000000028:   10ab0000 00000000 0c000000 01004a00 23004100  .«............J.#.A.</td></tr><tr><td>Slot 13 Offset 0xaa Length 74</td><td>Memory Dump @0x000000095DFE80AA</td><td></td><td>000000000000003C:   36004100 44003400 35004200 3200               6.A.D.4.5.B.2.</td></tr><tr><td>Slot 13 Offset 0xaa Length 74</td><td>Slot 13 Column 1 Offset 0x4 Length 4 Length (physical) 4</td><td>id</td><td>-1498593870</td></tr><tr><td>Slot 13 Offset 0xaa Length 74</td><td>Slot 13 Column 2 Offset 0x38 Length 18 Length (physical) 18</td><td>name</td><td>#A6AD45B2</td></tr><tr><td>Slot 13 Offset 0xaa Length 74</td><td>Slot 13 Column 3 Offset 0x8 Length 4 Length (physical) 4</td><td>nsid</td><td>1</td></tr><tr><td>Slot 13 Offset 0xaa Length 74</td><td>Slot 13 Column 4 Offset 0xc Length 1 Length (physical) 1</td><td>nsclass</td><td>0</td></tr><tr><td>Slot 13 Offset 0xaa Length 74</td><td>Slot 13 Column 5 Offset 0xd Length 4 Length (physical) 4</td><td>status</td><td>917512</td></tr><tr><td>Slot 13 Offset 0xaa Length 74</td><td>Slot 13 Column 6 Offset 0x11 Length 2 Length (physical) 2</td><td>type</td><td>U </td></tr><tr><td>Slot 13 Offset 0xaa Length 74</td><td>Slot 13 Column 7 Offset 0x13 Length 4 Length (physical) 4</td><td>pid</td><td>0</td></tr><tr><td>Slot 13 Offset 0xaa Length 74</td><td>Slot 13 Column 8 Offset 0x17 Length 1 Length (physical) 1</td><td>pclass</td><td>1</td></tr><tr><td>Slot 13 Offset 0xaa Length 74</td><td>Slot 13 Column 9 Offset 0x18 Length 4 Length (physical) 4</td><td>intprop</td><td>1</td></tr><tr><td>Slot 13 Offset 0xaa Length 74</td><td>Slot 13 Column 10 Offset 0x1c Length 8 Length (physical) 8</td><td>created</td><td>2019-11-25 22:38:57.550</td></tr><tr><td>Slot 13 Offset 0xaa Length 74</td><td>Slot 13 Column 11 Offset 0x24 Length 8 Length (physical) 8</td><td>modified</td><td>2019-11-25 22:40:23.303</td></tr><tr><td>Slot 13 Offset 0xaa Length 74</td><td>Slot 13 Column 12 Offset 0x2c Length 4 Length (physical) 4</td><td>status2</td><td>0</td></tr><tr><td>Slot 13 Offset 0xaa Length 74</td><td>Slot 13 Offset 0x0 Length 0 Length (physical) 0</td><td>KeyHashValue</td><td>(52e12211d3f4)</td></tr><tr><td>PAGE HEADER:</td><td>Slot 14 Offset 0x1278 Length 312</td><td>Record Type</td><td>PRIMARY_RECORD</td></tr><tr><td>PAGE HEADER:</td><td>Slot 14 Offset 0x1278 Length 312</td><td>Record Attributes</td><td> NULL_BITMAP VARIABLE_COLUMNS</td></tr><tr><td>PAGE HEADER:</td><td>Slot 14 Offset 0x1278 Length 312</td><td>Record Size</td><td>312</td></tr><tr><td>Slot 14 Offset 0x1278 Length 312</td><td>Memory Dump @0x000000095DFE9278</td><td></td><td>0000000000000000:   30003000 44151aa7 01000000 0008000e 00552000  0.0.D..§.........U .</td></tr><tr><td>Slot 14 Offset 0x1278 Length 312</td><td>Memory Dump @0x000000095DFE9278</td><td></td><td>0000000000000014:   00000001 01000000 13407501 10ab0000 67a47501  .........@u..«..g¤u.</td></tr><tr><td>Slot 14 Offset 0x1278 Length 312</td><td>Memory Dump @0x000000095DFE9278</td><td></td><td>0000000000000028:   10ab0000 00000000 0c000000 01003801 23006700  .«............8.#.g.</td></tr><tr><td>Slot 14 Offset 0x1278 Length 312</td><td>Memory Dump @0x000000095DFE9278</td><td></td><td>000000000000003C:   6f007300 6f007800 5f005f00 5f005f00 5f005f00  o.s.o.x._._._._._._.</td></tr><tr><td>Slot 14 Offset 0x1278 Length 312</td><td>Memory Dump @0x000000095DFE9278</td><td></td><td>0000000000000050:   5f005f00 5f005f00 5f005f00 5f005f00 5f005f00  _._._._._._._._._._.</td></tr><tr><td>Slot 14 Offset 0x1278 Length 312</td><td>Memory Dump @0x000000095DFE9278</td><td></td><td>0000000000000064:   5f005f00 5f005f00 5f005f00 5f005f00 5f005f00  _._._._._._._._._._.</td></tr><tr><td>Slot 14 Offset 0x1278 Length 312</td><td>Memory Dump @0x000000095DFE9278</td><td></td><td>0000000000000078:   5f005f00 5f005f00 5f005f00 5f005f00 5f005f00  _._._._._._._._._._.</td></tr><tr><td>Slot 14 Offset 0x1278 Length 312</td><td>Memory Dump @0x000000095DFE9278</td><td></td><td>000000000000008C:   5f005f00 5f005f00 5f005f00 5f005f00 5f005f00  _._._._._._._._._._.</td></tr><tr><td>Slot 14 Offset 0x1278 Length 312</td><td>Memory Dump @0x000000095DFE9278</td><td></td><td>00000000000000A0:   5f005f00 5f005f00 5f005f00 5f005f00 5f005f00  _._._._._._._._._._.</td></tr><tr><td>Slot 14 Offset 0x1278 Length 312</td><td>Memory Dump @0x000000095DFE9278</td><td></td><td>00000000000000B4:   5f005f00 5f005f00 5f005f00 5f005f00 5f005f00  _._._._._._._._._._.</td></tr><tr><td>Slot 14 Offset 0x1278 Length 312</td><td>Memory Dump @0x000000095DFE9278</td><td></td><td>00000000000000C8:   5f005f00 5f005f00 5f005f00 5f005f00 5f005f00  _._._._._._._._._._.</td></tr><tr><td>Slot 14 Offset 0x1278 Length 312</td><td>Memory Dump @0x000000095DFE9278</td><td></td><td>00000000000000DC:   5f005f00 5f005f00 5f005f00 5f005f00 5f005f00  _._._._._._._._._._.</td></tr><tr><td>Slot 14 Offset 0x1278 Length 312</td><td>Memory Dump @0x000000095DFE9278</td><td></td><td>00000000000000F0:   5f005f00 5f005f00 5f005f00 5f005f00 5f005f00  _._._._._._._._._._.</td></tr><tr><td>Slot 14 Offset 0x1278 Length 312</td><td>Memory Dump @0x000000095DFE9278</td><td></td><td>0000000000000104:   5f005f00 5f005f00 5f005f00 5f005f00 5f005f00  _._._._._._._._._._.</td></tr><tr><td>Slot 14 Offset 0x1278 Length 312</td><td>Memory Dump @0x000000095DFE9278</td><td></td><td>0000000000000118:   5f005f00 5f005f00 30003000 30003000 30003000  _._._._.0.0.0.0.0.0.</td></tr><tr><td>Slot 14 Offset 0x1278 Length 312</td><td>Memory Dump @0x000000095DFE9278</td><td></td><td>000000000000012C:   30003000 30003000 32004100                    0.0.0.0.2.A.</td></tr><tr><td>Slot 14 Offset 0x1278 Length 312</td><td>Slot 14 Column 1 Offset 0x4 Length 4 Length (physical) 4</td><td>id</td><td>-1491462844</td></tr><tr><td>Slot 14 Offset 0x1278 Length 312</td><td>Slot 14 Column 2 Offset 0x38 Length 256 Length (physical) 256</td><td>name</td><td>#gosox______________________________________________________________________________________________________________00000000002A</td></tr><tr><td>Slot 14 Offset 0x1278 Length 312</td><td>Slot 14 Column 3 Offset 0x8 Length 4 Length (physical) 4</td><td>nsid</td><td>1</td></tr><tr><td>Slot 14 Offset 0x1278 Length 312</td><td>Slot 14 Column 4 Offset 0xc Length 1 Length (physical) 1</td><td>nsclass</td><td>0</td></tr><tr><td>Slot 14 Offset 0x1278 Length 312</td><td>Slot 14 Column 5 Offset 0xd Length 4 Length (physical) 4</td><td>status</td><td>917512</td></tr><tr><td>Slot 14 Offset 0x1278 Length 312</td><td>Slot 14 Column 6 Offset 0x11 Length 2 Length (physical) 2</td><td>type</td><td>U </td></tr><tr><td>Slot 14 Offset 0x1278 Length 312</td><td>Slot 14 Column 7 Offset 0x13 Length 4 Length (physical) 4</td><td>pid</td><td>0</td></tr><tr><td>Slot 14 Offset 0x1278 Length 312</td><td>Slot 14 Column 8 Offset 0x17 Length 1 Length (physical) 1</td><td>pclass</td><td>1</td></tr><tr><td>Slot 14 Offset 0x1278 Length 312</td><td>Slot 14 Column 9 Offset 0x18 Length 4 Length (physical) 4</td><td>intprop</td><td>1</td></tr><tr><td>Slot 14 Offset 0x1278 Length 312</td><td>Slot 14 Column 10 Offset 0x1c Length 8 Length (physical) 8</td><td>created</td><td>2019-11-25 22:38:57.770</td></tr><tr><td>Slot 14 Offset 0x1278 Length 312</td><td>Slot 14 Column 11 Offset 0x24 Length 8 Length (physical) 8</td><td>modified</td><td>2019-11-25 22:40:23.383</td></tr><tr><td>Slot 14 Offset 0x1278 Length 312</td><td>Slot 14 Column 12 Offset 0x2c Length 4 Length (physical) 4</td><td>status2</td><td>0</td></tr><tr><td>Slot 14 Offset 0x1278 Length 312</td><td>Slot 14 Offset 0x0 Length 0 Length (physical) 0</td><td>KeyHashValue</td><td>(225893a4d79d)</td></tr></table>"
                    }
                }
            ],
            "execution_count": 18
        },
        {
            "cell_type": "markdown",
            "source": [
                "## Step 4 - Once the ostress utility completes, run the optimizetempdb.cmd file to enable im-memory tempdb system tables\r\n",
                "### optimizetempdb.cmd contains the following code\r\n",
                "### Change the user name, password, and server name in the cmd file as required\r\n",
                "`sqlcmd -Usa -PJu@nS0t022 -ioptimizetempdb.sql -Slocalhost,1445\r\n",
                "docker stop sqlopttempdb\r\n",
                "docker start sqlopttempdb`\r\n",
                "### Once changes are made, execute optimizetempdb.cmd by running the following code at the command line\r\n",
                "`.\\optimizetempdb.cmd`"
            ],
            "metadata": {
                "azdata_cell_guid": "8f0e3681-9fa6-423c-979d-2e1c136f0895"
            }
        },
        {
            "cell_type": "markdown",
            "source": [
                "## Step 5 - Execute tempstress.cmd again from the command line in the directory that contains the tempdb scripts\r\n",
                "### The file contains the following code:\r\n",
                "### Change the user name, password, and database as needed\r\n",
                "`ostress -Usa -PJu@nS0t022 -Q\"exec letsgosox\" -n50 -r5000 -dChicagoWhiteSox -S\"localhost,1445\"`"
            ],
            "metadata": {
                "azdata_cell_guid": "fcc244b4-db25-41fe-85ea-f6a5eebabaaa"
            }
        },
        {
            "cell_type": "markdown",
            "source": [
                "## Step 6 - Run the query from Step 3 \r\n",
                "### You should not receive any results"
            ],
            "metadata": {
                "azdata_cell_guid": "dddbfb04-8566-4cc9-9ac2-0d13f560a199"
            }
        },
        {
            "cell_type": "code",
            "source": [
                "USE tempdb;\r\n",
                "GO\r\n",
                "SELECT object_name(page_info.object_id), d.wait_type, page_info.* \r\n",
                "FROM sys.dm_exec_requests AS d \r\n",
                "  CROSS APPLY sys.fn_PageResCracker(d.page_resource) AS r\r\n",
                "  CROSS APPLY sys.dm_db_page_info(r.db_id, r.file_id, r.page_id,'DETAILED')\r\n",
                "    AS page_info;\r\n",
                "GO"
            ],
            "metadata": {
                "azdata_cell_guid": "b3a4b0ca-3d02-4337-8d8c-1fd8e688e24e"
            },
            "outputs": [
                {
                    "output_type": "display_data",
                    "data": {
                        "text/html": "Commands completed successfully."
                    },
                    "metadata": {}
                },
                {
                    "output_type": "display_data",
                    "data": {
                        "text/html": "(0 rows affected)"
                    },
                    "metadata": {}
                },
                {
                    "output_type": "display_data",
                    "data": {
                        "text/html": "Total execution time: 00:00:00.034"
                    },
                    "metadata": {}
                },
                {
                    "output_type": "execute_result",
                    "metadata": {},
                    "execution_count": 20,
                    "data": {
                        "application/vnd.dataresource+json": {
                            "schema": {
                                "fields": [
                                    {
                                        "name": "(No column name)"
                                    },
                                    {
                                        "name": "wait_type"
                                    },
                                    {
                                        "name": "database_id"
                                    },
                                    {
                                        "name": "file_id"
                                    },
                                    {
                                        "name": "page_id"
                                    },
                                    {
                                        "name": "page_header_version"
                                    },
                                    {
                                        "name": "page_type"
                                    },
                                    {
                                        "name": "page_type_desc"
                                    },
                                    {
                                        "name": "page_type_flag_bits"
                                    },
                                    {
                                        "name": "page_type_flag_bits_desc"
                                    },
                                    {
                                        "name": "page_flag_bits"
                                    },
                                    {
                                        "name": "page_flag_bits_desc"
                                    },
                                    {
                                        "name": "page_lsn"
                                    },
                                    {
                                        "name": "page_level"
                                    },
                                    {
                                        "name": "object_id"
                                    },
                                    {
                                        "name": "index_id"
                                    },
                                    {
                                        "name": "partition_id"
                                    },
                                    {
                                        "name": "alloc_unit_id"
                                    },
                                    {
                                        "name": "is_encrypted"
                                    },
                                    {
                                        "name": "has_checksum"
                                    },
                                    {
                                        "name": "checksum"
                                    },
                                    {
                                        "name": "is_iam_page"
                                    },
                                    {
                                        "name": "is_mixed_extent"
                                    },
                                    {
                                        "name": "has_ghost_records"
                                    },
                                    {
                                        "name": "has_version_records"
                                    },
                                    {
                                        "name": "pfs_page_id"
                                    },
                                    {
                                        "name": "pfs_is_allocated"
                                    },
                                    {
                                        "name": "pfs_alloc_percent"
                                    },
                                    {
                                        "name": "pfs_status"
                                    },
                                    {
                                        "name": "pfs_status_desc"
                                    },
                                    {
                                        "name": "gam_page_id"
                                    },
                                    {
                                        "name": "gam_status"
                                    },
                                    {
                                        "name": "gam_status_desc"
                                    },
                                    {
                                        "name": "sgam_page_id"
                                    },
                                    {
                                        "name": "sgam_status"
                                    },
                                    {
                                        "name": "sgam_status_desc"
                                    },
                                    {
                                        "name": "diff_map_page_id"
                                    },
                                    {
                                        "name": "diff_status"
                                    },
                                    {
                                        "name": "diff_status_desc"
                                    },
                                    {
                                        "name": "ml_map_page_id"
                                    },
                                    {
                                        "name": "ml_status"
                                    },
                                    {
                                        "name": "ml_status_desc"
                                    },
                                    {
                                        "name": "prev_page_file_id"
                                    },
                                    {
                                        "name": "prev_page_page_id"
                                    },
                                    {
                                        "name": "next_page_file_id"
                                    },
                                    {
                                        "name": "next_page_page_id"
                                    },
                                    {
                                        "name": "fixed_length"
                                    },
                                    {
                                        "name": "slot_count"
                                    },
                                    {
                                        "name": "ghost_rec_count"
                                    },
                                    {
                                        "name": "free_bytes"
                                    },
                                    {
                                        "name": "free_bytes_offset"
                                    },
                                    {
                                        "name": "reserved_bytes"
                                    },
                                    {
                                        "name": "reserved_bytes_by_xdes_id"
                                    },
                                    {
                                        "name": "xdes_id"
                                    }
                                ]
                            },
                            "data": []
                        },
                        "text/html": "<table><tr><th>(No column name)</th><th>wait_type</th><th>database_id</th><th>file_id</th><th>page_id</th><th>page_header_version</th><th>page_type</th><th>page_type_desc</th><th>page_type_flag_bits</th><th>page_type_flag_bits_desc</th><th>page_flag_bits</th><th>page_flag_bits_desc</th><th>page_lsn</th><th>page_level</th><th>object_id</th><th>index_id</th><th>partition_id</th><th>alloc_unit_id</th><th>is_encrypted</th><th>has_checksum</th><th>checksum</th><th>is_iam_page</th><th>is_mixed_extent</th><th>has_ghost_records</th><th>has_version_records</th><th>pfs_page_id</th><th>pfs_is_allocated</th><th>pfs_alloc_percent</th><th>pfs_status</th><th>pfs_status_desc</th><th>gam_page_id</th><th>gam_status</th><th>gam_status_desc</th><th>sgam_page_id</th><th>sgam_status</th><th>sgam_status_desc</th><th>diff_map_page_id</th><th>diff_status</th><th>diff_status_desc</th><th>ml_map_page_id</th><th>ml_status</th><th>ml_status_desc</th><th>prev_page_file_id</th><th>prev_page_page_id</th><th>next_page_file_id</th><th>next_page_page_id</th><th>fixed_length</th><th>slot_count</th><th>ghost_rec_count</th><th>free_bytes</th><th>free_bytes_offset</th><th>reserved_bytes</th><th>reserved_bytes_by_xdes_id</th><th>xdes_id</th></tr></table>"
                    }
                }
            ],
            "execution_count": 20
        },
        {
            "cell_type": "markdown",
            "source": [
                "## Step 7 - Find a list of memory-optimized objects\r\n",
                "### Run the following query to return the memory optimized objects in tempdb"
            ],
            "metadata": {
                "azdata_cell_guid": "0ad7f9b6-ecec-4524-a820-6ef84545fc3c"
            }
        },
        {
            "cell_type": "code",
            "source": [
                "USE tempdb;\r\n",
                "go\r\n",
                "SELECT OBJECT_NAME(object_id), * FROM sys.dm_db_xtp_object_stats;\r\n",
                "go"
            ],
            "metadata": {
                "azdata_cell_guid": "69524f9b-2912-4e37-9f01-b587d7105542"
            },
            "outputs": [
                {
                    "output_type": "display_data",
                    "data": {
                        "text/html": "Commands completed successfully."
                    },
                    "metadata": {}
                },
                {
                    "output_type": "display_data",
                    "data": {
                        "text/html": "(10 rows affected)"
                    },
                    "metadata": {}
                },
                {
                    "output_type": "display_data",
                    "data": {
                        "text/html": "Total execution time: 00:00:00.027"
                    },
                    "metadata": {}
                },
                {
                    "output_type": "execute_result",
                    "metadata": {},
                    "execution_count": 21,
                    "data": {
                        "application/vnd.dataresource+json": {
                            "schema": {
                                "fields": [
                                    {
                                        "name": "(No column name)"
                                    },
                                    {
                                        "name": "object_id"
                                    },
                                    {
                                        "name": "xtp_object_id"
                                    },
                                    {
                                        "name": "row_insert_attempts"
                                    },
                                    {
                                        "name": "row_update_attempts"
                                    },
                                    {
                                        "name": "row_delete_attempts"
                                    },
                                    {
                                        "name": "write_conflicts"
                                    },
                                    {
                                        "name": "unique_constraint_violations"
                                    },
                                    {
                                        "name": "object_address"
                                    }
                                ]
                            },
                            "data": [
                                {
                                    "0": "sysrscols",
                                    "1": "3",
                                    "2": "-2147483648",
                                    "3": "1298",
                                    "4": "0",
                                    "5": "18",
                                    "6": "0",
                                    "7": "0",
                                    "8": "0x00000008CA9F2040"
                                },
                                {
                                    "0": "sysseobjvalues",
                                    "1": "9",
                                    "2": "-2147483647",
                                    "3": "0",
                                    "4": "0",
                                    "5": "0",
                                    "6": "0",
                                    "7": "0",
                                    "8": "0x00000008C8B80040"
                                },
                                {
                                    "0": "sysschobjs",
                                    "1": "34",
                                    "2": "-2147483644",
                                    "3": "2561",
                                    "4": "1000025",
                                    "5": "0",
                                    "6": "0",
                                    "7": "0",
                                    "8": "0x00000008C8BC2040"
                                },
                                {
                                    "0": "sysmultiobjvalues",
                                    "1": "40",
                                    "2": "-2147483643",
                                    "3": "0",
                                    "4": "0",
                                    "5": "0",
                                    "6": "0",
                                    "7": "0",
                                    "8": "0x00000008C8BFA040"
                                },
                                {
                                    "0": "syscolpars",
                                    "1": "41",
                                    "2": "-2147483640",
                                    "3": "1050",
                                    "4": "1",
                                    "5": "0",
                                    "6": "0",
                                    "7": "0",
                                    "8": "0x00000008CAD4C040"
                                },
                                {
                                    "0": "sysidxstats",
                                    "1": "54",
                                    "2": "-2147483639",
                                    "3": "199",
                                    "4": "4",
                                    "5": "4",
                                    "6": "0",
                                    "7": "0",
                                    "8": "0x00000008CAD6A040"
                                },
                                {
                                    "0": "sysiscols",
                                    "1": "55",
                                    "2": "-2147483638",
                                    "3": "506",
                                    "4": "0",
                                    "5": "8",
                                    "6": "0",
                                    "7": "0",
                                    "8": "0x00000008CAE88040"
                                },
                                {
                                    "0": "sysobjvalues",
                                    "1": "60",
                                    "2": "-2147483637",
                                    "3": "181",
                                    "4": "0",
                                    "5": "4",
                                    "6": "0",
                                    "7": "0",
                                    "8": "0x00000008CAEA4040"
                                },
                                {
                                    "0": "syssingleobjrefs",
                                    "1": "74",
                                    "2": "-2147483634",
                                    "3": "194",
                                    "4": "0",
                                    "5": "0",
                                    "6": "0",
                                    "7": "0",
                                    "8": "0x00000008CAEE6040"
                                },
                                {
                                    "0": "sysmultiobjrefs",
                                    "1": "75",
                                    "2": "-2147483633",
                                    "3": "107",
                                    "4": "0",
                                    "5": "0",
                                    "6": "0",
                                    "7": "0",
                                    "8": "0x00000008C9482040"
                                }
                            ]
                        },
                        "text/html": "<table><tr><th>(No column name)</th><th>object_id</th><th>xtp_object_id</th><th>row_insert_attempts</th><th>row_update_attempts</th><th>row_delete_attempts</th><th>write_conflicts</th><th>unique_constraint_violations</th><th>object_address</th></tr><tr><td>sysrscols</td><td>3</td><td>-2147483648</td><td>1298</td><td>0</td><td>18</td><td>0</td><td>0</td><td>0x00000008CA9F2040</td></tr><tr><td>sysseobjvalues</td><td>9</td><td>-2147483647</td><td>0</td><td>0</td><td>0</td><td>0</td><td>0</td><td>0x00000008C8B80040</td></tr><tr><td>sysschobjs</td><td>34</td><td>-2147483644</td><td>2561</td><td>1000025</td><td>0</td><td>0</td><td>0</td><td>0x00000008C8BC2040</td></tr><tr><td>sysmultiobjvalues</td><td>40</td><td>-2147483643</td><td>0</td><td>0</td><td>0</td><td>0</td><td>0</td><td>0x00000008C8BFA040</td></tr><tr><td>syscolpars</td><td>41</td><td>-2147483640</td><td>1050</td><td>1</td><td>0</td><td>0</td><td>0</td><td>0x00000008CAD4C040</td></tr><tr><td>sysidxstats</td><td>54</td><td>-2147483639</td><td>199</td><td>4</td><td>4</td><td>0</td><td>0</td><td>0x00000008CAD6A040</td></tr><tr><td>sysiscols</td><td>55</td><td>-2147483638</td><td>506</td><td>0</td><td>8</td><td>0</td><td>0</td><td>0x00000008CAE88040</td></tr><tr><td>sysobjvalues</td><td>60</td><td>-2147483637</td><td>181</td><td>0</td><td>4</td><td>0</td><td>0</td><td>0x00000008CAEA4040</td></tr><tr><td>syssingleobjrefs</td><td>74</td><td>-2147483634</td><td>194</td><td>0</td><td>0</td><td>0</td><td>0</td><td>0x00000008CAEE6040</td></tr><tr><td>sysmultiobjrefs</td><td>75</td><td>-2147483633</td><td>107</td><td>0</td><td>0</td><td>0</td><td>0</td><td>0x00000008C9482040</td></tr></table>"
                    }
                }
            ],
            "execution_count": 21
        }
    ]
}