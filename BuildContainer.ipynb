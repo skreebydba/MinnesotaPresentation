{
    "metadata": {
        "kernelspec": {
            "name": "powershell",
            "display_name": "PowerShell"
        },
        "language_info": {
            "name": "powershell",
            "codemirror_mode": "shell",
            "mimetype": "text/x-sh",
            "file_extension": ".ps1"
        }
    },
    "nbformat_minor": 2,
    "nbformat": 4,
    "cells": [
        {
            "cell_type": "markdown",
            "source": [
                "## Step 1 - To start the process, pull the latest image of SQL Server 2019 for ubuntu.\n",
                "\n",
                ""
            ],
            "metadata": {
                "azdata_cell_guid": "f7b27a4d-420d-4ada-89a7-8eb471a79fba"
            }
        },
        {
            "cell_type": "code",
            "source": [
                "docker pull mcr.microsoft.com/mssql/server:2019-latest"
            ],
            "metadata": {
                "azdata_cell_guid": "3d7238fd-de1e-4fd5-9ac2-d3384619187b"
            },
            "outputs": [
                {
                    "output_type": "stream",
                    "name": "stdout",
                    "text": "2019-latest: Pulling from mssql/server\nDigest: sha256:0753f9e9c614c469e1e6b98ea60b21e20abd249323c9f6a9eab476c87a8cf826\nStatus: Image is up to date for mcr.microsoft.com/mssql/server:2019-latest\nmcr.microsoft.com/mssql/server:2019-latest\n"
                }
            ],
            "execution_count": 1
        },
        {
            "cell_type": "markdown",
            "source": [
                "## Step 2 - Create a SQL Server container using the latest image.  \r\n",
                "### Note: Replace your Strong(!)Password with your strong password.  The -p parm maps port 1433 on the host to port 1433 in the container.  To use a different host port, change the first 1433 to your port number.\r\n",
                "\r\n",
                ""
            ],
            "metadata": {
                "azdata_cell_guid": "b9e9a89a-2f15-4f00-818d-ee4fafe8cc71"
            }
        },
        {
            "cell_type": "code",
            "source": [
                "$password = 'JuanS0t022';\r\n",
                "$containername = 'sqlserver2019';\r\n",
                "$port = 1436;\r\n",
                "$image = 'mcr.microsoft.com/mssql/server:2019-latest';\r\n",
                "docker run -e 'ACCEPT_EULA=Y' -e \"SA_PASSWORD=$password\" -e MSSQL_AGENT_ENABLED=True --name $containername -p \"$port`:1433\" -d $image"
            ],
            "metadata": {
                "azdata_cell_guid": "fc493f78-cf2b-4298-a4a5-2ad6cc120979",
                "tags": []
            },
            "outputs": [
                {
                    "output_type": "stream",
                    "name": "stdout",
                    "text": "73eae3af0694b5c95245807493ff98b0ce2e3a3dad3e4f216d2e92167931ef1e\n"
                }
            ],
            "execution_count": 3
        },
        {
            "cell_type": "markdown",
            "source": [
                "## Step 3 - Connect to the container instance using the port number specified above\r\n",
                "### You will connect to localhost,1433 (Or the port number you specified)\r\n",
                "### You can connect through Azure Data Studio, SSMS, sqlcmd, or PowerShell"
            ],
            "metadata": {
                "azdata_cell_guid": "896be646-3b9d-44c5-bb1b-11797dab95c2"
            }
        }
    ]
}